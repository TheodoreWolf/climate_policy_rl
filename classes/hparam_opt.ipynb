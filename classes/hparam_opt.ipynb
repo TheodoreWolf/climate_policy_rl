{
 "cells": [
  {
   "cell_type": "code",
   "execution_count": 4,
   "id": "dddfec1b-c7d4-4fc1-851e-3c601d4b453b",
   "metadata": {},
   "outputs": [],
   "source": [
    "from learning_loop import learning_loop_wandb_hparam\n",
    "import wandb"
   ]
  },
  {
   "cell_type": "code",
   "execution_count": 2,
   "id": "68f08aba-b9e8-4d75-9ffe-660973fddbde",
   "metadata": {
    "jupyter": {
     "source_hidden": true
    },
    "tags": []
   },
   "outputs": [
    {
     "name": "stderr",
     "output_type": "stream",
     "text": [
      "\u001b[34m\u001b[1mwandb\u001b[0m: Currently logged in as: \u001b[33mtheowolf\u001b[0m (\u001b[33mclimate_policy_optim\u001b[0m). Use \u001b[1m`wandb login --relogin`\u001b[0m to force relogin\n"
     ]
    },
    {
     "data": {
      "text/plain": [
       "True"
      ]
     },
     "execution_count": 2,
     "metadata": {},
     "output_type": "execute_result"
    }
   ],
   "source": [
    "wandb.login()"
   ]
  },
  {
   "cell_type": "code",
   "execution_count": 10,
   "id": "498ff909-fde5-45e5-97fe-260ada38e58f",
   "metadata": {
    "collapsed": true,
    "jupyter": {
     "outputs_hidden": true,
     "source_hidden": true
    },
    "tags": []
   },
   "outputs": [
    {
     "name": "stdout",
     "output_type": "stream",
     "text": [
      "Create sweep with ID: c30f8xjd\n",
      "Sweep URL: https://wandb.ai/climate_policy_optim/AYS_learning/sweeps/c30f8xjd\n"
     ]
    }
   ],
   "source": [
    "sweep_config = {\n",
    "  \"name\" : \"A2C_per_sweep_online\",\n",
    "  \"method\" : \"bayes\",\n",
    "  \"parameters\" : {\n",
    "    \"discount\": {\n",
    "      \"min\" : 0.9,\n",
    "      \"max\": 0.999\n",
    "    },\n",
    "    \"lr\" :{\n",
    "      \"min\": 0.00001,\n",
    "      \"max\": 0.005\n",
    "    },\n",
    "    \"beta\":{\n",
    "        \"min\":0.,\n",
    "        \"max\":0.3\n",
    "    },\n",
    "    \"buffer_size\": {\n",
    "        \"values\": [2**10,2**12, 2**13, 2**14, 2**15, 2**16]\n",
    "    },\n",
    "    \"batch_size\":{\n",
    "        \"values\": [16, 32, 64, 128, 256,]\n",
    "    },\n",
    "    \"random_exp\":{\n",
    "        \"values\": [0, 250, 500]\n",
    "    },\n",
    "      \"alpha_buffer\":{\n",
    "          \"min\":0.5,\n",
    "          \"max\":0.7\n",
    "      },\n",
    "      \"beta_buffer\":{\n",
    "          \"min\":0.3,\n",
    "          \"max\":0.5,\n",
    "      }\n",
    "  }\n",
    "}\n",
    "\n",
    "metric = {\n",
    "    'name': 'mean_reward',\n",
    "    'goal': 'maximize'   \n",
    "    }\n",
    "\n",
    "sweep_config['metric'] = metric\n",
    "sweep_id = wandb.sweep(sweep_config, project=\"AYS_learning\")"
   ]
  },
  {
   "cell_type": "code",
   "execution_count": 3,
   "id": "855b2105-a8d4-4f0a-9db1-9b4ddfb9c31c",
   "metadata": {
    "jupyter": {
     "source_hidden": true
    },
    "tags": []
   },
   "outputs": [
    {
     "name": "stdout",
     "output_type": "stream",
     "text": [
      "Create sweep with ID: 6cu63oq0\n",
      "Sweep URL: https://wandb.ai/climate_policy_optim/AYS_learning/sweeps/6cu63oq0\n"
     ]
    }
   ],
   "source": [
    "sweep_config = {\n",
    "  \"name\" : \"A2C_per_sweep_online\",\n",
    "  \"method\" : \"bayes\",\n",
    "  \"parameters\" : {\n",
    "    \"discount\": {\n",
    "      \"min\" : 0.9,\n",
    "      \"max\": 0.999\n",
    "    },\n",
    "    \"lr\" :{\n",
    "      \"min\": 0.00001,\n",
    "      \"max\": 0.005\n",
    "    },\n",
    "    \"epsilon\":{\n",
    "        \"min\":0.,\n",
    "        \"max\":0.3\n",
    "    }\n",
    "  }\n",
    "}\n",
    "\n",
    "metric = {\n",
    "    'name': 'mean_reward',\n",
    "    'goal': 'maximize'   \n",
    "    }\n",
    "\n",
    "sweep_config['metric'] = metric\n",
    "sweep_id = wandb.sweep(sweep_config, project=\"AYS_learning\")"
   ]
  },
  {
   "cell_type": "code",
   "execution_count": 1,
   "id": "e7150a3b-ceec-4b31-8042-0f2f92adcf7d",
   "metadata": {},
   "outputs": [],
   "source": [
    "from learn_class import learning"
   ]
  },
  {
   "cell_type": "code",
   "execution_count": 2,
   "id": "27546b60-35d6-4d14-8060-20b611de6b32",
   "metadata": {},
   "outputs": [],
   "source": [
    "def train():\n",
    "    with wandb.init():\n",
    "        config = wandb.config\n",
    "        experiment = learning(wandb_save=True, max_frames=1e5, max_episodes=2000, max_epochs=config.max_epochs, verbose=False)\n",
    "        experiment.set_agent(\"DuelDDQN\", epsilon=config.epsilon, lr=config.lr, tau=config.tau, rho=config.rho, polyak=config.polyak)\n",
    "        experiment.learning_loop_offline(\"DuelDDQN\", \n",
    "                                         buffer_size=config.buffer_size, \n",
    "                                         batch_size=config.batch_size, \n",
    "                                         alpha=config.alpha, beta=config.beta, \n",
    "                                         per_is=True, \n",
    "                                         notebook=False,\n",
    "                                         plotting=False)"
   ]
  },
  {
   "cell_type": "code",
   "execution_count": null,
   "id": "a6843adb-177f-4392-9063-d6c885336b40",
   "metadata": {},
   "outputs": [
    {
     "name": "stderr",
     "output_type": "stream",
     "text": [
      "\u001b[34m\u001b[1mwandb\u001b[0m: Agent Starting Run: t2br6wfg with config:\n",
      "\u001b[34m\u001b[1mwandb\u001b[0m: \talpha: 0.7717364421885267\n",
      "\u001b[34m\u001b[1mwandb\u001b[0m: \tbatch_size: 64\n",
      "\u001b[34m\u001b[1mwandb\u001b[0m: \tbeta: 0.3178080146268111\n",
      "\u001b[34m\u001b[1mwandb\u001b[0m: \tbuffer_size: 16384\n",
      "\u001b[34m\u001b[1mwandb\u001b[0m: \tepsilon: 0.04754735829702739\n",
      "\u001b[34m\u001b[1mwandb\u001b[0m: \tlr: 0.0022522450015940447\n",
      "\u001b[34m\u001b[1mwandb\u001b[0m: \tmax_epochs: 75\n",
      "\u001b[34m\u001b[1mwandb\u001b[0m: \tpolyak: True\n",
      "\u001b[34m\u001b[1mwandb\u001b[0m: \trho: 0.4576381812678142\n",
      "\u001b[34m\u001b[1mwandb\u001b[0m: \ttau: 0.09948879058403554\n",
      "\u001b[34m\u001b[1mwandb\u001b[0m: Currently logged in as: \u001b[33mtheowolf\u001b[0m (\u001b[33mclimate_policy_optim\u001b[0m). Use \u001b[1m`wandb login --relogin`\u001b[0m to force relogin\n"
     ]
    },
    {
     "data": {
      "text/html": [
       "Tracking run with wandb version 0.12.21"
      ],
      "text/plain": [
       "<IPython.core.display.HTML object>"
      ]
     },
     "metadata": {},
     "output_type": "display_data"
    },
    {
     "data": {
      "text/html": [
       "Run data is saved locally in <code>C:\\Users\\theod\\PycharmProjects\\climate_policy_thesis\\climate_policy_RL\\classes\\wandb\\run-20220722_143535-t2br6wfg</code>"
      ],
      "text/plain": [
       "<IPython.core.display.HTML object>"
      ]
     },
     "metadata": {},
     "output_type": "display_data"
    },
    {
     "data": {
      "text/html": [
       "Syncing run <strong><a href=\"https://wandb.ai/climate_policy_optim/AYS_learning/runs/t2br6wfg\" target=\"_blank\">apricot-sweep-4</a></strong> to <a href=\"https://wandb.ai/climate_policy_optim/AYS_learning\" target=\"_blank\">Weights & Biases</a> (<a href=\"https://wandb.me/run\" target=\"_blank\">docs</a>)<br/>Sweep page:  <a href=\"https://wandb.ai/climate_policy_optim/AYS_learning/sweeps/muuwo0jy\" target=\"_blank\">https://wandb.ai/climate_policy_optim/AYS_learning/sweeps/muuwo0jy</a>"
      ],
      "text/plain": [
       "<IPython.core.display.HTML object>"
      ]
     },
     "metadata": {},
     "output_type": "display_data"
    },
    {
     "name": "stdout",
     "output_type": "stream",
     "text": [
      "Init AYS Environment! \n",
      "Reward Type: PB \n",
      "Sustainability Boundaries [A_PB, Y_SF, S_ren]:  [3.45e+02 4.00e+13 0.00e+00]\n"
     ]
    },
    {
     "data": {
      "text/html": [
       "Finishing last run (ID:t2br6wfg) before initializing another..."
      ],
      "text/plain": [
       "<IPython.core.display.HTML object>"
      ]
     },
     "metadata": {},
     "output_type": "display_data"
    },
    {
     "data": {
      "text/html": [
       "Waiting for W&B process to finish... <strong style=\"color:green\">(success).</strong>"
      ],
      "text/plain": [
       "<IPython.core.display.HTML object>"
      ]
     },
     "metadata": {},
     "output_type": "display_data"
    },
    {
     "data": {
      "application/vnd.jupyter.widget-view+json": {
       "model_id": "",
       "version_major": 2,
       "version_minor": 0
      },
      "text/plain": [
       "VBox(children=(Label(value='0.001 MB of 0.001 MB uploaded (0.000 MB deduped)\\r'), FloatProgress(value=1.0, max…"
      ]
     },
     "metadata": {},
     "output_type": "display_data"
    },
    {
     "data": {
      "text/html": [
       "Synced <strong style=\"color:#cdcd00\">apricot-sweep-4</strong>: <a href=\"https://wandb.ai/climate_policy_optim/AYS_learning/runs/t2br6wfg\" target=\"_blank\">https://wandb.ai/climate_policy_optim/AYS_learning/runs/t2br6wfg</a><br/>Synced 5 W&B file(s), 0 media file(s), 0 artifact file(s) and 0 other file(s)"
      ],
      "text/plain": [
       "<IPython.core.display.HTML object>"
      ]
     },
     "metadata": {},
     "output_type": "display_data"
    },
    {
     "data": {
      "text/html": [
       "Find logs at: <code>.\\wandb\\run-20220722_143535-t2br6wfg\\logs</code>"
      ],
      "text/plain": [
       "<IPython.core.display.HTML object>"
      ]
     },
     "metadata": {},
     "output_type": "display_data"
    },
    {
     "data": {
      "text/html": [
       "Successfully finished last run (ID:t2br6wfg). Initializing new run:<br/>"
      ],
      "text/plain": [
       "<IPython.core.display.HTML object>"
      ]
     },
     "metadata": {},
     "output_type": "display_data"
    },
    {
     "data": {
      "text/html": [
       "Tracking run with wandb version 0.12.21"
      ],
      "text/plain": [
       "<IPython.core.display.HTML object>"
      ]
     },
     "metadata": {},
     "output_type": "display_data"
    },
    {
     "data": {
      "text/html": [
       "Run data is saved locally in <code>C:\\Users\\theod\\PycharmProjects\\climate_policy_thesis\\climate_policy_RL\\classes\\wandb\\run-20220722_143537-t2br6wfg</code>"
      ],
      "text/plain": [
       "<IPython.core.display.HTML object>"
      ]
     },
     "metadata": {},
     "output_type": "display_data"
    },
    {
     "data": {
      "text/html": [
       "Syncing run <strong><a href=\"https://wandb.ai/climate_policy_optim/AYS_learning/runs/t2br6wfg\" target=\"_blank\">apricot-sweep-4</a></strong> to <a href=\"https://wandb.ai/climate_policy_optim/AYS_learning\" target=\"_blank\">Weights & Biases</a> (<a href=\"https://wandb.me/run\" target=\"_blank\">docs</a>)<br/>Sweep page:  <a href=\"https://wandb.ai/climate_policy_optim/AYS_learning/sweeps/muuwo0jy\" target=\"_blank\">https://wandb.ai/climate_policy_optim/AYS_learning/sweeps/muuwo0jy</a>"
      ],
      "text/plain": [
       "<IPython.core.display.HTML object>"
      ]
     },
     "metadata": {},
     "output_type": "display_data"
    },
    {
     "data": {
      "text/html": [
       "Waiting for W&B process to finish... <strong style=\"color:green\">(success).</strong>"
      ],
      "text/plain": [
       "<IPython.core.display.HTML object>"
      ]
     },
     "metadata": {},
     "output_type": "display_data"
    },
    {
     "data": {
      "application/vnd.jupyter.widget-view+json": {
       "model_id": "",
       "version_major": 2,
       "version_minor": 0
      },
      "text/plain": [
       "VBox(children=(Label(value='0.001 MB of 0.001 MB uploaded (0.000 MB deduped)\\r'), FloatProgress(value=1.0, max…"
      ]
     },
     "metadata": {},
     "output_type": "display_data"
    },
    {
     "data": {
      "text/html": [
       "<style>\n",
       "    table.wandb td:nth-child(1) { padding: 0 10px; text-align: left ; width: auto;} td:nth-child(2) {text-align: left ; width: 100%}\n",
       "    .wandb-row { display: flex; flex-direction: row; flex-wrap: wrap; justify-content: flex-start; width: 100% }\n",
       "    .wandb-col { display: flex; flex-direction: column; flex-basis: 100%; flex: 1; padding: 10px; }\n",
       "    </style>\n",
       "<div class=\"wandb-row\"><div class=\"wandb-col\"><h3>Run history:</h3><br/><table class=\"wandb\"><tr><td>episode_reward</td><td>▁▁▁▁▁▁▁▁▁▁▁▂▂▂▂▂▂▁▁▁▁▂▁▁▂▂▁▂▂█▂▁▆▆▆▆▆▁▆▆</td></tr><tr><td>loss</td><td>▁▁▁▁▁▁▁▁▁▁▁▁▁▁▁▁▁▁▁▁▁█▃▁▁▁▁▁▁▁▁▂▂▄▅▁▁▁▂▂</td></tr><tr><td>moving_average</td><td>▁▁▁▁▁▁▁▁▂▂▂▂▂▂▂▂▂▂▂▂▂▂▃▂▃▂▃▃▃▆▇▇█▇▇██▇██</td></tr></table><br/></div><div class=\"wandb-col\"><h3>Run summary:</h3><br/><table class=\"wandb\"><tr><td>episode_reward</td><td>366.64962</td></tr><tr><td>loss</td><td>0.00299</td></tr><tr><td>mean_reward</td><td>101.4743</td></tr><tr><td>moving_average</td><td>245.59522</td></tr><tr><td>top_reward</td><td>522.43761</td></tr></table><br/></div></div>"
      ],
      "text/plain": [
       "<IPython.core.display.HTML object>"
      ]
     },
     "metadata": {},
     "output_type": "display_data"
    },
    {
     "data": {
      "text/html": [
       "Synced <strong style=\"color:#cdcd00\">apricot-sweep-4</strong>: <a href=\"https://wandb.ai/climate_policy_optim/AYS_learning/runs/t2br6wfg\" target=\"_blank\">https://wandb.ai/climate_policy_optim/AYS_learning/runs/t2br6wfg</a><br/>Synced 4 W&B file(s), 0 media file(s), 0 artifact file(s) and 0 other file(s)"
      ],
      "text/plain": [
       "<IPython.core.display.HTML object>"
      ]
     },
     "metadata": {},
     "output_type": "display_data"
    },
    {
     "data": {
      "text/html": [
       "Find logs at: <code>.\\wandb\\run-20220722_143537-t2br6wfg\\logs</code>"
      ],
      "text/plain": [
       "<IPython.core.display.HTML object>"
      ]
     },
     "metadata": {},
     "output_type": "display_data"
    },
    {
     "name": "stderr",
     "output_type": "stream",
     "text": [
      "\u001b[34m\u001b[1mwandb\u001b[0m: Agent Starting Run: cjx8f3p5 with config:\n",
      "\u001b[34m\u001b[1mwandb\u001b[0m: \talpha: 0.4215658727653838\n",
      "\u001b[34m\u001b[1mwandb\u001b[0m: \tbatch_size: 64\n",
      "\u001b[34m\u001b[1mwandb\u001b[0m: \tbeta: 0.4503689902095685\n",
      "\u001b[34m\u001b[1mwandb\u001b[0m: \tbuffer_size: 32768\n",
      "\u001b[34m\u001b[1mwandb\u001b[0m: \tepsilon: 0.23348274129214996\n",
      "\u001b[34m\u001b[1mwandb\u001b[0m: \tlr: 0.005112918695178867\n",
      "\u001b[34m\u001b[1mwandb\u001b[0m: \tmax_epochs: 50\n",
      "\u001b[34m\u001b[1mwandb\u001b[0m: \tpolyak: True\n",
      "\u001b[34m\u001b[1mwandb\u001b[0m: \trho: 0.6709446912015986\n",
      "\u001b[34m\u001b[1mwandb\u001b[0m: \ttau: 0.06788078819475923\n"
     ]
    },
    {
     "data": {
      "text/html": [
       "Tracking run with wandb version 0.12.21"
      ],
      "text/plain": [
       "<IPython.core.display.HTML object>"
      ]
     },
     "metadata": {},
     "output_type": "display_data"
    },
    {
     "data": {
      "text/html": [
       "Run data is saved locally in <code>C:\\Users\\theod\\PycharmProjects\\climate_policy_thesis\\climate_policy_RL\\classes\\wandb\\run-20220722_144450-cjx8f3p5</code>"
      ],
      "text/plain": [
       "<IPython.core.display.HTML object>"
      ]
     },
     "metadata": {},
     "output_type": "display_data"
    },
    {
     "data": {
      "text/html": [
       "Syncing run <strong><a href=\"https://wandb.ai/climate_policy_optim/AYS_learning/runs/cjx8f3p5\" target=\"_blank\">zany-sweep-5</a></strong> to <a href=\"https://wandb.ai/climate_policy_optim/AYS_learning\" target=\"_blank\">Weights & Biases</a> (<a href=\"https://wandb.me/run\" target=\"_blank\">docs</a>)<br/>Sweep page:  <a href=\"https://wandb.ai/climate_policy_optim/AYS_learning/sweeps/muuwo0jy\" target=\"_blank\">https://wandb.ai/climate_policy_optim/AYS_learning/sweeps/muuwo0jy</a>"
      ],
      "text/plain": [
       "<IPython.core.display.HTML object>"
      ]
     },
     "metadata": {},
     "output_type": "display_data"
    },
    {
     "name": "stdout",
     "output_type": "stream",
     "text": [
      "Init AYS Environment! \n",
      "Reward Type: PB \n",
      "Sustainability Boundaries [A_PB, Y_SF, S_ren]:  [3.45e+02 4.00e+13 0.00e+00]\n"
     ]
    },
    {
     "data": {
      "text/html": [
       "Finishing last run (ID:cjx8f3p5) before initializing another..."
      ],
      "text/plain": [
       "<IPython.core.display.HTML object>"
      ]
     },
     "metadata": {},
     "output_type": "display_data"
    },
    {
     "data": {
      "text/html": [
       "Waiting for W&B process to finish... <strong style=\"color:green\">(success).</strong>"
      ],
      "text/plain": [
       "<IPython.core.display.HTML object>"
      ]
     },
     "metadata": {},
     "output_type": "display_data"
    },
    {
     "data": {
      "application/vnd.jupyter.widget-view+json": {
       "model_id": "",
       "version_major": 2,
       "version_minor": 0
      },
      "text/plain": [
       "VBox(children=(Label(value='0.001 MB of 0.001 MB uploaded (0.000 MB deduped)\\r'), FloatProgress(value=1.0, max…"
      ]
     },
     "metadata": {},
     "output_type": "display_data"
    },
    {
     "data": {
      "text/html": [
       "Synced <strong style=\"color:#cdcd00\">zany-sweep-5</strong>: <a href=\"https://wandb.ai/climate_policy_optim/AYS_learning/runs/cjx8f3p5\" target=\"_blank\">https://wandb.ai/climate_policy_optim/AYS_learning/runs/cjx8f3p5</a><br/>Synced 5 W&B file(s), 0 media file(s), 0 artifact file(s) and 0 other file(s)"
      ],
      "text/plain": [
       "<IPython.core.display.HTML object>"
      ]
     },
     "metadata": {},
     "output_type": "display_data"
    },
    {
     "data": {
      "text/html": [
       "Find logs at: <code>.\\wandb\\run-20220722_144450-cjx8f3p5\\logs</code>"
      ],
      "text/plain": [
       "<IPython.core.display.HTML object>"
      ]
     },
     "metadata": {},
     "output_type": "display_data"
    },
    {
     "data": {
      "text/html": [
       "Successfully finished last run (ID:cjx8f3p5). Initializing new run:<br/>"
      ],
      "text/plain": [
       "<IPython.core.display.HTML object>"
      ]
     },
     "metadata": {},
     "output_type": "display_data"
    },
    {
     "data": {
      "text/html": [
       "Tracking run with wandb version 0.12.21"
      ],
      "text/plain": [
       "<IPython.core.display.HTML object>"
      ]
     },
     "metadata": {},
     "output_type": "display_data"
    },
    {
     "data": {
      "text/html": [
       "Run data is saved locally in <code>C:\\Users\\theod\\PycharmProjects\\climate_policy_thesis\\climate_policy_RL\\classes\\wandb\\run-20220722_144452-cjx8f3p5</code>"
      ],
      "text/plain": [
       "<IPython.core.display.HTML object>"
      ]
     },
     "metadata": {},
     "output_type": "display_data"
    },
    {
     "data": {
      "text/html": [
       "Syncing run <strong><a href=\"https://wandb.ai/climate_policy_optim/AYS_learning/runs/cjx8f3p5\" target=\"_blank\">zany-sweep-5</a></strong> to <a href=\"https://wandb.ai/climate_policy_optim/AYS_learning\" target=\"_blank\">Weights & Biases</a> (<a href=\"https://wandb.me/run\" target=\"_blank\">docs</a>)<br/>Sweep page:  <a href=\"https://wandb.ai/climate_policy_optim/AYS_learning/sweeps/muuwo0jy\" target=\"_blank\">https://wandb.ai/climate_policy_optim/AYS_learning/sweeps/muuwo0jy</a>"
      ],
      "text/plain": [
       "<IPython.core.display.HTML object>"
      ]
     },
     "metadata": {},
     "output_type": "display_data"
    },
    {
     "data": {
      "text/html": [
       "Waiting for W&B process to finish... <strong style=\"color:green\">(success).</strong>"
      ],
      "text/plain": [
       "<IPython.core.display.HTML object>"
      ]
     },
     "metadata": {},
     "output_type": "display_data"
    },
    {
     "data": {
      "application/vnd.jupyter.widget-view+json": {
       "model_id": "",
       "version_major": 2,
       "version_minor": 0
      },
      "text/plain": [
       "VBox(children=(Label(value='0.001 MB of 0.001 MB uploaded (0.000 MB deduped)\\r'), FloatProgress(value=1.0, max…"
      ]
     },
     "metadata": {},
     "output_type": "display_data"
    },
    {
     "data": {
      "text/html": [
       "<style>\n",
       "    table.wandb td:nth-child(1) { padding: 0 10px; text-align: left ; width: auto;} td:nth-child(2) {text-align: left ; width: 100%}\n",
       "    .wandb-row { display: flex; flex-direction: row; flex-wrap: wrap; justify-content: flex-start; width: 100% }\n",
       "    .wandb-col { display: flex; flex-direction: column; flex-basis: 100%; flex: 1; padding: 10px; }\n",
       "    </style>\n",
       "<div class=\"wandb-row\"><div class=\"wandb-col\"><h3>Run history:</h3><br/><table class=\"wandb\"><tr><td>episode_reward</td><td>▁▁▁▇▁▁▂▇▁▇█▁█▁█▇█▇█▁▁▁▁█▃▁▁▁▆▁▂▇▁▁▁▇▆██▇</td></tr><tr><td>loss</td><td>▁▁▁▁▁▁▁▁▁▃▂▁▁▂▁▂▁▂▁▂▁▂▃▄▁█▂▁▁▁▂▂▁▂▂▁▁▁▄▁</td></tr><tr><td>moving_average</td><td>▁▁▁▁▁▂▂▃▃▃▄▄▄▅▆▇▇▇█▆▆▆▆▆▆▆▆▆▆▆▇▇▇▆▆▆▆▇██</td></tr></table><br/></div><div class=\"wandb-col\"><h3>Run summary:</h3><br/><table class=\"wandb\"><tr><td>episode_reward</td><td>532.41933</td></tr><tr><td>loss</td><td>0.00663</td></tr><tr><td>mean_reward</td><td>258.27519</td></tr><tr><td>moving_average</td><td>380.90836</td></tr><tr><td>top_reward</td><td>563.91153</td></tr></table><br/></div></div>"
      ],
      "text/plain": [
       "<IPython.core.display.HTML object>"
      ]
     },
     "metadata": {},
     "output_type": "display_data"
    },
    {
     "data": {
      "text/html": [
       "Synced <strong style=\"color:#cdcd00\">zany-sweep-5</strong>: <a href=\"https://wandb.ai/climate_policy_optim/AYS_learning/runs/cjx8f3p5\" target=\"_blank\">https://wandb.ai/climate_policy_optim/AYS_learning/runs/cjx8f3p5</a><br/>Synced 4 W&B file(s), 0 media file(s), 0 artifact file(s) and 0 other file(s)"
      ],
      "text/plain": [
       "<IPython.core.display.HTML object>"
      ]
     },
     "metadata": {},
     "output_type": "display_data"
    },
    {
     "data": {
      "text/html": [
       "Find logs at: <code>.\\wandb\\run-20220722_144452-cjx8f3p5\\logs</code>"
      ],
      "text/plain": [
       "<IPython.core.display.HTML object>"
      ]
     },
     "metadata": {},
     "output_type": "display_data"
    },
    {
     "name": "stderr",
     "output_type": "stream",
     "text": [
      "\u001b[34m\u001b[1mwandb\u001b[0m: Agent Starting Run: gcec6q9k with config:\n",
      "\u001b[34m\u001b[1mwandb\u001b[0m: \talpha: 0.43574874308717526\n",
      "\u001b[34m\u001b[1mwandb\u001b[0m: \tbatch_size: 128\n",
      "\u001b[34m\u001b[1mwandb\u001b[0m: \tbeta: 0.4297520768250278\n",
      "\u001b[34m\u001b[1mwandb\u001b[0m: \tbuffer_size: 4096\n",
      "\u001b[34m\u001b[1mwandb\u001b[0m: \tepsilon: 0.17944080916386862\n",
      "\u001b[34m\u001b[1mwandb\u001b[0m: \tlr: 0.00470706376044838\n",
      "\u001b[34m\u001b[1mwandb\u001b[0m: \tmax_epochs: 50\n",
      "\u001b[34m\u001b[1mwandb\u001b[0m: \tpolyak: False\n",
      "\u001b[34m\u001b[1mwandb\u001b[0m: \trho: 0.6703989172328749\n",
      "\u001b[34m\u001b[1mwandb\u001b[0m: \ttau: 0.06313384287847236\n"
     ]
    },
    {
     "data": {
      "text/html": [
       "Tracking run with wandb version 0.12.21"
      ],
      "text/plain": [
       "<IPython.core.display.HTML object>"
      ]
     },
     "metadata": {},
     "output_type": "display_data"
    },
    {
     "data": {
      "text/html": [
       "Run data is saved locally in <code>C:\\Users\\theod\\PycharmProjects\\climate_policy_thesis\\climate_policy_RL\\classes\\wandb\\run-20220722_145036-gcec6q9k</code>"
      ],
      "text/plain": [
       "<IPython.core.display.HTML object>"
      ]
     },
     "metadata": {},
     "output_type": "display_data"
    },
    {
     "data": {
      "text/html": [
       "Syncing run <strong><a href=\"https://wandb.ai/climate_policy_optim/AYS_learning/runs/gcec6q9k\" target=\"_blank\">eager-sweep-6</a></strong> to <a href=\"https://wandb.ai/climate_policy_optim/AYS_learning\" target=\"_blank\">Weights & Biases</a> (<a href=\"https://wandb.me/run\" target=\"_blank\">docs</a>)<br/>Sweep page:  <a href=\"https://wandb.ai/climate_policy_optim/AYS_learning/sweeps/muuwo0jy\" target=\"_blank\">https://wandb.ai/climate_policy_optim/AYS_learning/sweeps/muuwo0jy</a>"
      ],
      "text/plain": [
       "<IPython.core.display.HTML object>"
      ]
     },
     "metadata": {},
     "output_type": "display_data"
    },
    {
     "name": "stdout",
     "output_type": "stream",
     "text": [
      "Init AYS Environment! \n",
      "Reward Type: PB \n",
      "Sustainability Boundaries [A_PB, Y_SF, S_ren]:  [3.45e+02 4.00e+13 0.00e+00]\n"
     ]
    },
    {
     "data": {
      "text/html": [
       "Finishing last run (ID:gcec6q9k) before initializing another..."
      ],
      "text/plain": [
       "<IPython.core.display.HTML object>"
      ]
     },
     "metadata": {},
     "output_type": "display_data"
    },
    {
     "data": {
      "text/html": [
       "Waiting for W&B process to finish... <strong style=\"color:green\">(success).</strong>"
      ],
      "text/plain": [
       "<IPython.core.display.HTML object>"
      ]
     },
     "metadata": {},
     "output_type": "display_data"
    },
    {
     "data": {
      "application/vnd.jupyter.widget-view+json": {
       "model_id": "",
       "version_major": 2,
       "version_minor": 0
      },
      "text/plain": [
       "VBox(children=(Label(value='0.001 MB of 0.001 MB uploaded (0.000 MB deduped)\\r'), FloatProgress(value=1.0, max…"
      ]
     },
     "metadata": {},
     "output_type": "display_data"
    },
    {
     "data": {
      "text/html": [
       "Synced <strong style=\"color:#cdcd00\">eager-sweep-6</strong>: <a href=\"https://wandb.ai/climate_policy_optim/AYS_learning/runs/gcec6q9k\" target=\"_blank\">https://wandb.ai/climate_policy_optim/AYS_learning/runs/gcec6q9k</a><br/>Synced 5 W&B file(s), 0 media file(s), 0 artifact file(s) and 0 other file(s)"
      ],
      "text/plain": [
       "<IPython.core.display.HTML object>"
      ]
     },
     "metadata": {},
     "output_type": "display_data"
    },
    {
     "data": {
      "text/html": [
       "Find logs at: <code>.\\wandb\\run-20220722_145036-gcec6q9k\\logs</code>"
      ],
      "text/plain": [
       "<IPython.core.display.HTML object>"
      ]
     },
     "metadata": {},
     "output_type": "display_data"
    },
    {
     "data": {
      "text/html": [
       "Successfully finished last run (ID:gcec6q9k). Initializing new run:<br/>"
      ],
      "text/plain": [
       "<IPython.core.display.HTML object>"
      ]
     },
     "metadata": {},
     "output_type": "display_data"
    },
    {
     "data": {
      "text/html": [
       "Tracking run with wandb version 0.12.21"
      ],
      "text/plain": [
       "<IPython.core.display.HTML object>"
      ]
     },
     "metadata": {},
     "output_type": "display_data"
    },
    {
     "data": {
      "text/html": [
       "Run data is saved locally in <code>C:\\Users\\theod\\PycharmProjects\\climate_policy_thesis\\climate_policy_RL\\classes\\wandb\\run-20220722_145038-gcec6q9k</code>"
      ],
      "text/plain": [
       "<IPython.core.display.HTML object>"
      ]
     },
     "metadata": {},
     "output_type": "display_data"
    },
    {
     "data": {
      "text/html": [
       "Syncing run <strong><a href=\"https://wandb.ai/climate_policy_optim/AYS_learning/runs/gcec6q9k\" target=\"_blank\">eager-sweep-6</a></strong> to <a href=\"https://wandb.ai/climate_policy_optim/AYS_learning\" target=\"_blank\">Weights & Biases</a> (<a href=\"https://wandb.me/run\" target=\"_blank\">docs</a>)<br/>Sweep page:  <a href=\"https://wandb.ai/climate_policy_optim/AYS_learning/sweeps/muuwo0jy\" target=\"_blank\">https://wandb.ai/climate_policy_optim/AYS_learning/sweeps/muuwo0jy</a>"
      ],
      "text/plain": [
       "<IPython.core.display.HTML object>"
      ]
     },
     "metadata": {},
     "output_type": "display_data"
    },
    {
     "data": {
      "text/html": [
       "Waiting for W&B process to finish... <strong style=\"color:green\">(success).</strong>"
      ],
      "text/plain": [
       "<IPython.core.display.HTML object>"
      ]
     },
     "metadata": {},
     "output_type": "display_data"
    },
    {
     "data": {
      "application/vnd.jupyter.widget-view+json": {
       "model_id": "b26a14f458f84307af201aa5bf2a12ec",
       "version_major": 2,
       "version_minor": 0
      },
      "text/plain": [
       "VBox(children=(Label(value='0.001 MB of 0.001 MB uploaded (0.000 MB deduped)\\r'), FloatProgress(value=1.0, max…"
      ]
     },
     "metadata": {},
     "output_type": "display_data"
    },
    {
     "data": {
      "text/html": [
       "<style>\n",
       "    table.wandb td:nth-child(1) { padding: 0 10px; text-align: left ; width: auto;} td:nth-child(2) {text-align: left ; width: 100%}\n",
       "    .wandb-row { display: flex; flex-direction: row; flex-wrap: wrap; justify-content: flex-start; width: 100% }\n",
       "    .wandb-col { display: flex; flex-direction: column; flex-basis: 100%; flex: 1; padding: 10px; }\n",
       "    </style>\n",
       "<div class=\"wandb-row\"><div class=\"wandb-col\"><h3>Run history:</h3><br/><table class=\"wandb\"><tr><td>episode_reward</td><td>▁▁▁▁▁▁▆▁▁▆▇▁▁▆▆▆▁██▇▇▇▁▇▁▆▆▇▁▆█▆▇▇▇▆▆▆▇▆</td></tr><tr><td>loss</td><td>▁▁▁▁▁▄▃▁▁▂▅▃▁▁▁▁▁▅▂▂▅▂▆▁▂▂▁▁▆▁▅▁▁▁▃▃▃▂▁█</td></tr><tr><td>moving_average</td><td>▁▁▁▂▃▄▅▆▆▆▇▇▇▇██▇▇▇▇▇▇▆▆▆▆▇▇▇██▇█▇▇▆▆▆▇▇</td></tr></table><br/></div><div class=\"wandb-col\"><h3>Run summary:</h3><br/><table class=\"wandb\"><tr><td>episode_reward</td><td>422.67698</td></tr><tr><td>loss</td><td>0.03289</td></tr><tr><td>mean_reward</td><td>270.36851</td></tr><tr><td>moving_average</td><td>308.00863</td></tr><tr><td>top_reward</td><td>555.56998</td></tr></table><br/></div></div>"
      ],
      "text/plain": [
       "<IPython.core.display.HTML object>"
      ]
     },
     "metadata": {},
     "output_type": "display_data"
    },
    {
     "data": {
      "text/html": [
       "Synced <strong style=\"color:#cdcd00\">eager-sweep-6</strong>: <a href=\"https://wandb.ai/climate_policy_optim/AYS_learning/runs/gcec6q9k\" target=\"_blank\">https://wandb.ai/climate_policy_optim/AYS_learning/runs/gcec6q9k</a><br/>Synced 4 W&B file(s), 0 media file(s), 0 artifact file(s) and 0 other file(s)"
      ],
      "text/plain": [
       "<IPython.core.display.HTML object>"
      ]
     },
     "metadata": {},
     "output_type": "display_data"
    },
    {
     "data": {
      "text/html": [
       "Find logs at: <code>.\\wandb\\run-20220722_145038-gcec6q9k\\logs</code>"
      ],
      "text/plain": [
       "<IPython.core.display.HTML object>"
      ]
     },
     "metadata": {},
     "output_type": "display_data"
    },
    {
     "name": "stderr",
     "output_type": "stream",
     "text": [
      "\u001b[34m\u001b[1mwandb\u001b[0m: Agent Starting Run: uumvp2cc with config:\n",
      "\u001b[34m\u001b[1mwandb\u001b[0m: \talpha: 0.4061183712000133\n",
      "\u001b[34m\u001b[1mwandb\u001b[0m: \tbatch_size: 64\n",
      "\u001b[34m\u001b[1mwandb\u001b[0m: \tbeta: 0.3597895755469619\n",
      "\u001b[34m\u001b[1mwandb\u001b[0m: \tbuffer_size: 4096\n",
      "\u001b[34m\u001b[1mwandb\u001b[0m: \tepsilon: 0.1749071718428618\n",
      "\u001b[34m\u001b[1mwandb\u001b[0m: \tlr: 0.005691221839245521\n",
      "\u001b[34m\u001b[1mwandb\u001b[0m: \tmax_epochs: 50\n",
      "\u001b[34m\u001b[1mwandb\u001b[0m: \tpolyak: False\n",
      "\u001b[34m\u001b[1mwandb\u001b[0m: \trho: 0.6479083367570089\n",
      "\u001b[34m\u001b[1mwandb\u001b[0m: \ttau: 0.05257094887915579\n"
     ]
    },
    {
     "data": {
      "text/html": [
       "Tracking run with wandb version 0.12.21"
      ],
      "text/plain": [
       "<IPython.core.display.HTML object>"
      ]
     },
     "metadata": {},
     "output_type": "display_data"
    },
    {
     "data": {
      "text/html": [
       "Run data is saved locally in <code>C:\\Users\\theod\\PycharmProjects\\climate_policy_thesis\\climate_policy_RL\\classes\\wandb\\run-20220722_145729-uumvp2cc</code>"
      ],
      "text/plain": [
       "<IPython.core.display.HTML object>"
      ]
     },
     "metadata": {},
     "output_type": "display_data"
    },
    {
     "data": {
      "text/html": [
       "Syncing run <strong><a href=\"https://wandb.ai/climate_policy_optim/AYS_learning/runs/uumvp2cc\" target=\"_blank\">fancy-sweep-7</a></strong> to <a href=\"https://wandb.ai/climate_policy_optim/AYS_learning\" target=\"_blank\">Weights & Biases</a> (<a href=\"https://wandb.me/run\" target=\"_blank\">docs</a>)<br/>Sweep page:  <a href=\"https://wandb.ai/climate_policy_optim/AYS_learning/sweeps/muuwo0jy\" target=\"_blank\">https://wandb.ai/climate_policy_optim/AYS_learning/sweeps/muuwo0jy</a>"
      ],
      "text/plain": [
       "<IPython.core.display.HTML object>"
      ]
     },
     "metadata": {},
     "output_type": "display_data"
    },
    {
     "name": "stdout",
     "output_type": "stream",
     "text": [
      "Init AYS Environment! \n",
      "Reward Type: PB \n",
      "Sustainability Boundaries [A_PB, Y_SF, S_ren]:  [3.45e+02 4.00e+13 0.00e+00]\n"
     ]
    },
    {
     "data": {
      "text/html": [
       "Finishing last run (ID:uumvp2cc) before initializing another..."
      ],
      "text/plain": [
       "<IPython.core.display.HTML object>"
      ]
     },
     "metadata": {},
     "output_type": "display_data"
    },
    {
     "data": {
      "text/html": [
       "Waiting for W&B process to finish... <strong style=\"color:green\">(success).</strong>"
      ],
      "text/plain": [
       "<IPython.core.display.HTML object>"
      ]
     },
     "metadata": {},
     "output_type": "display_data"
    },
    {
     "data": {
      "application/vnd.jupyter.widget-view+json": {
       "model_id": "1878081c077f4e73bfb1e76288f2e20c",
       "version_major": 2,
       "version_minor": 0
      },
      "text/plain": [
       "VBox(children=(Label(value='0.001 MB of 0.001 MB uploaded (0.000 MB deduped)\\r'), FloatProgress(value=1.0, max…"
      ]
     },
     "metadata": {},
     "output_type": "display_data"
    },
    {
     "data": {
      "text/html": [
       "Synced <strong style=\"color:#cdcd00\">fancy-sweep-7</strong>: <a href=\"https://wandb.ai/climate_policy_optim/AYS_learning/runs/uumvp2cc\" target=\"_blank\">https://wandb.ai/climate_policy_optim/AYS_learning/runs/uumvp2cc</a><br/>Synced 5 W&B file(s), 0 media file(s), 0 artifact file(s) and 0 other file(s)"
      ],
      "text/plain": [
       "<IPython.core.display.HTML object>"
      ]
     },
     "metadata": {},
     "output_type": "display_data"
    },
    {
     "data": {
      "text/html": [
       "Find logs at: <code>.\\wandb\\run-20220722_145729-uumvp2cc\\logs</code>"
      ],
      "text/plain": [
       "<IPython.core.display.HTML object>"
      ]
     },
     "metadata": {},
     "output_type": "display_data"
    },
    {
     "data": {
      "text/html": [
       "Successfully finished last run (ID:uumvp2cc). Initializing new run:<br/>"
      ],
      "text/plain": [
       "<IPython.core.display.HTML object>"
      ]
     },
     "metadata": {},
     "output_type": "display_data"
    },
    {
     "data": {
      "text/html": [
       "Tracking run with wandb version 0.12.21"
      ],
      "text/plain": [
       "<IPython.core.display.HTML object>"
      ]
     },
     "metadata": {},
     "output_type": "display_data"
    },
    {
     "data": {
      "text/html": [
       "Run data is saved locally in <code>C:\\Users\\theod\\PycharmProjects\\climate_policy_thesis\\climate_policy_RL\\classes\\wandb\\run-20220722_145731-uumvp2cc</code>"
      ],
      "text/plain": [
       "<IPython.core.display.HTML object>"
      ]
     },
     "metadata": {},
     "output_type": "display_data"
    },
    {
     "data": {
      "text/html": [
       "Syncing run <strong><a href=\"https://wandb.ai/climate_policy_optim/AYS_learning/runs/uumvp2cc\" target=\"_blank\">fancy-sweep-7</a></strong> to <a href=\"https://wandb.ai/climate_policy_optim/AYS_learning\" target=\"_blank\">Weights & Biases</a> (<a href=\"https://wandb.me/run\" target=\"_blank\">docs</a>)<br/>Sweep page:  <a href=\"https://wandb.ai/climate_policy_optim/AYS_learning/sweeps/muuwo0jy\" target=\"_blank\">https://wandb.ai/climate_policy_optim/AYS_learning/sweeps/muuwo0jy</a>"
      ],
      "text/plain": [
       "<IPython.core.display.HTML object>"
      ]
     },
     "metadata": {},
     "output_type": "display_data"
    },
    {
     "data": {
      "text/html": [
       "Waiting for W&B process to finish... <strong style=\"color:green\">(success).</strong>"
      ],
      "text/plain": [
       "<IPython.core.display.HTML object>"
      ]
     },
     "metadata": {},
     "output_type": "display_data"
    },
    {
     "data": {
      "application/vnd.jupyter.widget-view+json": {
       "model_id": "b66924288acc41c7b246ca43c7561ed6",
       "version_major": 2,
       "version_minor": 0
      },
      "text/plain": [
       "VBox(children=(Label(value='0.001 MB of 0.001 MB uploaded (0.000 MB deduped)\\r'), FloatProgress(value=1.0, max…"
      ]
     },
     "metadata": {},
     "output_type": "display_data"
    },
    {
     "data": {
      "text/html": [
       "<style>\n",
       "    table.wandb td:nth-child(1) { padding: 0 10px; text-align: left ; width: auto;} td:nth-child(2) {text-align: left ; width: 100%}\n",
       "    .wandb-row { display: flex; flex-direction: row; flex-wrap: wrap; justify-content: flex-start; width: 100% }\n",
       "    .wandb-col { display: flex; flex-direction: column; flex-basis: 100%; flex: 1; padding: 10px; }\n",
       "    </style>\n",
       "<div class=\"wandb-row\"><div class=\"wandb-col\"><h3>Run history:</h3><br/><table class=\"wandb\"><tr><td>episode_reward</td><td>▁▁▁▁▁▂▁▁▁▁▁▁▁▁▁██▁▇▁▁▁▆▆▆█▆▆▆▁▆▁▁▇▁▆▆▇▇▁</td></tr><tr><td>loss</td><td>▁▁▁▁▁▁▁▂▂▃▄▂▂▁▁▇▁▄▁▂▁▁▁▁▁▄▁▁▁▁█▁▃▂█▁▁▁▁▂</td></tr><tr><td>moving_average</td><td>▁▁▁▁▁▂▂▂▂▂▁▁▁▁▁▂▃▄▅▆▆▇▇█▇▆▆▆▆▇▇▇▆▆▇▆███▇</td></tr></table><br/></div><div class=\"wandb-col\"><h3>Run summary:</h3><br/><table class=\"wandb\"><tr><td>episode_reward</td><td>400.42121</td></tr><tr><td>loss</td><td>0.6624</td></tr><tr><td>mean_reward</td><td>208.30541</td></tr><tr><td>moving_average</td><td>341.67322</td></tr><tr><td>top_reward</td><td>577.47818</td></tr></table><br/></div></div>"
      ],
      "text/plain": [
       "<IPython.core.display.HTML object>"
      ]
     },
     "metadata": {},
     "output_type": "display_data"
    },
    {
     "data": {
      "text/html": [
       "Synced <strong style=\"color:#cdcd00\">fancy-sweep-7</strong>: <a href=\"https://wandb.ai/climate_policy_optim/AYS_learning/runs/uumvp2cc\" target=\"_blank\">https://wandb.ai/climate_policy_optim/AYS_learning/runs/uumvp2cc</a><br/>Synced 4 W&B file(s), 0 media file(s), 0 artifact file(s) and 0 other file(s)"
      ],
      "text/plain": [
       "<IPython.core.display.HTML object>"
      ]
     },
     "metadata": {},
     "output_type": "display_data"
    },
    {
     "data": {
      "text/html": [
       "Find logs at: <code>.\\wandb\\run-20220722_145731-uumvp2cc\\logs</code>"
      ],
      "text/plain": [
       "<IPython.core.display.HTML object>"
      ]
     },
     "metadata": {},
     "output_type": "display_data"
    },
    {
     "name": "stderr",
     "output_type": "stream",
     "text": [
      "\u001b[34m\u001b[1mwandb\u001b[0m: Agent Starting Run: t11rvfgp with config:\n",
      "\u001b[34m\u001b[1mwandb\u001b[0m: \talpha: 0.4217434721472749\n",
      "\u001b[34m\u001b[1mwandb\u001b[0m: \tbatch_size: 128\n",
      "\u001b[34m\u001b[1mwandb\u001b[0m: \tbeta: 0.4344621942060724\n",
      "\u001b[34m\u001b[1mwandb\u001b[0m: \tbuffer_size: 16384\n",
      "\u001b[34m\u001b[1mwandb\u001b[0m: \tepsilon: 0.27839330352505454\n",
      "\u001b[34m\u001b[1mwandb\u001b[0m: \tlr: 0.006158289674519599\n",
      "\u001b[34m\u001b[1mwandb\u001b[0m: \tmax_epochs: 50\n",
      "\u001b[34m\u001b[1mwandb\u001b[0m: \tpolyak: False\n",
      "\u001b[34m\u001b[1mwandb\u001b[0m: \trho: 0.6246593590617042\n",
      "\u001b[34m\u001b[1mwandb\u001b[0m: \ttau: 0.07053676503038397\n"
     ]
    },
    {
     "data": {
      "text/html": [
       "Tracking run with wandb version 0.12.21"
      ],
      "text/plain": [
       "<IPython.core.display.HTML object>"
      ]
     },
     "metadata": {},
     "output_type": "display_data"
    },
    {
     "data": {
      "text/html": [
       "Run data is saved locally in <code>C:\\Users\\theod\\PycharmProjects\\climate_policy_thesis\\climate_policy_RL\\classes\\wandb\\run-20220722_150325-t11rvfgp</code>"
      ],
      "text/plain": [
       "<IPython.core.display.HTML object>"
      ]
     },
     "metadata": {},
     "output_type": "display_data"
    },
    {
     "data": {
      "text/html": [
       "Syncing run <strong><a href=\"https://wandb.ai/climate_policy_optim/AYS_learning/runs/t11rvfgp\" target=\"_blank\">stellar-sweep-8</a></strong> to <a href=\"https://wandb.ai/climate_policy_optim/AYS_learning\" target=\"_blank\">Weights & Biases</a> (<a href=\"https://wandb.me/run\" target=\"_blank\">docs</a>)<br/>Sweep page:  <a href=\"https://wandb.ai/climate_policy_optim/AYS_learning/sweeps/muuwo0jy\" target=\"_blank\">https://wandb.ai/climate_policy_optim/AYS_learning/sweeps/muuwo0jy</a>"
      ],
      "text/plain": [
       "<IPython.core.display.HTML object>"
      ]
     },
     "metadata": {},
     "output_type": "display_data"
    },
    {
     "name": "stdout",
     "output_type": "stream",
     "text": [
      "Init AYS Environment! \n",
      "Reward Type: PB \n",
      "Sustainability Boundaries [A_PB, Y_SF, S_ren]:  [3.45e+02 4.00e+13 0.00e+00]\n"
     ]
    },
    {
     "data": {
      "text/html": [
       "Finishing last run (ID:t11rvfgp) before initializing another..."
      ],
      "text/plain": [
       "<IPython.core.display.HTML object>"
      ]
     },
     "metadata": {},
     "output_type": "display_data"
    },
    {
     "data": {
      "text/html": [
       "Waiting for W&B process to finish... <strong style=\"color:green\">(success).</strong>"
      ],
      "text/plain": [
       "<IPython.core.display.HTML object>"
      ]
     },
     "metadata": {},
     "output_type": "display_data"
    },
    {
     "data": {
      "application/vnd.jupyter.widget-view+json": {
       "model_id": "cdaa8a64538c4458972ba0367fd14b1c",
       "version_major": 2,
       "version_minor": 0
      },
      "text/plain": [
       "VBox(children=(Label(value='0.001 MB of 0.001 MB uploaded (0.000 MB deduped)\\r'), FloatProgress(value=1.0, max…"
      ]
     },
     "metadata": {},
     "output_type": "display_data"
    },
    {
     "data": {
      "text/html": [
       "Synced <strong style=\"color:#cdcd00\">stellar-sweep-8</strong>: <a href=\"https://wandb.ai/climate_policy_optim/AYS_learning/runs/t11rvfgp\" target=\"_blank\">https://wandb.ai/climate_policy_optim/AYS_learning/runs/t11rvfgp</a><br/>Synced 5 W&B file(s), 0 media file(s), 0 artifact file(s) and 0 other file(s)"
      ],
      "text/plain": [
       "<IPython.core.display.HTML object>"
      ]
     },
     "metadata": {},
     "output_type": "display_data"
    },
    {
     "data": {
      "text/html": [
       "Find logs at: <code>.\\wandb\\run-20220722_150325-t11rvfgp\\logs</code>"
      ],
      "text/plain": [
       "<IPython.core.display.HTML object>"
      ]
     },
     "metadata": {},
     "output_type": "display_data"
    },
    {
     "data": {
      "text/html": [
       "Successfully finished last run (ID:t11rvfgp). Initializing new run:<br/>"
      ],
      "text/plain": [
       "<IPython.core.display.HTML object>"
      ]
     },
     "metadata": {},
     "output_type": "display_data"
    },
    {
     "data": {
      "text/html": [
       "Tracking run with wandb version 0.12.21"
      ],
      "text/plain": [
       "<IPython.core.display.HTML object>"
      ]
     },
     "metadata": {},
     "output_type": "display_data"
    },
    {
     "data": {
      "text/html": [
       "Run data is saved locally in <code>C:\\Users\\theod\\PycharmProjects\\climate_policy_thesis\\climate_policy_RL\\classes\\wandb\\run-20220722_150327-t11rvfgp</code>"
      ],
      "text/plain": [
       "<IPython.core.display.HTML object>"
      ]
     },
     "metadata": {},
     "output_type": "display_data"
    },
    {
     "data": {
      "text/html": [
       "Syncing run <strong><a href=\"https://wandb.ai/climate_policy_optim/AYS_learning/runs/t11rvfgp\" target=\"_blank\">stellar-sweep-8</a></strong> to <a href=\"https://wandb.ai/climate_policy_optim/AYS_learning\" target=\"_blank\">Weights & Biases</a> (<a href=\"https://wandb.me/run\" target=\"_blank\">docs</a>)<br/>Sweep page:  <a href=\"https://wandb.ai/climate_policy_optim/AYS_learning/sweeps/muuwo0jy\" target=\"_blank\">https://wandb.ai/climate_policy_optim/AYS_learning/sweeps/muuwo0jy</a>"
      ],
      "text/plain": [
       "<IPython.core.display.HTML object>"
      ]
     },
     "metadata": {},
     "output_type": "display_data"
    },
    {
     "data": {
      "text/html": [
       "Waiting for W&B process to finish... <strong style=\"color:green\">(success).</strong>"
      ],
      "text/plain": [
       "<IPython.core.display.HTML object>"
      ]
     },
     "metadata": {},
     "output_type": "display_data"
    },
    {
     "data": {
      "application/vnd.jupyter.widget-view+json": {
       "model_id": "ffbf1a78c9194d198d258100aa83d115",
       "version_major": 2,
       "version_minor": 0
      },
      "text/plain": [
       "VBox(children=(Label(value='0.001 MB of 0.001 MB uploaded (0.000 MB deduped)\\r'), FloatProgress(value=1.0, max…"
      ]
     },
     "metadata": {},
     "output_type": "display_data"
    },
    {
     "data": {
      "text/html": [
       "<style>\n",
       "    table.wandb td:nth-child(1) { padding: 0 10px; text-align: left ; width: auto;} td:nth-child(2) {text-align: left ; width: 100%}\n",
       "    .wandb-row { display: flex; flex-direction: row; flex-wrap: wrap; justify-content: flex-start; width: 100% }\n",
       "    .wandb-col { display: flex; flex-direction: column; flex-basis: 100%; flex: 1; padding: 10px; }\n",
       "    </style>\n",
       "<div class=\"wandb-row\"><div class=\"wandb-col\"><h3>Run history:</h3><br/><table class=\"wandb\"><tr><td>episode_reward</td><td>▁▁▁▁▁▁▁█████▁█▁▂▆▇▆██▆█▁▁█▁▇▁▁▆▆▁▁▆▆▇▁█▂</td></tr><tr><td>loss</td><td>▁▁▁▁▂▄▁▁▂▁▁▁▁▁▂▂▁▂▁▃▁▆▂▃▄█▅▄▅▇▁▁▁▁▁▁▁▂▇▅</td></tr><tr><td>moving_average</td><td>▁▁▁▁▁▁▂▃▄▅▇▆▆▆▆▅▅▅▅▅▅▅▅▅▅▆▆▆▇▇▇▇▇██▇▇▅▅▅</td></tr></table><br/></div><div class=\"wandb-col\"><h3>Run summary:</h3><br/><table class=\"wandb\"><tr><td>episode_reward</td><td>410.05026</td></tr><tr><td>loss</td><td>0.18425</td></tr><tr><td>mean_reward</td><td>249.39887</td></tr><tr><td>moving_average</td><td>260.1764</td></tr><tr><td>top_reward</td><td>574.6804</td></tr></table><br/></div></div>"
      ],
      "text/plain": [
       "<IPython.core.display.HTML object>"
      ]
     },
     "metadata": {},
     "output_type": "display_data"
    },
    {
     "data": {
      "text/html": [
       "Synced <strong style=\"color:#cdcd00\">stellar-sweep-8</strong>: <a href=\"https://wandb.ai/climate_policy_optim/AYS_learning/runs/t11rvfgp\" target=\"_blank\">https://wandb.ai/climate_policy_optim/AYS_learning/runs/t11rvfgp</a><br/>Synced 4 W&B file(s), 0 media file(s), 0 artifact file(s) and 0 other file(s)"
      ],
      "text/plain": [
       "<IPython.core.display.HTML object>"
      ]
     },
     "metadata": {},
     "output_type": "display_data"
    },
    {
     "data": {
      "text/html": [
       "Find logs at: <code>.\\wandb\\run-20220722_150327-t11rvfgp\\logs</code>"
      ],
      "text/plain": [
       "<IPython.core.display.HTML object>"
      ]
     },
     "metadata": {},
     "output_type": "display_data"
    },
    {
     "name": "stderr",
     "output_type": "stream",
     "text": [
      "\u001b[34m\u001b[1mwandb\u001b[0m: Agent Starting Run: svrvbm7l with config:\n",
      "\u001b[34m\u001b[1mwandb\u001b[0m: \talpha: 0.445423812407597\n",
      "\u001b[34m\u001b[1mwandb\u001b[0m: \tbatch_size: 256\n",
      "\u001b[34m\u001b[1mwandb\u001b[0m: \tbeta: 0.5354035112746738\n",
      "\u001b[34m\u001b[1mwandb\u001b[0m: \tbuffer_size: 4096\n",
      "\u001b[34m\u001b[1mwandb\u001b[0m: \tepsilon: 0.11684058178917713\n",
      "\u001b[34m\u001b[1mwandb\u001b[0m: \tlr: 0.0009492388855948272\n",
      "\u001b[34m\u001b[1mwandb\u001b[0m: \tmax_epochs: 75\n",
      "\u001b[34m\u001b[1mwandb\u001b[0m: \tpolyak: False\n",
      "\u001b[34m\u001b[1mwandb\u001b[0m: \trho: 0.7996876650173169\n",
      "\u001b[34m\u001b[1mwandb\u001b[0m: \ttau: 0.06064929332073898\n"
     ]
    },
    {
     "data": {
      "text/html": [
       "Tracking run with wandb version 0.12.21"
      ],
      "text/plain": [
       "<IPython.core.display.HTML object>"
      ]
     },
     "metadata": {},
     "output_type": "display_data"
    },
    {
     "data": {
      "text/html": [
       "Run data is saved locally in <code>C:\\Users\\theod\\PycharmProjects\\climate_policy_thesis\\climate_policy_RL\\classes\\wandb\\run-20220722_151047-svrvbm7l</code>"
      ],
      "text/plain": [
       "<IPython.core.display.HTML object>"
      ]
     },
     "metadata": {},
     "output_type": "display_data"
    },
    {
     "data": {
      "text/html": [
       "Syncing run <strong><a href=\"https://wandb.ai/climate_policy_optim/AYS_learning/runs/svrvbm7l\" target=\"_blank\">polar-sweep-10</a></strong> to <a href=\"https://wandb.ai/climate_policy_optim/AYS_learning\" target=\"_blank\">Weights & Biases</a> (<a href=\"https://wandb.me/run\" target=\"_blank\">docs</a>)<br/>Sweep page:  <a href=\"https://wandb.ai/climate_policy_optim/AYS_learning/sweeps/muuwo0jy\" target=\"_blank\">https://wandb.ai/climate_policy_optim/AYS_learning/sweeps/muuwo0jy</a>"
      ],
      "text/plain": [
       "<IPython.core.display.HTML object>"
      ]
     },
     "metadata": {},
     "output_type": "display_data"
    },
    {
     "name": "stdout",
     "output_type": "stream",
     "text": [
      "Init AYS Environment! \n",
      "Reward Type: PB \n",
      "Sustainability Boundaries [A_PB, Y_SF, S_ren]:  [3.45e+02 4.00e+13 0.00e+00]\n"
     ]
    },
    {
     "data": {
      "text/html": [
       "Finishing last run (ID:svrvbm7l) before initializing another..."
      ],
      "text/plain": [
       "<IPython.core.display.HTML object>"
      ]
     },
     "metadata": {},
     "output_type": "display_data"
    },
    {
     "data": {
      "text/html": [
       "Waiting for W&B process to finish... <strong style=\"color:green\">(success).</strong>"
      ],
      "text/plain": [
       "<IPython.core.display.HTML object>"
      ]
     },
     "metadata": {},
     "output_type": "display_data"
    },
    {
     "data": {
      "application/vnd.jupyter.widget-view+json": {
       "model_id": "00a6c809abf24e9e95c2a2cd7327c611",
       "version_major": 2,
       "version_minor": 0
      },
      "text/plain": [
       "VBox(children=(Label(value='0.001 MB of 0.001 MB uploaded (0.000 MB deduped)\\r'), FloatProgress(value=1.0, max…"
      ]
     },
     "metadata": {},
     "output_type": "display_data"
    },
    {
     "data": {
      "text/html": [
       "Synced <strong style=\"color:#cdcd00\">polar-sweep-10</strong>: <a href=\"https://wandb.ai/climate_policy_optim/AYS_learning/runs/svrvbm7l\" target=\"_blank\">https://wandb.ai/climate_policy_optim/AYS_learning/runs/svrvbm7l</a><br/>Synced 5 W&B file(s), 0 media file(s), 0 artifact file(s) and 0 other file(s)"
      ],
      "text/plain": [
       "<IPython.core.display.HTML object>"
      ]
     },
     "metadata": {},
     "output_type": "display_data"
    },
    {
     "data": {
      "text/html": [
       "Find logs at: <code>.\\wandb\\run-20220722_151047-svrvbm7l\\logs</code>"
      ],
      "text/plain": [
       "<IPython.core.display.HTML object>"
      ]
     },
     "metadata": {},
     "output_type": "display_data"
    },
    {
     "data": {
      "text/html": [
       "Successfully finished last run (ID:svrvbm7l). Initializing new run:<br/>"
      ],
      "text/plain": [
       "<IPython.core.display.HTML object>"
      ]
     },
     "metadata": {},
     "output_type": "display_data"
    },
    {
     "data": {
      "text/html": [
       "Tracking run with wandb version 0.12.21"
      ],
      "text/plain": [
       "<IPython.core.display.HTML object>"
      ]
     },
     "metadata": {},
     "output_type": "display_data"
    },
    {
     "data": {
      "text/html": [
       "Run data is saved locally in <code>C:\\Users\\theod\\PycharmProjects\\climate_policy_thesis\\climate_policy_RL\\classes\\wandb\\run-20220722_151048-svrvbm7l</code>"
      ],
      "text/plain": [
       "<IPython.core.display.HTML object>"
      ]
     },
     "metadata": {},
     "output_type": "display_data"
    },
    {
     "data": {
      "text/html": [
       "Syncing run <strong><a href=\"https://wandb.ai/climate_policy_optim/AYS_learning/runs/svrvbm7l\" target=\"_blank\">polar-sweep-10</a></strong> to <a href=\"https://wandb.ai/climate_policy_optim/AYS_learning\" target=\"_blank\">Weights & Biases</a> (<a href=\"https://wandb.me/run\" target=\"_blank\">docs</a>)<br/>Sweep page:  <a href=\"https://wandb.ai/climate_policy_optim/AYS_learning/sweeps/muuwo0jy\" target=\"_blank\">https://wandb.ai/climate_policy_optim/AYS_learning/sweeps/muuwo0jy</a>"
      ],
      "text/plain": [
       "<IPython.core.display.HTML object>"
      ]
     },
     "metadata": {},
     "output_type": "display_data"
    },
    {
     "data": {
      "text/html": [
       "Waiting for W&B process to finish... <strong style=\"color:green\">(success).</strong>"
      ],
      "text/plain": [
       "<IPython.core.display.HTML object>"
      ]
     },
     "metadata": {},
     "output_type": "display_data"
    },
    {
     "data": {
      "application/vnd.jupyter.widget-view+json": {
       "model_id": "6ceb2b6fb744400596323a570d92fb25",
       "version_major": 2,
       "version_minor": 0
      },
      "text/plain": [
       "VBox(children=(Label(value='0.001 MB of 0.001 MB uploaded (0.000 MB deduped)\\r'), FloatProgress(value=1.0, max…"
      ]
     },
     "metadata": {},
     "output_type": "display_data"
    },
    {
     "data": {
      "text/html": [
       "<style>\n",
       "    table.wandb td:nth-child(1) { padding: 0 10px; text-align: left ; width: auto;} td:nth-child(2) {text-align: left ; width: 100%}\n",
       "    .wandb-row { display: flex; flex-direction: row; flex-wrap: wrap; justify-content: flex-start; width: 100% }\n",
       "    .wandb-col { display: flex; flex-direction: column; flex-basis: 100%; flex: 1; padding: 10px; }\n",
       "    </style>\n",
       "<div class=\"wandb-row\"><div class=\"wandb-col\"><h3>Run history:</h3><br/><table class=\"wandb\"><tr><td>episode_reward</td><td>▁▁▁▁▁▁▁▁▃▇█▇▇▇▇▁▇█▁▇▁█▇▇███▁▁███▁▇▁▇▇▁██</td></tr><tr><td>loss</td><td>▁▁▁▁▁▁▁▁▁▁▁▁▂▂▂▁▂▁▁▁▁▁▁▁▁▁▁▁█▂▁▁▁▁▁▂▁▁▁▁</td></tr><tr><td>moving_average</td><td>▁▁▁▁▁▁▁▁▁▁▃▅▆▇█▇▆▆▆▇▇▇▆▆▇▆▆▆▅▆▆▆▇▇▇▆▇▇▇█</td></tr></table><br/></div><div class=\"wandb-col\"><h3>Run summary:</h3><br/><table class=\"wandb\"><tr><td>episode_reward</td><td>412.51402</td></tr><tr><td>loss</td><td>0.00183</td></tr><tr><td>mean_reward</td><td>227.23101</td></tr><tr><td>moving_average</td><td>352.72274</td></tr><tr><td>top_reward</td><td>494.27621</td></tr></table><br/></div></div>"
      ],
      "text/plain": [
       "<IPython.core.display.HTML object>"
      ]
     },
     "metadata": {},
     "output_type": "display_data"
    },
    {
     "data": {
      "text/html": [
       "Synced <strong style=\"color:#cdcd00\">polar-sweep-10</strong>: <a href=\"https://wandb.ai/climate_policy_optim/AYS_learning/runs/svrvbm7l\" target=\"_blank\">https://wandb.ai/climate_policy_optim/AYS_learning/runs/svrvbm7l</a><br/>Synced 4 W&B file(s), 0 media file(s), 0 artifact file(s) and 0 other file(s)"
      ],
      "text/plain": [
       "<IPython.core.display.HTML object>"
      ]
     },
     "metadata": {},
     "output_type": "display_data"
    },
    {
     "data": {
      "text/html": [
       "Find logs at: <code>.\\wandb\\run-20220722_151048-svrvbm7l\\logs</code>"
      ],
      "text/plain": [
       "<IPython.core.display.HTML object>"
      ]
     },
     "metadata": {},
     "output_type": "display_data"
    },
    {
     "name": "stderr",
     "output_type": "stream",
     "text": [
      "\u001b[34m\u001b[1mwandb\u001b[0m: Agent Starting Run: i5jppqt3 with config:\n",
      "\u001b[34m\u001b[1mwandb\u001b[0m: \talpha: 0.4365338590228696\n",
      "\u001b[34m\u001b[1mwandb\u001b[0m: \tbatch_size: 256\n",
      "\u001b[34m\u001b[1mwandb\u001b[0m: \tbeta: 0.47901166080131513\n",
      "\u001b[34m\u001b[1mwandb\u001b[0m: \tbuffer_size: 4096\n",
      "\u001b[34m\u001b[1mwandb\u001b[0m: \tepsilon: 0.1810850305086279\n",
      "\u001b[34m\u001b[1mwandb\u001b[0m: \tlr: 0.00650242822972897\n",
      "\u001b[34m\u001b[1mwandb\u001b[0m: \tmax_epochs: 75\n",
      "\u001b[34m\u001b[1mwandb\u001b[0m: \tpolyak: False\n",
      "\u001b[34m\u001b[1mwandb\u001b[0m: \trho: 0.7350751705517471\n",
      "\u001b[34m\u001b[1mwandb\u001b[0m: \ttau: 0.04574495153903779\n"
     ]
    },
    {
     "data": {
      "text/html": [
       "Tracking run with wandb version 0.12.21"
      ],
      "text/plain": [
       "<IPython.core.display.HTML object>"
      ]
     },
     "metadata": {},
     "output_type": "display_data"
    },
    {
     "data": {
      "text/html": [
       "Run data is saved locally in <code>C:\\Users\\theod\\PycharmProjects\\climate_policy_thesis\\climate_policy_RL\\classes\\wandb\\run-20220722_152647-i5jppqt3</code>"
      ],
      "text/plain": [
       "<IPython.core.display.HTML object>"
      ]
     },
     "metadata": {},
     "output_type": "display_data"
    },
    {
     "data": {
      "text/html": [
       "Syncing run <strong><a href=\"https://wandb.ai/climate_policy_optim/AYS_learning/runs/i5jppqt3\" target=\"_blank\">vibrant-sweep-12</a></strong> to <a href=\"https://wandb.ai/climate_policy_optim/AYS_learning\" target=\"_blank\">Weights & Biases</a> (<a href=\"https://wandb.me/run\" target=\"_blank\">docs</a>)<br/>Sweep page:  <a href=\"https://wandb.ai/climate_policy_optim/AYS_learning/sweeps/muuwo0jy\" target=\"_blank\">https://wandb.ai/climate_policy_optim/AYS_learning/sweeps/muuwo0jy</a>"
      ],
      "text/plain": [
       "<IPython.core.display.HTML object>"
      ]
     },
     "metadata": {},
     "output_type": "display_data"
    },
    {
     "name": "stdout",
     "output_type": "stream",
     "text": [
      "Init AYS Environment! \n",
      "Reward Type: PB \n",
      "Sustainability Boundaries [A_PB, Y_SF, S_ren]:  [3.45e+02 4.00e+13 0.00e+00]\n"
     ]
    },
    {
     "data": {
      "text/html": [
       "Finishing last run (ID:i5jppqt3) before initializing another..."
      ],
      "text/plain": [
       "<IPython.core.display.HTML object>"
      ]
     },
     "metadata": {},
     "output_type": "display_data"
    },
    {
     "data": {
      "text/html": [
       "Waiting for W&B process to finish... <strong style=\"color:green\">(success).</strong>"
      ],
      "text/plain": [
       "<IPython.core.display.HTML object>"
      ]
     },
     "metadata": {},
     "output_type": "display_data"
    },
    {
     "data": {
      "application/vnd.jupyter.widget-view+json": {
       "model_id": "bcc741b355be429480a9eabc09466671",
       "version_major": 2,
       "version_minor": 0
      },
      "text/plain": [
       "VBox(children=(Label(value='0.001 MB of 0.001 MB uploaded (0.000 MB deduped)\\r'), FloatProgress(value=1.0, max…"
      ]
     },
     "metadata": {},
     "output_type": "display_data"
    },
    {
     "data": {
      "text/html": [
       "Synced <strong style=\"color:#cdcd00\">vibrant-sweep-12</strong>: <a href=\"https://wandb.ai/climate_policy_optim/AYS_learning/runs/i5jppqt3\" target=\"_blank\">https://wandb.ai/climate_policy_optim/AYS_learning/runs/i5jppqt3</a><br/>Synced 5 W&B file(s), 0 media file(s), 0 artifact file(s) and 0 other file(s)"
      ],
      "text/plain": [
       "<IPython.core.display.HTML object>"
      ]
     },
     "metadata": {},
     "output_type": "display_data"
    },
    {
     "data": {
      "text/html": [
       "Find logs at: <code>.\\wandb\\run-20220722_152647-i5jppqt3\\logs</code>"
      ],
      "text/plain": [
       "<IPython.core.display.HTML object>"
      ]
     },
     "metadata": {},
     "output_type": "display_data"
    },
    {
     "data": {
      "text/html": [
       "Successfully finished last run (ID:i5jppqt3). Initializing new run:<br/>"
      ],
      "text/plain": [
       "<IPython.core.display.HTML object>"
      ]
     },
     "metadata": {},
     "output_type": "display_data"
    },
    {
     "data": {
      "text/html": [
       "Tracking run with wandb version 0.12.21"
      ],
      "text/plain": [
       "<IPython.core.display.HTML object>"
      ]
     },
     "metadata": {},
     "output_type": "display_data"
    },
    {
     "data": {
      "text/html": [
       "Run data is saved locally in <code>C:\\Users\\theod\\PycharmProjects\\climate_policy_thesis\\climate_policy_RL\\classes\\wandb\\run-20220722_152649-i5jppqt3</code>"
      ],
      "text/plain": [
       "<IPython.core.display.HTML object>"
      ]
     },
     "metadata": {},
     "output_type": "display_data"
    },
    {
     "data": {
      "text/html": [
       "Syncing run <strong><a href=\"https://wandb.ai/climate_policy_optim/AYS_learning/runs/i5jppqt3\" target=\"_blank\">vibrant-sweep-12</a></strong> to <a href=\"https://wandb.ai/climate_policy_optim/AYS_learning\" target=\"_blank\">Weights & Biases</a> (<a href=\"https://wandb.me/run\" target=\"_blank\">docs</a>)<br/>Sweep page:  <a href=\"https://wandb.ai/climate_policy_optim/AYS_learning/sweeps/muuwo0jy\" target=\"_blank\">https://wandb.ai/climate_policy_optim/AYS_learning/sweeps/muuwo0jy</a>"
      ],
      "text/plain": [
       "<IPython.core.display.HTML object>"
      ]
     },
     "metadata": {},
     "output_type": "display_data"
    },
    {
     "data": {
      "text/html": [
       "Waiting for W&B process to finish... <strong style=\"color:green\">(success).</strong>"
      ],
      "text/plain": [
       "<IPython.core.display.HTML object>"
      ]
     },
     "metadata": {},
     "output_type": "display_data"
    },
    {
     "data": {
      "application/vnd.jupyter.widget-view+json": {
       "model_id": "7d002a84d8a54307a18552afd1256150",
       "version_major": 2,
       "version_minor": 0
      },
      "text/plain": [
       "VBox(children=(Label(value='0.001 MB of 0.001 MB uploaded (0.000 MB deduped)\\r'), FloatProgress(value=1.0, max…"
      ]
     },
     "metadata": {},
     "output_type": "display_data"
    },
    {
     "data": {
      "text/html": [
       "<style>\n",
       "    table.wandb td:nth-child(1) { padding: 0 10px; text-align: left ; width: auto;} td:nth-child(2) {text-align: left ; width: 100%}\n",
       "    .wandb-row { display: flex; flex-direction: row; flex-wrap: wrap; justify-content: flex-start; width: 100% }\n",
       "    .wandb-col { display: flex; flex-direction: column; flex-basis: 100%; flex: 1; padding: 10px; }\n",
       "    </style>\n",
       "<div class=\"wandb-row\"><div class=\"wandb-col\"><h3>Run history:</h3><br/><table class=\"wandb\"><tr><td>episode_reward</td><td>▁▁▁▇▂██▂▆▁▇██▇▄▇▇▇▇▆▆▆▆▇▇▆▇▇▇█▇▁▁▆▇█▁▇▆▇</td></tr><tr><td>loss</td><td>▁▆▁▁▁▁▁▂▁▁▂▂▁▁▁▂▆▃▂▂▂▆▃▁▂▂▂▁█▂▂▁▁▂▂▂▅▄▁▁</td></tr><tr><td>moving_average</td><td>▁▁▁▂▃▄▅▆▇▇▇▇▆▆▆▇▆▅▅▆▆▆▆▇▇▇▇▇█▇███▇██▇▇▇█</td></tr></table><br/></div><div class=\"wandb-col\"><h3>Run summary:</h3><br/><table class=\"wandb\"><tr><td>episode_reward</td><td>523.81302</td></tr><tr><td>loss</td><td>0.10042</td></tr><tr><td>mean_reward</td><td>299.31846</td></tr><tr><td>moving_average</td><td>366.21235</td></tr><tr><td>top_reward</td><td>575.98763</td></tr></table><br/></div></div>"
      ],
      "text/plain": [
       "<IPython.core.display.HTML object>"
      ]
     },
     "metadata": {},
     "output_type": "display_data"
    },
    {
     "data": {
      "text/html": [
       "Synced <strong style=\"color:#cdcd00\">vibrant-sweep-12</strong>: <a href=\"https://wandb.ai/climate_policy_optim/AYS_learning/runs/i5jppqt3\" target=\"_blank\">https://wandb.ai/climate_policy_optim/AYS_learning/runs/i5jppqt3</a><br/>Synced 4 W&B file(s), 0 media file(s), 0 artifact file(s) and 0 other file(s)"
      ],
      "text/plain": [
       "<IPython.core.display.HTML object>"
      ]
     },
     "metadata": {},
     "output_type": "display_data"
    },
    {
     "data": {
      "text/html": [
       "Find logs at: <code>.\\wandb\\run-20220722_152649-i5jppqt3\\logs</code>"
      ],
      "text/plain": [
       "<IPython.core.display.HTML object>"
      ]
     },
     "metadata": {},
     "output_type": "display_data"
    },
    {
     "name": "stderr",
     "output_type": "stream",
     "text": [
      "\u001b[34m\u001b[1mwandb\u001b[0m: Agent Starting Run: 3e9sqfti with config:\n",
      "\u001b[34m\u001b[1mwandb\u001b[0m: \talpha: 0.44686153230597225\n",
      "\u001b[34m\u001b[1mwandb\u001b[0m: \tbatch_size: 256\n",
      "\u001b[34m\u001b[1mwandb\u001b[0m: \tbeta: 0.48887620269854176\n",
      "\u001b[34m\u001b[1mwandb\u001b[0m: \tbuffer_size: 4096\n",
      "\u001b[34m\u001b[1mwandb\u001b[0m: \tepsilon: 0.27637514799216034\n",
      "\u001b[34m\u001b[1mwandb\u001b[0m: \tlr: 0.006176017769843774\n",
      "\u001b[34m\u001b[1mwandb\u001b[0m: \tmax_epochs: 75\n",
      "\u001b[34m\u001b[1mwandb\u001b[0m: \tpolyak: True\n",
      "\u001b[34m\u001b[1mwandb\u001b[0m: \trho: 0.8450390189237288\n",
      "\u001b[34m\u001b[1mwandb\u001b[0m: \ttau: 0.03471755493223808\n"
     ]
    },
    {
     "data": {
      "text/html": [
       "Tracking run with wandb version 0.12.21"
      ],
      "text/plain": [
       "<IPython.core.display.HTML object>"
      ]
     },
     "metadata": {},
     "output_type": "display_data"
    },
    {
     "data": {
      "text/html": [
       "Run data is saved locally in <code>C:\\Users\\theod\\PycharmProjects\\climate_policy_thesis\\climate_policy_RL\\classes\\wandb\\run-20220722_153850-3e9sqfti</code>"
      ],
      "text/plain": [
       "<IPython.core.display.HTML object>"
      ]
     },
     "metadata": {},
     "output_type": "display_data"
    },
    {
     "data": {
      "text/html": [
       "Syncing run <strong><a href=\"https://wandb.ai/climate_policy_optim/AYS_learning/runs/3e9sqfti\" target=\"_blank\">lemon-sweep-14</a></strong> to <a href=\"https://wandb.ai/climate_policy_optim/AYS_learning\" target=\"_blank\">Weights & Biases</a> (<a href=\"https://wandb.me/run\" target=\"_blank\">docs</a>)<br/>Sweep page:  <a href=\"https://wandb.ai/climate_policy_optim/AYS_learning/sweeps/muuwo0jy\" target=\"_blank\">https://wandb.ai/climate_policy_optim/AYS_learning/sweeps/muuwo0jy</a>"
      ],
      "text/plain": [
       "<IPython.core.display.HTML object>"
      ]
     },
     "metadata": {},
     "output_type": "display_data"
    },
    {
     "name": "stdout",
     "output_type": "stream",
     "text": [
      "Init AYS Environment! \n",
      "Reward Type: PB \n",
      "Sustainability Boundaries [A_PB, Y_SF, S_ren]:  [3.45e+02 4.00e+13 0.00e+00]\n"
     ]
    },
    {
     "data": {
      "text/html": [
       "Finishing last run (ID:3e9sqfti) before initializing another..."
      ],
      "text/plain": [
       "<IPython.core.display.HTML object>"
      ]
     },
     "metadata": {},
     "output_type": "display_data"
    },
    {
     "data": {
      "text/html": [
       "Waiting for W&B process to finish... <strong style=\"color:green\">(success).</strong>"
      ],
      "text/plain": [
       "<IPython.core.display.HTML object>"
      ]
     },
     "metadata": {},
     "output_type": "display_data"
    },
    {
     "data": {
      "application/vnd.jupyter.widget-view+json": {
       "model_id": "2588cec9f6024cb481f1e5a000ba2876",
       "version_major": 2,
       "version_minor": 0
      },
      "text/plain": [
       "VBox(children=(Label(value='0.001 MB of 0.001 MB uploaded (0.000 MB deduped)\\r'), FloatProgress(value=1.0, max…"
      ]
     },
     "metadata": {},
     "output_type": "display_data"
    },
    {
     "data": {
      "text/html": [
       "Synced <strong style=\"color:#cdcd00\">lemon-sweep-14</strong>: <a href=\"https://wandb.ai/climate_policy_optim/AYS_learning/runs/3e9sqfti\" target=\"_blank\">https://wandb.ai/climate_policy_optim/AYS_learning/runs/3e9sqfti</a><br/>Synced 5 W&B file(s), 0 media file(s), 0 artifact file(s) and 0 other file(s)"
      ],
      "text/plain": [
       "<IPython.core.display.HTML object>"
      ]
     },
     "metadata": {},
     "output_type": "display_data"
    },
    {
     "data": {
      "text/html": [
       "Find logs at: <code>.\\wandb\\run-20220722_153850-3e9sqfti\\logs</code>"
      ],
      "text/plain": [
       "<IPython.core.display.HTML object>"
      ]
     },
     "metadata": {},
     "output_type": "display_data"
    },
    {
     "data": {
      "text/html": [
       "Successfully finished last run (ID:3e9sqfti). Initializing new run:<br/>"
      ],
      "text/plain": [
       "<IPython.core.display.HTML object>"
      ]
     },
     "metadata": {},
     "output_type": "display_data"
    },
    {
     "data": {
      "text/html": [
       "Tracking run with wandb version 0.12.21"
      ],
      "text/plain": [
       "<IPython.core.display.HTML object>"
      ]
     },
     "metadata": {},
     "output_type": "display_data"
    },
    {
     "data": {
      "text/html": [
       "Run data is saved locally in <code>C:\\Users\\theod\\PycharmProjects\\climate_policy_thesis\\climate_policy_RL\\classes\\wandb\\run-20220722_153851-3e9sqfti</code>"
      ],
      "text/plain": [
       "<IPython.core.display.HTML object>"
      ]
     },
     "metadata": {},
     "output_type": "display_data"
    },
    {
     "data": {
      "text/html": [
       "Syncing run <strong><a href=\"https://wandb.ai/climate_policy_optim/AYS_learning/runs/3e9sqfti\" target=\"_blank\">lemon-sweep-14</a></strong> to <a href=\"https://wandb.ai/climate_policy_optim/AYS_learning\" target=\"_blank\">Weights & Biases</a> (<a href=\"https://wandb.me/run\" target=\"_blank\">docs</a>)<br/>Sweep page:  <a href=\"https://wandb.ai/climate_policy_optim/AYS_learning/sweeps/muuwo0jy\" target=\"_blank\">https://wandb.ai/climate_policy_optim/AYS_learning/sweeps/muuwo0jy</a>"
      ],
      "text/plain": [
       "<IPython.core.display.HTML object>"
      ]
     },
     "metadata": {},
     "output_type": "display_data"
    },
    {
     "data": {
      "text/html": [
       "Waiting for W&B process to finish... <strong style=\"color:green\">(success).</strong>"
      ],
      "text/plain": [
       "<IPython.core.display.HTML object>"
      ]
     },
     "metadata": {},
     "output_type": "display_data"
    },
    {
     "data": {
      "application/vnd.jupyter.widget-view+json": {
       "model_id": "34bd53e1939a401082e3d2a3a02eb6ee",
       "version_major": 2,
       "version_minor": 0
      },
      "text/plain": [
       "VBox(children=(Label(value='0.001 MB of 0.001 MB uploaded (0.000 MB deduped)\\r'), FloatProgress(value=1.0, max…"
      ]
     },
     "metadata": {},
     "output_type": "display_data"
    },
    {
     "data": {
      "text/html": [
       "<style>\n",
       "    table.wandb td:nth-child(1) { padding: 0 10px; text-align: left ; width: auto;} td:nth-child(2) {text-align: left ; width: 100%}\n",
       "    .wandb-row { display: flex; flex-direction: row; flex-wrap: wrap; justify-content: flex-start; width: 100% }\n",
       "    .wandb-col { display: flex; flex-direction: column; flex-basis: 100%; flex: 1; padding: 10px; }\n",
       "    </style>\n",
       "<div class=\"wandb-row\"><div class=\"wandb-col\"><h3>Run history:</h3><br/><table class=\"wandb\"><tr><td>episode_reward</td><td>▁▁▁▁▂▆▂▆▁▆▇▁▃▇▁▁▇▇███▁██▁▇█▂█▁███▁▇███▁▇</td></tr><tr><td>loss</td><td>▁▁▁▁▁▁▃▂▁▁▁▂▅▅▆█▄▁▃▁▁▃▂▂▂▁▁▁▅▁▁▁▂▃▁▂▂▃▄▁</td></tr><tr><td>moving_average</td><td>▁▁▁▁▂▃▃▄▅▅▆▆▆▆▆▆▆▇▆▇█▇▇▇▆▆▇█▇███▇▇▇▇▇▇▇█</td></tr></table><br/></div><div class=\"wandb-col\"><h3>Run summary:</h3><br/><table class=\"wandb\"><tr><td>episode_reward</td><td>485.92184</td></tr><tr><td>loss</td><td>0.0458</td></tr><tr><td>mean_reward</td><td>312.72567</td></tr><tr><td>moving_average</td><td>400.4412</td></tr><tr><td>top_reward</td><td>577.23807</td></tr></table><br/></div></div>"
      ],
      "text/plain": [
       "<IPython.core.display.HTML object>"
      ]
     },
     "metadata": {},
     "output_type": "display_data"
    },
    {
     "data": {
      "text/html": [
       "Synced <strong style=\"color:#cdcd00\">lemon-sweep-14</strong>: <a href=\"https://wandb.ai/climate_policy_optim/AYS_learning/runs/3e9sqfti\" target=\"_blank\">https://wandb.ai/climate_policy_optim/AYS_learning/runs/3e9sqfti</a><br/>Synced 4 W&B file(s), 0 media file(s), 0 artifact file(s) and 0 other file(s)"
      ],
      "text/plain": [
       "<IPython.core.display.HTML object>"
      ]
     },
     "metadata": {},
     "output_type": "display_data"
    },
    {
     "data": {
      "text/html": [
       "Find logs at: <code>.\\wandb\\run-20220722_153851-3e9sqfti\\logs</code>"
      ],
      "text/plain": [
       "<IPython.core.display.HTML object>"
      ]
     },
     "metadata": {},
     "output_type": "display_data"
    },
    {
     "name": "stderr",
     "output_type": "stream",
     "text": [
      "\u001b[34m\u001b[1mwandb\u001b[0m: Agent Starting Run: ipdhfhxx with config:\n",
      "\u001b[34m\u001b[1mwandb\u001b[0m: \talpha: 0.4802841371229959\n",
      "\u001b[34m\u001b[1mwandb\u001b[0m: \tbatch_size: 256\n",
      "\u001b[34m\u001b[1mwandb\u001b[0m: \tbeta: 0.45512446401471135\n",
      "\u001b[34m\u001b[1mwandb\u001b[0m: \tbuffer_size: 16384\n",
      "\u001b[34m\u001b[1mwandb\u001b[0m: \tepsilon: 0.3152545124657881\n",
      "\u001b[34m\u001b[1mwandb\u001b[0m: \tlr: 0.008666739569818425\n",
      "\u001b[34m\u001b[1mwandb\u001b[0m: \tmax_epochs: 50\n",
      "\u001b[34m\u001b[1mwandb\u001b[0m: \tpolyak: True\n",
      "\u001b[34m\u001b[1mwandb\u001b[0m: \trho: 0.8638002077450837\n",
      "\u001b[34m\u001b[1mwandb\u001b[0m: \ttau: 0.04686858399741777\n"
     ]
    },
    {
     "data": {
      "text/html": [
       "Tracking run with wandb version 0.12.21"
      ],
      "text/plain": [
       "<IPython.core.display.HTML object>"
      ]
     },
     "metadata": {},
     "output_type": "display_data"
    },
    {
     "data": {
      "text/html": [
       "Run data is saved locally in <code>C:\\Users\\theod\\PycharmProjects\\climate_policy_thesis\\climate_policy_RL\\classes\\wandb\\run-20220722_155038-ipdhfhxx</code>"
      ],
      "text/plain": [
       "<IPython.core.display.HTML object>"
      ]
     },
     "metadata": {},
     "output_type": "display_data"
    },
    {
     "data": {
      "text/html": [
       "Syncing run <strong><a href=\"https://wandb.ai/climate_policy_optim/AYS_learning/runs/ipdhfhxx\" target=\"_blank\">dainty-sweep-16</a></strong> to <a href=\"https://wandb.ai/climate_policy_optim/AYS_learning\" target=\"_blank\">Weights & Biases</a> (<a href=\"https://wandb.me/run\" target=\"_blank\">docs</a>)<br/>Sweep page:  <a href=\"https://wandb.ai/climate_policy_optim/AYS_learning/sweeps/muuwo0jy\" target=\"_blank\">https://wandb.ai/climate_policy_optim/AYS_learning/sweeps/muuwo0jy</a>"
      ],
      "text/plain": [
       "<IPython.core.display.HTML object>"
      ]
     },
     "metadata": {},
     "output_type": "display_data"
    },
    {
     "name": "stdout",
     "output_type": "stream",
     "text": [
      "Init AYS Environment! \n",
      "Reward Type: PB \n",
      "Sustainability Boundaries [A_PB, Y_SF, S_ren]:  [3.45e+02 4.00e+13 0.00e+00]\n"
     ]
    },
    {
     "data": {
      "text/html": [
       "Finishing last run (ID:ipdhfhxx) before initializing another..."
      ],
      "text/plain": [
       "<IPython.core.display.HTML object>"
      ]
     },
     "metadata": {},
     "output_type": "display_data"
    },
    {
     "data": {
      "text/html": [
       "Waiting for W&B process to finish... <strong style=\"color:green\">(success).</strong>"
      ],
      "text/plain": [
       "<IPython.core.display.HTML object>"
      ]
     },
     "metadata": {},
     "output_type": "display_data"
    },
    {
     "data": {
      "application/vnd.jupyter.widget-view+json": {
       "model_id": "c6a89dee7d2644649ec39c1193a364df",
       "version_major": 2,
       "version_minor": 0
      },
      "text/plain": [
       "VBox(children=(Label(value='0.001 MB of 0.001 MB uploaded (0.000 MB deduped)\\r'), FloatProgress(value=1.0, max…"
      ]
     },
     "metadata": {},
     "output_type": "display_data"
    },
    {
     "data": {
      "text/html": [
       "Synced <strong style=\"color:#cdcd00\">dainty-sweep-16</strong>: <a href=\"https://wandb.ai/climate_policy_optim/AYS_learning/runs/ipdhfhxx\" target=\"_blank\">https://wandb.ai/climate_policy_optim/AYS_learning/runs/ipdhfhxx</a><br/>Synced 5 W&B file(s), 0 media file(s), 0 artifact file(s) and 0 other file(s)"
      ],
      "text/plain": [
       "<IPython.core.display.HTML object>"
      ]
     },
     "metadata": {},
     "output_type": "display_data"
    },
    {
     "data": {
      "text/html": [
       "Find logs at: <code>.\\wandb\\run-20220722_155038-ipdhfhxx\\logs</code>"
      ],
      "text/plain": [
       "<IPython.core.display.HTML object>"
      ]
     },
     "metadata": {},
     "output_type": "display_data"
    },
    {
     "data": {
      "text/html": [
       "Successfully finished last run (ID:ipdhfhxx). Initializing new run:<br/>"
      ],
      "text/plain": [
       "<IPython.core.display.HTML object>"
      ]
     },
     "metadata": {},
     "output_type": "display_data"
    },
    {
     "data": {
      "text/html": [
       "Tracking run with wandb version 0.12.21"
      ],
      "text/plain": [
       "<IPython.core.display.HTML object>"
      ]
     },
     "metadata": {},
     "output_type": "display_data"
    },
    {
     "data": {
      "text/html": [
       "Run data is saved locally in <code>C:\\Users\\theod\\PycharmProjects\\climate_policy_thesis\\climate_policy_RL\\classes\\wandb\\run-20220722_155040-ipdhfhxx</code>"
      ],
      "text/plain": [
       "<IPython.core.display.HTML object>"
      ]
     },
     "metadata": {},
     "output_type": "display_data"
    },
    {
     "data": {
      "text/html": [
       "Syncing run <strong><a href=\"https://wandb.ai/climate_policy_optim/AYS_learning/runs/ipdhfhxx\" target=\"_blank\">dainty-sweep-16</a></strong> to <a href=\"https://wandb.ai/climate_policy_optim/AYS_learning\" target=\"_blank\">Weights & Biases</a> (<a href=\"https://wandb.me/run\" target=\"_blank\">docs</a>)<br/>Sweep page:  <a href=\"https://wandb.ai/climate_policy_optim/AYS_learning/sweeps/muuwo0jy\" target=\"_blank\">https://wandb.ai/climate_policy_optim/AYS_learning/sweeps/muuwo0jy</a>"
      ],
      "text/plain": [
       "<IPython.core.display.HTML object>"
      ]
     },
     "metadata": {},
     "output_type": "display_data"
    },
    {
     "data": {
      "text/html": [
       "Waiting for W&B process to finish... <strong style=\"color:green\">(success).</strong>"
      ],
      "text/plain": [
       "<IPython.core.display.HTML object>"
      ]
     },
     "metadata": {},
     "output_type": "display_data"
    },
    {
     "data": {
      "application/vnd.jupyter.widget-view+json": {
       "model_id": "bdc4301b42e54f4ba94d3beec740e865",
       "version_major": 2,
       "version_minor": 0
      },
      "text/plain": [
       "VBox(children=(Label(value='0.001 MB of 0.001 MB uploaded (0.000 MB deduped)\\r'), FloatProgress(value=1.0, max…"
      ]
     },
     "metadata": {},
     "output_type": "display_data"
    },
    {
     "data": {
      "text/html": [
       "<style>\n",
       "    table.wandb td:nth-child(1) { padding: 0 10px; text-align: left ; width: auto;} td:nth-child(2) {text-align: left ; width: 100%}\n",
       "    .wandb-row { display: flex; flex-direction: row; flex-wrap: wrap; justify-content: flex-start; width: 100% }\n",
       "    .wandb-col { display: flex; flex-direction: column; flex-basis: 100%; flex: 1; padding: 10px; }\n",
       "    </style>\n",
       "<div class=\"wandb-row\"><div class=\"wandb-col\"><h3>Run history:</h3><br/><table class=\"wandb\"><tr><td>episode_reward</td><td>▁▁▁▁▁▁▁▆▂▁▁▁▆▅▁▆▁▆▆▁▆█▁▇▆▁▆▆▆▆▆▇▁▁▇▁▆▇█▁</td></tr><tr><td>loss</td><td>▁▁▁▁▃▁▁▁▁▂▁▁▁▁▁▁▁▃▃▆▄▄▂▂▂▁▁▄▁▁▁▃▂▅█▂█▃▁▁</td></tr><tr><td>moving_average</td><td>▁▁▁▁▁▁▂▃▄▆▆▇▇▇▇▇▆▆▆▆▆▇▇███▇▇▇▇▇▇▆▆▆▆▇███</td></tr></table><br/></div><div class=\"wandb-col\"><h3>Run summary:</h3><br/><table class=\"wandb\"><tr><td>episode_reward</td><td>530.35818</td></tr><tr><td>loss</td><td>0.06888</td></tr><tr><td>mean_reward</td><td>254.883</td></tr><tr><td>moving_average</td><td>345.62644</td></tr><tr><td>top_reward</td><td>556.70725</td></tr></table><br/></div></div>"
      ],
      "text/plain": [
       "<IPython.core.display.HTML object>"
      ]
     },
     "metadata": {},
     "output_type": "display_data"
    },
    {
     "data": {
      "text/html": [
       "Synced <strong style=\"color:#cdcd00\">dainty-sweep-16</strong>: <a href=\"https://wandb.ai/climate_policy_optim/AYS_learning/runs/ipdhfhxx\" target=\"_blank\">https://wandb.ai/climate_policy_optim/AYS_learning/runs/ipdhfhxx</a><br/>Synced 4 W&B file(s), 0 media file(s), 0 artifact file(s) and 0 other file(s)"
      ],
      "text/plain": [
       "<IPython.core.display.HTML object>"
      ]
     },
     "metadata": {},
     "output_type": "display_data"
    },
    {
     "data": {
      "text/html": [
       "Find logs at: <code>.\\wandb\\run-20220722_155040-ipdhfhxx\\logs</code>"
      ],
      "text/plain": [
       "<IPython.core.display.HTML object>"
      ]
     },
     "metadata": {},
     "output_type": "display_data"
    },
    {
     "name": "stderr",
     "output_type": "stream",
     "text": [
      "\u001b[34m\u001b[1mwandb\u001b[0m: Sweep Agent: Waiting for job.\n",
      "\u001b[34m\u001b[1mwandb\u001b[0m: Job received.\n",
      "\u001b[34m\u001b[1mwandb\u001b[0m: Agent Starting Run: e1e1qxo2 with config:\n",
      "\u001b[34m\u001b[1mwandb\u001b[0m: \talpha: 0.4632982905741786\n",
      "\u001b[34m\u001b[1mwandb\u001b[0m: \tbatch_size: 128\n",
      "\u001b[34m\u001b[1mwandb\u001b[0m: \tbeta: 0.5730607659463145\n",
      "\u001b[34m\u001b[1mwandb\u001b[0m: \tbuffer_size: 4096\n",
      "\u001b[34m\u001b[1mwandb\u001b[0m: \tepsilon: 0.4268292793983812\n",
      "\u001b[34m\u001b[1mwandb\u001b[0m: \tlr: 0.00302590797816714\n",
      "\u001b[34m\u001b[1mwandb\u001b[0m: \tmax_epochs: 75\n",
      "\u001b[34m\u001b[1mwandb\u001b[0m: \tpolyak: False\n",
      "\u001b[34m\u001b[1mwandb\u001b[0m: \trho: 0.8783341414614169\n",
      "\u001b[34m\u001b[1mwandb\u001b[0m: \ttau: 0.011828050557128754\n"
     ]
    },
    {
     "data": {
      "text/html": [
       "Tracking run with wandb version 0.12.21"
      ],
      "text/plain": [
       "<IPython.core.display.HTML object>"
      ]
     },
     "metadata": {},
     "output_type": "display_data"
    },
    {
     "data": {
      "text/html": [
       "Run data is saved locally in <code>C:\\Users\\theod\\PycharmProjects\\climate_policy_thesis\\climate_policy_RL\\classes\\wandb\\run-20220722_160207-e1e1qxo2</code>"
      ],
      "text/plain": [
       "<IPython.core.display.HTML object>"
      ]
     },
     "metadata": {},
     "output_type": "display_data"
    },
    {
     "data": {
      "text/html": [
       "Syncing run <strong><a href=\"https://wandb.ai/climate_policy_optim/AYS_learning/runs/e1e1qxo2\" target=\"_blank\">dandy-sweep-17</a></strong> to <a href=\"https://wandb.ai/climate_policy_optim/AYS_learning\" target=\"_blank\">Weights & Biases</a> (<a href=\"https://wandb.me/run\" target=\"_blank\">docs</a>)<br/>Sweep page:  <a href=\"https://wandb.ai/climate_policy_optim/AYS_learning/sweeps/muuwo0jy\" target=\"_blank\">https://wandb.ai/climate_policy_optim/AYS_learning/sweeps/muuwo0jy</a>"
      ],
      "text/plain": [
       "<IPython.core.display.HTML object>"
      ]
     },
     "metadata": {},
     "output_type": "display_data"
    },
    {
     "name": "stdout",
     "output_type": "stream",
     "text": [
      "Init AYS Environment! \n",
      "Reward Type: PB \n",
      "Sustainability Boundaries [A_PB, Y_SF, S_ren]:  [3.45e+02 4.00e+13 0.00e+00]\n"
     ]
    },
    {
     "data": {
      "text/html": [
       "Finishing last run (ID:e1e1qxo2) before initializing another..."
      ],
      "text/plain": [
       "<IPython.core.display.HTML object>"
      ]
     },
     "metadata": {},
     "output_type": "display_data"
    },
    {
     "data": {
      "text/html": [
       "Waiting for W&B process to finish... <strong style=\"color:green\">(success).</strong>"
      ],
      "text/plain": [
       "<IPython.core.display.HTML object>"
      ]
     },
     "metadata": {},
     "output_type": "display_data"
    },
    {
     "data": {
      "application/vnd.jupyter.widget-view+json": {
       "model_id": "5a61dee0093045489081583afb52c1f9",
       "version_major": 2,
       "version_minor": 0
      },
      "text/plain": [
       "VBox(children=(Label(value='0.001 MB of 0.001 MB uploaded (0.000 MB deduped)\\r'), FloatProgress(value=1.0, max…"
      ]
     },
     "metadata": {},
     "output_type": "display_data"
    },
    {
     "data": {
      "text/html": [
       "Synced <strong style=\"color:#cdcd00\">dandy-sweep-17</strong>: <a href=\"https://wandb.ai/climate_policy_optim/AYS_learning/runs/e1e1qxo2\" target=\"_blank\">https://wandb.ai/climate_policy_optim/AYS_learning/runs/e1e1qxo2</a><br/>Synced 5 W&B file(s), 0 media file(s), 0 artifact file(s) and 0 other file(s)"
      ],
      "text/plain": [
       "<IPython.core.display.HTML object>"
      ]
     },
     "metadata": {},
     "output_type": "display_data"
    },
    {
     "data": {
      "text/html": [
       "Find logs at: <code>.\\wandb\\run-20220722_160207-e1e1qxo2\\logs</code>"
      ],
      "text/plain": [
       "<IPython.core.display.HTML object>"
      ]
     },
     "metadata": {},
     "output_type": "display_data"
    },
    {
     "data": {
      "text/html": [
       "Successfully finished last run (ID:e1e1qxo2). Initializing new run:<br/>"
      ],
      "text/plain": [
       "<IPython.core.display.HTML object>"
      ]
     },
     "metadata": {},
     "output_type": "display_data"
    },
    {
     "data": {
      "text/html": [
       "Tracking run with wandb version 0.12.21"
      ],
      "text/plain": [
       "<IPython.core.display.HTML object>"
      ]
     },
     "metadata": {},
     "output_type": "display_data"
    },
    {
     "data": {
      "text/html": [
       "Run data is saved locally in <code>C:\\Users\\theod\\PycharmProjects\\climate_policy_thesis\\climate_policy_RL\\classes\\wandb\\run-20220722_160209-e1e1qxo2</code>"
      ],
      "text/plain": [
       "<IPython.core.display.HTML object>"
      ]
     },
     "metadata": {},
     "output_type": "display_data"
    },
    {
     "data": {
      "text/html": [
       "Syncing run <strong><a href=\"https://wandb.ai/climate_policy_optim/AYS_learning/runs/e1e1qxo2\" target=\"_blank\">dandy-sweep-17</a></strong> to <a href=\"https://wandb.ai/climate_policy_optim/AYS_learning\" target=\"_blank\">Weights & Biases</a> (<a href=\"https://wandb.me/run\" target=\"_blank\">docs</a>)<br/>Sweep page:  <a href=\"https://wandb.ai/climate_policy_optim/AYS_learning/sweeps/muuwo0jy\" target=\"_blank\">https://wandb.ai/climate_policy_optim/AYS_learning/sweeps/muuwo0jy</a>"
      ],
      "text/plain": [
       "<IPython.core.display.HTML object>"
      ]
     },
     "metadata": {},
     "output_type": "display_data"
    },
    {
     "data": {
      "text/html": [
       "Waiting for W&B process to finish... <strong style=\"color:green\">(success).</strong>"
      ],
      "text/plain": [
       "<IPython.core.display.HTML object>"
      ]
     },
     "metadata": {},
     "output_type": "display_data"
    },
    {
     "data": {
      "application/vnd.jupyter.widget-view+json": {
       "model_id": "3bb329dbb3e24eca90478f173bf24869",
       "version_major": 2,
       "version_minor": 0
      },
      "text/plain": [
       "VBox(children=(Label(value='0.001 MB of 0.001 MB uploaded (0.000 MB deduped)\\r'), FloatProgress(value=1.0, max…"
      ]
     },
     "metadata": {},
     "output_type": "display_data"
    },
    {
     "data": {
      "text/html": [
       "<style>\n",
       "    table.wandb td:nth-child(1) { padding: 0 10px; text-align: left ; width: auto;} td:nth-child(2) {text-align: left ; width: 100%}\n",
       "    .wandb-row { display: flex; flex-direction: row; flex-wrap: wrap; justify-content: flex-start; width: 100% }\n",
       "    .wandb-col { display: flex; flex-direction: column; flex-basis: 100%; flex: 1; padding: 10px; }\n",
       "    </style>\n",
       "<div class=\"wandb-row\"><div class=\"wandb-col\"><h3>Run history:</h3><br/><table class=\"wandb\"><tr><td>episode_reward</td><td>▁▁▁▂▁▁████▃▁▁▁▇▇▆█▇▁▇▂▁▁█▇▇▇█▆▇█▆▆▇▇▆▂▇▆</td></tr><tr><td>loss</td><td>▁▁▁▁▁▁▁▃▁▁▃▁▁▂▁▂▁▁▁▁▃▁▁▁▂▃▁▁▁▁▃▁▁▁▁▃▁▁▂█</td></tr><tr><td>moving_average</td><td>▁▁▁▁▂▂▃▅▆▆▇▆▇▆▆▆▅▅▆▆▆▆▆▆▇▇▇▇██▇██▇▇▇▇▇▇▇</td></tr></table><br/></div><div class=\"wandb-col\"><h3>Run summary:</h3><br/><table class=\"wandb\"><tr><td>episode_reward</td><td>403.24341</td></tr><tr><td>loss</td><td>0.79961</td></tr><tr><td>mean_reward</td><td>282.12843</td></tr><tr><td>moving_average</td><td>312.86487</td></tr><tr><td>top_reward</td><td>545.51671</td></tr></table><br/></div></div>"
      ],
      "text/plain": [
       "<IPython.core.display.HTML object>"
      ]
     },
     "metadata": {},
     "output_type": "display_data"
    },
    {
     "data": {
      "text/html": [
       "Synced <strong style=\"color:#cdcd00\">dandy-sweep-17</strong>: <a href=\"https://wandb.ai/climate_policy_optim/AYS_learning/runs/e1e1qxo2\" target=\"_blank\">https://wandb.ai/climate_policy_optim/AYS_learning/runs/e1e1qxo2</a><br/>Synced 4 W&B file(s), 0 media file(s), 0 artifact file(s) and 0 other file(s)"
      ],
      "text/plain": [
       "<IPython.core.display.HTML object>"
      ]
     },
     "metadata": {},
     "output_type": "display_data"
    },
    {
     "data": {
      "text/html": [
       "Find logs at: <code>.\\wandb\\run-20220722_160209-e1e1qxo2\\logs</code>"
      ],
      "text/plain": [
       "<IPython.core.display.HTML object>"
      ]
     },
     "metadata": {},
     "output_type": "display_data"
    },
    {
     "name": "stderr",
     "output_type": "stream",
     "text": [
      "\u001b[34m\u001b[1mwandb\u001b[0m: Agent Starting Run: bo3q34bf with config:\n",
      "\u001b[34m\u001b[1mwandb\u001b[0m: \talpha: 0.47574977721104617\n",
      "\u001b[34m\u001b[1mwandb\u001b[0m: \tbatch_size: 256\n",
      "\u001b[34m\u001b[1mwandb\u001b[0m: \tbeta: 0.3097064376859693\n",
      "\u001b[34m\u001b[1mwandb\u001b[0m: \tbuffer_size: 32768\n",
      "\u001b[34m\u001b[1mwandb\u001b[0m: \tepsilon: 0.2334005474368515\n",
      "\u001b[34m\u001b[1mwandb\u001b[0m: \tlr: 0.0014505700443792752\n",
      "\u001b[34m\u001b[1mwandb\u001b[0m: \tmax_epochs: 75\n",
      "\u001b[34m\u001b[1mwandb\u001b[0m: \tpolyak: True\n",
      "\u001b[34m\u001b[1mwandb\u001b[0m: \trho: 0.7447446135599589\n",
      "\u001b[34m\u001b[1mwandb\u001b[0m: \ttau: 0.011653488548266625\n"
     ]
    },
    {
     "data": {
      "text/html": [
       "Tracking run with wandb version 0.12.21"
      ],
      "text/plain": [
       "<IPython.core.display.HTML object>"
      ]
     },
     "metadata": {},
     "output_type": "display_data"
    },
    {
     "data": {
      "text/html": [
       "Run data is saved locally in <code>C:\\Users\\theod\\PycharmProjects\\climate_policy_thesis\\climate_policy_RL\\classes\\wandb\\run-20220722_161112-bo3q34bf</code>"
      ],
      "text/plain": [
       "<IPython.core.display.HTML object>"
      ]
     },
     "metadata": {},
     "output_type": "display_data"
    },
    {
     "data": {
      "text/html": [
       "Syncing run <strong><a href=\"https://wandb.ai/climate_policy_optim/AYS_learning/runs/bo3q34bf\" target=\"_blank\">vocal-sweep-19</a></strong> to <a href=\"https://wandb.ai/climate_policy_optim/AYS_learning\" target=\"_blank\">Weights & Biases</a> (<a href=\"https://wandb.me/run\" target=\"_blank\">docs</a>)<br/>Sweep page:  <a href=\"https://wandb.ai/climate_policy_optim/AYS_learning/sweeps/muuwo0jy\" target=\"_blank\">https://wandb.ai/climate_policy_optim/AYS_learning/sweeps/muuwo0jy</a>"
      ],
      "text/plain": [
       "<IPython.core.display.HTML object>"
      ]
     },
     "metadata": {},
     "output_type": "display_data"
    },
    {
     "name": "stdout",
     "output_type": "stream",
     "text": [
      "Init AYS Environment! \n",
      "Reward Type: PB \n",
      "Sustainability Boundaries [A_PB, Y_SF, S_ren]:  [3.45e+02 4.00e+13 0.00e+00]\n"
     ]
    },
    {
     "data": {
      "text/html": [
       "Finishing last run (ID:bo3q34bf) before initializing another..."
      ],
      "text/plain": [
       "<IPython.core.display.HTML object>"
      ]
     },
     "metadata": {},
     "output_type": "display_data"
    },
    {
     "data": {
      "text/html": [
       "Waiting for W&B process to finish... <strong style=\"color:green\">(success).</strong>"
      ],
      "text/plain": [
       "<IPython.core.display.HTML object>"
      ]
     },
     "metadata": {},
     "output_type": "display_data"
    },
    {
     "data": {
      "application/vnd.jupyter.widget-view+json": {
       "model_id": "d47f71e4e20d440da695394a9e6d09ed",
       "version_major": 2,
       "version_minor": 0
      },
      "text/plain": [
       "VBox(children=(Label(value='0.001 MB of 0.001 MB uploaded (0.000 MB deduped)\\r'), FloatProgress(value=1.0, max…"
      ]
     },
     "metadata": {},
     "output_type": "display_data"
    },
    {
     "data": {
      "text/html": [
       "Synced <strong style=\"color:#cdcd00\">vocal-sweep-19</strong>: <a href=\"https://wandb.ai/climate_policy_optim/AYS_learning/runs/bo3q34bf\" target=\"_blank\">https://wandb.ai/climate_policy_optim/AYS_learning/runs/bo3q34bf</a><br/>Synced 5 W&B file(s), 0 media file(s), 0 artifact file(s) and 0 other file(s)"
      ],
      "text/plain": [
       "<IPython.core.display.HTML object>"
      ]
     },
     "metadata": {},
     "output_type": "display_data"
    },
    {
     "data": {
      "text/html": [
       "Find logs at: <code>.\\wandb\\run-20220722_161112-bo3q34bf\\logs</code>"
      ],
      "text/plain": [
       "<IPython.core.display.HTML object>"
      ]
     },
     "metadata": {},
     "output_type": "display_data"
    },
    {
     "data": {
      "text/html": [
       "Successfully finished last run (ID:bo3q34bf). Initializing new run:<br/>"
      ],
      "text/plain": [
       "<IPython.core.display.HTML object>"
      ]
     },
     "metadata": {},
     "output_type": "display_data"
    },
    {
     "data": {
      "text/html": [
       "Tracking run with wandb version 0.12.21"
      ],
      "text/plain": [
       "<IPython.core.display.HTML object>"
      ]
     },
     "metadata": {},
     "output_type": "display_data"
    },
    {
     "data": {
      "text/html": [
       "Run data is saved locally in <code>C:\\Users\\theod\\PycharmProjects\\climate_policy_thesis\\climate_policy_RL\\classes\\wandb\\run-20220722_161114-bo3q34bf</code>"
      ],
      "text/plain": [
       "<IPython.core.display.HTML object>"
      ]
     },
     "metadata": {},
     "output_type": "display_data"
    },
    {
     "data": {
      "text/html": [
       "Syncing run <strong><a href=\"https://wandb.ai/climate_policy_optim/AYS_learning/runs/bo3q34bf\" target=\"_blank\">vocal-sweep-19</a></strong> to <a href=\"https://wandb.ai/climate_policy_optim/AYS_learning\" target=\"_blank\">Weights & Biases</a> (<a href=\"https://wandb.me/run\" target=\"_blank\">docs</a>)<br/>Sweep page:  <a href=\"https://wandb.ai/climate_policy_optim/AYS_learning/sweeps/muuwo0jy\" target=\"_blank\">https://wandb.ai/climate_policy_optim/AYS_learning/sweeps/muuwo0jy</a>"
      ],
      "text/plain": [
       "<IPython.core.display.HTML object>"
      ]
     },
     "metadata": {},
     "output_type": "display_data"
    },
    {
     "data": {
      "text/html": [
       "Waiting for W&B process to finish... <strong style=\"color:green\">(success).</strong>"
      ],
      "text/plain": [
       "<IPython.core.display.HTML object>"
      ]
     },
     "metadata": {},
     "output_type": "display_data"
    },
    {
     "data": {
      "application/vnd.jupyter.widget-view+json": {
       "model_id": "ccc91f95fc394c44965e63d9aa7370ec",
       "version_major": 2,
       "version_minor": 0
      },
      "text/plain": [
       "VBox(children=(Label(value='0.001 MB of 0.001 MB uploaded (0.000 MB deduped)\\r'), FloatProgress(value=1.0, max…"
      ]
     },
     "metadata": {},
     "output_type": "display_data"
    },
    {
     "data": {
      "text/html": [
       "<style>\n",
       "    table.wandb td:nth-child(1) { padding: 0 10px; text-align: left ; width: auto;} td:nth-child(2) {text-align: left ; width: 100%}\n",
       "    .wandb-row { display: flex; flex-direction: row; flex-wrap: wrap; justify-content: flex-start; width: 100% }\n",
       "    .wandb-col { display: flex; flex-direction: column; flex-basis: 100%; flex: 1; padding: 10px; }\n",
       "    </style>\n",
       "<div class=\"wandb-row\"><div class=\"wandb-col\"><h3>Run history:</h3><br/><table class=\"wandb\"><tr><td>episode_reward</td><td>▁▁▁▁▁▁█▁█▁█▁▇█▁███████████▁█▁██▇▇▆▆▆▆▆▁▇</td></tr><tr><td>loss</td><td>▁▂▂▂▁▁▃▂▁▁▁▄▄▁▂▄▅▂█▃▇▁▄█▃▆▃▁▂▁▁▃▁▁▄▃▁▁▂▁</td></tr><tr><td>moving_average</td><td>▁▁▁▁▁▁▂▂▂▃▄▅▆▇▇███▇▇▆▇▇█▇▇▆▇▇▇▇▇▇▇▇▇▇▆▆▇</td></tr></table><br/></div><div class=\"wandb-col\"><h3>Run summary:</h3><br/><table class=\"wandb\"><tr><td>episode_reward</td><td>414.31893</td></tr><tr><td>loss</td><td>0.01597</td></tr><tr><td>mean_reward</td><td>292.29466</td></tr><tr><td>moving_average</td><td>343.01545</td></tr><tr><td>top_reward</td><td>555.56281</td></tr></table><br/></div></div>"
      ],
      "text/plain": [
       "<IPython.core.display.HTML object>"
      ]
     },
     "metadata": {},
     "output_type": "display_data"
    },
    {
     "data": {
      "text/html": [
       "Synced <strong style=\"color:#cdcd00\">vocal-sweep-19</strong>: <a href=\"https://wandb.ai/climate_policy_optim/AYS_learning/runs/bo3q34bf\" target=\"_blank\">https://wandb.ai/climate_policy_optim/AYS_learning/runs/bo3q34bf</a><br/>Synced 4 W&B file(s), 0 media file(s), 0 artifact file(s) and 0 other file(s)"
      ],
      "text/plain": [
       "<IPython.core.display.HTML object>"
      ]
     },
     "metadata": {},
     "output_type": "display_data"
    },
    {
     "data": {
      "text/html": [
       "Find logs at: <code>.\\wandb\\run-20220722_161114-bo3q34bf\\logs</code>"
      ],
      "text/plain": [
       "<IPython.core.display.HTML object>"
      ]
     },
     "metadata": {},
     "output_type": "display_data"
    },
    {
     "name": "stderr",
     "output_type": "stream",
     "text": [
      "\u001b[34m\u001b[1mwandb\u001b[0m: Agent Starting Run: bfm71yku with config:\n",
      "\u001b[34m\u001b[1mwandb\u001b[0m: \talpha: 0.4806394770112496\n",
      "\u001b[34m\u001b[1mwandb\u001b[0m: \tbatch_size: 128\n",
      "\u001b[34m\u001b[1mwandb\u001b[0m: \tbeta: 0.40853478678121113\n",
      "\u001b[34m\u001b[1mwandb\u001b[0m: \tbuffer_size: 4096\n",
      "\u001b[34m\u001b[1mwandb\u001b[0m: \tepsilon: 0.4807953107488777\n",
      "\u001b[34m\u001b[1mwandb\u001b[0m: \tlr: 0.0019126918548522309\n",
      "\u001b[34m\u001b[1mwandb\u001b[0m: \tmax_epochs: 75\n",
      "\u001b[34m\u001b[1mwandb\u001b[0m: \tpolyak: True\n",
      "\u001b[34m\u001b[1mwandb\u001b[0m: \trho: 0.8722988792535872\n",
      "\u001b[34m\u001b[1mwandb\u001b[0m: \ttau: 0.01551791483550236\n"
     ]
    },
    {
     "data": {
      "text/html": [
       "Tracking run with wandb version 0.12.21"
      ],
      "text/plain": [
       "<IPython.core.display.HTML object>"
      ]
     },
     "metadata": {},
     "output_type": "display_data"
    },
    {
     "data": {
      "text/html": [
       "Run data is saved locally in <code>C:\\Users\\theod\\PycharmProjects\\climate_policy_thesis\\climate_policy_RL\\classes\\wandb\\run-20220722_162607-bfm71yku</code>"
      ],
      "text/plain": [
       "<IPython.core.display.HTML object>"
      ]
     },
     "metadata": {},
     "output_type": "display_data"
    },
    {
     "data": {
      "text/html": [
       "Syncing run <strong><a href=\"https://wandb.ai/climate_policy_optim/AYS_learning/runs/bfm71yku\" target=\"_blank\">charmed-sweep-20</a></strong> to <a href=\"https://wandb.ai/climate_policy_optim/AYS_learning\" target=\"_blank\">Weights & Biases</a> (<a href=\"https://wandb.me/run\" target=\"_blank\">docs</a>)<br/>Sweep page:  <a href=\"https://wandb.ai/climate_policy_optim/AYS_learning/sweeps/muuwo0jy\" target=\"_blank\">https://wandb.ai/climate_policy_optim/AYS_learning/sweeps/muuwo0jy</a>"
      ],
      "text/plain": [
       "<IPython.core.display.HTML object>"
      ]
     },
     "metadata": {},
     "output_type": "display_data"
    },
    {
     "name": "stdout",
     "output_type": "stream",
     "text": [
      "Init AYS Environment! \n",
      "Reward Type: PB \n",
      "Sustainability Boundaries [A_PB, Y_SF, S_ren]:  [3.45e+02 4.00e+13 0.00e+00]\n"
     ]
    },
    {
     "data": {
      "text/html": [
       "Finishing last run (ID:bfm71yku) before initializing another..."
      ],
      "text/plain": [
       "<IPython.core.display.HTML object>"
      ]
     },
     "metadata": {},
     "output_type": "display_data"
    },
    {
     "data": {
      "text/html": [
       "Waiting for W&B process to finish... <strong style=\"color:green\">(success).</strong>"
      ],
      "text/plain": [
       "<IPython.core.display.HTML object>"
      ]
     },
     "metadata": {},
     "output_type": "display_data"
    },
    {
     "data": {
      "application/vnd.jupyter.widget-view+json": {
       "model_id": "cb6b9a3ddc964bc6bc235c973e9d5827",
       "version_major": 2,
       "version_minor": 0
      },
      "text/plain": [
       "VBox(children=(Label(value='0.001 MB of 0.001 MB uploaded (0.000 MB deduped)\\r'), FloatProgress(value=1.0, max…"
      ]
     },
     "metadata": {},
     "output_type": "display_data"
    },
    {
     "data": {
      "text/html": [
       "Synced <strong style=\"color:#cdcd00\">charmed-sweep-20</strong>: <a href=\"https://wandb.ai/climate_policy_optim/AYS_learning/runs/bfm71yku\" target=\"_blank\">https://wandb.ai/climate_policy_optim/AYS_learning/runs/bfm71yku</a><br/>Synced 5 W&B file(s), 0 media file(s), 0 artifact file(s) and 0 other file(s)"
      ],
      "text/plain": [
       "<IPython.core.display.HTML object>"
      ]
     },
     "metadata": {},
     "output_type": "display_data"
    },
    {
     "data": {
      "text/html": [
       "Find logs at: <code>.\\wandb\\run-20220722_162607-bfm71yku\\logs</code>"
      ],
      "text/plain": [
       "<IPython.core.display.HTML object>"
      ]
     },
     "metadata": {},
     "output_type": "display_data"
    },
    {
     "data": {
      "text/html": [
       "Successfully finished last run (ID:bfm71yku). Initializing new run:<br/>"
      ],
      "text/plain": [
       "<IPython.core.display.HTML object>"
      ]
     },
     "metadata": {},
     "output_type": "display_data"
    },
    {
     "data": {
      "text/html": [
       "Tracking run with wandb version 0.12.21"
      ],
      "text/plain": [
       "<IPython.core.display.HTML object>"
      ]
     },
     "metadata": {},
     "output_type": "display_data"
    },
    {
     "data": {
      "text/html": [
       "Run data is saved locally in <code>C:\\Users\\theod\\PycharmProjects\\climate_policy_thesis\\climate_policy_RL\\classes\\wandb\\run-20220722_162609-bfm71yku</code>"
      ],
      "text/plain": [
       "<IPython.core.display.HTML object>"
      ]
     },
     "metadata": {},
     "output_type": "display_data"
    },
    {
     "data": {
      "text/html": [
       "Syncing run <strong><a href=\"https://wandb.ai/climate_policy_optim/AYS_learning/runs/bfm71yku\" target=\"_blank\">charmed-sweep-20</a></strong> to <a href=\"https://wandb.ai/climate_policy_optim/AYS_learning\" target=\"_blank\">Weights & Biases</a> (<a href=\"https://wandb.me/run\" target=\"_blank\">docs</a>)<br/>Sweep page:  <a href=\"https://wandb.ai/climate_policy_optim/AYS_learning/sweeps/muuwo0jy\" target=\"_blank\">https://wandb.ai/climate_policy_optim/AYS_learning/sweeps/muuwo0jy</a>"
      ],
      "text/plain": [
       "<IPython.core.display.HTML object>"
      ]
     },
     "metadata": {},
     "output_type": "display_data"
    },
    {
     "data": {
      "text/html": [
       "Waiting for W&B process to finish... <strong style=\"color:green\">(success).</strong>"
      ],
      "text/plain": [
       "<IPython.core.display.HTML object>"
      ]
     },
     "metadata": {},
     "output_type": "display_data"
    },
    {
     "data": {
      "application/vnd.jupyter.widget-view+json": {
       "model_id": "c64d20f036eb4693a10222f432215901",
       "version_major": 2,
       "version_minor": 0
      },
      "text/plain": [
       "VBox(children=(Label(value='0.001 MB of 0.001 MB uploaded (0.000 MB deduped)\\r'), FloatProgress(value=1.0, max…"
      ]
     },
     "metadata": {},
     "output_type": "display_data"
    },
    {
     "data": {
      "text/html": [
       "<style>\n",
       "    table.wandb td:nth-child(1) { padding: 0 10px; text-align: left ; width: auto;} td:nth-child(2) {text-align: left ; width: 100%}\n",
       "    .wandb-row { display: flex; flex-direction: row; flex-wrap: wrap; justify-content: flex-start; width: 100% }\n",
       "    .wandb-col { display: flex; flex-direction: column; flex-basis: 100%; flex: 1; padding: 10px; }\n",
       "    </style>\n",
       "<div class=\"wandb-row\"><div class=\"wandb-col\"><h3>Run history:</h3><br/><table class=\"wandb\"><tr><td>episode_reward</td><td>▁▁▁▁▁▅▂▇▇▇▁▁▇▁▁▇▂▇▁▁█▁▇▇▁██▇▁▁▇█▇▇▇▇▇▁▁▇</td></tr><tr><td>loss</td><td>▁▁▁▁▁▁▁▁▁▁▁▁▁▂▁▂▁▁▁▁▁▃▁▁▂▁▁▁█▃▂▁▁▁▁▁▁▁▁▁</td></tr><tr><td>moving_average</td><td>▁▁▁▁▁▁▂▂▃▄▅▅▆▆▅▅▅▅▅▆▆▇▇███████▇▇▇▆▇█▇▇▆▆</td></tr></table><br/></div><div class=\"wandb-col\"><h3>Run summary:</h3><br/><table class=\"wandb\"><tr><td>episode_reward</td><td>434.5171</td></tr><tr><td>loss</td><td>0.06924</td></tr><tr><td>mean_reward</td><td>285.14689</td></tr><tr><td>moving_average</td><td>307.25709</td></tr><tr><td>top_reward</td><td>570.69827</td></tr></table><br/></div></div>"
      ],
      "text/plain": [
       "<IPython.core.display.HTML object>"
      ]
     },
     "metadata": {},
     "output_type": "display_data"
    },
    {
     "data": {
      "text/html": [
       "Synced <strong style=\"color:#cdcd00\">charmed-sweep-20</strong>: <a href=\"https://wandb.ai/climate_policy_optim/AYS_learning/runs/bfm71yku\" target=\"_blank\">https://wandb.ai/climate_policy_optim/AYS_learning/runs/bfm71yku</a><br/>Synced 4 W&B file(s), 0 media file(s), 0 artifact file(s) and 0 other file(s)"
      ],
      "text/plain": [
       "<IPython.core.display.HTML object>"
      ]
     },
     "metadata": {},
     "output_type": "display_data"
    },
    {
     "data": {
      "text/html": [
       "Find logs at: <code>.\\wandb\\run-20220722_162609-bfm71yku\\logs</code>"
      ],
      "text/plain": [
       "<IPython.core.display.HTML object>"
      ]
     },
     "metadata": {},
     "output_type": "display_data"
    },
    {
     "name": "stderr",
     "output_type": "stream",
     "text": [
      "\u001b[34m\u001b[1mwandb\u001b[0m: Agent Starting Run: kuk6ncyr with config:\n",
      "\u001b[34m\u001b[1mwandb\u001b[0m: \talpha: 0.4246968570622982\n",
      "\u001b[34m\u001b[1mwandb\u001b[0m: \tbatch_size: 256\n",
      "\u001b[34m\u001b[1mwandb\u001b[0m: \tbeta: 0.4888403320076281\n",
      "\u001b[34m\u001b[1mwandb\u001b[0m: \tbuffer_size: 32768\n",
      "\u001b[34m\u001b[1mwandb\u001b[0m: \tepsilon: 0.04535847406032384\n",
      "\u001b[34m\u001b[1mwandb\u001b[0m: \tlr: 0.0024669181696522057\n",
      "\u001b[34m\u001b[1mwandb\u001b[0m: \tmax_epochs: 75\n",
      "\u001b[34m\u001b[1mwandb\u001b[0m: \tpolyak: True\n",
      "\u001b[34m\u001b[1mwandb\u001b[0m: \trho: 0.772411561174314\n",
      "\u001b[34m\u001b[1mwandb\u001b[0m: \ttau: 0.01800793497530795\n"
     ]
    },
    {
     "data": {
      "text/html": [
       "Tracking run with wandb version 0.12.21"
      ],
      "text/plain": [
       "<IPython.core.display.HTML object>"
      ]
     },
     "metadata": {},
     "output_type": "display_data"
    },
    {
     "data": {
      "text/html": [
       "Run data is saved locally in <code>C:\\Users\\theod\\PycharmProjects\\climate_policy_thesis\\climate_policy_RL\\classes\\wandb\\run-20220722_163505-kuk6ncyr</code>"
      ],
      "text/plain": [
       "<IPython.core.display.HTML object>"
      ]
     },
     "metadata": {},
     "output_type": "display_data"
    },
    {
     "data": {
      "text/html": [
       "Syncing run <strong><a href=\"https://wandb.ai/climate_policy_optim/AYS_learning/runs/kuk6ncyr\" target=\"_blank\">quiet-sweep-22</a></strong> to <a href=\"https://wandb.ai/climate_policy_optim/AYS_learning\" target=\"_blank\">Weights & Biases</a> (<a href=\"https://wandb.me/run\" target=\"_blank\">docs</a>)<br/>Sweep page:  <a href=\"https://wandb.ai/climate_policy_optim/AYS_learning/sweeps/muuwo0jy\" target=\"_blank\">https://wandb.ai/climate_policy_optim/AYS_learning/sweeps/muuwo0jy</a>"
      ],
      "text/plain": [
       "<IPython.core.display.HTML object>"
      ]
     },
     "metadata": {},
     "output_type": "display_data"
    },
    {
     "name": "stdout",
     "output_type": "stream",
     "text": [
      "Init AYS Environment! \n",
      "Reward Type: PB \n",
      "Sustainability Boundaries [A_PB, Y_SF, S_ren]:  [3.45e+02 4.00e+13 0.00e+00]\n"
     ]
    },
    {
     "data": {
      "text/html": [
       "Finishing last run (ID:kuk6ncyr) before initializing another..."
      ],
      "text/plain": [
       "<IPython.core.display.HTML object>"
      ]
     },
     "metadata": {},
     "output_type": "display_data"
    },
    {
     "data": {
      "text/html": [
       "Waiting for W&B process to finish... <strong style=\"color:green\">(success).</strong>"
      ],
      "text/plain": [
       "<IPython.core.display.HTML object>"
      ]
     },
     "metadata": {},
     "output_type": "display_data"
    },
    {
     "data": {
      "application/vnd.jupyter.widget-view+json": {
       "model_id": "0bc07e50c50a4a30999fe81b1ffea88f",
       "version_major": 2,
       "version_minor": 0
      },
      "text/plain": [
       "VBox(children=(Label(value='0.001 MB of 0.001 MB uploaded (0.000 MB deduped)\\r'), FloatProgress(value=1.0, max…"
      ]
     },
     "metadata": {},
     "output_type": "display_data"
    },
    {
     "data": {
      "text/html": [
       "Synced <strong style=\"color:#cdcd00\">quiet-sweep-22</strong>: <a href=\"https://wandb.ai/climate_policy_optim/AYS_learning/runs/kuk6ncyr\" target=\"_blank\">https://wandb.ai/climate_policy_optim/AYS_learning/runs/kuk6ncyr</a><br/>Synced 5 W&B file(s), 0 media file(s), 0 artifact file(s) and 0 other file(s)"
      ],
      "text/plain": [
       "<IPython.core.display.HTML object>"
      ]
     },
     "metadata": {},
     "output_type": "display_data"
    },
    {
     "data": {
      "text/html": [
       "Find logs at: <code>.\\wandb\\run-20220722_163505-kuk6ncyr\\logs</code>"
      ],
      "text/plain": [
       "<IPython.core.display.HTML object>"
      ]
     },
     "metadata": {},
     "output_type": "display_data"
    },
    {
     "data": {
      "text/html": [
       "Successfully finished last run (ID:kuk6ncyr). Initializing new run:<br/>"
      ],
      "text/plain": [
       "<IPython.core.display.HTML object>"
      ]
     },
     "metadata": {},
     "output_type": "display_data"
    },
    {
     "data": {
      "text/html": [
       "Tracking run with wandb version 0.12.21"
      ],
      "text/plain": [
       "<IPython.core.display.HTML object>"
      ]
     },
     "metadata": {},
     "output_type": "display_data"
    },
    {
     "data": {
      "text/html": [
       "Run data is saved locally in <code>C:\\Users\\theod\\PycharmProjects\\climate_policy_thesis\\climate_policy_RL\\classes\\wandb\\run-20220722_163507-kuk6ncyr</code>"
      ],
      "text/plain": [
       "<IPython.core.display.HTML object>"
      ]
     },
     "metadata": {},
     "output_type": "display_data"
    },
    {
     "data": {
      "text/html": [
       "Syncing run <strong><a href=\"https://wandb.ai/climate_policy_optim/AYS_learning/runs/kuk6ncyr\" target=\"_blank\">quiet-sweep-22</a></strong> to <a href=\"https://wandb.ai/climate_policy_optim/AYS_learning\" target=\"_blank\">Weights & Biases</a> (<a href=\"https://wandb.me/run\" target=\"_blank\">docs</a>)<br/>Sweep page:  <a href=\"https://wandb.ai/climate_policy_optim/AYS_learning/sweeps/muuwo0jy\" target=\"_blank\">https://wandb.ai/climate_policy_optim/AYS_learning/sweeps/muuwo0jy</a>"
      ],
      "text/plain": [
       "<IPython.core.display.HTML object>"
      ]
     },
     "metadata": {},
     "output_type": "display_data"
    },
    {
     "data": {
      "text/html": [
       "Waiting for W&B process to finish... <strong style=\"color:green\">(success).</strong>"
      ],
      "text/plain": [
       "<IPython.core.display.HTML object>"
      ]
     },
     "metadata": {},
     "output_type": "display_data"
    },
    {
     "data": {
      "application/vnd.jupyter.widget-view+json": {
       "model_id": "",
       "version_major": 2,
       "version_minor": 0
      },
      "text/plain": [
       "VBox(children=(Label(value='0.001 MB of 0.001 MB uploaded (0.000 MB deduped)\\r'), FloatProgress(value=1.0, max…"
      ]
     },
     "metadata": {},
     "output_type": "display_data"
    },
    {
     "data": {
      "text/html": [
       "<style>\n",
       "    table.wandb td:nth-child(1) { padding: 0 10px; text-align: left ; width: auto;} td:nth-child(2) {text-align: left ; width: 100%}\n",
       "    .wandb-row { display: flex; flex-direction: row; flex-wrap: wrap; justify-content: flex-start; width: 100% }\n",
       "    .wandb-col { display: flex; flex-direction: column; flex-basis: 100%; flex: 1; padding: 10px; }\n",
       "    </style>\n",
       "<div class=\"wandb-row\"><div class=\"wandb-col\"><h3>Run history:</h3><br/><table class=\"wandb\"><tr><td>episode_reward</td><td>▁▁▁▁▁▁▁▁▁▁▁▁▇▁█▇▇█▇██▁█▆▁█▁▇▇▇▁▁▁▆▆▇▇▁▇█</td></tr><tr><td>loss</td><td>▁▁▁▁▁▁▁▂▂▁▁▃▂▂▂▂▂▂▂█▄▁▁▁▁▁▃▁▁▁▁▁▁▁▁▂▂▂▁▁</td></tr><tr><td>moving_average</td><td>▁▁▁▁▁▁▁▁▁▁▁▂▂▄▅▇██▇▇▇▇██████████▇▇▇▇█▇▇▇</td></tr></table><br/></div><div class=\"wandb-col\"><h3>Run summary:</h3><br/><table class=\"wandb\"><tr><td>episode_reward</td><td>547.50387</td></tr><tr><td>loss</td><td>0.02172</td></tr><tr><td>mean_reward</td><td>259.58338</td></tr><tr><td>moving_average</td><td>349.81257</td></tr><tr><td>top_reward</td><td>555.07981</td></tr></table><br/></div></div>"
      ],
      "text/plain": [
       "<IPython.core.display.HTML object>"
      ]
     },
     "metadata": {},
     "output_type": "display_data"
    },
    {
     "data": {
      "text/html": [
       "Synced <strong style=\"color:#cdcd00\">quiet-sweep-22</strong>: <a href=\"https://wandb.ai/climate_policy_optim/AYS_learning/runs/kuk6ncyr\" target=\"_blank\">https://wandb.ai/climate_policy_optim/AYS_learning/runs/kuk6ncyr</a><br/>Synced 4 W&B file(s), 0 media file(s), 0 artifact file(s) and 0 other file(s)"
      ],
      "text/plain": [
       "<IPython.core.display.HTML object>"
      ]
     },
     "metadata": {},
     "output_type": "display_data"
    },
    {
     "data": {
      "text/html": [
       "Find logs at: <code>.\\wandb\\run-20220722_163507-kuk6ncyr\\logs</code>"
      ],
      "text/plain": [
       "<IPython.core.display.HTML object>"
      ]
     },
     "metadata": {},
     "output_type": "display_data"
    },
    {
     "name": "stderr",
     "output_type": "stream",
     "text": [
      "\u001b[34m\u001b[1mwandb\u001b[0m: Agent Starting Run: iemv0aa8 with config:\n",
      "\u001b[34m\u001b[1mwandb\u001b[0m: \talpha: 0.42774941996853233\n",
      "\u001b[34m\u001b[1mwandb\u001b[0m: \tbatch_size: 128\n",
      "\u001b[34m\u001b[1mwandb\u001b[0m: \tbeta: 0.5045345811554851\n",
      "\u001b[34m\u001b[1mwandb\u001b[0m: \tbuffer_size: 4096\n",
      "\u001b[34m\u001b[1mwandb\u001b[0m: \tepsilon: 0.2843459991875218\n",
      "\u001b[34m\u001b[1mwandb\u001b[0m: \tlr: 0.0073333395620302\n",
      "\u001b[34m\u001b[1mwandb\u001b[0m: \tmax_epochs: 75\n",
      "\u001b[34m\u001b[1mwandb\u001b[0m: \tpolyak: True\n",
      "\u001b[34m\u001b[1mwandb\u001b[0m: \trho: 0.8835068011751415\n",
      "\u001b[34m\u001b[1mwandb\u001b[0m: \ttau: 0.02520374663605208\n"
     ]
    },
    {
     "data": {
      "text/html": [
       "Tracking run with wandb version 0.12.21"
      ],
      "text/plain": [
       "<IPython.core.display.HTML object>"
      ]
     },
     "metadata": {},
     "output_type": "display_data"
    },
    {
     "data": {
      "text/html": [
       "Run data is saved locally in <code>C:\\Users\\theod\\PycharmProjects\\climate_policy_thesis\\climate_policy_RL\\classes\\wandb\\run-20220722_165218-iemv0aa8</code>"
      ],
      "text/plain": [
       "<IPython.core.display.HTML object>"
      ]
     },
     "metadata": {},
     "output_type": "display_data"
    },
    {
     "data": {
      "text/html": [
       "Syncing run <strong><a href=\"https://wandb.ai/climate_policy_optim/AYS_learning/runs/iemv0aa8\" target=\"_blank\">curious-sweep-24</a></strong> to <a href=\"https://wandb.ai/climate_policy_optim/AYS_learning\" target=\"_blank\">Weights & Biases</a> (<a href=\"https://wandb.me/run\" target=\"_blank\">docs</a>)<br/>Sweep page:  <a href=\"https://wandb.ai/climate_policy_optim/AYS_learning/sweeps/muuwo0jy\" target=\"_blank\">https://wandb.ai/climate_policy_optim/AYS_learning/sweeps/muuwo0jy</a>"
      ],
      "text/plain": [
       "<IPython.core.display.HTML object>"
      ]
     },
     "metadata": {},
     "output_type": "display_data"
    },
    {
     "name": "stdout",
     "output_type": "stream",
     "text": [
      "Init AYS Environment! \n",
      "Reward Type: PB \n",
      "Sustainability Boundaries [A_PB, Y_SF, S_ren]:  [3.45e+02 4.00e+13 0.00e+00]\n"
     ]
    },
    {
     "data": {
      "text/html": [
       "Finishing last run (ID:iemv0aa8) before initializing another..."
      ],
      "text/plain": [
       "<IPython.core.display.HTML object>"
      ]
     },
     "metadata": {},
     "output_type": "display_data"
    },
    {
     "data": {
      "text/html": [
       "Waiting for W&B process to finish... <strong style=\"color:green\">(success).</strong>"
      ],
      "text/plain": [
       "<IPython.core.display.HTML object>"
      ]
     },
     "metadata": {},
     "output_type": "display_data"
    },
    {
     "data": {
      "application/vnd.jupyter.widget-view+json": {
       "model_id": "",
       "version_major": 2,
       "version_minor": 0
      },
      "text/plain": [
       "VBox(children=(Label(value='0.001 MB of 0.001 MB uploaded (0.000 MB deduped)\\r'), FloatProgress(value=1.0, max…"
      ]
     },
     "metadata": {},
     "output_type": "display_data"
    },
    {
     "data": {
      "text/html": [
       "Synced <strong style=\"color:#cdcd00\">curious-sweep-24</strong>: <a href=\"https://wandb.ai/climate_policy_optim/AYS_learning/runs/iemv0aa8\" target=\"_blank\">https://wandb.ai/climate_policy_optim/AYS_learning/runs/iemv0aa8</a><br/>Synced 5 W&B file(s), 0 media file(s), 0 artifact file(s) and 0 other file(s)"
      ],
      "text/plain": [
       "<IPython.core.display.HTML object>"
      ]
     },
     "metadata": {},
     "output_type": "display_data"
    },
    {
     "data": {
      "text/html": [
       "Find logs at: <code>.\\wandb\\run-20220722_165218-iemv0aa8\\logs</code>"
      ],
      "text/plain": [
       "<IPython.core.display.HTML object>"
      ]
     },
     "metadata": {},
     "output_type": "display_data"
    },
    {
     "data": {
      "text/html": [
       "Successfully finished last run (ID:iemv0aa8). Initializing new run:<br/>"
      ],
      "text/plain": [
       "<IPython.core.display.HTML object>"
      ]
     },
     "metadata": {},
     "output_type": "display_data"
    },
    {
     "data": {
      "text/html": [
       "Tracking run with wandb version 0.12.21"
      ],
      "text/plain": [
       "<IPython.core.display.HTML object>"
      ]
     },
     "metadata": {},
     "output_type": "display_data"
    },
    {
     "data": {
      "text/html": [
       "Run data is saved locally in <code>C:\\Users\\theod\\PycharmProjects\\climate_policy_thesis\\climate_policy_RL\\classes\\wandb\\run-20220722_165219-iemv0aa8</code>"
      ],
      "text/plain": [
       "<IPython.core.display.HTML object>"
      ]
     },
     "metadata": {},
     "output_type": "display_data"
    },
    {
     "data": {
      "text/html": [
       "Syncing run <strong><a href=\"https://wandb.ai/climate_policy_optim/AYS_learning/runs/iemv0aa8\" target=\"_blank\">curious-sweep-24</a></strong> to <a href=\"https://wandb.ai/climate_policy_optim/AYS_learning\" target=\"_blank\">Weights & Biases</a> (<a href=\"https://wandb.me/run\" target=\"_blank\">docs</a>)<br/>Sweep page:  <a href=\"https://wandb.ai/climate_policy_optim/AYS_learning/sweeps/muuwo0jy\" target=\"_blank\">https://wandb.ai/climate_policy_optim/AYS_learning/sweeps/muuwo0jy</a>"
      ],
      "text/plain": [
       "<IPython.core.display.HTML object>"
      ]
     },
     "metadata": {},
     "output_type": "display_data"
    },
    {
     "data": {
      "text/html": [
       "Waiting for W&B process to finish... <strong style=\"color:green\">(success).</strong>"
      ],
      "text/plain": [
       "<IPython.core.display.HTML object>"
      ]
     },
     "metadata": {},
     "output_type": "display_data"
    },
    {
     "data": {
      "application/vnd.jupyter.widget-view+json": {
       "model_id": "",
       "version_major": 2,
       "version_minor": 0
      },
      "text/plain": [
       "VBox(children=(Label(value='0.001 MB of 0.001 MB uploaded (0.000 MB deduped)\\r'), FloatProgress(value=1.0, max…"
      ]
     },
     "metadata": {},
     "output_type": "display_data"
    },
    {
     "data": {
      "text/html": [
       "<style>\n",
       "    table.wandb td:nth-child(1) { padding: 0 10px; text-align: left ; width: auto;} td:nth-child(2) {text-align: left ; width: 100%}\n",
       "    .wandb-row { display: flex; flex-direction: row; flex-wrap: wrap; justify-content: flex-start; width: 100% }\n",
       "    .wandb-col { display: flex; flex-direction: column; flex-basis: 100%; flex: 1; padding: 10px; }\n",
       "    </style>\n",
       "<div class=\"wandb-row\"><div class=\"wandb-col\"><h3>Run history:</h3><br/><table class=\"wandb\"><tr><td>episode_reward</td><td>▁▁▁▁▁█▁▁▁██▁▁█▁▇▁▇▂▆▇▁▁▆▇▆▆▁▆▃▂▇▆▆▆▆▁▆▆▁</td></tr><tr><td>loss</td><td>▁▁▁▁▁▁▁▁▂▂▁▄▄▂█▃▁▁▁▁▁▁▂▂▂▁▁▁▁▄▆▂▁▁▁▁▂▂▁▁</td></tr><tr><td>moving_average</td><td>▁▁▁▁▁▂▃▃▄▅▅▆▆▆▆▆▇▇▇▇▇▆▆▆▆▇▇▇▅▄▄▄▅▆▇█▇▇▇▇</td></tr></table><br/></div><div class=\"wandb-col\"><h3>Run summary:</h3><br/><table class=\"wandb\"><tr><td>episode_reward</td><td>428.88876</td></tr><tr><td>loss</td><td>0.00239</td></tr><tr><td>mean_reward</td><td>228.34373</td></tr><tr><td>moving_average</td><td>311.219</td></tr><tr><td>top_reward</td><td>573.23345</td></tr></table><br/></div></div>"
      ],
      "text/plain": [
       "<IPython.core.display.HTML object>"
      ]
     },
     "metadata": {},
     "output_type": "display_data"
    },
    {
     "data": {
      "text/html": [
       "Synced <strong style=\"color:#cdcd00\">curious-sweep-24</strong>: <a href=\"https://wandb.ai/climate_policy_optim/AYS_learning/runs/iemv0aa8\" target=\"_blank\">https://wandb.ai/climate_policy_optim/AYS_learning/runs/iemv0aa8</a><br/>Synced 4 W&B file(s), 0 media file(s), 0 artifact file(s) and 0 other file(s)"
      ],
      "text/plain": [
       "<IPython.core.display.HTML object>"
      ]
     },
     "metadata": {},
     "output_type": "display_data"
    },
    {
     "data": {
      "text/html": [
       "Find logs at: <code>.\\wandb\\run-20220722_165219-iemv0aa8\\logs</code>"
      ],
      "text/plain": [
       "<IPython.core.display.HTML object>"
      ]
     },
     "metadata": {},
     "output_type": "display_data"
    },
    {
     "name": "stderr",
     "output_type": "stream",
     "text": [
      "\u001b[34m\u001b[1mwandb\u001b[0m: Agent Starting Run: cmcqrmi8 with config:\n",
      "\u001b[34m\u001b[1mwandb\u001b[0m: \talpha: 0.5106525391736245\n",
      "\u001b[34m\u001b[1mwandb\u001b[0m: \tbatch_size: 256\n",
      "\u001b[34m\u001b[1mwandb\u001b[0m: \tbeta: 0.4832257891183197\n",
      "\u001b[34m\u001b[1mwandb\u001b[0m: \tbuffer_size: 4096\n",
      "\u001b[34m\u001b[1mwandb\u001b[0m: \tepsilon: 0.46211763875481904\n",
      "\u001b[34m\u001b[1mwandb\u001b[0m: \tlr: 0.0012875482120254076\n",
      "\u001b[34m\u001b[1mwandb\u001b[0m: \tmax_epochs: 75\n",
      "\u001b[34m\u001b[1mwandb\u001b[0m: \tpolyak: False\n",
      "\u001b[34m\u001b[1mwandb\u001b[0m: \trho: 0.6826954656726341\n",
      "\u001b[34m\u001b[1mwandb\u001b[0m: \ttau: 0.029623908763710183\n"
     ]
    },
    {
     "data": {
      "text/html": [
       "Tracking run with wandb version 0.12.21"
      ],
      "text/plain": [
       "<IPython.core.display.HTML object>"
      ]
     },
     "metadata": {},
     "output_type": "display_data"
    },
    {
     "data": {
      "text/html": [
       "Run data is saved locally in <code>C:\\Users\\theod\\PycharmProjects\\climate_policy_thesis\\climate_policy_RL\\classes\\wandb\\run-20220722_170257-cmcqrmi8</code>"
      ],
      "text/plain": [
       "<IPython.core.display.HTML object>"
      ]
     },
     "metadata": {},
     "output_type": "display_data"
    },
    {
     "data": {
      "text/html": [
       "Syncing run <strong><a href=\"https://wandb.ai/climate_policy_optim/AYS_learning/runs/cmcqrmi8\" target=\"_blank\">lunar-sweep-25</a></strong> to <a href=\"https://wandb.ai/climate_policy_optim/AYS_learning\" target=\"_blank\">Weights & Biases</a> (<a href=\"https://wandb.me/run\" target=\"_blank\">docs</a>)<br/>Sweep page:  <a href=\"https://wandb.ai/climate_policy_optim/AYS_learning/sweeps/muuwo0jy\" target=\"_blank\">https://wandb.ai/climate_policy_optim/AYS_learning/sweeps/muuwo0jy</a>"
      ],
      "text/plain": [
       "<IPython.core.display.HTML object>"
      ]
     },
     "metadata": {},
     "output_type": "display_data"
    },
    {
     "name": "stdout",
     "output_type": "stream",
     "text": [
      "Init AYS Environment! \n",
      "Reward Type: PB \n",
      "Sustainability Boundaries [A_PB, Y_SF, S_ren]:  [3.45e+02 4.00e+13 0.00e+00]\n"
     ]
    },
    {
     "data": {
      "text/html": [
       "Finishing last run (ID:cmcqrmi8) before initializing another..."
      ],
      "text/plain": [
       "<IPython.core.display.HTML object>"
      ]
     },
     "metadata": {},
     "output_type": "display_data"
    },
    {
     "data": {
      "text/html": [
       "Waiting for W&B process to finish... <strong style=\"color:green\">(success).</strong>"
      ],
      "text/plain": [
       "<IPython.core.display.HTML object>"
      ]
     },
     "metadata": {},
     "output_type": "display_data"
    },
    {
     "data": {
      "application/vnd.jupyter.widget-view+json": {
       "model_id": "",
       "version_major": 2,
       "version_minor": 0
      },
      "text/plain": [
       "VBox(children=(Label(value='0.001 MB of 0.001 MB uploaded (0.000 MB deduped)\\r'), FloatProgress(value=1.0, max…"
      ]
     },
     "metadata": {},
     "output_type": "display_data"
    },
    {
     "data": {
      "text/html": [
       "Synced <strong style=\"color:#cdcd00\">lunar-sweep-25</strong>: <a href=\"https://wandb.ai/climate_policy_optim/AYS_learning/runs/cmcqrmi8\" target=\"_blank\">https://wandb.ai/climate_policy_optim/AYS_learning/runs/cmcqrmi8</a><br/>Synced 5 W&B file(s), 0 media file(s), 0 artifact file(s) and 0 other file(s)"
      ],
      "text/plain": [
       "<IPython.core.display.HTML object>"
      ]
     },
     "metadata": {},
     "output_type": "display_data"
    },
    {
     "data": {
      "text/html": [
       "Find logs at: <code>.\\wandb\\run-20220722_170257-cmcqrmi8\\logs</code>"
      ],
      "text/plain": [
       "<IPython.core.display.HTML object>"
      ]
     },
     "metadata": {},
     "output_type": "display_data"
    },
    {
     "data": {
      "text/html": [
       "Successfully finished last run (ID:cmcqrmi8). Initializing new run:<br/>"
      ],
      "text/plain": [
       "<IPython.core.display.HTML object>"
      ]
     },
     "metadata": {},
     "output_type": "display_data"
    },
    {
     "data": {
      "text/html": [
       "Tracking run with wandb version 0.12.21"
      ],
      "text/plain": [
       "<IPython.core.display.HTML object>"
      ]
     },
     "metadata": {},
     "output_type": "display_data"
    },
    {
     "data": {
      "text/html": [
       "Run data is saved locally in <code>C:\\Users\\theod\\PycharmProjects\\climate_policy_thesis\\climate_policy_RL\\classes\\wandb\\run-20220722_170259-cmcqrmi8</code>"
      ],
      "text/plain": [
       "<IPython.core.display.HTML object>"
      ]
     },
     "metadata": {},
     "output_type": "display_data"
    },
    {
     "data": {
      "text/html": [
       "Syncing run <strong><a href=\"https://wandb.ai/climate_policy_optim/AYS_learning/runs/cmcqrmi8\" target=\"_blank\">lunar-sweep-25</a></strong> to <a href=\"https://wandb.ai/climate_policy_optim/AYS_learning\" target=\"_blank\">Weights & Biases</a> (<a href=\"https://wandb.me/run\" target=\"_blank\">docs</a>)<br/>Sweep page:  <a href=\"https://wandb.ai/climate_policy_optim/AYS_learning/sweeps/muuwo0jy\" target=\"_blank\">https://wandb.ai/climate_policy_optim/AYS_learning/sweeps/muuwo0jy</a>"
      ],
      "text/plain": [
       "<IPython.core.display.HTML object>"
      ]
     },
     "metadata": {},
     "output_type": "display_data"
    },
    {
     "data": {
      "text/html": [
       "Waiting for W&B process to finish... <strong style=\"color:green\">(success).</strong>"
      ],
      "text/plain": [
       "<IPython.core.display.HTML object>"
      ]
     },
     "metadata": {},
     "output_type": "display_data"
    },
    {
     "data": {
      "application/vnd.jupyter.widget-view+json": {
       "model_id": "",
       "version_major": 2,
       "version_minor": 0
      },
      "text/plain": [
       "VBox(children=(Label(value='0.001 MB of 0.001 MB uploaded (0.000 MB deduped)\\r'), FloatProgress(value=1.0, max…"
      ]
     },
     "metadata": {},
     "output_type": "display_data"
    },
    {
     "data": {
      "text/html": [
       "<style>\n",
       "    table.wandb td:nth-child(1) { padding: 0 10px; text-align: left ; width: auto;} td:nth-child(2) {text-align: left ; width: 100%}\n",
       "    .wandb-row { display: flex; flex-direction: row; flex-wrap: wrap; justify-content: flex-start; width: 100% }\n",
       "    .wandb-col { display: flex; flex-direction: column; flex-basis: 100%; flex: 1; padding: 10px; }\n",
       "    </style>\n",
       "<div class=\"wandb-row\"><div class=\"wandb-col\"><h3>Run history:</h3><br/><table class=\"wandb\"><tr><td>episode_reward</td><td>▁▁▁▁▁▁▁▁▁▁▁▁▁▁▂▂▂▁▂▂▂█▂▁▁▆▆▁▇▁▆▁▆▇▆▆▆▆▂▅</td></tr><tr><td>loss</td><td>▁▁▁▁▁▁▁▁▁▁▁▂▁▁▂▁▃▁▄▁▁▁▁▁▁▁▁▁█▁▂▂▁▁▁▇▂▇▂▁</td></tr><tr><td>moving_average</td><td>▁▁▁▁▁▁▁▁▁▁▁▁▁▁▁▂▂▂▂▂▂▂▃▃▃▅▆▇█▇▇▇▇█████▇▆</td></tr></table><br/></div><div class=\"wandb-col\"><h3>Run summary:</h3><br/><table class=\"wandb\"><tr><td>episode_reward</td><td>353.49629</td></tr><tr><td>loss</td><td>0.00102</td></tr><tr><td>mean_reward</td><td>161.59035</td></tr><tr><td>moving_average</td><td>253.68772</td></tr><tr><td>top_reward</td><td>562.04678</td></tr></table><br/></div></div>"
      ],
      "text/plain": [
       "<IPython.core.display.HTML object>"
      ]
     },
     "metadata": {},
     "output_type": "display_data"
    },
    {
     "data": {
      "text/html": [
       "Synced <strong style=\"color:#cdcd00\">lunar-sweep-25</strong>: <a href=\"https://wandb.ai/climate_policy_optim/AYS_learning/runs/cmcqrmi8\" target=\"_blank\">https://wandb.ai/climate_policy_optim/AYS_learning/runs/cmcqrmi8</a><br/>Synced 4 W&B file(s), 0 media file(s), 0 artifact file(s) and 0 other file(s)"
      ],
      "text/plain": [
       "<IPython.core.display.HTML object>"
      ]
     },
     "metadata": {},
     "output_type": "display_data"
    },
    {
     "data": {
      "text/html": [
       "Find logs at: <code>.\\wandb\\run-20220722_170259-cmcqrmi8\\logs</code>"
      ],
      "text/plain": [
       "<IPython.core.display.HTML object>"
      ]
     },
     "metadata": {},
     "output_type": "display_data"
    },
    {
     "name": "stderr",
     "output_type": "stream",
     "text": [
      "\u001b[34m\u001b[1mwandb\u001b[0m: Agent Starting Run: 6ux5ss3p with config:\n",
      "\u001b[34m\u001b[1mwandb\u001b[0m: \talpha: 0.4552725653090671\n",
      "\u001b[34m\u001b[1mwandb\u001b[0m: \tbatch_size: 256\n",
      "\u001b[34m\u001b[1mwandb\u001b[0m: \tbeta: 0.344858774156185\n",
      "\u001b[34m\u001b[1mwandb\u001b[0m: \tbuffer_size: 32768\n",
      "\u001b[34m\u001b[1mwandb\u001b[0m: \tepsilon: 0.18814955952265716\n",
      "\u001b[34m\u001b[1mwandb\u001b[0m: \tlr: 0.0004698890571158955\n",
      "\u001b[34m\u001b[1mwandb\u001b[0m: \tmax_epochs: 75\n",
      "\u001b[34m\u001b[1mwandb\u001b[0m: \tpolyak: True\n",
      "\u001b[34m\u001b[1mwandb\u001b[0m: \trho: 0.7960497344148342\n",
      "\u001b[34m\u001b[1mwandb\u001b[0m: \ttau: 0.025363629444386665\n"
     ]
    },
    {
     "data": {
      "text/html": [
       "Tracking run with wandb version 0.12.21"
      ],
      "text/plain": [
       "<IPython.core.display.HTML object>"
      ]
     },
     "metadata": {},
     "output_type": "display_data"
    },
    {
     "data": {
      "text/html": [
       "Run data is saved locally in <code>C:\\Users\\theod\\PycharmProjects\\climate_policy_thesis\\climate_policy_RL\\classes\\wandb\\run-20220722_171907-6ux5ss3p</code>"
      ],
      "text/plain": [
       "<IPython.core.display.HTML object>"
      ]
     },
     "metadata": {},
     "output_type": "display_data"
    },
    {
     "data": {
      "text/html": [
       "Syncing run <strong><a href=\"https://wandb.ai/climate_policy_optim/AYS_learning/runs/6ux5ss3p\" target=\"_blank\">dutiful-sweep-27</a></strong> to <a href=\"https://wandb.ai/climate_policy_optim/AYS_learning\" target=\"_blank\">Weights & Biases</a> (<a href=\"https://wandb.me/run\" target=\"_blank\">docs</a>)<br/>Sweep page:  <a href=\"https://wandb.ai/climate_policy_optim/AYS_learning/sweeps/muuwo0jy\" target=\"_blank\">https://wandb.ai/climate_policy_optim/AYS_learning/sweeps/muuwo0jy</a>"
      ],
      "text/plain": [
       "<IPython.core.display.HTML object>"
      ]
     },
     "metadata": {},
     "output_type": "display_data"
    },
    {
     "name": "stdout",
     "output_type": "stream",
     "text": [
      "Init AYS Environment! \n",
      "Reward Type: PB \n",
      "Sustainability Boundaries [A_PB, Y_SF, S_ren]:  [3.45e+02 4.00e+13 0.00e+00]\n"
     ]
    },
    {
     "data": {
      "text/html": [
       "Finishing last run (ID:6ux5ss3p) before initializing another..."
      ],
      "text/plain": [
       "<IPython.core.display.HTML object>"
      ]
     },
     "metadata": {},
     "output_type": "display_data"
    },
    {
     "data": {
      "text/html": [
       "Waiting for W&B process to finish... <strong style=\"color:green\">(success).</strong>"
      ],
      "text/plain": [
       "<IPython.core.display.HTML object>"
      ]
     },
     "metadata": {},
     "output_type": "display_data"
    },
    {
     "data": {
      "application/vnd.jupyter.widget-view+json": {
       "model_id": "",
       "version_major": 2,
       "version_minor": 0
      },
      "text/plain": [
       "VBox(children=(Label(value='0.001 MB of 0.001 MB uploaded (0.000 MB deduped)\\r'), FloatProgress(value=1.0, max…"
      ]
     },
     "metadata": {},
     "output_type": "display_data"
    },
    {
     "data": {
      "text/html": [
       "Synced <strong style=\"color:#cdcd00\">dutiful-sweep-27</strong>: <a href=\"https://wandb.ai/climate_policy_optim/AYS_learning/runs/6ux5ss3p\" target=\"_blank\">https://wandb.ai/climate_policy_optim/AYS_learning/runs/6ux5ss3p</a><br/>Synced 5 W&B file(s), 0 media file(s), 0 artifact file(s) and 0 other file(s)"
      ],
      "text/plain": [
       "<IPython.core.display.HTML object>"
      ]
     },
     "metadata": {},
     "output_type": "display_data"
    },
    {
     "data": {
      "text/html": [
       "Find logs at: <code>.\\wandb\\run-20220722_171907-6ux5ss3p\\logs</code>"
      ],
      "text/plain": [
       "<IPython.core.display.HTML object>"
      ]
     },
     "metadata": {},
     "output_type": "display_data"
    },
    {
     "data": {
      "text/html": [
       "Successfully finished last run (ID:6ux5ss3p). Initializing new run:<br/>"
      ],
      "text/plain": [
       "<IPython.core.display.HTML object>"
      ]
     },
     "metadata": {},
     "output_type": "display_data"
    },
    {
     "data": {
      "text/html": [
       "Tracking run with wandb version 0.12.21"
      ],
      "text/plain": [
       "<IPython.core.display.HTML object>"
      ]
     },
     "metadata": {},
     "output_type": "display_data"
    },
    {
     "data": {
      "text/html": [
       "Run data is saved locally in <code>C:\\Users\\theod\\PycharmProjects\\climate_policy_thesis\\climate_policy_RL\\classes\\wandb\\run-20220722_171909-6ux5ss3p</code>"
      ],
      "text/plain": [
       "<IPython.core.display.HTML object>"
      ]
     },
     "metadata": {},
     "output_type": "display_data"
    },
    {
     "data": {
      "text/html": [
       "Syncing run <strong><a href=\"https://wandb.ai/climate_policy_optim/AYS_learning/runs/6ux5ss3p\" target=\"_blank\">dutiful-sweep-27</a></strong> to <a href=\"https://wandb.ai/climate_policy_optim/AYS_learning\" target=\"_blank\">Weights & Biases</a> (<a href=\"https://wandb.me/run\" target=\"_blank\">docs</a>)<br/>Sweep page:  <a href=\"https://wandb.ai/climate_policy_optim/AYS_learning/sweeps/muuwo0jy\" target=\"_blank\">https://wandb.ai/climate_policy_optim/AYS_learning/sweeps/muuwo0jy</a>"
      ],
      "text/plain": [
       "<IPython.core.display.HTML object>"
      ]
     },
     "metadata": {},
     "output_type": "display_data"
    },
    {
     "data": {
      "text/html": [
       "Waiting for W&B process to finish... <strong style=\"color:green\">(success).</strong>"
      ],
      "text/plain": [
       "<IPython.core.display.HTML object>"
      ]
     },
     "metadata": {},
     "output_type": "display_data"
    },
    {
     "data": {
      "application/vnd.jupyter.widget-view+json": {
       "model_id": "",
       "version_major": 2,
       "version_minor": 0
      },
      "text/plain": [
       "VBox(children=(Label(value='0.001 MB of 0.001 MB uploaded (0.000 MB deduped)\\r'), FloatProgress(value=1.0, max…"
      ]
     },
     "metadata": {},
     "output_type": "display_data"
    },
    {
     "data": {
      "text/html": [
       "<style>\n",
       "    table.wandb td:nth-child(1) { padding: 0 10px; text-align: left ; width: auto;} td:nth-child(2) {text-align: left ; width: 100%}\n",
       "    .wandb-row { display: flex; flex-direction: row; flex-wrap: wrap; justify-content: flex-start; width: 100% }\n",
       "    .wandb-col { display: flex; flex-direction: column; flex-basis: 100%; flex: 1; padding: 10px; }\n",
       "    </style>\n",
       "<div class=\"wandb-row\"><div class=\"wandb-col\"><h3>Run history:</h3><br/><table class=\"wandb\"><tr><td>episode_reward</td><td>▁▁▁▁▁▁▁▁▁▁▇▇█▁▇▇▁▁▁▁█▇▁▆▆▆▆▇█▆▁█▆███▆▁▁▆</td></tr><tr><td>loss</td><td>▁▁▁▁▁▁▁▃▁▂▂▁▂▁▂▂▂▄▄▁▃▁▂▂▂▁▁▁▂▂▃▄▆▃▁█▁▂▂▂</td></tr><tr><td>moving_average</td><td>▁▁▁▁▁▁▁▁▁▂▃▅▆▇██▇▇█▇▇▇▇▆▆▆▇▇▇▇▆▆▆▇▇▇█▇▇▆</td></tr></table><br/></div><div class=\"wandb-col\"><h3>Run summary:</h3><br/><table class=\"wandb\"><tr><td>episode_reward</td><td>405.44506</td></tr><tr><td>loss</td><td>0.01068</td></tr><tr><td>mean_reward</td><td>286.34182</td></tr><tr><td>moving_average</td><td>328.85953</td></tr><tr><td>top_reward</td><td>552.49975</td></tr></table><br/></div></div>"
      ],
      "text/plain": [
       "<IPython.core.display.HTML object>"
      ]
     },
     "metadata": {},
     "output_type": "display_data"
    },
    {
     "data": {
      "text/html": [
       "Synced <strong style=\"color:#cdcd00\">dutiful-sweep-27</strong>: <a href=\"https://wandb.ai/climate_policy_optim/AYS_learning/runs/6ux5ss3p\" target=\"_blank\">https://wandb.ai/climate_policy_optim/AYS_learning/runs/6ux5ss3p</a><br/>Synced 4 W&B file(s), 0 media file(s), 0 artifact file(s) and 0 other file(s)"
      ],
      "text/plain": [
       "<IPython.core.display.HTML object>"
      ]
     },
     "metadata": {},
     "output_type": "display_data"
    },
    {
     "data": {
      "text/html": [
       "Find logs at: <code>.\\wandb\\run-20220722_171909-6ux5ss3p\\logs</code>"
      ],
      "text/plain": [
       "<IPython.core.display.HTML object>"
      ]
     },
     "metadata": {},
     "output_type": "display_data"
    },
    {
     "name": "stderr",
     "output_type": "stream",
     "text": [
      "\u001b[34m\u001b[1mwandb\u001b[0m: Agent Starting Run: 8giuwhwq with config:\n",
      "\u001b[34m\u001b[1mwandb\u001b[0m: \talpha: 0.46308880625846194\n",
      "\u001b[34m\u001b[1mwandb\u001b[0m: \tbatch_size: 256\n",
      "\u001b[34m\u001b[1mwandb\u001b[0m: \tbeta: 0.4209796455377165\n",
      "\u001b[34m\u001b[1mwandb\u001b[0m: \tbuffer_size: 16384\n",
      "\u001b[34m\u001b[1mwandb\u001b[0m: \tepsilon: 0.12195960353347823\n",
      "\u001b[34m\u001b[1mwandb\u001b[0m: \tlr: 0.005937156285550954\n",
      "\u001b[34m\u001b[1mwandb\u001b[0m: \tmax_epochs: 75\n",
      "\u001b[34m\u001b[1mwandb\u001b[0m: \tpolyak: False\n",
      "\u001b[34m\u001b[1mwandb\u001b[0m: \trho: 0.8429853584555648\n",
      "\u001b[34m\u001b[1mwandb\u001b[0m: \ttau: 0.043384810627599635\n"
     ]
    },
    {
     "data": {
      "text/html": [
       "Tracking run with wandb version 0.12.21"
      ],
      "text/plain": [
       "<IPython.core.display.HTML object>"
      ]
     },
     "metadata": {},
     "output_type": "display_data"
    },
    {
     "data": {
      "text/html": [
       "Run data is saved locally in <code>C:\\Users\\theod\\PycharmProjects\\climate_policy_thesis\\climate_policy_RL\\classes\\wandb\\run-20220722_173527-8giuwhwq</code>"
      ],
      "text/plain": [
       "<IPython.core.display.HTML object>"
      ]
     },
     "metadata": {},
     "output_type": "display_data"
    },
    {
     "data": {
      "text/html": [
       "Syncing run <strong><a href=\"https://wandb.ai/climate_policy_optim/AYS_learning/runs/8giuwhwq\" target=\"_blank\">glorious-sweep-29</a></strong> to <a href=\"https://wandb.ai/climate_policy_optim/AYS_learning\" target=\"_blank\">Weights & Biases</a> (<a href=\"https://wandb.me/run\" target=\"_blank\">docs</a>)<br/>Sweep page:  <a href=\"https://wandb.ai/climate_policy_optim/AYS_learning/sweeps/muuwo0jy\" target=\"_blank\">https://wandb.ai/climate_policy_optim/AYS_learning/sweeps/muuwo0jy</a>"
      ],
      "text/plain": [
       "<IPython.core.display.HTML object>"
      ]
     },
     "metadata": {},
     "output_type": "display_data"
    },
    {
     "name": "stdout",
     "output_type": "stream",
     "text": [
      "Init AYS Environment! \n",
      "Reward Type: PB \n",
      "Sustainability Boundaries [A_PB, Y_SF, S_ren]:  [3.45e+02 4.00e+13 0.00e+00]\n"
     ]
    },
    {
     "data": {
      "text/html": [
       "Finishing last run (ID:8giuwhwq) before initializing another..."
      ],
      "text/plain": [
       "<IPython.core.display.HTML object>"
      ]
     },
     "metadata": {},
     "output_type": "display_data"
    },
    {
     "data": {
      "text/html": [
       "Waiting for W&B process to finish... <strong style=\"color:green\">(success).</strong>"
      ],
      "text/plain": [
       "<IPython.core.display.HTML object>"
      ]
     },
     "metadata": {},
     "output_type": "display_data"
    },
    {
     "data": {
      "application/vnd.jupyter.widget-view+json": {
       "model_id": "",
       "version_major": 2,
       "version_minor": 0
      },
      "text/plain": [
       "VBox(children=(Label(value='0.001 MB of 0.001 MB uploaded (0.000 MB deduped)\\r'), FloatProgress(value=1.0, max…"
      ]
     },
     "metadata": {},
     "output_type": "display_data"
    },
    {
     "data": {
      "text/html": [
       "Synced <strong style=\"color:#cdcd00\">glorious-sweep-29</strong>: <a href=\"https://wandb.ai/climate_policy_optim/AYS_learning/runs/8giuwhwq\" target=\"_blank\">https://wandb.ai/climate_policy_optim/AYS_learning/runs/8giuwhwq</a><br/>Synced 5 W&B file(s), 0 media file(s), 0 artifact file(s) and 0 other file(s)"
      ],
      "text/plain": [
       "<IPython.core.display.HTML object>"
      ]
     },
     "metadata": {},
     "output_type": "display_data"
    },
    {
     "data": {
      "text/html": [
       "Find logs at: <code>.\\wandb\\run-20220722_173527-8giuwhwq\\logs</code>"
      ],
      "text/plain": [
       "<IPython.core.display.HTML object>"
      ]
     },
     "metadata": {},
     "output_type": "display_data"
    },
    {
     "data": {
      "text/html": [
       "Successfully finished last run (ID:8giuwhwq). Initializing new run:<br/>"
      ],
      "text/plain": [
       "<IPython.core.display.HTML object>"
      ]
     },
     "metadata": {},
     "output_type": "display_data"
    },
    {
     "data": {
      "text/html": [
       "Tracking run with wandb version 0.12.21"
      ],
      "text/plain": [
       "<IPython.core.display.HTML object>"
      ]
     },
     "metadata": {},
     "output_type": "display_data"
    },
    {
     "data": {
      "text/html": [
       "Run data is saved locally in <code>C:\\Users\\theod\\PycharmProjects\\climate_policy_thesis\\climate_policy_RL\\classes\\wandb\\run-20220722_173529-8giuwhwq</code>"
      ],
      "text/plain": [
       "<IPython.core.display.HTML object>"
      ]
     },
     "metadata": {},
     "output_type": "display_data"
    },
    {
     "data": {
      "text/html": [
       "Syncing run <strong><a href=\"https://wandb.ai/climate_policy_optim/AYS_learning/runs/8giuwhwq\" target=\"_blank\">glorious-sweep-29</a></strong> to <a href=\"https://wandb.ai/climate_policy_optim/AYS_learning\" target=\"_blank\">Weights & Biases</a> (<a href=\"https://wandb.me/run\" target=\"_blank\">docs</a>)<br/>Sweep page:  <a href=\"https://wandb.ai/climate_policy_optim/AYS_learning/sweeps/muuwo0jy\" target=\"_blank\">https://wandb.ai/climate_policy_optim/AYS_learning/sweeps/muuwo0jy</a>"
      ],
      "text/plain": [
       "<IPython.core.display.HTML object>"
      ]
     },
     "metadata": {},
     "output_type": "display_data"
    },
    {
     "data": {
      "text/html": [
       "Waiting for W&B process to finish... <strong style=\"color:green\">(success).</strong>"
      ],
      "text/plain": [
       "<IPython.core.display.HTML object>"
      ]
     },
     "metadata": {},
     "output_type": "display_data"
    },
    {
     "data": {
      "application/vnd.jupyter.widget-view+json": {
       "model_id": "",
       "version_major": 2,
       "version_minor": 0
      },
      "text/plain": [
       "VBox(children=(Label(value='0.001 MB of 0.001 MB uploaded (0.000 MB deduped)\\r'), FloatProgress(value=1.0, max…"
      ]
     },
     "metadata": {},
     "output_type": "display_data"
    },
    {
     "data": {
      "text/html": [
       "<style>\n",
       "    table.wandb td:nth-child(1) { padding: 0 10px; text-align: left ; width: auto;} td:nth-child(2) {text-align: left ; width: 100%}\n",
       "    .wandb-row { display: flex; flex-direction: row; flex-wrap: wrap; justify-content: flex-start; width: 100% }\n",
       "    .wandb-col { display: flex; flex-direction: column; flex-basis: 100%; flex: 1; padding: 10px; }\n",
       "    </style>\n",
       "<div class=\"wandb-row\"><div class=\"wandb-col\"><h3>Run history:</h3><br/><table class=\"wandb\"><tr><td>episode_reward</td><td>▁▁▁▁▁▁▁▁▁▁▁▁▁▁▇▇█▇▇▇▇▁▁▇▆▇▆▆▆▂▆▁▆▁▆▂▁▇▇▇</td></tr><tr><td>loss</td><td>▁▁▁▁▁▁▁▂▁▄▃▂▃▂▃▂▂█▁▁▁▁▁▁▁▁▁▁▁▁▁▁▂▂▁▁▁▃▃▂</td></tr><tr><td>moving_average</td><td>▁▁▁▁▁▁▁▁▁▁▂▂▃▄▅▆▆▇▇▇▇▇▇▇███▇▇▇▆▆▆▆▆▆▆▆▇▇</td></tr></table><br/></div><div class=\"wandb-col\"><h3>Run summary:</h3><br/><table class=\"wandb\"><tr><td>episode_reward</td><td>161.27689</td></tr><tr><td>loss</td><td>0.0913</td></tr><tr><td>mean_reward</td><td>227.79084</td></tr><tr><td>moving_average</td><td>332.92266</td></tr><tr><td>top_reward</td><td>576.30813</td></tr></table><br/></div></div>"
      ],
      "text/plain": [
       "<IPython.core.display.HTML object>"
      ]
     },
     "metadata": {},
     "output_type": "display_data"
    },
    {
     "data": {
      "text/html": [
       "Synced <strong style=\"color:#cdcd00\">glorious-sweep-29</strong>: <a href=\"https://wandb.ai/climate_policy_optim/AYS_learning/runs/8giuwhwq\" target=\"_blank\">https://wandb.ai/climate_policy_optim/AYS_learning/runs/8giuwhwq</a><br/>Synced 4 W&B file(s), 0 media file(s), 0 artifact file(s) and 0 other file(s)"
      ],
      "text/plain": [
       "<IPython.core.display.HTML object>"
      ]
     },
     "metadata": {},
     "output_type": "display_data"
    },
    {
     "data": {
      "text/html": [
       "Find logs at: <code>.\\wandb\\run-20220722_173529-8giuwhwq\\logs</code>"
      ],
      "text/plain": [
       "<IPython.core.display.HTML object>"
      ]
     },
     "metadata": {},
     "output_type": "display_data"
    },
    {
     "name": "stderr",
     "output_type": "stream",
     "text": [
      "\u001b[34m\u001b[1mwandb\u001b[0m: Sweep Agent: Waiting for job.\n",
      "\u001b[34m\u001b[1mwandb\u001b[0m: Job received.\n",
      "\u001b[34m\u001b[1mwandb\u001b[0m: Agent Starting Run: o8xxo5ca with config:\n",
      "\u001b[34m\u001b[1mwandb\u001b[0m: \talpha: 0.49957777658415387\n",
      "\u001b[34m\u001b[1mwandb\u001b[0m: \tbatch_size: 256\n",
      "\u001b[34m\u001b[1mwandb\u001b[0m: \tbeta: 0.45517004156596846\n",
      "\u001b[34m\u001b[1mwandb\u001b[0m: \tbuffer_size: 32768\n",
      "\u001b[34m\u001b[1mwandb\u001b[0m: \tepsilon: 0.16536638798594305\n",
      "\u001b[34m\u001b[1mwandb\u001b[0m: \tlr: 0.0061778048257854845\n",
      "\u001b[34m\u001b[1mwandb\u001b[0m: \tmax_epochs: 75\n",
      "\u001b[34m\u001b[1mwandb\u001b[0m: \tpolyak: False\n",
      "\u001b[34m\u001b[1mwandb\u001b[0m: \trho: 0.6944235675411468\n",
      "\u001b[34m\u001b[1mwandb\u001b[0m: \ttau: 0.03326843018012944\n"
     ]
    },
    {
     "data": {
      "text/html": [
       "Tracking run with wandb version 0.12.21"
      ],
      "text/plain": [
       "<IPython.core.display.HTML object>"
      ]
     },
     "metadata": {},
     "output_type": "display_data"
    },
    {
     "data": {
      "text/html": [
       "Run data is saved locally in <code>C:\\Users\\theod\\PycharmProjects\\climate_policy_thesis\\climate_policy_RL\\classes\\wandb\\run-20220722_175109-o8xxo5ca</code>"
      ],
      "text/plain": [
       "<IPython.core.display.HTML object>"
      ]
     },
     "metadata": {},
     "output_type": "display_data"
    },
    {
     "data": {
      "text/html": [
       "Syncing run <strong><a href=\"https://wandb.ai/climate_policy_optim/AYS_learning/runs/o8xxo5ca\" target=\"_blank\">fragrant-sweep-31</a></strong> to <a href=\"https://wandb.ai/climate_policy_optim/AYS_learning\" target=\"_blank\">Weights & Biases</a> (<a href=\"https://wandb.me/run\" target=\"_blank\">docs</a>)<br/>Sweep page:  <a href=\"https://wandb.ai/climate_policy_optim/AYS_learning/sweeps/muuwo0jy\" target=\"_blank\">https://wandb.ai/climate_policy_optim/AYS_learning/sweeps/muuwo0jy</a>"
      ],
      "text/plain": [
       "<IPython.core.display.HTML object>"
      ]
     },
     "metadata": {},
     "output_type": "display_data"
    },
    {
     "name": "stdout",
     "output_type": "stream",
     "text": [
      "Init AYS Environment! \n",
      "Reward Type: PB \n",
      "Sustainability Boundaries [A_PB, Y_SF, S_ren]:  [3.45e+02 4.00e+13 0.00e+00]\n"
     ]
    },
    {
     "data": {
      "text/html": [
       "Finishing last run (ID:o8xxo5ca) before initializing another..."
      ],
      "text/plain": [
       "<IPython.core.display.HTML object>"
      ]
     },
     "metadata": {},
     "output_type": "display_data"
    },
    {
     "data": {
      "text/html": [
       "Waiting for W&B process to finish... <strong style=\"color:green\">(success).</strong>"
      ],
      "text/plain": [
       "<IPython.core.display.HTML object>"
      ]
     },
     "metadata": {},
     "output_type": "display_data"
    },
    {
     "data": {
      "application/vnd.jupyter.widget-view+json": {
       "model_id": "",
       "version_major": 2,
       "version_minor": 0
      },
      "text/plain": [
       "VBox(children=(Label(value='0.001 MB of 0.001 MB uploaded (0.000 MB deduped)\\r'), FloatProgress(value=1.0, max…"
      ]
     },
     "metadata": {},
     "output_type": "display_data"
    },
    {
     "data": {
      "text/html": [
       "Synced <strong style=\"color:#cdcd00\">fragrant-sweep-31</strong>: <a href=\"https://wandb.ai/climate_policy_optim/AYS_learning/runs/o8xxo5ca\" target=\"_blank\">https://wandb.ai/climate_policy_optim/AYS_learning/runs/o8xxo5ca</a><br/>Synced 5 W&B file(s), 0 media file(s), 0 artifact file(s) and 0 other file(s)"
      ],
      "text/plain": [
       "<IPython.core.display.HTML object>"
      ]
     },
     "metadata": {},
     "output_type": "display_data"
    },
    {
     "data": {
      "text/html": [
       "Find logs at: <code>.\\wandb\\run-20220722_175109-o8xxo5ca\\logs</code>"
      ],
      "text/plain": [
       "<IPython.core.display.HTML object>"
      ]
     },
     "metadata": {},
     "output_type": "display_data"
    },
    {
     "data": {
      "text/html": [
       "Successfully finished last run (ID:o8xxo5ca). Initializing new run:<br/>"
      ],
      "text/plain": [
       "<IPython.core.display.HTML object>"
      ]
     },
     "metadata": {},
     "output_type": "display_data"
    },
    {
     "data": {
      "text/html": [
       "Tracking run with wandb version 0.12.21"
      ],
      "text/plain": [
       "<IPython.core.display.HTML object>"
      ]
     },
     "metadata": {},
     "output_type": "display_data"
    },
    {
     "data": {
      "text/html": [
       "Run data is saved locally in <code>C:\\Users\\theod\\PycharmProjects\\climate_policy_thesis\\climate_policy_RL\\classes\\wandb\\run-20220722_175111-o8xxo5ca</code>"
      ],
      "text/plain": [
       "<IPython.core.display.HTML object>"
      ]
     },
     "metadata": {},
     "output_type": "display_data"
    },
    {
     "data": {
      "text/html": [
       "Syncing run <strong><a href=\"https://wandb.ai/climate_policy_optim/AYS_learning/runs/o8xxo5ca\" target=\"_blank\">fragrant-sweep-31</a></strong> to <a href=\"https://wandb.ai/climate_policy_optim/AYS_learning\" target=\"_blank\">Weights & Biases</a> (<a href=\"https://wandb.me/run\" target=\"_blank\">docs</a>)<br/>Sweep page:  <a href=\"https://wandb.ai/climate_policy_optim/AYS_learning/sweeps/muuwo0jy\" target=\"_blank\">https://wandb.ai/climate_policy_optim/AYS_learning/sweeps/muuwo0jy</a>"
      ],
      "text/plain": [
       "<IPython.core.display.HTML object>"
      ]
     },
     "metadata": {},
     "output_type": "display_data"
    },
    {
     "data": {
      "text/html": [
       "Waiting for W&B process to finish... <strong style=\"color:green\">(success).</strong>"
      ],
      "text/plain": [
       "<IPython.core.display.HTML object>"
      ]
     },
     "metadata": {},
     "output_type": "display_data"
    },
    {
     "data": {
      "application/vnd.jupyter.widget-view+json": {
       "model_id": "",
       "version_major": 2,
       "version_minor": 0
      },
      "text/plain": [
       "VBox(children=(Label(value='0.001 MB of 0.001 MB uploaded (0.000 MB deduped)\\r'), FloatProgress(value=1.0, max…"
      ]
     },
     "metadata": {},
     "output_type": "display_data"
    },
    {
     "data": {
      "text/html": [
       "<style>\n",
       "    table.wandb td:nth-child(1) { padding: 0 10px; text-align: left ; width: auto;} td:nth-child(2) {text-align: left ; width: 100%}\n",
       "    .wandb-row { display: flex; flex-direction: row; flex-wrap: wrap; justify-content: flex-start; width: 100% }\n",
       "    .wandb-col { display: flex; flex-direction: column; flex-basis: 100%; flex: 1; padding: 10px; }\n",
       "    </style>\n",
       "<div class=\"wandb-row\"><div class=\"wandb-col\"><h3>Run history:</h3><br/><table class=\"wandb\"><tr><td>episode_reward</td><td>▁▁▁▁▂▇▇▇▁▇▇▇▇▆▁▆▇▇▇▅▁▅▁█▇█▇▇▇▁█▇▁▁▇▅▆▁▁▇</td></tr><tr><td>loss</td><td>▂▁▁▂▂▂▂▁▁▂▂▅▁▅▂▂▁▃▁▅▅█▁▂▃▁▃▃▂▇▄▁▁▁▁▁▂▄▂▄</td></tr><tr><td>moving_average</td><td>▁▁▁▁▁▂▄▅▆▇███▇▇▇▇▇▇▇▇█▇▇▇▇▇▇▇▇▇▇▇▇███▇██</td></tr></table><br/></div><div class=\"wandb-col\"><h3>Run summary:</h3><br/><table class=\"wandb\"><tr><td>episode_reward</td><td>445.98575</td></tr><tr><td>loss</td><td>0.00333</td></tr><tr><td>mean_reward</td><td>299.41897</td></tr><tr><td>moving_average</td><td>355.43916</td></tr><tr><td>top_reward</td><td>564.552</td></tr></table><br/></div></div>"
      ],
      "text/plain": [
       "<IPython.core.display.HTML object>"
      ]
     },
     "metadata": {},
     "output_type": "display_data"
    },
    {
     "data": {
      "text/html": [
       "Synced <strong style=\"color:#cdcd00\">fragrant-sweep-31</strong>: <a href=\"https://wandb.ai/climate_policy_optim/AYS_learning/runs/o8xxo5ca\" target=\"_blank\">https://wandb.ai/climate_policy_optim/AYS_learning/runs/o8xxo5ca</a><br/>Synced 4 W&B file(s), 0 media file(s), 0 artifact file(s) and 0 other file(s)"
      ],
      "text/plain": [
       "<IPython.core.display.HTML object>"
      ]
     },
     "metadata": {},
     "output_type": "display_data"
    },
    {
     "data": {
      "text/html": [
       "Find logs at: <code>.\\wandb\\run-20220722_175111-o8xxo5ca\\logs</code>"
      ],
      "text/plain": [
       "<IPython.core.display.HTML object>"
      ]
     },
     "metadata": {},
     "output_type": "display_data"
    },
    {
     "name": "stderr",
     "output_type": "stream",
     "text": [
      "\u001b[34m\u001b[1mwandb\u001b[0m: Sweep Agent: Waiting for job.\n"
     ]
    }
   ],
   "source": [
    "wandb.agent(\"muuwo0jy\", function=train, project=\"AYS_learning\")"
   ]
  },
  {
   "cell_type": "code",
   "execution_count": null,
   "id": "45b17305-05b4-4245-86c3-70c5c31b4b13",
   "metadata": {},
   "outputs": [],
   "source": []
  }
 ],
 "metadata": {
  "kernelspec": {
   "display_name": "Python 3 (ipykernel)",
   "language": "python",
   "name": "python3"
  },
  "language_info": {
   "codemirror_mode": {
    "name": "ipython",
    "version": 3
   },
   "file_extension": ".py",
   "mimetype": "text/x-python",
   "name": "python",
   "nbconvert_exporter": "python",
   "pygments_lexer": "ipython3",
   "version": "3.8.12"
  }
 },
 "nbformat": 4,
 "nbformat_minor": 5
}
