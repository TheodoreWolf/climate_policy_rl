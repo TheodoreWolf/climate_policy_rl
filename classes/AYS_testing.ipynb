{
 "cells": [
  {
   "cell_type": "code",
   "execution_count": 2,
   "id": "1921d287-c855-4c16-8f1b-9252780512a7",
   "metadata": {
    "jupyter": {
     "source_hidden": true
    },
    "tags": []
   },
   "outputs": [],
   "source": [
    "import random\n",
    "from tqdm.notebook import tqdm\n",
    "import numpy as np\n",
    "from IPython.display import clear_output\n",
    "from importlib import reload\n",
    "\n",
    "import gym\n",
    "import matplotlib.pyplot as plt\n",
    "import wandb\n",
    "import torch\n",
    "\n",
    "from Learning.utils import ReplayBuffer, plot, plot_test_trajectory, PER_IS_ReplayBuffer\n",
    "import Learning.agents as ag\n",
    "import Envs.AYS.AYS_Environment as ays"
   ]
  },
  {
   "cell_type": "code",
   "execution_count": 11,
   "id": "d3a04f72-5caa-43bf-9ef7-c0e92f741a84",
   "metadata": {
    "collapsed": true,
    "jupyter": {
     "outputs_hidden": true,
     "source_hidden": true
    },
    "tags": []
   },
   "outputs": [
    {
     "name": "stdout",
     "output_type": "stream",
     "text": [
      "Init AYS Environment! \n",
      "Reward Type: PB \n",
      "Sustainability Boundaries [A_PB, Y_SF, S_ren]:  [3.45e+02 4.00e+13 0.00e+00]\n"
     ]
    }
   ],
   "source": [
    "UPDATE_ONLINE = False\n",
    "BATCH_SIZE = 256\n",
    "MAX_EPISODES = 2000\n",
    "RANDOM_EXPERIENCE = 0\n",
    "LEARNING_RATE = 3e-4\n",
    "BUFFER_SIZE = 2**14\n",
    "REWARD_TYPE = 'PB'\n",
    "DT = 1\n",
    "SCHEDULER = (False, 1000, 0.5)\n",
    "SEED = 0\n",
    "MAX_STEPS = 600\n",
    "\n",
    "random.seed(SEED)\n",
    "np.random.seed(SEED)\n",
    "torch.manual_seed(SEED)\n",
    "\n",
    "wandbsave = False\n",
    "\n",
    "config = {\n",
    "    \"learning_rate\": LEARNING_RATE,\n",
    "    \"max_episodes\": MAX_EPISODES,\n",
    "    \"batch_size\": BATCH_SIZE, \n",
    "    \"online_updating\": UPDATE_ONLINE,\n",
    "    \"random_experience\": RANDOM_EXPERIENCE,\n",
    "    \"buffer_size\": BUFFER_SIZE,\n",
    "    \"reward_type\": REWARD_TYPE,\n",
    "    \"dt\": DT,\n",
    "    \"scheduler\": SCHEDULER,\n",
    "    \"seed\": SEED\n",
    "}\n",
    "reload(ays)\n",
    "env = ays.AYS_Environment(discount=0.99,dt=DT, reward_type=REWARD_TYPE)\n",
    "state_dim = len(env.observation_space)\n",
    "action_dim = len(env.action_space)\n",
    "\n",
    "reload(ag)\n",
    "memory = PER_IS_ReplayBuffer(BUFFER_SIZE, alpha=0.6)\n",
    "agent = ag.A2C(state_dim, action_dim, alpha=LEARNING_RATE)\n",
    "\n",
    "scheduler = torch.optim.lr_scheduler.StepLR(agent.optimizer, step_size=SCHEDULER[1], gamma=SCHEDULER[2])\n",
    "\n",
    "if wandbsave:\n",
    "    wandb.init(name=\"AYS_PPO2_policy_cost\",config=config,\n",
    "               entity=\"climate_policy_optim\",  project=\"AYS_learning\")\n",
    "    wandb.watch(agent.ac_net)"
   ]
  },
  {
   "cell_type": "code",
   "execution_count": 12,
   "id": "eb3f1eba-cec8-4ad8-93f0-4890234f411f",
   "metadata": {
    "collapsed": true,
    "jupyter": {
     "outputs_hidden": true,
     "source_hidden": true
    },
    "tags": []
   },
   "outputs": [
    {
     "data": {
      "image/png": "[encoded data removed]",
      "text/plain": [
       "<Figure size 1440x360 with 1 Axes>"
      ]
     },
     "metadata": {
      "needs_background": "light"
     },
     "output_type": "display_data"
    }
   ],
   "source": [
    "rewards = []\n",
    "mean_rewards = []\n",
    "frame_idx = 0\n",
    "beta = 0.6\n",
    "\n",
    "for episodes in tqdm(range(MAX_EPISODES)):\n",
    "    state = env.reset()\n",
    "    episode_reward = 0\n",
    "    done = False\n",
    "\n",
    "    for i in range(MAX_STEPS):\n",
    "        if episodes>RANDOM_EXPERIENCE:\n",
    "            action = agent.get_action(state)\n",
    "        else:\n",
    "            action = np.random.choice(action_dim)\n",
    "            \n",
    "        next_state, reward, done,  = env.step(action)\n",
    "        \n",
    "        \n",
    "        episode_reward += reward\n",
    "        \n",
    "        if UPDATE_ONLINE:\n",
    "            loss = agent.online_update((state, action, reward, next_state, done))\n",
    "            if wandbsave:\n",
    "                wandb.log({'loss': loss})\n",
    "        else:\n",
    "            memory.push(state, action, reward, next_state, done)\n",
    "            \n",
    "        \n",
    "        state = next_state\n",
    "        frame_idx += 1 \n",
    "        if done:\n",
    "            break\n",
    "        \n",
    "    rewards.append(episode_reward)\n",
    "    mean_rewards.append(np.mean(rewards[-50:]))\n",
    "    \n",
    "    if not UPDATE_ONLINE:\n",
    "        if memory.size > BATCH_SIZE:\n",
    "            beta = 1-0.4*np.exp(-0.001*episodes) # we converge beta to 1\n",
    "            sample = memory.sample(BATCH_SIZE, beta)\n",
    "            loss, tds = agent.update((sample['obs'], sample['action'], sample['reward'], sample['next_obs'], sample['done']))\n",
    "            new_tds = np.abs(tds.cpu().numpy()) + 1e-6 # compatibility\n",
    "            memory.update_priorities(sample['indexes'], new_tds)\n",
    "            if wandbsave:\n",
    "                wandb.log({'loss': loss})    \n",
    "                \n",
    "    if SCHEDULER[0]:\n",
    "        scheduler.step()\n",
    "    \n",
    "    if wandbsave:\n",
    "        wandb.log({'episode_reward':episode_reward})\n",
    "        if episodes%200==0:\n",
    "                plot_test_trajectory(env, agent)\n",
    "            \n",
    "    else:\n",
    "        if episodes%10==0:\n",
    "            plot(frame_idx, mean_rewards)\n",
    "            if episodes%30==0:\n",
    "                plot_test_trajectory(env, agent)\n",
    "\n",
    "if wandbsave:\n",
    "    wandb.run.summary[\"mean_reward\"] = np.mean(rewards)\n",
    "    wandb.run.summary[\"top_reward\"]= max(rewards)\n",
    "    wandb.finish()"
   ]
  },
  {
   "cell_type": "code",
   "execution_count": null,
   "id": "47ebd9df-ccbd-40d6-b69a-d3ed586be0be",
   "metadata": {
    "jupyter": {
     "source_hidden": true
    },
    "tags": []
   },
   "outputs": [],
   "source": [
    "plot_test_trajectory(env, agent)"
   ]
  },
  {
   "cell_type": "markdown",
   "id": "de6338a1-6c4c-4df2-ac16-c204acf37818",
   "metadata": {},
   "source": [
    "# Using function"
   ]
  },
  {
   "cell_type": "code",
   "execution_count": 1,
   "id": "9b41dab7-21c5-4bd8-8e96-db75b45d0dbe",
   "metadata": {
    "tags": []
   },
   "outputs": [
    {
     "data": {
      "text/plain": [
       "<module 'learn_class' from 'C:\\\\Users\\\\theod\\\\PycharmProjects\\\\climate_policy_thesis\\\\climate_policy_RL\\\\classes\\\\learn_class.py'>"
      ]
     },
     "execution_count": 1,
     "metadata": {},
     "output_type": "execute_result"
    }
   ],
   "source": [
    "from importlib import reload\n",
    "import learn_class as lc\n",
    "reload(lc)"
   ]
  },
  {
   "cell_type": "code",
   "execution_count": 3,
   "id": "4497e8e6-1f04-4c6a-9f1d-984379f33652",
   "metadata": {},
   "outputs": [
    {
     "data": {
      "image/png": "[encoded data removed]",
      "text/plain": [
       "<Figure size 1440x360 with 1 Axes>"
      ]
     },
     "metadata": {
      "needs_background": "light"
     },
     "output_type": "display_data"
    },
    {
     "data": {
      "text/plain": [
       "<Learning.agents.A2C at 0x263a8a80c70>"
      ]
     },
     "execution_count": 3,
     "metadata": {},
     "output_type": "execute_result"
    }
   ],
   "source": [
    "reload(lc)\n",
    "experiment = lc.learning(wandb_save=False, max_frames=1e6, max_episd)\n",
    "experiment.set_agent(\"A2C\", epsilon=0.01, lr=3e-4)\n",
    "experiment.learning_loop_online(\"A2C\", notebook=True, plotting=False)"
   ]
  },
  {
   "cell_type": "code",
   "execution_count": null,
   "id": "02ba05f5-8002-473e-b47a-3ced1f4100c1",
   "metadata": {},
   "outputs": [],
   "source": []
  }
 ],
 "metadata": {
  "kernelspec": {
   "display_name": "Python 3 (ipykernel)",
   "language": "python",
   "name": "python3"
  },
  "language_info": {
   "codemirror_mode": {
    "name": "ipython",
    "version": 3
   },
   "file_extension": ".py",
   "mimetype": "text/x-python",
   "name": "python",
   "nbconvert_exporter": "python",
   "pygments_lexer": "ipython3",
   "version": "3.8.12"
  }
 },
 "nbformat": 4,
 "nbformat_minor": 5
}
