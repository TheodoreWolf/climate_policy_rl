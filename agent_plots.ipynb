{
 "cells": [
  {
   "cell_type": "code",
   "execution_count": 7,
   "id": "b13722de-c34d-4a8f-8501-25d71aafaa69",
   "metadata": {},
   "outputs": [
    {
     "data": {
      "text/plain": [
       "True"
      ]
     },
     "execution_count": 7,
     "metadata": {},
     "output_type": "execute_result"
    }
   ],
   "source": [
    "from  tqdm import tqdm\n",
    "import wandb\n",
    "import torch\n",
    "import classes.learn_class as lc\n",
    "import classes.experiments as exp\n",
    "from importlib import reload\n",
    "import json\n",
    "import os\n",
    "wandb.login()"
   ]
  },
  {
   "cell_type": "code",
   "execution_count": 8,
   "id": "e6848a6d-07cd-46fe-b6c6-87c1484dd1cc",
   "metadata": {},
   "outputs": [
    {
     "data": {
      "text/plain": [
       "<module 'classes.experiments' from 'C:\\\\Users\\\\theod\\\\PycharmProjects\\\\climate_policy_thesis\\\\climate_policy_RL\\\\classes\\\\experiments.py'>"
      ]
     },
     "execution_count": 8,
     "metadata": {},
     "output_type": "execute_result"
    }
   ],
   "source": [
    "code_dir = r'C:\\\\Users\\\\theod\\\\PycharmProjects\\\\climate_policy_thesis\\\\climate_policy_RL'\n",
    "proj_dir = r'C:\\\\Users\\\\theod\\\\Desktop\\\\UCL\\\\Machine Learning\\\\Project'\n",
    "path = os.path.join(proj_dir, \"models\")\n",
    "exp_path = os.path.join(proj_dir, \"experiment_data\")\n",
    "reload(lc)\n",
    "reload(exp)"
   ]
  },
  {
   "cell_type": "markdown",
   "id": "84135d60-34bd-41d3-b67f-24410e55a758",
   "metadata": {
    "jp-MarkdownHeadingCollapsed": true,
    "tags": []
   },
   "source": [
    "# default"
   ]
  },
  {
   "cell_type": "code",
   "execution_count": 6,
   "id": "86d16880-0f4a-4774-8b0c-6ee21f758706",
   "metadata": {
    "tags": []
   },
   "outputs": [
    {
     "name": "stderr",
     "output_type": "stream",
     "text": [
      "  0%|                                                                                                                                                      | 0/3 [00:00<?, ?it/s]"
     ]
    },
    {
     "data": {
      "text/html": [
       "Tracking run with wandb version 0.13.1"
      ],
      "text/plain": [
       "<IPython.core.display.HTML object>"
      ]
     },
     "metadata": {},
     "output_type": "display_data"
    },
    {
     "data": {
      "text/html": [
       "Run data is saved locally in <code>C:\\Users\\theod\\PycharmProjects\\climate_policy_thesis\\climate_policy_RL\\wandb\\run-20220811_110410-28vas5na</code>"
      ],
      "text/plain": [
       "<IPython.core.display.HTML object>"
      ]
     },
     "metadata": {},
     "output_type": "display_data"
    },
    {
     "data": {
      "text/html": [
       "Syncing run <strong><a href=\"https://wandb.ai/climate_policy_optim/AYS_learning/runs/28vas5na\" target=\"_blank\">ruby-glitter-909</a></strong> to <a href=\"https://wandb.ai/climate_policy_optim/AYS_learning\" target=\"_blank\">Weights & Biases</a> (<a href=\"https://wandb.me/run\" target=\"_blank\">docs</a>)<br/>"
      ],
      "text/plain": [
       "<IPython.core.display.HTML object>"
      ]
     },
     "metadata": {},
     "output_type": "display_data"
    },
    {
     "name": "stderr",
     "output_type": "stream",
     "text": [
      "Detected call of `lr_scheduler.step()` before `optimizer.step()`. In PyTorch 1.1.0 and later, you should call them in the opposite order: `optimizer.step()` before `lr_scheduler.step()`.  Failure to do this will result in PyTorch skipping the first value of the learning rate schedule. See more details at https://pytorch.org/docs/stable/optim.html#how-to-adjust-learning-rate\n"
     ]
    },
    {
     "data": {
      "text/html": [
       "Waiting for W&B process to finish... <strong style=\"color:green\">(success).</strong>"
      ],
      "text/plain": [
       "<IPython.core.display.HTML object>"
      ]
     },
     "metadata": {},
     "output_type": "display_data"
    },
    {
     "data": {
      "application/vnd.jupyter.widget-view+json": {
       "model_id": "",
       "version_major": 2,
       "version_minor": 0
      },
      "text/plain": [
       "VBox(children=(Label(value='0.001 MB of 0.001 MB uploaded (0.000 MB deduped)\\r'), FloatProgress(value=1.0, max…"
      ]
     },
     "metadata": {},
     "output_type": "display_data"
    },
    {
     "data": {
      "text/html": [
       "<style>\n",
       "    table.wandb td:nth-child(1) { padding: 0 10px; text-align: left ; width: auto;} td:nth-child(2) {text-align: left ; width: 100%}\n",
       "    .wandb-row { display: flex; flex-direction: row; flex-wrap: wrap; justify-content: flex-start; width: 100% }\n",
       "    .wandb-col { display: flex; flex-direction: column; flex-basis: 100%; flex: 1; padding: 10px; }\n",
       "    </style>\n",
       "<div class=\"wandb-row\"><div class=\"wandb-col\"><h3>Run history:</h3><br/><table class=\"wandb\"><tr><td>episode_reward</td><td>▁▁▇█▁▁███▁█▁▁███▁██████▁████▁█▁█████████</td></tr><tr><td>episodes</td><td>▁</td></tr><tr><td>frame_idx</td><td>▁</td></tr><tr><td>loss</td><td>▁▁▁▃▃▁▁▁▄▁▄▁▃▁▂▃▁▁▁▅▄▁▃▁█▂▃▃▂▁▇▇▁▃█▃▂▁▇▄</td></tr><tr><td>moving_average</td><td>▁▁▃▆▆▅▇██▆▅▆▅▇▇▆▇▆▆▇▇▇▆▅▆▅▆▆▅▆▆▆█▆▆▅▇▇▇▆</td></tr></table><br/></div><div class=\"wandb-col\"><h3>Run summary:</h3><br/><table class=\"wandb\"><tr><td>episode_reward</td><td>549.87019</td></tr><tr><td>episodes</td><td>1882</td></tr><tr><td>frame_idx</td><td>500271</td></tr><tr><td>loss</td><td>0.10328</td></tr><tr><td>mean_reward</td><td>307.84704</td></tr><tr><td>moving_average</td><td>310.53658</td></tr><tr><td>top_reward</td><td>565.35027</td></tr></table><br/></div></div>"
      ],
      "text/plain": [
       "<IPython.core.display.HTML object>"
      ]
     },
     "metadata": {},
     "output_type": "display_data"
    },
    {
     "data": {
      "text/html": [
       "Synced <strong style=\"color:#cdcd00\">ruby-glitter-909</strong>: <a href=\"https://wandb.ai/climate_policy_optim/AYS_learning/runs/28vas5na\" target=\"_blank\">https://wandb.ai/climate_policy_optim/AYS_learning/runs/28vas5na</a><br/>Synced 5 W&B file(s), 0 media file(s), 0 artifact file(s) and 0 other file(s)"
      ],
      "text/plain": [
       "<IPython.core.display.HTML object>"
      ]
     },
     "metadata": {},
     "output_type": "display_data"
    },
    {
     "data": {
      "text/html": [
       "Find logs at: <code>.\\wandb\\run-20220811_110410-28vas5na\\logs</code>"
      ],
      "text/plain": [
       "<IPython.core.display.HTML object>"
      ]
     },
     "metadata": {},
     "output_type": "display_data"
    },
    {
     "name": "stderr",
     "output_type": "stream",
     "text": [
      " 33%|██████████████████████████████████████████████▋                                                                                             | 1/3 [17:01<34:02, 1021.25s/it]"
     ]
    },
    {
     "data": {
      "text/html": [
       "Tracking run with wandb version 0.13.1"
      ],
      "text/plain": [
       "<IPython.core.display.HTML object>"
      ]
     },
     "metadata": {},
     "output_type": "display_data"
    },
    {
     "data": {
      "text/html": [
       "Run data is saved locally in <code>C:\\Users\\theod\\PycharmProjects\\climate_policy_thesis\\climate_policy_RL\\wandb\\run-20220811_112112-fbxiajxa</code>"
      ],
      "text/plain": [
       "<IPython.core.display.HTML object>"
      ]
     },
     "metadata": {},
     "output_type": "display_data"
    },
    {
     "data": {
      "text/html": [
       "Syncing run <strong><a href=\"https://wandb.ai/climate_policy_optim/AYS_learning/runs/fbxiajxa\" target=\"_blank\">rural-cloud-914</a></strong> to <a href=\"https://wandb.ai/climate_policy_optim/AYS_learning\" target=\"_blank\">Weights & Biases</a> (<a href=\"https://wandb.me/run\" target=\"_blank\">docs</a>)<br/>"
      ],
      "text/plain": [
       "<IPython.core.display.HTML object>"
      ]
     },
     "metadata": {},
     "output_type": "display_data"
    },
    {
     "data": {
      "text/html": [
       "Waiting for W&B process to finish... <strong style=\"color:green\">(success).</strong>"
      ],
      "text/plain": [
       "<IPython.core.display.HTML object>"
      ]
     },
     "metadata": {},
     "output_type": "display_data"
    },
    {
     "data": {
      "application/vnd.jupyter.widget-view+json": {
       "model_id": "",
       "version_major": 2,
       "version_minor": 0
      },
      "text/plain": [
       "VBox(children=(Label(value='0.001 MB of 0.001 MB uploaded (0.000 MB deduped)\\r'), FloatProgress(value=1.0, max…"
      ]
     },
     "metadata": {},
     "output_type": "display_data"
    },
    {
     "data": {
      "text/html": [
       "<style>\n",
       "    table.wandb td:nth-child(1) { padding: 0 10px; text-align: left ; width: auto;} td:nth-child(2) {text-align: left ; width: 100%}\n",
       "    .wandb-row { display: flex; flex-direction: row; flex-wrap: wrap; justify-content: flex-start; width: 100% }\n",
       "    .wandb-col { display: flex; flex-direction: column; flex-basis: 100%; flex: 1; padding: 10px; }\n",
       "    </style>\n",
       "<div class=\"wandb-row\"><div class=\"wandb-col\"><h3>Run history:</h3><br/><table class=\"wandb\"><tr><td>episode_reward</td><td>▂▅▇▁▅▇▅▆▁▁▂▆▄▅▇█▅▂▄▃▁▇▃▅▄▂▂▇▆▂▆▅▄▃▇▆▁▂▁▄</td></tr><tr><td>episodes</td><td>▁</td></tr><tr><td>frame_idx</td><td>▁</td></tr><tr><td>loss</td><td>▅▃▂▂▃▂▃█▃▁▇▆▃▃▃█▃▄▂▁▃█▂▄▃▄▂▃▄▅▄▃▄▃▁▄█▅▅█</td></tr><tr><td>moving_average</td><td>▁▄▅▇▆▆▆▆██▇▆█▆▆▆▆▅▇▆▇▇▆▇▅▅▆▆▅▇▆▅▆▆▆▆▆▆█▅</td></tr></table><br/></div><div class=\"wandb-col\"><h3>Run summary:</h3><br/><table class=\"wandb\"><tr><td>episode_reward</td><td>80.32563</td></tr><tr><td>episodes</td><td>3447</td></tr><tr><td>frame_idx</td><td>500137</td></tr><tr><td>loss</td><td>2.66201</td></tr><tr><td>mean_reward</td><td>65.48933</td></tr><tr><td>moving_average</td><td>68.18649</td></tr><tr><td>top_reward</td><td>389.6041</td></tr></table><br/></div></div>"
      ],
      "text/plain": [
       "<IPython.core.display.HTML object>"
      ]
     },
     "metadata": {},
     "output_type": "display_data"
    },
    {
     "data": {
      "text/html": [
       "Synced <strong style=\"color:#cdcd00\">rural-cloud-914</strong>: <a href=\"https://wandb.ai/climate_policy_optim/AYS_learning/runs/fbxiajxa\" target=\"_blank\">https://wandb.ai/climate_policy_optim/AYS_learning/runs/fbxiajxa</a><br/>Synced 4 W&B file(s), 0 media file(s), 0 artifact file(s) and 0 other file(s)"
      ],
      "text/plain": [
       "<IPython.core.display.HTML object>"
      ]
     },
     "metadata": {},
     "output_type": "display_data"
    },
    {
     "data": {
      "text/html": [
       "Find logs at: <code>.\\wandb\\run-20220811_112112-fbxiajxa\\logs</code>"
      ],
      "text/plain": [
       "<IPython.core.display.HTML object>"
      ]
     },
     "metadata": {},
     "output_type": "display_data"
    },
    {
     "name": "stderr",
     "output_type": "stream",
     "text": [
      " 67%|█████████████████████████████████████████████████████████████████████████████████████████████▎                                              | 2/3 [45:05<23:31, 1411.37s/it]"
     ]
    },
    {
     "data": {
      "text/html": [
       "Tracking run with wandb version 0.13.1"
      ],
      "text/plain": [
       "<IPython.core.display.HTML object>"
      ]
     },
     "metadata": {},
     "output_type": "display_data"
    },
    {
     "data": {
      "text/html": [
       "Run data is saved locally in <code>C:\\Users\\theod\\PycharmProjects\\climate_policy_thesis\\climate_policy_RL\\wandb\\run-20220811_114916-1q3pxcgx</code>"
      ],
      "text/plain": [
       "<IPython.core.display.HTML object>"
      ]
     },
     "metadata": {},
     "output_type": "display_data"
    },
    {
     "data": {
      "text/html": [
       "Syncing run <strong><a href=\"https://wandb.ai/climate_policy_optim/AYS_learning/runs/1q3pxcgx\" target=\"_blank\">smart-puddle-922</a></strong> to <a href=\"https://wandb.ai/climate_policy_optim/AYS_learning\" target=\"_blank\">Weights & Biases</a> (<a href=\"https://wandb.me/run\" target=\"_blank\">docs</a>)<br/>"
      ],
      "text/plain": [
       "<IPython.core.display.HTML object>"
      ]
     },
     "metadata": {},
     "output_type": "display_data"
    },
    {
     "data": {
      "text/html": [
       "Waiting for W&B process to finish... <strong style=\"color:green\">(success).</strong>"
      ],
      "text/plain": [
       "<IPython.core.display.HTML object>"
      ]
     },
     "metadata": {},
     "output_type": "display_data"
    },
    {
     "data": {
      "application/vnd.jupyter.widget-view+json": {
       "model_id": "",
       "version_major": 2,
       "version_minor": 0
      },
      "text/plain": [
       "VBox(children=(Label(value='0.001 MB of 0.001 MB uploaded (0.000 MB deduped)\\r'), FloatProgress(value=1.0, max…"
      ]
     },
     "metadata": {},
     "output_type": "display_data"
    },
    {
     "data": {
      "text/html": [
       "<style>\n",
       "    table.wandb td:nth-child(1) { padding: 0 10px; text-align: left ; width: auto;} td:nth-child(2) {text-align: left ; width: 100%}\n",
       "    .wandb-row { display: flex; flex-direction: row; flex-wrap: wrap; justify-content: flex-start; width: 100% }\n",
       "    .wandb-col { display: flex; flex-direction: column; flex-basis: 100%; flex: 1; padding: 10px; }\n",
       "    </style>\n",
       "<div class=\"wandb-row\"><div class=\"wandb-col\"><h3>Run history:</h3><br/><table class=\"wandb\"><tr><td>episode_reward</td><td>▁▂▁▁▁▁▂▁▃▄▆▁▁█▄▃██▁█████▃█▁█▁█▁█▁▄▂▃▁██▁</td></tr><tr><td>episodes</td><td>▁</td></tr><tr><td>frame_idx</td><td>▁</td></tr><tr><td>loss</td><td>▇▂▂▁▂▄▃▁▃▁▁▄▅▄▅▁▂▁▁▁▄▁▂▁▁▁▂▁▆▁▁▁▁▅▂█▁▅█▁</td></tr><tr><td>moving_average</td><td>▁▂▂▂▂▂▂▂▃▄▅▅▅▅▅▆▆▇▆▅▆█▅█▇▆▆▅▆▇▄▆▅▆▇▆▇▆▆▅</td></tr></table><br/></div><div class=\"wandb-col\"><h3>Run summary:</h3><br/><table class=\"wandb\"><tr><td>episode_reward</td><td>111.61128</td></tr><tr><td>episodes</td><td>1899</td></tr><tr><td>frame_idx</td><td>500260</td></tr><tr><td>loss</td><td>0.02278</td></tr><tr><td>mean_reward</td><td>133.20427</td></tr><tr><td>moving_average</td><td>159.97744</td></tr><tr><td>top_reward</td><td>352.32761</td></tr></table><br/></div></div>"
      ],
      "text/plain": [
       "<IPython.core.display.HTML object>"
      ]
     },
     "metadata": {},
     "output_type": "display_data"
    },
    {
     "data": {
      "text/html": [
       "Synced <strong style=\"color:#cdcd00\">smart-puddle-922</strong>: <a href=\"https://wandb.ai/climate_policy_optim/AYS_learning/runs/1q3pxcgx\" target=\"_blank\">https://wandb.ai/climate_policy_optim/AYS_learning/runs/1q3pxcgx</a><br/>Synced 4 W&B file(s), 0 media file(s), 0 artifact file(s) and 0 other file(s)"
      ],
      "text/plain": [
       "<IPython.core.display.HTML object>"
      ]
     },
     "metadata": {},
     "output_type": "display_data"
    },
    {
     "data": {
      "text/html": [
       "Find logs at: <code>.\\wandb\\run-20220811_114916-1q3pxcgx\\logs</code>"
      ],
      "text/plain": [
       "<IPython.core.display.HTML object>"
      ]
     },
     "metadata": {},
     "output_type": "display_data"
    },
    {
     "name": "stderr",
     "output_type": "stream",
     "text": [
      "100%|██████████████████████████████████████████████████████████████████████████████████████████████████████████████████████████████████████████| 3/3 [1:02:43<00:00, 1254.63s/it]\n"
     ]
    }
   ],
   "source": [
    "dqn_data = []\n",
    "config = {\"learning_rate\": 0.002629, \n",
    "    \"batch_size\": 512,\n",
    "    \"buffer_size\": 4096,\n",
    "    \"reward_type\": 'PB',\n",
    "    \"seed\": 0,\n",
    "    \"epsilon\": 0.2511,\n",
    "    \"rho\":0.6,\n",
    "    \"tau\":0.1,\n",
    "    \"discount\":0.99,\n",
    "    \"max_epochs\":50,\n",
    "    \"per_is\":False\n",
    "}\n",
    "for seed in tqdm(range(3)):\n",
    "    config[\"seed\"] = seed\n",
    "    dqn_exp = lc.Learning(max_frames=5e5, max_epochs=50, seed=seed, reward_type=\"PB\", gamma=0.99, max_episodes=10000, wandb_save=True)\n",
    "    dqn_exp.set_agent(\"DQN\", epsilon=0.2511, lr=0.002629, rho=0.6, tau=0.1)\n",
    "    dqn_exp.learning_loop_offline(512, 4096, per_is=False, config=config)\n",
    "    torch.save(dqn_exp.agent.target_net.state_dict(), path+\"\\\\dqn_target_net_2.\"+str(seed)+\".pt\")  \n",
    "    dqn_data.append(dqn_exp.data) "
   ]
  },
  {
   "cell_type": "code",
   "execution_count": 7,
   "id": "78d5d73f-1435-44ff-9c85-f9f787efc1e0",
   "metadata": {
    "collapsed": true,
    "jupyter": {
     "outputs_hidden": true
    },
    "tags": []
   },
   "outputs": [
    {
     "name": "stderr",
     "output_type": "stream",
     "text": [
      "  0%|                                                                                                                                                      | 0/3 [00:00<?, ?it/s]"
     ]
    },
    {
     "data": {
      "text/html": [
       "Tracking run with wandb version 0.13.1"
      ],
      "text/plain": [
       "<IPython.core.display.HTML object>"
      ]
     },
     "metadata": {},
     "output_type": "display_data"
    },
    {
     "data": {
      "text/html": [
       "Run data is saved locally in <code>C:\\Users\\theod\\PycharmProjects\\climate_policy_thesis\\climate_policy_RL\\wandb\\run-20220811_120654-3ogzft8q</code>"
      ],
      "text/plain": [
       "<IPython.core.display.HTML object>"
      ]
     },
     "metadata": {},
     "output_type": "display_data"
    },
    {
     "data": {
      "text/html": [
       "Syncing run <strong><a href=\"https://wandb.ai/climate_policy_optim/AYS_learning/runs/3ogzft8q\" target=\"_blank\">gallant-lake-927</a></strong> to <a href=\"https://wandb.ai/climate_policy_optim/AYS_learning\" target=\"_blank\">Weights & Biases</a> (<a href=\"https://wandb.me/run\" target=\"_blank\">docs</a>)<br/>"
      ],
      "text/plain": [
       "<IPython.core.display.HTML object>"
      ]
     },
     "metadata": {},
     "output_type": "display_data"
    },
    {
     "data": {
      "text/html": [
       "Waiting for W&B process to finish... <strong style=\"color:green\">(success).</strong>"
      ],
      "text/plain": [
       "<IPython.core.display.HTML object>"
      ]
     },
     "metadata": {},
     "output_type": "display_data"
    },
    {
     "data": {
      "application/vnd.jupyter.widget-view+json": {
       "model_id": "",
       "version_major": 2,
       "version_minor": 0
      },
      "text/plain": [
       "VBox(children=(Label(value='0.001 MB of 0.001 MB uploaded (0.000 MB deduped)\\r'), FloatProgress(value=1.0, max…"
      ]
     },
     "metadata": {},
     "output_type": "display_data"
    },
    {
     "data": {
      "text/html": [
       "<style>\n",
       "    table.wandb td:nth-child(1) { padding: 0 10px; text-align: left ; width: auto;} td:nth-child(2) {text-align: left ; width: 100%}\n",
       "    .wandb-row { display: flex; flex-direction: row; flex-wrap: wrap; justify-content: flex-start; width: 100% }\n",
       "    .wandb-col { display: flex; flex-direction: column; flex-basis: 100%; flex: 1; padding: 10px; }\n",
       "    </style>\n",
       "<div class=\"wandb-row\"><div class=\"wandb-col\"><h3>Run history:</h3><br/><table class=\"wandb\"><tr><td>episode_reward</td><td>▁▂▁▇█▇▇▁▇██▇▇▇▇▁▁███████▁██▁████▁███████</td></tr><tr><td>episodes</td><td>▁</td></tr><tr><td>frame_idx</td><td>▁</td></tr><tr><td>loss</td><td>▂▅█▁▂▅▁▃▁▁▃▄▁▁▁▂▁▁▃▁▁▂▁▃▂▁▁▂▁▂▂▁▃▁▂▁▂▄▁▃</td></tr><tr><td>moving_average</td><td>▁▁▃▇█▆▅▇▆▅▆█▆▄█▆▆▇█▇▇█▇▇▇▇▇▆▇▇▇▇▇▇▇█▇▇█▇</td></tr></table><br/></div><div class=\"wandb-col\"><h3>Run summary:</h3><br/><table class=\"wandb\"><tr><td>episode_reward</td><td>502.93282</td></tr><tr><td>episodes</td><td>1814</td></tr><tr><td>frame_idx</td><td>500297</td></tr><tr><td>loss</td><td>0.10215</td></tr><tr><td>mean_reward</td><td>338.94785</td></tr><tr><td>moving_average</td><td>410.37089</td></tr><tr><td>top_reward</td><td>553.70862</td></tr></table><br/></div></div>"
      ],
      "text/plain": [
       "<IPython.core.display.HTML object>"
      ]
     },
     "metadata": {},
     "output_type": "display_data"
    },
    {
     "data": {
      "text/html": [
       "Synced <strong style=\"color:#cdcd00\">gallant-lake-927</strong>: <a href=\"https://wandb.ai/climate_policy_optim/AYS_learning/runs/3ogzft8q\" target=\"_blank\">https://wandb.ai/climate_policy_optim/AYS_learning/runs/3ogzft8q</a><br/>Synced 4 W&B file(s), 0 media file(s), 0 artifact file(s) and 0 other file(s)"
      ],
      "text/plain": [
       "<IPython.core.display.HTML object>"
      ]
     },
     "metadata": {},
     "output_type": "display_data"
    },
    {
     "data": {
      "text/html": [
       "Find logs at: <code>.\\wandb\\run-20220811_120654-3ogzft8q\\logs</code>"
      ],
      "text/plain": [
       "<IPython.core.display.HTML object>"
      ]
     },
     "metadata": {},
     "output_type": "display_data"
    },
    {
     "name": "stderr",
     "output_type": "stream",
     "text": [
      " 33%|██████████████████████████████████████████████▋                                                                                             | 1/3 [22:25<44:51, 1346.00s/it]"
     ]
    },
    {
     "data": {
      "text/html": [
       "Tracking run with wandb version 0.13.1"
      ],
      "text/plain": [
       "<IPython.core.display.HTML object>"
      ]
     },
     "metadata": {},
     "output_type": "display_data"
    },
    {
     "data": {
      "text/html": [
       "Run data is saved locally in <code>C:\\Users\\theod\\PycharmProjects\\climate_policy_thesis\\climate_policy_RL\\wandb\\run-20220811_122920-393nc9b8</code>"
      ],
      "text/plain": [
       "<IPython.core.display.HTML object>"
      ]
     },
     "metadata": {},
     "output_type": "display_data"
    },
    {
     "data": {
      "text/html": [
       "Syncing run <strong><a href=\"https://wandb.ai/climate_policy_optim/AYS_learning/runs/393nc9b8\" target=\"_blank\">royal-dust-933</a></strong> to <a href=\"https://wandb.ai/climate_policy_optim/AYS_learning\" target=\"_blank\">Weights & Biases</a> (<a href=\"https://wandb.me/run\" target=\"_blank\">docs</a>)<br/>"
      ],
      "text/plain": [
       "<IPython.core.display.HTML object>"
      ]
     },
     "metadata": {},
     "output_type": "display_data"
    },
    {
     "data": {
      "text/html": [
       "Waiting for W&B process to finish... <strong style=\"color:green\">(success).</strong>"
      ],
      "text/plain": [
       "<IPython.core.display.HTML object>"
      ]
     },
     "metadata": {},
     "output_type": "display_data"
    },
    {
     "data": {
      "application/vnd.jupyter.widget-view+json": {
       "model_id": "",
       "version_major": 2,
       "version_minor": 0
      },
      "text/plain": [
       "VBox(children=(Label(value='0.001 MB of 0.001 MB uploaded (0.000 MB deduped)\\r'), FloatProgress(value=1.0, max…"
      ]
     },
     "metadata": {},
     "output_type": "display_data"
    },
    {
     "data": {
      "text/html": [
       "<style>\n",
       "    table.wandb td:nth-child(1) { padding: 0 10px; text-align: left ; width: auto;} td:nth-child(2) {text-align: left ; width: 100%}\n",
       "    .wandb-row { display: flex; flex-direction: row; flex-wrap: wrap; justify-content: flex-start; width: 100% }\n",
       "    .wandb-col { display: flex; flex-direction: column; flex-basis: 100%; flex: 1; padding: 10px; }\n",
       "    </style>\n",
       "<div class=\"wandb-row\"><div class=\"wandb-col\"><h3>Run history:</h3><br/><table class=\"wandb\"><tr><td>episode_reward</td><td>▁▂█▂▂▁▂▂▂▂▃▁█▂▂▂▂▇▂▁▃▂▂▂▂▂▂▂▂▂▂▂▂▂▂▂▂▁▁▂</td></tr><tr><td>episodes</td><td>▁</td></tr><tr><td>frame_idx</td><td>▁</td></tr><tr><td>loss</td><td>█▂▁▂▁▃▁▅▂▂▁▁▁▁▁▃▁▁▁▁▁▂▂▁▁▁▂▁▁▁▁▁▂▂▁▁▁▂▁▂</td></tr><tr><td>moving_average</td><td>▁▂▆▆▇▅▅▆▆▅▄█▇▆▃▆▆█▇▆▆██▅▇▆▇▇▇▇▇▆▅▅▇▅▇▆▄▅</td></tr></table><br/></div><div class=\"wandb-col\"><h3>Run summary:</h3><br/><table class=\"wandb\"><tr><td>episode_reward</td><td>14.5778</td></tr><tr><td>episodes</td><td>2256</td></tr><tr><td>frame_idx</td><td>500009</td></tr><tr><td>loss</td><td>0.15969</td></tr><tr><td>mean_reward</td><td>110.89178</td></tr><tr><td>moving_average</td><td>116.99017</td></tr><tr><td>top_reward</td><td>575.06079</td></tr></table><br/></div></div>"
      ],
      "text/plain": [
       "<IPython.core.display.HTML object>"
      ]
     },
     "metadata": {},
     "output_type": "display_data"
    },
    {
     "data": {
      "text/html": [
       "Synced <strong style=\"color:#cdcd00\">royal-dust-933</strong>: <a href=\"https://wandb.ai/climate_policy_optim/AYS_learning/runs/393nc9b8\" target=\"_blank\">https://wandb.ai/climate_policy_optim/AYS_learning/runs/393nc9b8</a><br/>Synced 4 W&B file(s), 0 media file(s), 0 artifact file(s) and 0 other file(s)"
      ],
      "text/plain": [
       "<IPython.core.display.HTML object>"
      ]
     },
     "metadata": {},
     "output_type": "display_data"
    },
    {
     "data": {
      "text/html": [
       "Find logs at: <code>.\\wandb\\run-20220811_122920-393nc9b8\\logs</code>"
      ],
      "text/plain": [
       "<IPython.core.display.HTML object>"
      ]
     },
     "metadata": {},
     "output_type": "display_data"
    },
    {
     "name": "stderr",
     "output_type": "stream",
     "text": [
      " 67%|█████████████████████████████████████████████████████████████████████████████████████████████▎                                              | 2/3 [47:40<24:04, 1444.84s/it]"
     ]
    },
    {
     "data": {
      "text/html": [
       "Tracking run with wandb version 0.13.1"
      ],
      "text/plain": [
       "<IPython.core.display.HTML object>"
      ]
     },
     "metadata": {},
     "output_type": "display_data"
    },
    {
     "data": {
      "text/html": [
       "Run data is saved locally in <code>C:\\Users\\theod\\PycharmProjects\\climate_policy_thesis\\climate_policy_RL\\wandb\\run-20220811_125434-rqe5ip61</code>"
      ],
      "text/plain": [
       "<IPython.core.display.HTML object>"
      ]
     },
     "metadata": {},
     "output_type": "display_data"
    },
    {
     "data": {
      "text/html": [
       "Syncing run <strong><a href=\"https://wandb.ai/climate_policy_optim/AYS_learning/runs/rqe5ip61\" target=\"_blank\">absurd-oath-941</a></strong> to <a href=\"https://wandb.ai/climate_policy_optim/AYS_learning\" target=\"_blank\">Weights & Biases</a> (<a href=\"https://wandb.me/run\" target=\"_blank\">docs</a>)<br/>"
      ],
      "text/plain": [
       "<IPython.core.display.HTML object>"
      ]
     },
     "metadata": {},
     "output_type": "display_data"
    },
    {
     "data": {
      "text/html": [
       "Waiting for W&B process to finish... <strong style=\"color:green\">(success).</strong>"
      ],
      "text/plain": [
       "<IPython.core.display.HTML object>"
      ]
     },
     "metadata": {},
     "output_type": "display_data"
    },
    {
     "data": {
      "application/vnd.jupyter.widget-view+json": {
       "model_id": "",
       "version_major": 2,
       "version_minor": 0
      },
      "text/plain": [
       "VBox(children=(Label(value='0.001 MB of 0.001 MB uploaded (0.000 MB deduped)\\r'), FloatProgress(value=1.0, max…"
      ]
     },
     "metadata": {},
     "output_type": "display_data"
    },
    {
     "data": {
      "text/html": [
       "<style>\n",
       "    table.wandb td:nth-child(1) { padding: 0 10px; text-align: left ; width: auto;} td:nth-child(2) {text-align: left ; width: 100%}\n",
       "    .wandb-row { display: flex; flex-direction: row; flex-wrap: wrap; justify-content: flex-start; width: 100% }\n",
       "    .wandb-col { display: flex; flex-direction: column; flex-basis: 100%; flex: 1; padding: 10px; }\n",
       "    </style>\n",
       "<div class=\"wandb-row\"><div class=\"wandb-col\"><h3>Run history:</h3><br/><table class=\"wandb\"><tr><td>episode_reward</td><td>▁▁▁▁▁▇▁█▁█▁█▁███▁███▁██▁███▁██▁█████▁▁██</td></tr><tr><td>episodes</td><td>▁</td></tr><tr><td>frame_idx</td><td>▁</td></tr><tr><td>loss</td><td>▃▃▆▄█▄▆▂▁▁▂▁▂▂▁▂▁▁▁▃▁▁▁▃▂▂▁▁▁▂▆▂▃▁▂▃▂▃▂▄</td></tr><tr><td>moving_average</td><td>▁▁▂▆▅▅▇▆▆▇▆▇▆▆█▆▇█▆▆▆▇▇█▇▆▇▇▇▇▆▇▇▇▇▇▇▇▇▇</td></tr></table><br/></div><div class=\"wandb-col\"><h3>Run summary:</h3><br/><table class=\"wandb\"><tr><td>episode_reward</td><td>504.19506</td></tr><tr><td>episodes</td><td>1833</td></tr><tr><td>frame_idx</td><td>500068</td></tr><tr><td>loss</td><td>0.08977</td></tr><tr><td>mean_reward</td><td>348.2667</td></tr><tr><td>moving_average</td><td>429.66008</td></tr><tr><td>top_reward</td><td>537.38991</td></tr></table><br/></div></div>"
      ],
      "text/plain": [
       "<IPython.core.display.HTML object>"
      ]
     },
     "metadata": {},
     "output_type": "display_data"
    },
    {
     "data": {
      "text/html": [
       "Synced <strong style=\"color:#cdcd00\">absurd-oath-941</strong>: <a href=\"https://wandb.ai/climate_policy_optim/AYS_learning/runs/rqe5ip61\" target=\"_blank\">https://wandb.ai/climate_policy_optim/AYS_learning/runs/rqe5ip61</a><br/>Synced 4 W&B file(s), 0 media file(s), 0 artifact file(s) and 0 other file(s)"
      ],
      "text/plain": [
       "<IPython.core.display.HTML object>"
      ]
     },
     "metadata": {},
     "output_type": "display_data"
    },
    {
     "data": {
      "text/html": [
       "Find logs at: <code>.\\wandb\\run-20220811_125434-rqe5ip61\\logs</code>"
      ],
      "text/plain": [
       "<IPython.core.display.HTML object>"
      ]
     },
     "metadata": {},
     "output_type": "display_data"
    },
    {
     "name": "stderr",
     "output_type": "stream",
     "text": [
      "100%|██████████████████████████████████████████████████████████████████████████████████████████████████████████████████████████████████████████| 3/3 [1:09:02<00:00, 1380.80s/it]\n"
     ]
    }
   ],
   "source": [
    "duelddqn_data = []\n",
    "config = {\"learning_rate\": 0.0076, \n",
    "    \"batch_size\": 128,\n",
    "    \"buffer_size\": 8192,\n",
    "    \"reward_type\": 'PB',\n",
    "    \"seed\": 0,\n",
    "    \"epsilon\": 0.87,\n",
    "    \"rho\":0.76,\n",
    "    \"tau\":0.55,\n",
    "    \"discount\":0.99,\n",
    "    \"max_epochs\":50,\n",
    "    \"per_is\": True,\n",
    "    \"alpha\": 0.3448,\n",
    "    \"beta\":0.236,\n",
    "}\n",
    "for seed in tqdm(range(3)):\n",
    "    config[\"seed\"] = seed\n",
    "    duelddqn_exp = lc.Learning(max_frames=5e5, max_epochs=50, seed=seed, reward_type=\"PB\", gamma=0.99, max_episodes=10000, wandb_save=True)\n",
    "    duelddqn_exp.set_agent(\"DuelDDQN\", epsilon=0.87, lr=0.0076, rho=0.76, tau=0.55)\n",
    "    duelddqn_exp.learning_loop_offline(128, 8192, per_is=True, alpha=0.3448, beta=0.236, config=config)\n",
    "    torch.save(duelddqn_exp.agent.target_net.state_dict(), path+\"\\\\duelddqn_target_net_2.\"+str(seed)+\".pt\")  \n",
    "    duelddqn_data.append(duelddqn_exp.data) "
   ]
  },
  {
   "cell_type": "code",
   "execution_count": 8,
   "id": "d8ad173d-aee0-4497-b648-0436b45b298d",
   "metadata": {
    "collapsed": true,
    "jupyter": {
     "outputs_hidden": true
    },
    "tags": []
   },
   "outputs": [
    {
     "name": "stderr",
     "output_type": "stream",
     "text": [
      "  0%|                                                                                                                                                      | 0/3 [00:00<?, ?it/s]"
     ]
    },
    {
     "data": {
      "text/html": [
       "Tracking run with wandb version 0.13.1"
      ],
      "text/plain": [
       "<IPython.core.display.HTML object>"
      ]
     },
     "metadata": {},
     "output_type": "display_data"
    },
    {
     "data": {
      "text/html": [
       "Run data is saved locally in <code>C:\\Users\\theod\\PycharmProjects\\climate_policy_thesis\\climate_policy_RL\\wandb\\run-20220811_132138-3d8uo6eq</code>"
      ],
      "text/plain": [
       "<IPython.core.display.HTML object>"
      ]
     },
     "metadata": {},
     "output_type": "display_data"
    },
    {
     "data": {
      "text/html": [
       "Syncing run <strong><a href=\"https://wandb.ai/climate_policy_optim/AYS_learning/runs/3d8uo6eq\" target=\"_blank\">efficient-sea-949</a></strong> to <a href=\"https://wandb.ai/climate_policy_optim/AYS_learning\" target=\"_blank\">Weights & Biases</a> (<a href=\"https://wandb.me/run\" target=\"_blank\">docs</a>)<br/>"
      ],
      "text/plain": [
       "<IPython.core.display.HTML object>"
      ]
     },
     "metadata": {},
     "output_type": "display_data"
    },
    {
     "data": {
      "text/html": [
       "Waiting for W&B process to finish... <strong style=\"color:green\">(success).</strong>"
      ],
      "text/plain": [
       "<IPython.core.display.HTML object>"
      ]
     },
     "metadata": {},
     "output_type": "display_data"
    },
    {
     "data": {
      "application/vnd.jupyter.widget-view+json": {
       "model_id": "",
       "version_major": 2,
       "version_minor": 0
      },
      "text/plain": [
       "VBox(children=(Label(value='0.001 MB of 0.001 MB uploaded (0.000 MB deduped)\\r'), FloatProgress(value=1.0, max…"
      ]
     },
     "metadata": {},
     "output_type": "display_data"
    },
    {
     "data": {
      "text/html": [
       "<style>\n",
       "    table.wandb td:nth-child(1) { padding: 0 10px; text-align: left ; width: auto;} td:nth-child(2) {text-align: left ; width: 100%}\n",
       "    .wandb-row { display: flex; flex-direction: row; flex-wrap: wrap; justify-content: flex-start; width: 100% }\n",
       "    .wandb-col { display: flex; flex-direction: column; flex-basis: 100%; flex: 1; padding: 10px; }\n",
       "    </style>\n",
       "<div class=\"wandb-row\"><div class=\"wandb-col\"><h3>Run history:</h3><br/><table class=\"wandb\"><tr><td>episode_reward</td><td>▁▁▁▁▂▁▁▁███▁██▁█▁█▁██▁███▁█▁▁██▁▁███████</td></tr><tr><td>episodes</td><td>▁</td></tr><tr><td>frame_idx</td><td>▁</td></tr><tr><td>loss</td><td>▁▁▁▁▁▁▁▁▁▁▃▁▁▁▁▄▁▁▁▁▁▁█▄▄▁█▂▅▁▁▁▁▁▁▁▁▁▁▁</td></tr><tr><td>moving_average</td><td>▁▁▁▁▁▂▂▂▅▇▆▇█▇▆▆▆▇▇▆▇▇█▇▇█▇▇█▇▇▇▇▇▇██▇▇▆</td></tr><tr><td>pol_loss</td><td>▄▄▁▅█▄▁▅▅▅▆▆▅▅▆▅▅▆▆▅▅▅▆▅▅▅▅▅▅▅▆▆▅▅▅▆▅▆▅▅</td></tr><tr><td>val_loss</td><td>▁▁▁▁▁▁▁▁▁▁▃▁▁▁▁▄▁▁▁▁▁▁█▄▄▁█▂▅▁▁▁▁▁▁▁▁▁▁▁</td></tr></table><br/></div><div class=\"wandb-col\"><h3>Run summary:</h3><br/><table class=\"wandb\"><tr><td>episode_reward</td><td>16.40989</td></tr><tr><td>episodes</td><td>1765</td></tr><tr><td>frame_idx</td><td>499712</td></tr><tr><td>loss</td><td>0.6067</td></tr><tr><td>mean_reward</td><td>330.97335</td></tr><tr><td>moving_average</td><td>342.35956</td></tr><tr><td>pol_loss</td><td>-0.00724</td></tr><tr><td>top_reward</td><td>548.37352</td></tr><tr><td>val_loss</td><td>0.61395</td></tr></table><br/></div></div>"
      ],
      "text/plain": [
       "<IPython.core.display.HTML object>"
      ]
     },
     "metadata": {},
     "output_type": "display_data"
    },
    {
     "data": {
      "text/html": [
       "Synced <strong style=\"color:#cdcd00\">efficient-sea-949</strong>: <a href=\"https://wandb.ai/climate_policy_optim/AYS_learning/runs/3d8uo6eq\" target=\"_blank\">https://wandb.ai/climate_policy_optim/AYS_learning/runs/3d8uo6eq</a><br/>Synced 4 W&B file(s), 0 media file(s), 0 artifact file(s) and 0 other file(s)"
      ],
      "text/plain": [
       "<IPython.core.display.HTML object>"
      ]
     },
     "metadata": {},
     "output_type": "display_data"
    },
    {
     "data": {
      "text/html": [
       "Find logs at: <code>.\\wandb\\run-20220811_132138-3d8uo6eq\\logs</code>"
      ],
      "text/plain": [
       "<IPython.core.display.HTML object>"
      ]
     },
     "metadata": {},
     "output_type": "display_data"
    },
    {
     "name": "stderr",
     "output_type": "stream",
     "text": [
      " 33%|█████████████████████████████████████████████▎                                                                                          | 1/3 [2:00:34<4:01:08, 7234.14s/it]"
     ]
    },
    {
     "data": {
      "text/html": [
       "Tracking run with wandb version 0.13.1"
      ],
      "text/plain": [
       "<IPython.core.display.HTML object>"
      ]
     },
     "metadata": {},
     "output_type": "display_data"
    },
    {
     "data": {
      "text/html": [
       "Run data is saved locally in <code>C:\\Users\\theod\\PycharmProjects\\climate_policy_thesis\\climate_policy_RL\\wandb\\run-20220811_152213-3a40igu0</code>"
      ],
      "text/plain": [
       "<IPython.core.display.HTML object>"
      ]
     },
     "metadata": {},
     "output_type": "display_data"
    },
    {
     "data": {
      "text/html": [
       "Syncing run <strong><a href=\"https://wandb.ai/climate_policy_optim/AYS_learning/runs/3a40igu0\" target=\"_blank\">cerulean-shape-975</a></strong> to <a href=\"https://wandb.ai/climate_policy_optim/AYS_learning\" target=\"_blank\">Weights & Biases</a> (<a href=\"https://wandb.me/run\" target=\"_blank\">docs</a>)<br/>"
      ],
      "text/plain": [
       "<IPython.core.display.HTML object>"
      ]
     },
     "metadata": {},
     "output_type": "display_data"
    },
    {
     "data": {
      "text/html": [
       "Waiting for W&B process to finish... <strong style=\"color:green\">(success).</strong>"
      ],
      "text/plain": [
       "<IPython.core.display.HTML object>"
      ]
     },
     "metadata": {},
     "output_type": "display_data"
    },
    {
     "data": {
      "application/vnd.jupyter.widget-view+json": {
       "model_id": "",
       "version_major": 2,
       "version_minor": 0
      },
      "text/plain": [
       "VBox(children=(Label(value='0.001 MB of 0.001 MB uploaded (0.000 MB deduped)\\r'), FloatProgress(value=1.0, max…"
      ]
     },
     "metadata": {},
     "output_type": "display_data"
    },
    {
     "data": {
      "text/html": [
       "<style>\n",
       "    table.wandb td:nth-child(1) { padding: 0 10px; text-align: left ; width: auto;} td:nth-child(2) {text-align: left ; width: 100%}\n",
       "    .wandb-row { display: flex; flex-direction: row; flex-wrap: wrap; justify-content: flex-start; width: 100% }\n",
       "    .wandb-col { display: flex; flex-direction: column; flex-basis: 100%; flex: 1; padding: 10px; }\n",
       "    </style>\n",
       "<div class=\"wandb-row\"><div class=\"wandb-col\"><h3>Run history:</h3><br/><table class=\"wandb\"><tr><td>episode_reward</td><td>▁▁▁▁▂▁▂▁██▁▁█▂▁██▃██▁▁▂█▁▃██████▁█▁▁████</td></tr><tr><td>episodes</td><td>▁</td></tr><tr><td>frame_idx</td><td>▁</td></tr><tr><td>loss</td><td>▁▁▁▃▁▁▅▁▅▁▁▁▁▁▃▁▁▁▁▁▁▁▁▁▁▁▁█▁▄▄▁▁▃▁▂▁▁▁▄</td></tr><tr><td>moving_average</td><td>▁▁▁▁▁▂▃▄▅▇▇▆▆▇▆▇▆▆▇█▇▅▆▆▇█▇▇▇▆▇█▆▇▆▆▆▇▇▆</td></tr><tr><td>pol_loss</td><td>▁▄▂▄█▆▅▆▆▆▅▅▆▅▃▆▅▅▅▆▅▅▆▆▆▆▆▅▆▆▅▅▆▆▆▅▆▅▆▆</td></tr><tr><td>val_loss</td><td>▁▁▁▃▁▁▅▁▅▁▁▁▁▁▃▁▁▁▁▁▁▁▁▁▁▁▁█▁▄▄▁▁▃▁▂▁▁▁▄</td></tr></table><br/></div><div class=\"wandb-col\"><h3>Run summary:</h3><br/><table class=\"wandb\"><tr><td>episode_reward</td><td>131.43777</td></tr><tr><td>episodes</td><td>1676</td></tr><tr><td>frame_idx</td><td>499712</td></tr><tr><td>loss</td><td>0.78578</td></tr><tr><td>mean_reward</td><td>306.88943</td></tr><tr><td>moving_average</td><td>348.85932</td></tr><tr><td>pol_loss</td><td>-0.01111</td></tr><tr><td>top_reward</td><td>599.46958</td></tr><tr><td>val_loss</td><td>0.79689</td></tr></table><br/></div></div>"
      ],
      "text/plain": [
       "<IPython.core.display.HTML object>"
      ]
     },
     "metadata": {},
     "output_type": "display_data"
    },
    {
     "data": {
      "text/html": [
       "Synced <strong style=\"color:#cdcd00\">cerulean-shape-975</strong>: <a href=\"https://wandb.ai/climate_policy_optim/AYS_learning/runs/3a40igu0\" target=\"_blank\">https://wandb.ai/climate_policy_optim/AYS_learning/runs/3a40igu0</a><br/>Synced 4 W&B file(s), 0 media file(s), 0 artifact file(s) and 0 other file(s)"
      ],
      "text/plain": [
       "<IPython.core.display.HTML object>"
      ]
     },
     "metadata": {},
     "output_type": "display_data"
    },
    {
     "data": {
      "text/html": [
       "Find logs at: <code>.\\wandb\\run-20220811_152213-3a40igu0\\logs</code>"
      ],
      "text/plain": [
       "<IPython.core.display.HTML object>"
      ]
     },
     "metadata": {},
     "output_type": "display_data"
    },
    {
     "name": "stderr",
     "output_type": "stream",
     "text": [
      " 67%|██████████████████████████████████████████████████████████████████████████████████████████▋                                             | 2/3 [4:00:37<2:00:16, 7216.26s/it]"
     ]
    },
    {
     "data": {
      "text/html": [
       "Tracking run with wandb version 0.13.1"
      ],
      "text/plain": [
       "<IPython.core.display.HTML object>"
      ]
     },
     "metadata": {},
     "output_type": "display_data"
    },
    {
     "data": {
      "text/html": [
       "Run data is saved locally in <code>C:\\Users\\theod\\PycharmProjects\\climate_policy_thesis\\climate_policy_RL\\wandb\\run-20220811_172216-3cn3rn3j</code>"
      ],
      "text/plain": [
       "<IPython.core.display.HTML object>"
      ]
     },
     "metadata": {},
     "output_type": "display_data"
    },
    {
     "data": {
      "text/html": [
       "Syncing run <strong><a href=\"https://wandb.ai/climate_policy_optim/AYS_learning/runs/3cn3rn3j\" target=\"_blank\">comic-dragon-1002</a></strong> to <a href=\"https://wandb.ai/climate_policy_optim/AYS_learning\" target=\"_blank\">Weights & Biases</a> (<a href=\"https://wandb.me/run\" target=\"_blank\">docs</a>)<br/>"
      ],
      "text/plain": [
       "<IPython.core.display.HTML object>"
      ]
     },
     "metadata": {},
     "output_type": "display_data"
    },
    {
     "data": {
      "text/html": [
       "Waiting for W&B process to finish... <strong style=\"color:green\">(success).</strong>"
      ],
      "text/plain": [
       "<IPython.core.display.HTML object>"
      ]
     },
     "metadata": {},
     "output_type": "display_data"
    },
    {
     "data": {
      "application/vnd.jupyter.widget-view+json": {
       "model_id": "",
       "version_major": 2,
       "version_minor": 0
      },
      "text/plain": [
       "VBox(children=(Label(value='0.001 MB of 0.001 MB uploaded (0.000 MB deduped)\\r'), FloatProgress(value=1.0, max…"
      ]
     },
     "metadata": {},
     "output_type": "display_data"
    },
    {
     "data": {
      "text/html": [
       "<style>\n",
       "    table.wandb td:nth-child(1) { padding: 0 10px; text-align: left ; width: auto;} td:nth-child(2) {text-align: left ; width: 100%}\n",
       "    .wandb-row { display: flex; flex-direction: row; flex-wrap: wrap; justify-content: flex-start; width: 100% }\n",
       "    .wandb-col { display: flex; flex-direction: column; flex-basis: 100%; flex: 1; padding: 10px; }\n",
       "    </style>\n",
       "<div class=\"wandb-row\"><div class=\"wandb-col\"><h3>Run history:</h3><br/><table class=\"wandb\"><tr><td>episode_reward</td><td>▁▁▁▁▁██▂█▂█▃████▃▁█████▃▃██▂▁▂█▁▁▁██▂▂▁█</td></tr><tr><td>episodes</td><td>▁</td></tr><tr><td>frame_idx</td><td>▁</td></tr><tr><td>loss</td><td>▁▁▁▁▁▄▁▁▁▁▁▁▃▁▁▁▁▁▁▂▁▁▁▁▁▁▁▁▁▁▃▁▁▂▁▂█▁▁▁</td></tr><tr><td>moving_average</td><td>▁▁▁▁▂▄▄▇▇▆▆▆▆▆▅▇▆▆▆▆▆▆▆▅▆▇▅▆▇▆▇▇▇▇█▇▅▇▆▆</td></tr><tr><td>pol_loss</td><td>▄▁▃█▆▇▄▇▇▇▇▇▇▇▆▆▇▇▆▆▇▇▇▇▇▇▇▇▇▆▆▇▇▇▇▆▇▇▇▇</td></tr><tr><td>val_loss</td><td>▁▁▁▁▁▄▁▁▁▁▁▁▃▁▁▁▁▁▁▂▁▁▁▁▁▁▁▁▁▁▃▁▁▂▁▂█▁▁▁</td></tr></table><br/></div><div class=\"wandb-col\"><h3>Run summary:</h3><br/><table class=\"wandb\"><tr><td>episode_reward</td><td>559.74732</td></tr><tr><td>episodes</td><td>1878</td></tr><tr><td>frame_idx</td><td>499712</td></tr><tr><td>loss</td><td>0.69727</td></tr><tr><td>mean_reward</td><td>232.35281</td></tr><tr><td>moving_average</td><td>265.00716</td></tr><tr><td>pol_loss</td><td>-0.00295</td></tr><tr><td>top_reward</td><td>678.83401</td></tr><tr><td>val_loss</td><td>0.70022</td></tr></table><br/></div></div>"
      ],
      "text/plain": [
       "<IPython.core.display.HTML object>"
      ]
     },
     "metadata": {},
     "output_type": "display_data"
    },
    {
     "data": {
      "text/html": [
       "Synced <strong style=\"color:#cdcd00\">comic-dragon-1002</strong>: <a href=\"https://wandb.ai/climate_policy_optim/AYS_learning/runs/3cn3rn3j\" target=\"_blank\">https://wandb.ai/climate_policy_optim/AYS_learning/runs/3cn3rn3j</a><br/>Synced 4 W&B file(s), 0 media file(s), 0 artifact file(s) and 0 other file(s)"
      ],
      "text/plain": [
       "<IPython.core.display.HTML object>"
      ]
     },
     "metadata": {},
     "output_type": "display_data"
    },
    {
     "data": {
      "text/html": [
       "Find logs at: <code>.\\wandb\\run-20220811_172216-3cn3rn3j\\logs</code>"
      ],
      "text/plain": [
       "<IPython.core.display.HTML object>"
      ]
     },
     "metadata": {},
     "output_type": "display_data"
    },
    {
     "name": "stderr",
     "output_type": "stream",
     "text": [
      "100%|██████████████████████████████████████████████████████████████████████████████████████████████████████████████████████████████████████████| 3/3 [5:56:27<00:00, 7129.01s/it]\n"
     ]
    }
   ],
   "source": [
    "ppo_data = []\n",
    "config = {\"lr_actor\": 0.0007, \n",
    "          \"lr_critic\":0.009,\n",
    "          \"batch_size\": 32,\n",
    "          \"buffer_size\": 1024,\n",
    "          \"reward_type\": 'PB',\n",
    "          \"seed\": 0,\n",
    "          \"epsilon\": 0.02,\n",
    "          \"lamda\":0.81,\n",
    "          \"max_grad_norm\":100,\n",
    "          \"discount\":0.99,\n",
    "          \"max_epochs\":50,\n",
    "          \"critic_decay\":0.9,\n",
    "          \"actor_decay\":0.9,\n",
    "          \"clip\":0.26\n",
    "}\n",
    "for seed in tqdm(range(3)):\n",
    "    config[\"seed\"] = seed\n",
    "    ppo_exp = lc.Learning(max_frames=5e5, max_epochs=50, seed=seed, reward_type=\"PB\", gamma=0.99, max_episodes=10000, wandb_save=True)\n",
    "    ppo_exp.set_agent(\"PPO\", clip=0.26, epsilon=0.02, lr_actor=0.0007,lr_critic=0.009, lamda=0.81, max_grad_norm=100,)\n",
    "    ppo_exp.learning_loop_rollout(32, 1024, config=config)\n",
    "    torch.save(ppo_exp.agent.actor.state_dict(), path+\"\\\\ppo_policy_net_3.\"+str(seed)+\".pt\")\n",
    "    torch.save(ppo_exp.agent.critic.state_dict(), path+\"\\\\ppo_critic_net_3.\"+str(seed)+\".pt\")\n",
    "    ppo_data.append(ppo_exp.data) "
   ]
  },
  {
   "cell_type": "code",
   "execution_count": 7,
   "id": "d8f57669-e9c8-48c0-a9c8-ba1f0fb28004",
   "metadata": {
    "tags": []
   },
   "outputs": [
    {
     "name": "stderr",
     "output_type": "stream",
     "text": [
      "  0%|                                                                                                                                                     | 0/3 [00:00<?, ?it/s]"
     ]
    },
    {
     "data": {
      "text/html": [
       "Tracking run with wandb version 0.13.1"
      ],
      "text/plain": [
       "<IPython.core.display.HTML object>"
      ]
     },
     "metadata": {},
     "output_type": "display_data"
    },
    {
     "data": {
      "text/html": [
       "Run data is saved locally in <code>C:\\Users\\theod\\PycharmProjects\\climate_policy_thesis\\climate_policy_RL\\wandb\\run-20220815_095606-d1mu9yz9</code>"
      ],
      "text/plain": [
       "<IPython.core.display.HTML object>"
      ]
     },
     "metadata": {},
     "output_type": "display_data"
    },
    {
     "data": {
      "text/html": [
       "Syncing run <strong><a href=\"https://wandb.ai/climate_policy_optim/AYS_learning/runs/d1mu9yz9\" target=\"_blank\">giddy-snow-1119</a></strong> to <a href=\"https://wandb.ai/climate_policy_optim/AYS_learning\" target=\"_blank\">Weights & Biases</a> (<a href=\"https://wandb.me/run\" target=\"_blank\">docs</a>)<br/>"
      ],
      "text/plain": [
       "<IPython.core.display.HTML object>"
      ]
     },
     "metadata": {},
     "output_type": "display_data"
    },
    {
     "data": {
      "text/html": [
       "Waiting for W&B process to finish... <strong style=\"color:green\">(success).</strong>"
      ],
      "text/plain": [
       "<IPython.core.display.HTML object>"
      ]
     },
     "metadata": {},
     "output_type": "display_data"
    },
    {
     "data": {
      "application/vnd.jupyter.widget-view+json": {
       "model_id": "",
       "version_major": 2,
       "version_minor": 0
      },
      "text/plain": [
       "VBox(children=(Label(value='0.001 MB of 0.001 MB uploaded (0.000 MB deduped)\\r'), FloatProgress(value=1.0, max…"
      ]
     },
     "metadata": {},
     "output_type": "display_data"
    },
    {
     "data": {
      "text/html": [
       "<style>\n",
       "    table.wandb td:nth-child(1) { padding: 0 10px; text-align: left ; width: auto;} td:nth-child(2) {text-align: left ; width: 100%}\n",
       "    .wandb-row { display: flex; flex-direction: row; flex-wrap: wrap; justify-content: flex-start; width: 100% }\n",
       "    .wandb-col { display: flex; flex-direction: column; flex-basis: 100%; flex: 1; padding: 10px; }\n",
       "    </style>\n",
       "<div class=\"wandb-row\"><div class=\"wandb-col\"><h3>Run history:</h3><br/><table class=\"wandb\"><tr><td>episode_reward</td><td>▂▁▄▁▂▂▂▂▂▂▃▂▂▁▄▂▁█▁▁▆█▁▂▂▂▁▂▂▂▁▂▃▃▂▂▂▆▃▂</td></tr><tr><td>episodes</td><td>▁</td></tr><tr><td>frame_idx</td><td>▁</td></tr><tr><td>loss</td><td>█▆▅▄▄▆▃▄▅▆▁▆▆▆▆▆▄▆▆▁▄▅▅▃▁▁▆▁▃▅▁▄▁▁▅▃▅▅▄▂</td></tr><tr><td>moving_average</td><td>▁▂▂▁▂▃▂▃▃▂▃▄▇▆▅▅▆▅▅▇▅▅▅▅▅▆▄▅█▅▆▇▄▅▄█▆▄▆▆</td></tr><tr><td>pol_loss</td><td>▇▇▆▃▃▁▄▅▆▄▇▂▄▂▄▄▇▄▃▇▅▅▃▆█▇▄▇▆▅▇▄▇▇▅▅▄▄▆▆</td></tr><tr><td>val_loss</td><td>█▆▅▆▅█▄▄▅▇▁█▇▇▆▇▄▇▇▁▅▅▆▃▁▁▇▁▃▅▁▅▁▁▅▄▆▆▄▂</td></tr></table><br/></div><div class=\"wandb-col\"><h3>Run summary:</h3><br/><table class=\"wandb\"><tr><td>episode_reward</td><td>25.94609</td></tr><tr><td>episodes</td><td>9335</td></tr><tr><td>frame_idx</td><td>499968</td></tr><tr><td>loss</td><td>0.39222</td></tr><tr><td>mean_reward</td><td>23.31453</td></tr><tr><td>moving_average</td><td>24.52698</td></tr><tr><td>pol_loss</td><td>-0.12563</td></tr><tr><td>top_reward</td><td>115.91428</td></tr><tr><td>val_loss</td><td>0.51784</td></tr></table><br/></div></div>"
      ],
      "text/plain": [
       "<IPython.core.display.HTML object>"
      ]
     },
     "metadata": {},
     "output_type": "display_data"
    },
    {
     "data": {
      "text/html": [
       "Synced <strong style=\"color:#cdcd00\">giddy-snow-1119</strong>: <a href=\"https://wandb.ai/climate_policy_optim/AYS_learning/runs/d1mu9yz9\" target=\"_blank\">https://wandb.ai/climate_policy_optim/AYS_learning/runs/d1mu9yz9</a><br/>Synced 4 W&B file(s), 0 media file(s), 0 artifact file(s) and 0 other file(s)"
      ],
      "text/plain": [
       "<IPython.core.display.HTML object>"
      ]
     },
     "metadata": {},
     "output_type": "display_data"
    },
    {
     "data": {
      "text/html": [
       "Find logs at: <code>.\\wandb\\run-20220815_095606-d1mu9yz9\\logs</code>"
      ],
      "text/plain": [
       "<IPython.core.display.HTML object>"
      ]
     },
     "metadata": {},
     "output_type": "display_data"
    },
    {
     "name": "stderr",
     "output_type": "stream",
     "text": [
      " 33%|██████████████████████████████████████████████▎                                                                                            | 1/3 [17:43<35:26, 1063.40s/it]"
     ]
    },
    {
     "data": {
      "text/html": [
       "Tracking run with wandb version 0.13.1"
      ],
      "text/plain": [
       "<IPython.core.display.HTML object>"
      ]
     },
     "metadata": {},
     "output_type": "display_data"
    },
    {
     "data": {
      "text/html": [
       "Run data is saved locally in <code>C:\\Users\\theod\\PycharmProjects\\climate_policy_thesis\\climate_policy_RL\\wandb\\run-20220815_101349-337xy47o</code>"
      ],
      "text/plain": [
       "<IPython.core.display.HTML object>"
      ]
     },
     "metadata": {},
     "output_type": "display_data"
    },
    {
     "data": {
      "text/html": [
       "Syncing run <strong><a href=\"https://wandb.ai/climate_policy_optim/AYS_learning/runs/337xy47o\" target=\"_blank\">morning-moon-1120</a></strong> to <a href=\"https://wandb.ai/climate_policy_optim/AYS_learning\" target=\"_blank\">Weights & Biases</a> (<a href=\"https://wandb.me/run\" target=\"_blank\">docs</a>)<br/>"
      ],
      "text/plain": [
       "<IPython.core.display.HTML object>"
      ]
     },
     "metadata": {},
     "output_type": "display_data"
    },
    {
     "data": {
      "text/html": [
       "Waiting for W&B process to finish... <strong style=\"color:green\">(success).</strong>"
      ],
      "text/plain": [
       "<IPython.core.display.HTML object>"
      ]
     },
     "metadata": {},
     "output_type": "display_data"
    },
    {
     "data": {
      "application/vnd.jupyter.widget-view+json": {
       "model_id": "",
       "version_major": 2,
       "version_minor": 0
      },
      "text/plain": [
       "VBox(children=(Label(value='0.001 MB of 0.001 MB uploaded (0.000 MB deduped)\\r'), FloatProgress(value=1.0, max…"
      ]
     },
     "metadata": {},
     "output_type": "display_data"
    },
    {
     "data": {
      "text/html": [
       "<style>\n",
       "    table.wandb td:nth-child(1) { padding: 0 10px; text-align: left ; width: auto;} td:nth-child(2) {text-align: left ; width: 100%}\n",
       "    .wandb-row { display: flex; flex-direction: row; flex-wrap: wrap; justify-content: flex-start; width: 100% }\n",
       "    .wandb-col { display: flex; flex-direction: column; flex-basis: 100%; flex: 1; padding: 10px; }\n",
       "    </style>\n",
       "<div class=\"wandb-row\"><div class=\"wandb-col\"><h3>Run history:</h3><br/><table class=\"wandb\"><tr><td>episode_reward</td><td>▂▂▁▂▄▃▄▁▂▂▂▂▂▂▂▂▁▇▂█▃▃▄▃▁▂▃▂▃▃▃▂▄▃▂▃▂▂▁▂</td></tr><tr><td>episodes</td><td>▁</td></tr><tr><td>frame_idx</td><td>▁</td></tr><tr><td>loss</td><td>█▅▅▅▆▅▅▄▅▃▁▅▅▅▃▅▅▂▄▄▆▅▃▆▂▂▄▃▅▅▅▁▄▄▄▆▅▆▄▁</td></tr><tr><td>moving_average</td><td>▁▁▂▃▄▂▄▄▃▄▃▅█▂▅▆▄▆▆▄▅▅▆▆▄▄▄▆▄▆▄▆▄▇▇▅▅▅▆█</td></tr><tr><td>pol_loss</td><td>▇▄▂▃▃▆▁▇▂█▆▃▄▁▅▁▃█▆▆▁▄▃▂▆▇▅▄▂▄▄▇▄▂▅▂▃▂▄█</td></tr><tr><td>val_loss</td><td>█▅▆▆▇▅▇▃▇▂▁▆▆▇▄▇▇▁▄▄█▆▅▇▂▂▅▄▇▆▆▁▅▆▄▇▆▇▅▁</td></tr></table><br/></div><div class=\"wandb-col\"><h3>Run summary:</h3><br/><table class=\"wandb\"><tr><td>episode_reward</td><td>20.08672</td></tr><tr><td>episodes</td><td>10001</td></tr><tr><td>frame_idx</td><td>385408</td></tr><tr><td>loss</td><td>0.457</td></tr><tr><td>mean_reward</td><td>18.22573</td></tr><tr><td>moving_average</td><td>25.33019</td></tr><tr><td>pol_loss</td><td>-0.12091</td></tr><tr><td>top_reward</td><td>114.60077</td></tr><tr><td>val_loss</td><td>0.57791</td></tr></table><br/></div></div>"
      ],
      "text/plain": [
       "<IPython.core.display.HTML object>"
      ]
     },
     "metadata": {},
     "output_type": "display_data"
    },
    {
     "data": {
      "text/html": [
       "Synced <strong style=\"color:#cdcd00\">morning-moon-1120</strong>: <a href=\"https://wandb.ai/climate_policy_optim/AYS_learning/runs/337xy47o\" target=\"_blank\">https://wandb.ai/climate_policy_optim/AYS_learning/runs/337xy47o</a><br/>Synced 4 W&B file(s), 0 media file(s), 0 artifact file(s) and 0 other file(s)"
      ],
      "text/plain": [
       "<IPython.core.display.HTML object>"
      ]
     },
     "metadata": {},
     "output_type": "display_data"
    },
    {
     "data": {
      "text/html": [
       "Find logs at: <code>.\\wandb\\run-20220815_101349-337xy47o\\logs</code>"
      ],
      "text/plain": [
       "<IPython.core.display.HTML object>"
      ]
     },
     "metadata": {},
     "output_type": "display_data"
    },
    {
     "name": "stderr",
     "output_type": "stream",
     "text": [
      " 67%|█████████████████████████████████████████████████████████████████████████████████████████████▎                                              | 2/3 [31:13<15:14, 914.47s/it]"
     ]
    },
    {
     "data": {
      "text/html": [
       "Tracking run with wandb version 0.13.1"
      ],
      "text/plain": [
       "<IPython.core.display.HTML object>"
      ]
     },
     "metadata": {},
     "output_type": "display_data"
    },
    {
     "data": {
      "text/html": [
       "Run data is saved locally in <code>C:\\Users\\theod\\PycharmProjects\\climate_policy_thesis\\climate_policy_RL\\wandb\\run-20220815_102720-3c1c9pnj</code>"
      ],
      "text/plain": [
       "<IPython.core.display.HTML object>"
      ]
     },
     "metadata": {},
     "output_type": "display_data"
    },
    {
     "data": {
      "text/html": [
       "Syncing run <strong><a href=\"https://wandb.ai/climate_policy_optim/AYS_learning/runs/3c1c9pnj\" target=\"_blank\">sandy-rain-1121</a></strong> to <a href=\"https://wandb.ai/climate_policy_optim/AYS_learning\" target=\"_blank\">Weights & Biases</a> (<a href=\"https://wandb.me/run\" target=\"_blank\">docs</a>)<br/>"
      ],
      "text/plain": [
       "<IPython.core.display.HTML object>"
      ]
     },
     "metadata": {},
     "output_type": "display_data"
    },
    {
     "data": {
      "text/html": [
       "Waiting for W&B process to finish... <strong style=\"color:green\">(success).</strong>"
      ],
      "text/plain": [
       "<IPython.core.display.HTML object>"
      ]
     },
     "metadata": {},
     "output_type": "display_data"
    },
    {
     "data": {
      "application/vnd.jupyter.widget-view+json": {
       "model_id": "",
       "version_major": 2,
       "version_minor": 0
      },
      "text/plain": [
       "VBox(children=(Label(value='0.001 MB of 0.001 MB uploaded (0.000 MB deduped)\\r'), FloatProgress(value=1.0, max…"
      ]
     },
     "metadata": {},
     "output_type": "display_data"
    },
    {
     "data": {
      "text/html": [
       "<style>\n",
       "    table.wandb td:nth-child(1) { padding: 0 10px; text-align: left ; width: auto;} td:nth-child(2) {text-align: left ; width: 100%}\n",
       "    .wandb-row { display: flex; flex-direction: row; flex-wrap: wrap; justify-content: flex-start; width: 100% }\n",
       "    .wandb-col { display: flex; flex-direction: column; flex-basis: 100%; flex: 1; padding: 10px; }\n",
       "    </style>\n",
       "<div class=\"wandb-row\"><div class=\"wandb-col\"><h3>Run history:</h3><br/><table class=\"wandb\"><tr><td>episode_reward</td><td>▁▃▂▂▂▂▃▁▁▁▂▂▂▃▁▂▁▂▂▃▃▁▁▂▃▂▃▁▁█▂▂▃▂▁▁▂▂▂▂</td></tr><tr><td>episodes</td><td>▁</td></tr><tr><td>frame_idx</td><td>▁</td></tr><tr><td>loss</td><td>█▇▇▆▅▂▇▆▄▆▅▂▃▁▇▂▆▅▆█▅▂▆▇▆▄▆█▅▆▆▄▆▇▇▁▇█▄▆</td></tr><tr><td>moving_average</td><td>▃▁▁▁▂▃▂▁▂▃▃▅▄▃▃▃▅▃▇▄▆█▅▇▅▆▃▄▆▇▄▆▇▄▂▄▅▅▄▄</td></tr><tr><td>pol_loss</td><td>█▆▅▁▄▅▃▅█▃▅▇▄▇▃█▃▄▃▁▄▇▄▄▂▆▅▁▄▃▃▅▃▄▄▆▂▃▅▄</td></tr><tr><td>val_loss</td><td>▅▅▆▇▅▂▆▅▂▆▅▁▃▁▇▁▆▄▆█▅▁▅▆▆▃▅█▅▆▆▃▆▇▆▁▇▇▄▅</td></tr></table><br/></div><div class=\"wandb-col\"><h3>Run summary:</h3><br/><table class=\"wandb\"><tr><td>episode_reward</td><td>21.81994</td></tr><tr><td>episodes</td><td>10003</td></tr><tr><td>frame_idx</td><td>389888</td></tr><tr><td>loss</td><td>0.44955</td></tr><tr><td>mean_reward</td><td>17.9736</td></tr><tr><td>moving_average</td><td>20.97089</td></tr><tr><td>pol_loss</td><td>-0.12808</td></tr><tr><td>top_reward</td><td>96.20178</td></tr><tr><td>val_loss</td><td>0.57764</td></tr></table><br/></div></div>"
      ],
      "text/plain": [
       "<IPython.core.display.HTML object>"
      ]
     },
     "metadata": {},
     "output_type": "display_data"
    },
    {
     "data": {
      "text/html": [
       "Synced <strong style=\"color:#cdcd00\">sandy-rain-1121</strong>: <a href=\"https://wandb.ai/climate_policy_optim/AYS_learning/runs/3c1c9pnj\" target=\"_blank\">https://wandb.ai/climate_policy_optim/AYS_learning/runs/3c1c9pnj</a><br/>Synced 4 W&B file(s), 0 media file(s), 0 artifact file(s) and 0 other file(s)"
      ],
      "text/plain": [
       "<IPython.core.display.HTML object>"
      ]
     },
     "metadata": {},
     "output_type": "display_data"
    },
    {
     "data": {
      "text/html": [
       "Find logs at: <code>.\\wandb\\run-20220815_102720-3c1c9pnj\\logs</code>"
      ],
      "text/plain": [
       "<IPython.core.display.HTML object>"
      ]
     },
     "metadata": {},
     "output_type": "display_data"
    },
    {
     "name": "stderr",
     "output_type": "stream",
     "text": [
      "100%|████████████████████████████████████████████████████████████████████████████████████████████████████████████████████████████████████████████| 3/3 [45:02<00:00, 900.93s/it]\n"
     ]
    }
   ],
   "source": [
    "a2c_data = []\n",
    "config = {\"lr_actor\": 0.009889, \n",
    "          \"lr_critic\":0.005984,\n",
    "          \"batch_size\": 128,\n",
    "          \"reward_type\": 'PB',\n",
    "          \"seed\": 0,\n",
    "          \"epsilon\": 0.0241,\n",
    "          \"lamda\":0.161,\n",
    "          \"max_grad_norm\":1000,\n",
    "          \"discount\":0.99,\n",
    "          \"max_epochs\":1,\n",
    "          \"critic_decay\":0.9976,\n",
    "          \"actor_decay\":0.9964,\n",
    "}\n",
    "for seed in tqdm(range(3)):\n",
    "    config[\"seed\"] = seed\n",
    "    a2c_exp = lc.Learning(max_frames=5e5, max_epochs=1, seed=seed, reward_type=\"PB\", gamma=0.91, max_episodes=10000, wandb_save=True)\n",
    "    a2c_exp.set_agent(\"A2C\", epsilon=0.0241, lr_actor=0.009889,lr_critic=0.005984, lamda=0.161, max_grad_norm=1000,\n",
    "                     critic_decay=0.9976, actor_decay=0.9964)\n",
    "    a2c_exp.learning_loop_rollout(128, 128, config=config)\n",
    "    torch.save(a2c_exp.agent.actor.state_dict(), path+\"\\\\a2c_policy_net_\"+str(seed)+\".pt\")\n",
    "    torch.save(a2c_exp.agent.critic.state_dict(), path+\"\\\\a2c_critic_net_\"+str(seed)+\".pt\")\n",
    "    a2c_data.append(a2c_exp.data) "
   ]
  },
  {
   "cell_type": "code",
   "execution_count": 8,
   "id": "fb484900-3206-4ddf-ab17-0672ded13b70",
   "metadata": {},
   "outputs": [],
   "source": [
    "with open(\"a2c_data.json\", \"w\") as f:\n",
    "    json.dump(a2c_data, f)"
   ]
  },
  {
   "cell_type": "markdown",
   "id": "79b366d5-174c-47b7-8d29-c16e75c54cd7",
   "metadata": {
    "jp-MarkdownHeadingCollapsed": true,
    "tags": []
   },
   "source": [
    "# noisy"
   ]
  },
  {
   "cell_type": "code",
   "execution_count": 6,
   "id": "c68c99ad-a3af-4e9d-bbc7-c69a455d593e",
   "metadata": {},
   "outputs": [
    {
     "name": "stderr",
     "output_type": "stream",
     "text": [
      " ... (more hidden) ..."
     ]
    },
    {
     "data": {
      "text/html": [
       "Tracking run with wandb version 0.13.1"
      ],
      "text/plain": [
       "<IPython.core.display.HTML object>"
      ]
     },
     "metadata": {},
     "output_type": "display_data"
    },
    {
     "data": {
      "text/html": [
       "Run data is saved locally in <code>C:\\Users\\theod\\PycharmProjects\\climate_policy_thesis\\climate_policy_RL\\wandb\\run-20220816_132829-bmrcf0w8</code>"
      ],
      "text/plain": [
       "<IPython.core.display.HTML object>"
      ]
     },
     "metadata": {},
     "output_type": "display_data"
    },
    {
     "data": {
      "text/html": [
       "Syncing run <strong><a href=\"https://wandb.ai/climate_policy_optim/AYS_learning/runs/bmrcf0w8\" target=\"_blank\">deft-disco-1137</a></strong> to <a href=\"https://wandb.ai/climate_policy_optim/AYS_learning\" target=\"_blank\">Weights & Biases</a> (<a href=\"https://wandb.me/run\" target=\"_blank\">docs</a>)<br/>"
      ],
      "text/plain": [
       "<IPython.core.display.HTML object>"
      ]
     },
     "metadata": {},
     "output_type": "display_data"
    },
    {
     "name": "stderr",
     "output_type": "stream",
     "text": [
      "invalid value encountered in double_scalars\n",
      " ... (more hidden) ...\n"
     ]
    },
    {
     "ename": "ODEintWarning",
     "evalue": "Illegal input detected (internal error). Run with full_output = 1 to get quantitative information.",
     "output_type": "error",
     "traceback": [
      "\u001b[1;31m---------------------------------------------------------------------------\u001b[0m",
      "\u001b[1;31mODEintWarning\u001b[0m                             Traceback (most recent call last)",
      "\u001b[1;32m~\\AppData\\Local\\Temp/ipykernel_21956/2219846837.py\u001b[0m in \u001b[0;36m<module>\u001b[1;34m\u001b[0m\n\u001b[0;32m      3\u001b[0m     \u001b[0mdqn_exp\u001b[0m \u001b[1;33m=\u001b[0m \u001b[0mexp\u001b[0m\u001b[1;33m.\u001b[0m\u001b[0mNoisy_Learn\u001b[0m\u001b[1;33m(\u001b[0m\u001b[0mmax_frames\u001b[0m\u001b[1;33m=\u001b[0m\u001b[1;36m5e5\u001b[0m\u001b[1;33m,\u001b[0m \u001b[0mseed\u001b[0m\u001b[1;33m=\u001b[0m\u001b[0mseed\u001b[0m\u001b[1;33m,\u001b[0m \u001b[0mmax_episodes\u001b[0m\u001b[1;33m=\u001b[0m\u001b[1;36m10000\u001b[0m\u001b[1;33m,\u001b[0m \u001b[0mwandb_save\u001b[0m\u001b[1;33m=\u001b[0m\u001b[1;32mTrue\u001b[0m\u001b[1;33m,\u001b[0m \u001b[0mnoise\u001b[0m\u001b[1;33m=\u001b[0m\u001b[1;36m1e-8\u001b[0m\u001b[1;33m)\u001b[0m\u001b[1;33m\u001b[0m\u001b[1;33m\u001b[0m\u001b[0m\n\u001b[0;32m      4\u001b[0m     \u001b[0mdqn_exp\u001b[0m\u001b[1;33m.\u001b[0m\u001b[0mset_agent\u001b[0m\u001b[1;33m(\u001b[0m\u001b[1;34m\"DQN\"\u001b[0m\u001b[1;33m,\u001b[0m \u001b[0mpath\u001b[0m\u001b[1;33m+\u001b[0m\u001b[1;34m\"\\\\dqn_target_net_2.\"\u001b[0m\u001b[1;33m+\u001b[0m\u001b[0mstr\u001b[0m\u001b[1;33m(\u001b[0m\u001b[0mseed\u001b[0m\u001b[1;33m)\u001b[0m\u001b[1;33m+\u001b[0m\u001b[1;34m\".pt\"\u001b[0m\u001b[1;33m)\u001b[0m\u001b[1;33m\u001b[0m\u001b[1;33m\u001b[0m\u001b[0m\n\u001b[1;32m----> 5\u001b[1;33m     \u001b[0mdqn_exp\u001b[0m\u001b[1;33m.\u001b[0m\u001b[0mlearning_loop_offline\u001b[0m\u001b[1;33m(\u001b[0m\u001b[1;36m512\u001b[0m\u001b[1;33m,\u001b[0m \u001b[1;36m4096\u001b[0m\u001b[1;33m,\u001b[0m \u001b[0mper_is\u001b[0m\u001b[1;33m=\u001b[0m\u001b[1;32mFalse\u001b[0m\u001b[1;33m)\u001b[0m\u001b[1;33m\u001b[0m\u001b[1;33m\u001b[0m\u001b[0m\n\u001b[0m\u001b[0;32m      6\u001b[0m     \u001b[0mtorch\u001b[0m\u001b[1;33m.\u001b[0m\u001b[0msave\u001b[0m\u001b[1;33m(\u001b[0m\u001b[0mdqn_exp\u001b[0m\u001b[1;33m.\u001b[0m\u001b[0magent\u001b[0m\u001b[1;33m.\u001b[0m\u001b[0mtarget_net\u001b[0m\u001b[1;33m.\u001b[0m\u001b[0mstate_dict\u001b[0m\u001b[1;33m(\u001b[0m\u001b[1;33m)\u001b[0m\u001b[1;33m,\u001b[0m \u001b[0mpath\u001b[0m\u001b[1;33m+\u001b[0m\u001b[1;34m\"\\\\noise_dqn_target_net_.\"\u001b[0m\u001b[1;33m+\u001b[0m\u001b[0mstr\u001b[0m\u001b[1;33m(\u001b[0m\u001b[0mseed\u001b[0m\u001b[1;33m)\u001b[0m\u001b[1;33m+\u001b[0m\u001b[1;34m\".pt\"\u001b[0m\u001b[1;33m)\u001b[0m\u001b[1;33m\u001b[0m\u001b[1;33m\u001b[0m\u001b[0m\n\u001b[0;32m      7\u001b[0m     \u001b[0mdqn_data\u001b[0m\u001b[1;33m.\u001b[0m\u001b[0mappend\u001b[0m\u001b[1;33m(\u001b[0m\u001b[0mdqn_exp\u001b[0m\u001b[1;33m.\u001b[0m\u001b[0mdata\u001b[0m\u001b[1;33m)\u001b[0m\u001b[1;33m\u001b[0m\u001b[1;33m\u001b[0m\u001b[0m\n",
      "\u001b[1;32m~\\PycharmProjects\\climate_policy_thesis\\climate_policy_RL\\classes\\learn_class.py\u001b[0m in \u001b[0;36mlearning_loop_offline\u001b[1;34m(self, batch_size, buffer_size, per_is, notebook, plotting, alpha, beta, config)\u001b[0m\n\u001b[0;32m    189\u001b[0m \u001b[1;33m\u001b[0m\u001b[0m\n\u001b[0;32m    190\u001b[0m                 \u001b[1;31m# step through environment\u001b[0m\u001b[1;33m\u001b[0m\u001b[1;33m\u001b[0m\u001b[1;33m\u001b[0m\u001b[0m\n\u001b[1;32m--> 191\u001b[1;33m                 \u001b[0mnext_state\u001b[0m\u001b[1;33m,\u001b[0m \u001b[0mreward\u001b[0m\u001b[1;33m,\u001b[0m \u001b[0mdone\u001b[0m\u001b[1;33m,\u001b[0m \u001b[0m_\u001b[0m \u001b[1;33m=\u001b[0m \u001b[0mself\u001b[0m\u001b[1;33m.\u001b[0m\u001b[0menv\u001b[0m\u001b[1;33m.\u001b[0m\u001b[0mstep\u001b[0m\u001b[1;33m(\u001b[0m\u001b[0maction\u001b[0m\u001b[1;33m)\u001b[0m\u001b[1;33m\u001b[0m\u001b[1;33m\u001b[0m\u001b[0m\n\u001b[0m\u001b[0;32m    192\u001b[0m \u001b[1;33m\u001b[0m\u001b[0m\n\u001b[0;32m    193\u001b[0m                 \u001b[1;31m# add reward\u001b[0m\u001b[1;33m\u001b[0m\u001b[1;33m\u001b[0m\u001b[1;33m\u001b[0m\u001b[0m\n",
      "\u001b[1;32m~\\PycharmProjects\\climate_policy_thesis\\climate_policy_RL\\classes\\Envs\\AYS\\AYS_Environment.py\u001b[0m in \u001b[0;36mstep\u001b[1;34m(self, action)\u001b[0m\n\u001b[0;32m    158\u001b[0m \u001b[1;33m\u001b[0m\u001b[0m\n\u001b[0;32m    159\u001b[0m         \u001b[0mnext_t\u001b[0m \u001b[1;33m=\u001b[0m \u001b[0mself\u001b[0m\u001b[1;33m.\u001b[0m\u001b[0mt\u001b[0m \u001b[1;33m+\u001b[0m \u001b[0mself\u001b[0m\u001b[1;33m.\u001b[0m\u001b[0mdt\u001b[0m\u001b[1;33m\u001b[0m\u001b[1;33m\u001b[0m\u001b[0m\n\u001b[1;32m--> 160\u001b[1;33m         \u001b[0mself\u001b[0m\u001b[1;33m.\u001b[0m\u001b[0mstate\u001b[0m \u001b[1;33m=\u001b[0m \u001b[0mself\u001b[0m\u001b[1;33m.\u001b[0m\u001b[0m_perform_step\u001b[0m\u001b[1;33m(\u001b[0m\u001b[0maction\u001b[0m\u001b[1;33m,\u001b[0m \u001b[0mnext_t\u001b[0m\u001b[1;33m)\u001b[0m\u001b[1;33m\u001b[0m\u001b[1;33m\u001b[0m\u001b[0m\n\u001b[0m\u001b[0;32m    161\u001b[0m         \u001b[0mself\u001b[0m\u001b[1;33m.\u001b[0m\u001b[0mt\u001b[0m \u001b[1;33m=\u001b[0m \u001b[0mnext_t\u001b[0m\u001b[1;33m\u001b[0m\u001b[1;33m\u001b[0m\u001b[0m\n\u001b[0;32m    162\u001b[0m         \u001b[1;32mif\u001b[0m \u001b[0mself\u001b[0m\u001b[1;33m.\u001b[0m\u001b[0m_arrived_at_final_state\u001b[0m\u001b[1;33m(\u001b[0m\u001b[1;33m)\u001b[0m\u001b[1;33m:\u001b[0m\u001b[1;33m\u001b[0m\u001b[1;33m\u001b[0m\u001b[0m\n",
      "\u001b[1;32m~\\PycharmProjects\\climate_policy_thesis\\climate_policy_RL\\classes\\Envs\\AYS\\AYS_Environment.py\u001b[0m in \u001b[0;36m_perform_step\u001b[1;34m(self, action, next_t)\u001b[0m\n\u001b[0;32m    179\u001b[0m         \u001b[1;31m#     parameter_list = [action]\u001b[0m\u001b[1;33m\u001b[0m\u001b[1;33m\u001b[0m\u001b[1;33m\u001b[0m\u001b[0m\n\u001b[0;32m    180\u001b[0m \u001b[1;33m\u001b[0m\u001b[0m\n\u001b[1;32m--> 181\u001b[1;33m         \u001b[0mtraj_one_step\u001b[0m \u001b[1;33m=\u001b[0m \u001b[0modeint\u001b[0m\u001b[1;33m(\u001b[0m\u001b[0mays\u001b[0m\u001b[1;33m.\u001b[0m\u001b[0mAYS_rescaled_rhs\u001b[0m\u001b[1;33m,\u001b[0m \u001b[0mself\u001b[0m\u001b[1;33m.\u001b[0m\u001b[0mstate\u001b[0m\u001b[1;33m,\u001b[0m \u001b[1;33m[\u001b[0m\u001b[0mself\u001b[0m\u001b[1;33m.\u001b[0m\u001b[0mt\u001b[0m\u001b[1;33m,\u001b[0m \u001b[0mnext_t\u001b[0m\u001b[1;33m]\u001b[0m\u001b[1;33m,\u001b[0m \u001b[0margs\u001b[0m\u001b[1;33m=\u001b[0m\u001b[0mparameter_list\u001b[0m\u001b[1;33m[\u001b[0m\u001b[1;36m0\u001b[0m\u001b[1;33m]\u001b[0m\u001b[1;33m,\u001b[0m \u001b[0mmxstep\u001b[0m\u001b[1;33m=\u001b[0m\u001b[1;36m50000\u001b[0m\u001b[1;33m)\u001b[0m\u001b[1;33m\u001b[0m\u001b[1;33m\u001b[0m\u001b[0m\n\u001b[0m\u001b[0;32m    182\u001b[0m \u001b[1;33m\u001b[0m\u001b[0m\n\u001b[0;32m    183\u001b[0m         \u001b[0ma\u001b[0m \u001b[1;33m=\u001b[0m \u001b[0mtraj_one_step\u001b[0m\u001b[1;33m[\u001b[0m\u001b[1;33m:\u001b[0m\u001b[1;33m,\u001b[0m \u001b[1;36m0\u001b[0m\u001b[1;33m]\u001b[0m\u001b[1;33m[\u001b[0m\u001b[1;33m-\u001b[0m\u001b[1;36m1\u001b[0m\u001b[1;33m]\u001b[0m\u001b[1;33m\u001b[0m\u001b[1;33m\u001b[0m\u001b[0m\n",
      "\u001b[1;32m~\\anaconda3\\envs\\ML\\lib\\site-packages\\scipy\\integrate\\odepack.py\u001b[0m in \u001b[0;36modeint\u001b[1;34m(func, y0, t, args, Dfun, col_deriv, full_output, ml, mu, rtol, atol, tcrit, h0, hmax, hmin, ixpr, mxstep, mxhnil, mxordn, mxords, printmessg, tfirst)\u001b[0m\n\u001b[0;32m    245\u001b[0m     \u001b[1;32mif\u001b[0m \u001b[0moutput\u001b[0m\u001b[1;33m[\u001b[0m\u001b[1;33m-\u001b[0m\u001b[1;36m1\u001b[0m\u001b[1;33m]\u001b[0m \u001b[1;33m<\u001b[0m \u001b[1;36m0\u001b[0m\u001b[1;33m:\u001b[0m\u001b[1;33m\u001b[0m\u001b[1;33m\u001b[0m\u001b[0m\n\u001b[0;32m    246\u001b[0m         \u001b[0mwarning_msg\u001b[0m \u001b[1;33m=\u001b[0m \u001b[0m_msgs\u001b[0m\u001b[1;33m[\u001b[0m\u001b[0moutput\u001b[0m\u001b[1;33m[\u001b[0m\u001b[1;33m-\u001b[0m\u001b[1;36m1\u001b[0m\u001b[1;33m]\u001b[0m\u001b[1;33m]\u001b[0m \u001b[1;33m+\u001b[0m \u001b[1;34m\" Run with full_output = 1 to get quantitative information.\"\u001b[0m\u001b[1;33m\u001b[0m\u001b[1;33m\u001b[0m\u001b[0m\n\u001b[1;32m--> 247\u001b[1;33m         \u001b[0mwarnings\u001b[0m\u001b[1;33m.\u001b[0m\u001b[0mwarn\u001b[0m\u001b[1;33m(\u001b[0m\u001b[0mwarning_msg\u001b[0m\u001b[1;33m,\u001b[0m \u001b[0mODEintWarning\u001b[0m\u001b[1;33m)\u001b[0m\u001b[1;33m\u001b[0m\u001b[1;33m\u001b[0m\u001b[0m\n\u001b[0m\u001b[0;32m    248\u001b[0m     \u001b[1;32melif\u001b[0m \u001b[0mprintmessg\u001b[0m\u001b[1;33m:\u001b[0m\u001b[1;33m\u001b[0m\u001b[1;33m\u001b[0m\u001b[0m\n\u001b[0;32m    249\u001b[0m         \u001b[0mwarning_msg\u001b[0m \u001b[1;33m=\u001b[0m \u001b[0m_msgs\u001b[0m\u001b[1;33m[\u001b[0m\u001b[0moutput\u001b[0m\u001b[1;33m[\u001b[0m\u001b[1;33m-\u001b[0m\u001b[1;36m1\u001b[0m\u001b[1;33m]\u001b[0m\u001b[1;33m]\u001b[0m\u001b[1;33m\u001b[0m\u001b[1;33m\u001b[0m\u001b[0m\n",
      "\u001b[1;31mODEintWarning\u001b[0m: Illegal input detected (internal error). Run with full_output = 1 to get quantitative information."
     ]
    }
   ],
   "source": [
    "dqn_data = []\n",
    "for seed in tqdm(range(3)):\n",
    "    dqn_exp = exp.Noisy_Learn(max_frames=5e5, seed=seed, max_episodes=10000, wandb_save=True, noise=1e-8)\n",
    "    dqn_exp.set_agent(\"DQN\", path+\"\\\\dqn_target_net_2.\"+str(seed)+\".pt\")\n",
    "    dqn_exp.learning_loop_offline(512, 4096, per_is=False)\n",
    "    torch.save(dqn_exp.agent.target_net.state_dict(), path+\"\\\\noise_dqn_target_net_.\"+str(seed)+\".pt\")  \n",
    "    dqn_data.append(dqn_exp.data) \n",
    "with open(proj_dir+\"\\\\experiment_data\\\\noisy_dqn_data.json\", \"w\") as f:\n",
    "    json.dump(dqn_data, f)"
   ]
  },
  {
   "cell_type": "markdown",
   "id": "1bc24cfb-b231-4b0e-8576-e1e4f9588de1",
   "metadata": {
    "tags": []
   },
   "source": [
    "# Markvov"
   ]
  },
  {
   "cell_type": "code",
   "execution_count": 6,
   "id": "9589f023-67ea-4921-a072-919e1045e056",
   "metadata": {
    "tags": []
   },
   "outputs": [
    {
     "name": "stderr",
     "output_type": "stream",
     "text": [
      " ... (more hidden) ..."
     ]
    },
    {
     "data": {
      "text/html": [
       "wandb version 0.13.2 is available!  To upgrade, please run:\n",
       " $ pip install wandb --upgrade"
      ],
      "text/plain": [
       "<IPython.core.display.HTML object>"
      ]
     },
     "metadata": {},
     "output_type": "display_data"
    },
    {
     "data": {
      "text/html": [
       "Tracking run with wandb version 0.13.1"
      ],
      "text/plain": [
       "<IPython.core.display.HTML object>"
      ]
     },
     "metadata": {},
     "output_type": "display_data"
    },
    {
     "data": {
      "text/html": [
       "Run data is saved locally in <code>C:\\Users\\theod\\PycharmProjects\\climate_policy_thesis\\climate_policy_RL\\wandb\\run-20220824_102431-3rc8x8oo</code>"
      ],
      "text/plain": [
       "<IPython.core.display.HTML object>"
      ]
     },
     "metadata": {},
     "output_type": "display_data"
    },
    {
     "data": {
      "text/html": [
       "Syncing run <strong><a href=\"https://wandb.ai/climate_policy_optim/AYS_learning/runs/3rc8x8oo\" target=\"_blank\">revived-field-1589</a></strong> to <a href=\"https://wandb.ai/climate_policy_optim/AYS_learning\" target=\"_blank\">Weights & Biases</a> (<a href=\"https://wandb.me/run\" target=\"_blank\">docs</a>)<br/>"
      ],
      "text/plain": [
       "<IPython.core.display.HTML object>"
      ]
     },
     "metadata": {},
     "output_type": "display_data"
    },
    {
     "name": "stdout",
     "output_type": "stream",
     "text": [
      "Success rate:  0.684\n"
     ]
    },
    {
     "data": {
      "text/html": [
       "Waiting for W&B process to finish... <strong style=\"color:green\">(success).</strong>"
      ],
      "text/plain": [
       "<IPython.core.display.HTML object>"
      ]
     },
     "metadata": {},
     "output_type": "display_data"
    },
    {
     "data": {
      "application/vnd.jupyter.widget-view+json": {
       "model_id": "",
       "version_major": 2,
       "version_minor": 0
      },
      "text/plain": [
       "VBox(children=(Label(value='0.001 MB of 0.001 MB uploaded (0.000 MB deduped)\\r'), FloatProgress(value=1.0, max…"
      ]
     },
     "metadata": {},
     "output_type": "display_data"
    },
    {
     "data": {
      "text/html": [
       "<style>\n",
       "    table.wandb td:nth-child(1) { padding: 0 10px; text-align: left ; width: auto;} td:nth-child(2) {text-align: left ; width: 100%}\n",
       "    .wandb-row { display: flex; flex-direction: row; flex-wrap: wrap; justify-content: flex-start; width: 100% }\n",
       "    .wandb-col { display: flex; flex-direction: column; flex-basis: 100%; flex: 1; padding: 10px; }\n",
       "    </style>\n",
       "<div class=\"wandb-row\"><div class=\"wandb-col\"><h3>Run history:</h3><br/><table class=\"wandb\"><tr><td>episode_reward</td><td>▂▁█████▁██▁▇▁██▇█▁▁▁█▇▁█▁▁█▇▇▇▁▇▇▇▇█▇▁▇▇</td></tr><tr><td>loss</td><td>▂▇▇▁▁▁▁▁▁▁▃▁▆▁▁▁▁▁▁▁▁▁▇▄█▁▁▁▁▁▁▁▆▁▂▆▁█▇▁</td></tr><tr><td>moving_average</td><td>▁▂█▇▇██▇▇▇█▇▆█▇█▆▆█▇█▆▇▇██▇▇▇█▇█▇█▆█▇▆▄█</td></tr></table><br/></div><div class=\"wandb-col\"><h3>Run summary:</h3><br/><table class=\"wandb\"><tr><td>episode_reward</td><td>404.8659</td></tr><tr><td>loss</td><td>0.94805</td></tr><tr><td>mean_reward</td><td>300.06443</td></tr><tr><td>moving_average</td><td>320.35787</td></tr><tr><td>success_rate</td><td>0.68404</td></tr><tr><td>top_reward</td><td>555.32648</td></tr></table><br/></div></div>"
      ],
      "text/plain": [
       "<IPython.core.display.HTML object>"
      ]
     },
     "metadata": {},
     "output_type": "display_data"
    },
    {
     "data": {
      "text/html": [
       "Synced <strong style=\"color:#cdcd00\">revived-field-1589</strong>: <a href=\"https://wandb.ai/climate_policy_optim/AYS_learning/runs/3rc8x8oo\" target=\"_blank\">https://wandb.ai/climate_policy_optim/AYS_learning/runs/3rc8x8oo</a><br/>Synced 5 W&B file(s), 0 media file(s), 0 artifact file(s) and 0 other file(s)"
      ],
      "text/plain": [
       "<IPython.core.display.HTML object>"
      ]
     },
     "metadata": {},
     "output_type": "display_data"
    },
    {
     "data": {
      "text/html": [
       "Find logs at: <code>.\\wandb\\run-20220824_102431-3rc8x8oo\\logs</code>"
      ],
      "text/plain": [
       "<IPython.core.display.HTML object>"
      ]
     },
     "metadata": {},
     "output_type": "display_data"
    },
    {
     "name": "stderr",
     "output_type": "stream",
     "text": [
      " ... (more hidden) ..."
     ]
    },
    {
     "data": {
      "text/html": [
       "wandb version 0.13.2 is available!  To upgrade, please run:\n",
       " $ pip install wandb --upgrade"
      ],
      "text/plain": [
       "<IPython.core.display.HTML object>"
      ]
     },
     "metadata": {},
     "output_type": "display_data"
    },
    {
     "data": {
      "text/html": [
       "Tracking run with wandb version 0.13.1"
      ],
      "text/plain": [
       "<IPython.core.display.HTML object>"
      ]
     },
     "metadata": {},
     "output_type": "display_data"
    },
    {
     "data": {
      "text/html": [
       "Run data is saved locally in <code>C:\\Users\\theod\\PycharmProjects\\climate_policy_thesis\\climate_policy_RL\\wandb\\run-20220824_111943-35i138q5</code>"
      ],
      "text/plain": [
       "<IPython.core.display.HTML object>"
      ]
     },
     "metadata": {},
     "output_type": "display_data"
    },
    {
     "data": {
      "text/html": [
       "Syncing run <strong><a href=\"https://wandb.ai/climate_policy_optim/AYS_learning/runs/35i138q5\" target=\"_blank\">helpful-dust-1592</a></strong> to <a href=\"https://wandb.ai/climate_policy_optim/AYS_learning\" target=\"_blank\">Weights & Biases</a> (<a href=\"https://wandb.me/run\" target=\"_blank\">docs</a>)<br/>"
      ],
      "text/plain": [
       "<IPython.core.display.HTML object>"
      ]
     },
     "metadata": {},
     "output_type": "display_data"
    },
    {
     "name": "stdout",
     "output_type": "stream",
     "text": [
      "Success rate:  0.61\n"
     ]
    },
    {
     "data": {
      "text/html": [
       "Waiting for W&B process to finish... <strong style=\"color:green\">(success).</strong>"
      ],
      "text/plain": [
       "<IPython.core.display.HTML object>"
      ]
     },
     "metadata": {},
     "output_type": "display_data"
    },
    {
     "data": {
      "application/vnd.jupyter.widget-view+json": {
       "model_id": "",
       "version_major": 2,
       "version_minor": 0
      },
      "text/plain": [
       "VBox(children=(Label(value='0.001 MB of 0.001 MB uploaded (0.000 MB deduped)\\r'), FloatProgress(value=1.0, max…"
      ]
     },
     "metadata": {},
     "output_type": "display_data"
    },
    {
     "data": {
      "text/html": [
       "<style>\n",
       "    table.wandb td:nth-child(1) { padding: 0 10px; text-align: left ; width: auto;} td:nth-child(2) {text-align: left ; width: 100%}\n",
       "    .wandb-row { display: flex; flex-direction: row; flex-wrap: wrap; justify-content: flex-start; width: 100% }\n",
       "    .wandb-col { display: flex; flex-direction: column; flex-basis: 100%; flex: 1; padding: 10px; }\n",
       "    </style>\n",
       "<div class=\"wandb-row\"><div class=\"wandb-col\"><h3>Run history:</h3><br/><table class=\"wandb\"><tr><td>episode_reward</td><td>▂▁▇▇▇▇▇▁▇▇▇▁█▃▁▁▁▁▇▇▁▁▇▇▂▁▇█▁▇█▁▇▇▁▇▇▇▁▇</td></tr><tr><td>loss</td><td>█▂▁▂▁▁▁▁▁▁▃▁▁▁▂▂▁▁▁▁▂▁▁▁▁▁▂▁▁▂▂▁▂▁▁▁▁▁▂▁</td></tr><tr><td>moving_average</td><td>▁▃▇▇█▇▇▇▇▆▇▇██▇▆▇▆█▆▇▅▆▇▆▇▇▇▇▄▇▇▅▆▆▇▇▇▆▆</td></tr></table><br/></div><div class=\"wandb-col\"><h3>Run summary:</h3><br/><table class=\"wandb\"><tr><td>episode_reward</td><td>416.87758</td></tr><tr><td>loss</td><td>0.324</td></tr><tr><td>mean_reward</td><td>278.00213</td></tr><tr><td>moving_average</td><td>249.9933</td></tr><tr><td>success_rate</td><td>0.6096</td></tr><tr><td>top_reward</td><td>554.37761</td></tr></table><br/></div></div>"
      ],
      "text/plain": [
       "<IPython.core.display.HTML object>"
      ]
     },
     "metadata": {},
     "output_type": "display_data"
    },
    {
     "data": {
      "text/html": [
       "Synced <strong style=\"color:#cdcd00\">helpful-dust-1592</strong>: <a href=\"https://wandb.ai/climate_policy_optim/AYS_learning/runs/35i138q5\" target=\"_blank\">https://wandb.ai/climate_policy_optim/AYS_learning/runs/35i138q5</a><br/>Synced 5 W&B file(s), 0 media file(s), 0 artifact file(s) and 0 other file(s)"
      ],
      "text/plain": [
       "<IPython.core.display.HTML object>"
      ]
     },
     "metadata": {},
     "output_type": "display_data"
    },
    {
     "data": {
      "text/html": [
       "Find logs at: <code>.\\wandb\\run-20220824_111943-35i138q5\\logs</code>"
      ],
      "text/plain": [
       "<IPython.core.display.HTML object>"
      ]
     },
     "metadata": {},
     "output_type": "display_data"
    },
    {
     "name": "stderr",
     "output_type": "stream",
     "text": [
      " ... (more hidden) ..."
     ]
    },
    {
     "data": {
      "text/html": [
       "wandb version 0.13.2 is available!  To upgrade, please run:\n",
       " $ pip install wandb --upgrade"
      ],
      "text/plain": [
       "<IPython.core.display.HTML object>"
      ]
     },
     "metadata": {},
     "output_type": "display_data"
    },
    {
     "data": {
      "text/html": [
       "Tracking run with wandb version 0.13.1"
      ],
      "text/plain": [
       "<IPython.core.display.HTML object>"
      ]
     },
     "metadata": {},
     "output_type": "display_data"
    },
    {
     "data": {
      "text/html": [
       "Run data is saved locally in <code>C:\\Users\\theod\\PycharmProjects\\climate_policy_thesis\\climate_policy_RL\\wandb\\run-20220824_121424-17o6lqmg</code>"
      ],
      "text/plain": [
       "<IPython.core.display.HTML object>"
      ]
     },
     "metadata": {},
     "output_type": "display_data"
    },
    {
     "data": {
      "text/html": [
       "Syncing run <strong><a href=\"https://wandb.ai/climate_policy_optim/AYS_learning/runs/17o6lqmg\" target=\"_blank\">chocolate-yogurt-1594</a></strong> to <a href=\"https://wandb.ai/climate_policy_optim/AYS_learning\" target=\"_blank\">Weights & Biases</a> (<a href=\"https://wandb.me/run\" target=\"_blank\">docs</a>)<br/>"
      ],
      "text/plain": [
       "<IPython.core.display.HTML object>"
      ]
     },
     "metadata": {},
     "output_type": "display_data"
    },
    {
     "name": "stdout",
     "output_type": "stream",
     "text": [
      "Success rate:  0.624\n"
     ]
    },
    {
     "data": {
      "text/html": [
       "Waiting for W&B process to finish... <strong style=\"color:green\">(success).</strong>"
      ],
      "text/plain": [
       "<IPython.core.display.HTML object>"
      ]
     },
     "metadata": {},
     "output_type": "display_data"
    },
    {
     "data": {
      "application/vnd.jupyter.widget-view+json": {
       "model_id": "",
       "version_major": 2,
       "version_minor": 0
      },
      "text/plain": [
       "VBox(children=(Label(value='0.001 MB of 0.001 MB uploaded (0.000 MB deduped)\\r'), FloatProgress(value=1.0, max…"
      ]
     },
     "metadata": {},
     "output_type": "display_data"
    },
    {
     "data": {
      "text/html": [
       "<style>\n",
       "    table.wandb td:nth-child(1) { padding: 0 10px; text-align: left ; width: auto;} td:nth-child(2) {text-align: left ; width: 100%}\n",
       "    .wandb-row { display: flex; flex-direction: row; flex-wrap: wrap; justify-content: flex-start; width: 100% }\n",
       "    .wandb-col { display: flex; flex-direction: column; flex-basis: 100%; flex: 1; padding: 10px; }\n",
       "    </style>\n",
       "<div class=\"wandb-row\"><div class=\"wandb-col\"><h3>Run history:</h3><br/><table class=\"wandb\"><tr><td>episode_reward</td><td>▁▂█▇██▁▇▁██▇▇▁▇▁▇▁▇▇▇▁█▇▇▇▇▁▇▁▇▇▁▇▇▁▇▇▇▇</td></tr><tr><td>loss</td><td>▄▅▁▁▁▁▁▁▁▁▁▃▁▁▁▁▁▁▁▁▆▁▁▁▁▁▁▄▁▁▁▁▁█▆▁▁▁▁▁</td></tr><tr><td>moving_average</td><td>▁▁▄█▆▇▇▇▇▆▇▇▇▇▇▆▆▄▆███▇▆▇▅▆▇▆▆▇▅▆▅▇▆▆▅▄▆</td></tr></table><br/></div><div class=\"wandb-col\"><h3>Run summary:</h3><br/><table class=\"wandb\"><tr><td>episode_reward</td><td>418.4152</td></tr><tr><td>loss</td><td>10.09896</td></tr><tr><td>mean_reward</td><td>276.28922</td></tr><tr><td>moving_average</td><td>253.1262</td></tr><tr><td>success_rate</td><td>0.62405</td></tr><tr><td>top_reward</td><td>539.1135</td></tr></table><br/></div></div>"
      ],
      "text/plain": [
       "<IPython.core.display.HTML object>"
      ]
     },
     "metadata": {},
     "output_type": "display_data"
    },
    {
     "data": {
      "text/html": [
       "Synced <strong style=\"color:#cdcd00\">chocolate-yogurt-1594</strong>: <a href=\"https://wandb.ai/climate_policy_optim/AYS_learning/runs/17o6lqmg\" target=\"_blank\">https://wandb.ai/climate_policy_optim/AYS_learning/runs/17o6lqmg</a><br/>Synced 5 W&B file(s), 0 media file(s), 0 artifact file(s) and 0 other file(s)"
      ],
      "text/plain": [
       "<IPython.core.display.HTML object>"
      ]
     },
     "metadata": {},
     "output_type": "display_data"
    },
    {
     "data": {
      "text/html": [
       "Find logs at: <code>.\\wandb\\run-20220824_121424-17o6lqmg\\logs</code>"
      ],
      "text/plain": [
       "<IPython.core.display.HTML object>"
      ]
     },
     "metadata": {},
     "output_type": "display_data"
    },
    {
     "name": "stderr",
     "output_type": "stream",
     "text": [
      " ... (more hidden) ...\n"
     ]
    }
   ],
   "source": [
    "dqn_data = []\n",
    "\n",
    "config = {\n",
    "    \"lr\": 0.002357, \n",
    "    \"batch_size\": 256,\n",
    "    \"buffer_size\": 32768,\n",
    "    \"reward_type\": 'PB',\n",
    "    \"seed\": 0,\n",
    "    \"rho\":0.7052,\n",
    "    \"tau\":0.0877,\n",
    "    \"discount\":0.99,\n",
    "    \"per_is\":False,\n",
    "    \"decay_number\": 6\n",
    "}\n",
    "for seed in tqdm(range(3)):\n",
    "    config[\"seed\"] = seed\n",
    "\n",
    "    # loop \n",
    "    dqn_exp = exp.Markov_Learn(max_frames=5e5, seed=seed, max_episodes=10000, wandb_save=True, decay_number=config[\"decay_number\"])\n",
    "    dqn_exp.set_agent(\"DQN\", lr=config[\"lr\"], rho=config[\"rho\"], tau=config[\"tau\"])\n",
    "    dqn_exp.learning_loop_offline(batch_size=config[\"batch_size\"], buffer_size=config[\"buffer_size\"], per_is=config[\"per_is\"], config=config)\n",
    "\n",
    "    # save stuff\n",
    "    torch.save(dqn_exp.agent.target_net.state_dict(), path+\"\\\\markov2_dqn_target_net_\"+str(seed)+\".pt\")  \n",
    "    dqn_data.append(dqn_exp.data) \n",
    "\n",
    "# save data\n",
    "with open(os.path.join(proj_dir, \"experiment_data\", \"markov2_dqn_data.json\"), \"w\") as f:\n",
    "    json.dump(dqn_data, f)"
   ]
  },
  {
   "cell_type": "code",
   "execution_count": 9,
   "id": "b310de87-08e4-4310-8494-f75649a801da",
   "metadata": {},
   "outputs": [
    {
     "name": "stderr",
     "output_type": "stream",
     "text": [
      " ... (more hidden) ..."
     ]
    },
    {
     "data": {
      "text/html": [
       "wandb version 0.13.2 is available!  To upgrade, please run:\n",
       " $ pip install wandb --upgrade"
      ],
      "text/plain": [
       "<IPython.core.display.HTML object>"
      ]
     },
     "metadata": {},
     "output_type": "display_data"
    },
    {
     "data": {
      "text/html": [
       "Tracking run with wandb version 0.13.1"
      ],
      "text/plain": [
       "<IPython.core.display.HTML object>"
      ]
     },
     "metadata": {},
     "output_type": "display_data"
    },
    {
     "data": {
      "text/html": [
       "Run data is saved locally in <code>C:\\Users\\theod\\PycharmProjects\\climate_policy_thesis\\climate_policy_RL\\wandb\\run-20220824_130324-ieqppdda</code>"
      ],
      "text/plain": [
       "<IPython.core.display.HTML object>"
      ]
     },
     "metadata": {},
     "output_type": "display_data"
    },
    {
     "data": {
      "text/html": [
       "Syncing run <strong><a href=\"https://wandb.ai/climate_policy_optim/AYS_learning/runs/ieqppdda\" target=\"_blank\">icy-valley-1595</a></strong> to <a href=\"https://wandb.ai/climate_policy_optim/AYS_learning\" target=\"_blank\">Weights & Biases</a> (<a href=\"https://wandb.me/run\" target=\"_blank\">docs</a>)<br/>"
      ],
      "text/plain": [
       "<IPython.core.display.HTML object>"
      ]
     },
     "metadata": {},
     "output_type": "display_data"
    },
    {
     "name": "stdout",
     "output_type": "stream",
     "text": [
      "Success rate:  0.45\n"
     ]
    },
    {
     "data": {
      "text/html": [
       "Waiting for W&B process to finish... <strong style=\"color:green\">(success).</strong>"
      ],
      "text/plain": [
       "<IPython.core.display.HTML object>"
      ]
     },
     "metadata": {},
     "output_type": "display_data"
    },
    {
     "data": {
      "application/vnd.jupyter.widget-view+json": {
       "model_id": "",
       "version_major": 2,
       "version_minor": 0
      },
      "text/plain": [
       "VBox(children=(Label(value='0.001 MB of 0.001 MB uploaded (0.000 MB deduped)\\r'), FloatProgress(value=1.0, max…"
      ]
     },
     "metadata": {},
     "output_type": "display_data"
    },
    {
     "data": {
      "text/html": [
       "<style>\n",
       "    table.wandb td:nth-child(1) { padding: 0 10px; text-align: left ; width: auto;} td:nth-child(2) {text-align: left ; width: 100%}\n",
       "    .wandb-row { display: flex; flex-direction: row; flex-wrap: wrap; justify-content: flex-start; width: 100% }\n",
       "    .wandb-col { display: flex; flex-direction: column; flex-basis: 100%; flex: 1; padding: 10px; }\n",
       "    </style>\n",
       "<div class=\"wandb-row\"><div class=\"wandb-col\"><h3>Run history:</h3><br/><table class=\"wandb\"><tr><td>episode_reward</td><td>▁▁▁▁▁▁▁▁▂▁▂▂▁█▂█▁▃▇▇▇▇▇▇▇▁▇▆▁▆▆▆▇▇▇▇▇▇▇▁</td></tr><tr><td>loss</td><td>▂▁▂▃▁▃▂▂▂▂▂▁▅▂▁▁▁▁▁▁▁▁█▁▁▁▂▁▁▁▁▁▄▁▁▁▁▁▄▁</td></tr><tr><td>moving_average</td><td>▁▁▁▁▁▁▁▁▁▁▁▂▂▂▂▃▅▆▇██▇▇▇▆▆▆▅▅▅▆▆▆▇▆▇▇▇▇▆</td></tr></table><br/></div><div class=\"wandb-col\"><h3>Run summary:</h3><br/><table class=\"wandb\"><tr><td>episode_reward</td><td>467.25327</td></tr><tr><td>loss</td><td>0.23527</td></tr><tr><td>mean_reward</td><td>236.43185</td></tr><tr><td>moving_average</td><td>322.37067</td></tr><tr><td>success_rate</td><td>0.45011</td></tr><tr><td>top_reward</td><td>561.72232</td></tr></table><br/></div></div>"
      ],
      "text/plain": [
       "<IPython.core.display.HTML object>"
      ]
     },
     "metadata": {},
     "output_type": "display_data"
    },
    {
     "data": {
      "text/html": [
       "Synced <strong style=\"color:#cdcd00\">icy-valley-1595</strong>: <a href=\"https://wandb.ai/climate_policy_optim/AYS_learning/runs/ieqppdda\" target=\"_blank\">https://wandb.ai/climate_policy_optim/AYS_learning/runs/ieqppdda</a><br/>Synced 5 W&B file(s), 0 media file(s), 0 artifact file(s) and 0 other file(s)"
      ],
      "text/plain": [
       "<IPython.core.display.HTML object>"
      ]
     },
     "metadata": {},
     "output_type": "display_data"
    },
    {
     "data": {
      "text/html": [
       "Find logs at: <code>.\\wandb\\run-20220824_130324-ieqppdda\\logs</code>"
      ],
      "text/plain": [
       "<IPython.core.display.HTML object>"
      ]
     },
     "metadata": {},
     "output_type": "display_data"
    },
    {
     "name": "stderr",
     "output_type": "stream",
     "text": [
      " ... (more hidden) ..."
     ]
    },
    {
     "data": {
      "text/html": [
       "wandb version 0.13.2 is available!  To upgrade, please run:\n",
       " $ pip install wandb --upgrade"
      ],
      "text/plain": [
       "<IPython.core.display.HTML object>"
      ]
     },
     "metadata": {},
     "output_type": "display_data"
    },
    {
     "data": {
      "text/html": [
       "Tracking run with wandb version 0.13.1"
      ],
      "text/plain": [
       "<IPython.core.display.HTML object>"
      ]
     },
     "metadata": {},
     "output_type": "display_data"
    },
    {
     "data": {
      "text/html": [
       "Run data is saved locally in <code>C:\\Users\\theod\\PycharmProjects\\climate_policy_thesis\\climate_policy_RL\\wandb\\run-20220824_132515-o11pn0nw</code>"
      ],
      "text/plain": [
       "<IPython.core.display.HTML object>"
      ]
     },
     "metadata": {},
     "output_type": "display_data"
    },
    {
     "data": {
      "text/html": [
       "Syncing run <strong><a href=\"https://wandb.ai/climate_policy_optim/AYS_learning/runs/o11pn0nw\" target=\"_blank\">dazzling-sun-1598</a></strong> to <a href=\"https://wandb.ai/climate_policy_optim/AYS_learning\" target=\"_blank\">Weights & Biases</a> (<a href=\"https://wandb.me/run\" target=\"_blank\">docs</a>)<br/>"
      ],
      "text/plain": [
       "<IPython.core.display.HTML object>"
      ]
     },
     "metadata": {},
     "output_type": "display_data"
    },
    {
     "name": "stdout",
     "output_type": "stream",
     "text": [
      "Success rate:  0.48\n"
     ]
    },
    {
     "data": {
      "text/html": [
       "Waiting for W&B process to finish... <strong style=\"color:green\">(success).</strong>"
      ],
      "text/plain": [
       "<IPython.core.display.HTML object>"
      ]
     },
     "metadata": {},
     "output_type": "display_data"
    },
    {
     "data": {
      "application/vnd.jupyter.widget-view+json": {
       "model_id": "",
       "version_major": 2,
       "version_minor": 0
      },
      "text/plain": [
       "VBox(children=(Label(value='0.001 MB of 0.001 MB uploaded (0.000 MB deduped)\\r'), FloatProgress(value=1.0, max…"
      ]
     },
     "metadata": {},
     "output_type": "display_data"
    },
    {
     "data": {
      "text/html": [
       "<style>\n",
       "    table.wandb td:nth-child(1) { padding: 0 10px; text-align: left ; width: auto;} td:nth-child(2) {text-align: left ; width: 100%}\n",
       "    .wandb-row { display: flex; flex-direction: row; flex-wrap: wrap; justify-content: flex-start; width: 100% }\n",
       "    .wandb-col { display: flex; flex-direction: column; flex-basis: 100%; flex: 1; padding: 10px; }\n",
       "    </style>\n",
       "<div class=\"wandb-row\"><div class=\"wandb-col\"><h3>Run history:</h3><br/><table class=\"wandb\"><tr><td>episode_reward</td><td>▁▁▁▁▁▂▂▂▂▂▁▂█▁▁█▇▇▂▇▁▇▇▇▇▇▁▇▇▇▁▇▇▇▁▇▁▁▇▇</td></tr><tr><td>loss</td><td>▁▂▄▂▂▂▂▂▁▂▄▇▅▁█▂▁▁▁▁▆▁▁▂▁▁▁▁▁▂█▁▃▂▇▂▂▅▂▁</td></tr><tr><td>moving_average</td><td>▁▁▁▁▁▁▁▂▂▂▂▂▂▃▄▄▆▇▇██▇▇▆▆▆▆▇▆▇▆▆▆▇▆▇▆▅▅▆</td></tr></table><br/></div><div class=\"wandb-col\"><h3>Run summary:</h3><br/><table class=\"wandb\"><tr><td>episode_reward</td><td>446.22901</td></tr><tr><td>loss</td><td>0.08106</td></tr><tr><td>mean_reward</td><td>239.9072</td></tr><tr><td>moving_average</td><td>275.48829</td></tr><tr><td>success_rate</td><td>0.47955</td></tr><tr><td>top_reward</td><td>524.58016</td></tr></table><br/></div></div>"
      ],
      "text/plain": [
       "<IPython.core.display.HTML object>"
      ]
     },
     "metadata": {},
     "output_type": "display_data"
    },
    {
     "data": {
      "text/html": [
       "Synced <strong style=\"color:#cdcd00\">dazzling-sun-1598</strong>: <a href=\"https://wandb.ai/climate_policy_optim/AYS_learning/runs/o11pn0nw\" target=\"_blank\">https://wandb.ai/climate_policy_optim/AYS_learning/runs/o11pn0nw</a><br/>Synced 5 W&B file(s), 0 media file(s), 0 artifact file(s) and 0 other file(s)"
      ],
      "text/plain": [
       "<IPython.core.display.HTML object>"
      ]
     },
     "metadata": {},
     "output_type": "display_data"
    },
    {
     "data": {
      "text/html": [
       "Find logs at: <code>.\\wandb\\run-20220824_132515-o11pn0nw\\logs</code>"
      ],
      "text/plain": [
       "<IPython.core.display.HTML object>"
      ]
     },
     "metadata": {},
     "output_type": "display_data"
    },
    {
     "name": "stderr",
     "output_type": "stream",
     "text": [
      " ... (more hidden) ..."
     ]
    },
    {
     "data": {
      "text/html": [
       "wandb version 0.13.2 is available!  To upgrade, please run:\n",
       " $ pip install wandb --upgrade"
      ],
      "text/plain": [
       "<IPython.core.display.HTML object>"
      ]
     },
     "metadata": {},
     "output_type": "display_data"
    },
    {
     "data": {
      "text/html": [
       "Tracking run with wandb version 0.13.1"
      ],
      "text/plain": [
       "<IPython.core.display.HTML object>"
      ]
     },
     "metadata": {},
     "output_type": "display_data"
    },
    {
     "data": {
      "text/html": [
       "Run data is saved locally in <code>C:\\Users\\theod\\PycharmProjects\\climate_policy_thesis\\climate_policy_RL\\wandb\\run-20220824_134652-3nmf3ok5</code>"
      ],
      "text/plain": [
       "<IPython.core.display.HTML object>"
      ]
     },
     "metadata": {},
     "output_type": "display_data"
    },
    {
     "data": {
      "text/html": [
       "Syncing run <strong><a href=\"https://wandb.ai/climate_policy_optim/AYS_learning/runs/3nmf3ok5\" target=\"_blank\">gentle-sky-1599</a></strong> to <a href=\"https://wandb.ai/climate_policy_optim/AYS_learning\" target=\"_blank\">Weights & Biases</a> (<a href=\"https://wandb.me/run\" target=\"_blank\">docs</a>)<br/>"
      ],
      "text/plain": [
       "<IPython.core.display.HTML object>"
      ]
     },
     "metadata": {},
     "output_type": "display_data"
    },
    {
     "name": "stdout",
     "output_type": "stream",
     "text": [
      "Success rate:  0.461\n"
     ]
    },
    {
     "data": {
      "text/html": [
       "Waiting for W&B process to finish... <strong style=\"color:green\">(success).</strong>"
      ],
      "text/plain": [
       "<IPython.core.display.HTML object>"
      ]
     },
     "metadata": {},
     "output_type": "display_data"
    },
    {
     "data": {
      "application/vnd.jupyter.widget-view+json": {
       "model_id": "",
       "version_major": 2,
       "version_minor": 0
      },
      "text/plain": [
       "VBox(children=(Label(value='0.001 MB of 0.001 MB uploaded (0.000 MB deduped)\\r'), FloatProgress(value=1.0, max…"
      ]
     },
     "metadata": {},
     "output_type": "display_data"
    },
    {
     "data": {
      "text/html": [
       "<style>\n",
       "    table.wandb td:nth-child(1) { padding: 0 10px; text-align: left ; width: auto;} td:nth-child(2) {text-align: left ; width: 100%}\n",
       "    .wandb-row { display: flex; flex-direction: row; flex-wrap: wrap; justify-content: flex-start; width: 100% }\n",
       "    .wandb-col { display: flex; flex-direction: column; flex-basis: 100%; flex: 1; padding: 10px; }\n",
       "    </style>\n",
       "<div class=\"wandb-row\"><div class=\"wandb-col\"><h3>Run history:</h3><br/><table class=\"wandb\"><tr><td>episode_reward</td><td>▁▁▁▁▂▂▁▁▁▁▂▂▁▁▁▁█▇█▇█▇▂▁▇▇▇▁█▇▇█▂█▁█▇▁▆▇</td></tr><tr><td>loss</td><td>▂▃▂▂▃▄▁▃▇▁▁▂▅▁▁██▁█▂▁▃▇▃▁▁▁▅▁▁▁▁▁▁▁▁▇▂▁▄</td></tr><tr><td>moving_average</td><td>▁▁▁▁▁▁▁▁▁▁▂▂▂▃▄▄▅▆▇████▇▇▇▆▇▇▇▇▇▆▇▆▇▇▆▆▇</td></tr></table><br/></div><div class=\"wandb-col\"><h3>Run summary:</h3><br/><table class=\"wandb\"><tr><td>episode_reward</td><td>419.91694</td></tr><tr><td>loss</td><td>0.10522</td></tr><tr><td>mean_reward</td><td>234.99744</td></tr><tr><td>moving_average</td><td>322.3406</td></tr><tr><td>success_rate</td><td>0.4612</td></tr><tr><td>top_reward</td><td>537.88917</td></tr></table><br/></div></div>"
      ],
      "text/plain": [
       "<IPython.core.display.HTML object>"
      ]
     },
     "metadata": {},
     "output_type": "display_data"
    },
    {
     "data": {
      "text/html": [
       "Synced <strong style=\"color:#cdcd00\">gentle-sky-1599</strong>: <a href=\"https://wandb.ai/climate_policy_optim/AYS_learning/runs/3nmf3ok5\" target=\"_blank\">https://wandb.ai/climate_policy_optim/AYS_learning/runs/3nmf3ok5</a><br/>Synced 5 W&B file(s), 0 media file(s), 0 artifact file(s) and 0 other file(s)"
      ],
      "text/plain": [
       "<IPython.core.display.HTML object>"
      ]
     },
     "metadata": {},
     "output_type": "display_data"
    },
    {
     "data": {
      "text/html": [
       "Find logs at: <code>.\\wandb\\run-20220824_134652-3nmf3ok5\\logs</code>"
      ],
      "text/plain": [
       "<IPython.core.display.HTML object>"
      ]
     },
     "metadata": {},
     "output_type": "display_data"
    },
    {
     "name": "stderr",
     "output_type": "stream",
     "text": [
      " ... (more hidden) ...\n"
     ]
    }
   ],
   "source": [
    "duelddqn_data = []\n",
    "config = {\n",
    "    \"lr\": 0.004133, \n",
    "    \"batch_size\": 128,\n",
    "    \"buffer_size\": 32768,\n",
    "    \"reward_type\": 'PB',\n",
    "    \"seed\": 0,\n",
    "    \"rho\":0.5307,\n",
    "    \"tau\":0.01856,\n",
    "    \"discount\":0.99,\n",
    "    \"per_is\": True,\n",
    "    \"alpha\": 0.213,\n",
    "    \"beta\":0.7389,\n",
    "    \"decay_number\":10,\n",
    "}\n",
    "for seed in tqdm(range(3)):\n",
    "    config[\"seed\"] = seed\n",
    "\n",
    "    # loop \n",
    "    duelddqn_exp = exp.Markov_Learn(max_frames=1e5, seed=seed, max_episodes=10000, wandb_save=True, decay_number=config[\"decay_number\"])\n",
    "    duelddqn_exp.set_agent(\"DuelDDQN\", lr=config[\"lr\"], rho=config[\"rho\"], tau=config[\"tau\"])\n",
    "    duelddqn_exp.learning_loop_offline(batch_size=config[\"batch_size\"], buffer_size=config[\"buffer_size\"], per_is=config[\"per_is\"], alpha=config[\"alpha\"], beta=config[\"beta\"], config=config)\n",
    "\n",
    "    # save stuff\n",
    "    torch.save(duelddqn_exp.agent.target_net.state_dict(), path+\"\\\\markov_duelddqn_target_net_\"+str(seed)+\".pt\")  \n",
    "    duelddqn_data.append(duelddqn_exp.data) \n",
    "\n",
    "# save data\n",
    "with open(exp_path+\"\\\\duelddqn_data.json\", \"w\") as f:\n",
    "    json.dump(duelddqn_data, f)"
   ]
  },
  {
   "cell_type": "markdown",
   "id": "77588b58-b8a0-4851-b7d0-fed7618cf239",
   "metadata": {},
   "source": [
    "# Simple"
   ]
  },
  {
   "cell_type": "code",
   "execution_count": 3,
   "id": "cf9107fd-45b7-42e5-b379-513349348080",
   "metadata": {
    "collapsed": true,
    "jupyter": {
     "outputs_hidden": true
    },
    "tags": []
   },
   "outputs": [
    {
     "name": "stderr",
     "output_type": "stream",
     "text": [
      "  0%|                                                                                                                                                      | 0/3 [00:00<?, ?it/s]"
     ]
    },
    {
     "data": {
      "text/html": [
       "Tracking run with wandb version 0.13.1"
      ],
      "text/plain": [
       "<IPython.core.display.HTML object>"
      ]
     },
     "metadata": {},
     "output_type": "display_data"
    },
    {
     "data": {
      "text/html": [
       "Run data is saved locally in <code>C:\\Users\\theod\\PycharmProjects\\climate_policy_thesis\\climate_policy_RL\\wandb\\run-20220822_173436-1o4g92ye</code>"
      ],
      "text/plain": [
       "<IPython.core.display.HTML object>"
      ]
     },
     "metadata": {},
     "output_type": "display_data"
    },
    {
     "data": {
      "text/html": [
       "Syncing run <strong><a href=\"https://wandb.ai/climate_policy_optim/AYS_learning/runs/1o4g92ye\" target=\"_blank\">devoted-shape-1451</a></strong> to <a href=\"https://wandb.ai/climate_policy_optim/AYS_learning\" target=\"_blank\">Weights & Biases</a> (<a href=\"https://wandb.me/run\" target=\"_blank\">docs</a>)<br/>"
      ],
      "text/plain": [
       "<IPython.core.display.HTML object>"
      ]
     },
     "metadata": {},
     "output_type": "display_data"
    },
    {
     "name": "stdout",
     "output_type": "stream",
     "text": [
      "Success rate:  0.0\n"
     ]
    },
    {
     "data": {
      "text/html": [
       "Waiting for W&B process to finish... <strong style=\"color:green\">(success).</strong>"
      ],
      "text/plain": [
       "<IPython.core.display.HTML object>"
      ]
     },
     "metadata": {},
     "output_type": "display_data"
    },
    {
     "data": {
      "application/vnd.jupyter.widget-view+json": {
       "model_id": "",
       "version_major": 2,
       "version_minor": 0
      },
      "text/plain": [
       "VBox(children=(Label(value='0.001 MB of 0.001 MB uploaded (0.000 MB deduped)\\r'), FloatProgress(value=1.0, max…"
      ]
     },
     "metadata": {},
     "output_type": "display_data"
    },
    {
     "data": {
      "text/html": [
       "<style>\n",
       "    table.wandb td:nth-child(1) { padding: 0 10px; text-align: left ; width: auto;} td:nth-child(2) {text-align: left ; width: 100%}\n",
       "    .wandb-row { display: flex; flex-direction: row; flex-wrap: wrap; justify-content: flex-start; width: 100% }\n",
       "    .wandb-col { display: flex; flex-direction: column; flex-basis: 100%; flex: 1; padding: 10px; }\n",
       "    </style>\n",
       "<div class=\"wandb-row\"><div class=\"wandb-col\"><h3>Run history:</h3><br/><table class=\"wandb\"><tr><td>episode_reward</td><td>▁▁▁▁▁▁▁▁▁▁▁▁▁▁▁▁██▁▁▁█▁█▁▁█▁▁█▁█▁▁██▁██▁</td></tr><tr><td>loss</td><td>▆▆▆▇▅▅▆▆▇▇▆▇▇▄▆▇▆▆▆▇▆▇▇▆▇▆▆▇▆█▆▇▆▆▆▄▁▇▄▆</td></tr><tr><td>moving_average</td><td>▁▁▁▁▁▁▁▁▁▁▁▁▂▁▂▂▄▃▂▃▂▄▄▄▃▃▃▂▃▅▃▆▆▅▆▆█▅▆█</td></tr><tr><td>pol_loss</td><td>▇▆▆▇▆▆▇▆▇█▇▇▇▅▇▇▇▇▇█▇▇▇▇▇▇▇▇▆█▇▇▇▇▇▅▁▇▃▇</td></tr><tr><td>val_loss</td><td>▂▁▂▁▂▂▁▂▁▁▁▁▃▄▃▄▁▁▁▁▁▂▁▁▁▁▁▁▃▂▁▁▁▁▁▄▇▁█▁</td></tr></table><br/></div><div class=\"wandb-col\"><h3>Run summary:</h3><br/><table class=\"wandb\"><tr><td>episode_reward</td><td>0</td></tr><tr><td>loss</td><td>0.00208</td></tr><tr><td>mean_reward</td><td>-0.82145</td></tr><tr><td>moving_average</td><td>-0.42</td></tr><tr><td>pol_loss</td><td>0.00175</td></tr><tr><td>success_rate</td><td>0.0</td></tr><tr><td>top_reward</td><td>0</td></tr><tr><td>val_loss</td><td>0.00033</td></tr></table><br/></div></div>"
      ],
      "text/plain": [
       "<IPython.core.display.HTML object>"
      ]
     },
     "metadata": {},
     "output_type": "display_data"
    },
    {
     "data": {
      "text/html": [
       "Synced <strong style=\"color:#cdcd00\">devoted-shape-1451</strong>: <a href=\"https://wandb.ai/climate_policy_optim/AYS_learning/runs/1o4g92ye\" target=\"_blank\">https://wandb.ai/climate_policy_optim/AYS_learning/runs/1o4g92ye</a><br/>Synced 5 W&B file(s), 0 media file(s), 0 artifact file(s) and 0 other file(s)"
      ],
      "text/plain": [
       "<IPython.core.display.HTML object>"
      ]
     },
     "metadata": {},
     "output_type": "display_data"
    },
    {
     "data": {
      "text/html": [
       "Find logs at: <code>.\\wandb\\run-20220822_173436-1o4g92ye\\logs</code>"
      ],
      "text/plain": [
       "<IPython.core.display.HTML object>"
      ]
     },
     "metadata": {},
     "output_type": "display_data"
    },
    {
     "name": "stderr",
     "output_type": "stream",
     "text": [
      " 33%|██████████████████████████████████████████████▋                                                                                             | 1/3 [18:33<37:07, 1113.75s/it]"
     ]
    },
    {
     "data": {
      "text/html": [
       "Tracking run with wandb version 0.13.1"
      ],
      "text/plain": [
       "<IPython.core.display.HTML object>"
      ]
     },
     "metadata": {},
     "output_type": "display_data"
    },
    {
     "data": {
      "text/html": [
       "Run data is saved locally in <code>C:\\Users\\theod\\PycharmProjects\\climate_policy_thesis\\climate_policy_RL\\wandb\\run-20220822_175309-3vm2k3oj</code>"
      ],
      "text/plain": [
       "<IPython.core.display.HTML object>"
      ]
     },
     "metadata": {},
     "output_type": "display_data"
    },
    {
     "data": {
      "text/html": [
       "Syncing run <strong><a href=\"https://wandb.ai/climate_policy_optim/AYS_learning/runs/3vm2k3oj\" target=\"_blank\">usual-shadow-1453</a></strong> to <a href=\"https://wandb.ai/climate_policy_optim/AYS_learning\" target=\"_blank\">Weights & Biases</a> (<a href=\"https://wandb.me/run\" target=\"_blank\">docs</a>)<br/>"
      ],
      "text/plain": [
       "<IPython.core.display.HTML object>"
      ]
     },
     "metadata": {},
     "output_type": "display_data"
    },
    {
     "name": "stdout",
     "output_type": "stream",
     "text": [
      "Success rate:  0.0\n"
     ]
    },
    {
     "data": {
      "text/html": [
       "Waiting for W&B process to finish... <strong style=\"color:green\">(success).</strong>"
      ],
      "text/plain": [
       "<IPython.core.display.HTML object>"
      ]
     },
     "metadata": {},
     "output_type": "display_data"
    },
    {
     "data": {
      "application/vnd.jupyter.widget-view+json": {
       "model_id": "",
       "version_major": 2,
       "version_minor": 0
      },
      "text/plain": [
       "VBox(children=(Label(value='0.001 MB of 0.001 MB uploaded (0.000 MB deduped)\\r'), FloatProgress(value=1.0, max…"
      ]
     },
     "metadata": {},
     "output_type": "display_data"
    },
    {
     "data": {
      "text/html": [
       "<style>\n",
       "    table.wandb td:nth-child(1) { padding: 0 10px; text-align: left ; width: auto;} td:nth-child(2) {text-align: left ; width: 100%}\n",
       "    .wandb-row { display: flex; flex-direction: row; flex-wrap: wrap; justify-content: flex-start; width: 100% }\n",
       "    .wandb-col { display: flex; flex-direction: column; flex-basis: 100%; flex: 1; padding: 10px; }\n",
       "    </style>\n",
       "<div class=\"wandb-row\"><div class=\"wandb-col\"><h3>Run history:</h3><br/><table class=\"wandb\"><tr><td>episode_reward</td><td>▁▁▁▁▁▁▁▁▁▁▁▁▁▁▁▁▁▁▁▁█▁██▁▁▁▁▁█▁█▁▁█▁██▁█</td></tr><tr><td>loss</td><td>▆█▆▆██▆▇█▇▄▇▇▇▇▇▇▇▇▇▇▇▇▇▇▇▇▁█▇▇█▇▇▇▇▇▇▇▇</td></tr><tr><td>moving_average</td><td>▁▁▁▁▁▁▁▁▁▁▁▁▁▂▂▂▃▄▄▃▄▆▆▆▅▅▆▃▆▄▅▄█▆▅▇▆▇▇▇</td></tr><tr><td>pol_loss</td><td>▆█▆▆██▆▇█▇▃▇▇▇▇▇▇▇▇█▇▇▇▇▇▇▇▁▅▇▇▇█▇▇▇▇▇▇▆</td></tr><tr><td>val_loss</td><td>▂▁▂▂▁▁▂▁▁▁▄▁▁▁▁▁▁▁▁▁▁▁▁▁▁▁▁▅█▁▁▃▁▁▁▁▁▁▁▃</td></tr></table><br/></div><div class=\"wandb-col\"><h3>Run summary:</h3><br/><table class=\"wandb\"><tr><td>episode_reward</td><td>-1</td></tr><tr><td>loss</td><td>0.009</td></tr><tr><td>mean_reward</td><td>-0.79158</td></tr><tr><td>moving_average</td><td>-0.6</td></tr><tr><td>pol_loss</td><td>0.00883</td></tr><tr><td>success_rate</td><td>0.0</td></tr><tr><td>top_reward</td><td>0</td></tr><tr><td>val_loss</td><td>0.00017</td></tr></table><br/></div></div>"
      ],
      "text/plain": [
       "<IPython.core.display.HTML object>"
      ]
     },
     "metadata": {},
     "output_type": "display_data"
    },
    {
     "data": {
      "text/html": [
       "Synced <strong style=\"color:#cdcd00\">usual-shadow-1453</strong>: <a href=\"https://wandb.ai/climate_policy_optim/AYS_learning/runs/3vm2k3oj\" target=\"_blank\">https://wandb.ai/climate_policy_optim/AYS_learning/runs/3vm2k3oj</a><br/>Synced 5 W&B file(s), 0 media file(s), 0 artifact file(s) and 0 other file(s)"
      ],
      "text/plain": [
       "<IPython.core.display.HTML object>"
      ]
     },
     "metadata": {},
     "output_type": "display_data"
    },
    {
     "data": {
      "text/html": [
       "Find logs at: <code>.\\wandb\\run-20220822_175309-3vm2k3oj\\logs</code>"
      ],
      "text/plain": [
       "<IPython.core.display.HTML object>"
      ]
     },
     "metadata": {},
     "output_type": "display_data"
    },
    {
     "name": "stderr",
     "output_type": "stream",
     "text": [
      " 67%|█████████████████████████████████████████████████████████████████████████████████████████████▎                                              | 2/3 [37:15<18:38, 1118.32s/it]"
     ]
    },
    {
     "data": {
      "text/html": [
       "Tracking run with wandb version 0.13.1"
      ],
      "text/plain": [
       "<IPython.core.display.HTML object>"
      ]
     },
     "metadata": {},
     "output_type": "display_data"
    },
    {
     "data": {
      "text/html": [
       "Run data is saved locally in <code>C:\\Users\\theod\\PycharmProjects\\climate_policy_thesis\\climate_policy_RL\\wandb\\run-20220822_181151-cjs8qc1l</code>"
      ],
      "text/plain": [
       "<IPython.core.display.HTML object>"
      ]
     },
     "metadata": {},
     "output_type": "display_data"
    },
    {
     "data": {
      "text/html": [
       "Syncing run <strong><a href=\"https://wandb.ai/climate_policy_optim/AYS_learning/runs/cjs8qc1l\" target=\"_blank\">lively-glade-1454</a></strong> to <a href=\"https://wandb.ai/climate_policy_optim/AYS_learning\" target=\"_blank\">Weights & Biases</a> (<a href=\"https://wandb.me/run\" target=\"_blank\">docs</a>)<br/>"
      ],
      "text/plain": [
       "<IPython.core.display.HTML object>"
      ]
     },
     "metadata": {},
     "output_type": "display_data"
    },
    {
     "name": "stdout",
     "output_type": "stream",
     "text": [
      "Success rate:  0.0\n"
     ]
    },
    {
     "data": {
      "text/html": [
       "Waiting for W&B process to finish... <strong style=\"color:green\">(success).</strong>"
      ],
      "text/plain": [
       "<IPython.core.display.HTML object>"
      ]
     },
     "metadata": {},
     "output_type": "display_data"
    },
    {
     "data": {
      "application/vnd.jupyter.widget-view+json": {
       "model_id": "",
       "version_major": 2,
       "version_minor": 0
      },
      "text/plain": [
       "VBox(children=(Label(value='0.001 MB of 0.001 MB uploaded (0.000 MB deduped)\\r'), FloatProgress(value=1.0, max…"
      ]
     },
     "metadata": {},
     "output_type": "display_data"
    },
    {
     "data": {
      "text/html": [
       "<style>\n",
       "    table.wandb td:nth-child(1) { padding: 0 10px; text-align: left ; width: auto;} td:nth-child(2) {text-align: left ; width: 100%}\n",
       "    .wandb-row { display: flex; flex-direction: row; flex-wrap: wrap; justify-content: flex-start; width: 100% }\n",
       "    .wandb-col { display: flex; flex-direction: column; flex-basis: 100%; flex: 1; padding: 10px; }\n",
       "    </style>\n",
       "<div class=\"wandb-row\"><div class=\"wandb-col\"><h3>Run history:</h3><br/><table class=\"wandb\"><tr><td>episode_reward</td><td>▁▁▁▁▁▁▁▁▁▁▁▁▁▁▁▁▁█▁▁▁▁▁▁█▁█▁█▁███████▁██</td></tr><tr><td>loss</td><td>█▆▅▄▇▇▂▆▅▃▆▆▆▇▆▆█▅▇▆▆▆▁▆▆▇▆▆▆▇▇▇▆▂▆▆▆▆█▇</td></tr><tr><td>moving_average</td><td>▁▁▁▁▁▁▁▁▁▁▁▁▁▁▁▁▁▃▂▃▄▃▄▄▄▃▆▆▇▆▇▆▆▅▇▆██▇▇</td></tr><tr><td>pol_loss</td><td>█▆▆▅██▄▇▅▄▇▇▇█▇▇█▄▇▇▇▇▁▇▇▇▇▇▇▇▆▇▇▃▇▇▇▇▇▇</td></tr><tr><td>val_loss</td><td>▁▂▂▃▁▁▂▁▂▄▁▁▁▁▁▁▁▅▁▁▁▁█▁▁▁▁▁▁▃▄▁▁▄▁▁▁▁▂▂</td></tr></table><br/></div><div class=\"wandb-col\"><h3>Run summary:</h3><br/><table class=\"wandb\"><tr><td>episode_reward</td><td>-1</td></tr><tr><td>loss</td><td>0.001</td></tr><tr><td>mean_reward</td><td>-0.77128</td></tr><tr><td>moving_average</td><td>-0.44</td></tr><tr><td>pol_loss</td><td>0.001</td></tr><tr><td>success_rate</td><td>0.0</td></tr><tr><td>top_reward</td><td>0</td></tr><tr><td>val_loss</td><td>1e-05</td></tr></table><br/></div></div>"
      ],
      "text/plain": [
       "<IPython.core.display.HTML object>"
      ]
     },
     "metadata": {},
     "output_type": "display_data"
    },
    {
     "data": {
      "text/html": [
       "Synced <strong style=\"color:#cdcd00\">lively-glade-1454</strong>: <a href=\"https://wandb.ai/climate_policy_optim/AYS_learning/runs/cjs8qc1l\" target=\"_blank\">https://wandb.ai/climate_policy_optim/AYS_learning/runs/cjs8qc1l</a><br/>Synced 5 W&B file(s), 0 media file(s), 0 artifact file(s) and 0 other file(s)"
      ],
      "text/plain": [
       "<IPython.core.display.HTML object>"
      ]
     },
     "metadata": {},
     "output_type": "display_data"
    },
    {
     "data": {
      "text/html": [
       "Find logs at: <code>.\\wandb\\run-20220822_181151-cjs8qc1l\\logs</code>"
      ],
      "text/plain": [
       "<IPython.core.display.HTML object>"
      ]
     },
     "metadata": {},
     "output_type": "display_data"
    },
    {
     "name": "stderr",
     "output_type": "stream",
     "text": [
      "100%|████████████████████████████████████████████████████████████████████████████████████████████████████████████████████████████████████████████| 3/3 [55:51<00:00, 1117.03s/it]\n"
     ]
    }
   ],
   "source": [
    "a2c_data = []\n",
    "config = {\n",
    "    \"lr_actor\": 0.0002052, \n",
    "    \"lr_critic\": 0.002627,\n",
    "    \"batch_size\": 32,\n",
    "    \"decay_number\": 4,\n",
    "    \"epsilon\": 0.001672,\n",
    "    \"reward_type\": 'Simple',\n",
    "    \"seed\": 0,\n",
    "    \"discount\":0.99\n",
    "}\n",
    "for seed in tqdm(range(3)):\n",
    "    config[\"seed\"] = seed\n",
    "\n",
    "    # loop \n",
    "    a2c_exp = exp.Simple_Learn(max_frames=5e5, cost=0, seed=seed, max_episodes=20000, max_epochs=1, wandb_save=True, decay_number=config[\"decay_number\"])\n",
    "    a2c_exp.set_agent(\"A2C\", lr_actor=config[\"lr_actor\"], lr_critic=config[\"lr_critic\"], epsilon=config[\"epsilon\"], lamda=0.)\n",
    "    a2c_exp.learning_loop_rollout(batch_size=config[\"batch_size\"], buffer_size=config[\"batch_size\"], config=config)\n",
    "    # save stuff\n",
    "    torch.save(a2c_exp.agent.actor.state_dict(), path+\"\\\\simple_a2c_actor_\"+str(seed)+\".pt\")\n",
    "    torch.save(a2c_exp.agent.critic.state_dict(), path+\"\\\\simple_a2c_critic_\"+str(seed)+\".pt\")\n",
    "    a2c_data.append(a2c_exp.data) \n",
    "\n",
    "# save data\n",
    "with open(os.path.join(proj_dir, \"experiment_data\", \"simple_a2c_data.json\"), \"w\") as f:\n",
    "    json.dump(a2c_data, f)"
   ]
  },
  {
   "cell_type": "code",
   "execution_count": 3,
   "id": "0ed18aca-b27d-46e8-8b64-22077a8a46df",
   "metadata": {
    "collapsed": true,
    "jupyter": {
     "outputs_hidden": true
    },
    "tags": []
   },
   "outputs": [
    {
     "name": "stderr",
     "output_type": "stream",
     "text": [
      "  0%|                                                                                                                                                      | 0/3 [00:00<?, ?it/s]"
     ]
    },
    {
     "data": {
      "text/html": [
       "wandb version 0.13.2 is available!  To upgrade, please run:\n",
       " $ pip install wandb --upgrade"
      ],
      "text/plain": [
       "<IPython.core.display.HTML object>"
      ]
     },
     "metadata": {},
     "output_type": "display_data"
    },
    {
     "data": {
      "text/html": [
       "Tracking run with wandb version 0.13.1"
      ],
      "text/plain": [
       "<IPython.core.display.HTML object>"
      ]
     },
     "metadata": {},
     "output_type": "display_data"
    },
    {
     "data": {
      "text/html": [
       "Run data is saved locally in <code>C:\\Users\\theod\\PycharmProjects\\climate_policy_thesis\\climate_policy_RL\\wandb\\run-20220823_095636-35daflao</code>"
      ],
      "text/plain": [
       "<IPython.core.display.HTML object>"
      ]
     },
     "metadata": {},
     "output_type": "display_data"
    },
    {
     "data": {
      "text/html": [
       "Syncing run <strong><a href=\"https://wandb.ai/climate_policy_optim/AYS_learning/runs/35daflao\" target=\"_blank\">rare-frog-1510</a></strong> to <a href=\"https://wandb.ai/climate_policy_optim/AYS_learning\" target=\"_blank\">Weights & Biases</a> (<a href=\"https://wandb.me/run\" target=\"_blank\">docs</a>)<br/>"
      ],
      "text/plain": [
       "<IPython.core.display.HTML object>"
      ]
     },
     "metadata": {},
     "output_type": "display_data"
    },
    {
     "name": "stderr",
     "output_type": "stream",
     "text": [
      "Detected call of `lr_scheduler.step()` before `optimizer.step()`. In PyTorch 1.1.0 and later, you should call them in the opposite order: `optimizer.step()` before `lr_scheduler.step()`.  Failure to do this will result in PyTorch skipping the first value of the learning rate schedule. See more details at https://pytorch.org/docs/stable/optim.html#how-to-adjust-learning-rate\n"
     ]
    },
    {
     "name": "stdout",
     "output_type": "stream",
     "text": [
      "Success rate:  0.42\n"
     ]
    },
    {
     "data": {
      "text/html": [
       "Waiting for W&B process to finish... <strong style=\"color:green\">(success).</strong>"
      ],
      "text/plain": [
       "<IPython.core.display.HTML object>"
      ]
     },
     "metadata": {},
     "output_type": "display_data"
    },
    {
     "data": {
      "application/vnd.jupyter.widget-view+json": {
       "model_id": "",
       "version_major": 2,
       "version_minor": 0
      },
      "text/plain": [
       "VBox(children=(Label(value='0.001 MB of 0.001 MB uploaded (0.000 MB deduped)\\r'), FloatProgress(value=1.0, max…"
      ]
     },
     "metadata": {},
     "output_type": "display_data"
    },
    {
     "data": {
      "text/html": [
       "<style>\n",
       "    table.wandb td:nth-child(1) { padding: 0 10px; text-align: left ; width: auto;} td:nth-child(2) {text-align: left ; width: 100%}\n",
       "    .wandb-row { display: flex; flex-direction: row; flex-wrap: wrap; justify-content: flex-start; width: 100% }\n",
       "    .wandb-col { display: flex; flex-direction: column; flex-basis: 100%; flex: 1; padding: 10px; }\n",
       "    </style>\n",
       "<div class=\"wandb-row\"><div class=\"wandb-col\"><h3>Run history:</h3><br/><table class=\"wandb\"><tr><td>episode_reward</td><td>▅▁▁▁▅▅█▁▅▁▅▅▅▅▁▁████▁█▁██▁███▁██▁██▁███▁</td></tr><tr><td>loss</td><td>▇▂▅▁▁▄▁▁▆▁▅▅▄▁▅▅▇▁▁▁▁▁▁▆▃▁▁▅▄▅▁▁▆█▁▁▁▁▅▃</td></tr><tr><td>moving_average</td><td>▁▄▆▄▅▄▅▄▆▄▄▄▄▅▂▃▄▇▆█▇▇▇▇▇▇▆▄▆▆▅▅▇▄▇▆▃▆█▅</td></tr></table><br/></div><div class=\"wandb-col\"><h3>Run summary:</h3><br/><table class=\"wandb\"><tr><td>episode_reward</td><td>1</td></tr><tr><td>loss</td><td>9e-05</td></tr><tr><td>mean_reward</td><td>-0.00353</td></tr><tr><td>moving_average</td><td>-0.36</td></tr><tr><td>success_rate</td><td>0.41994</td></tr><tr><td>top_reward</td><td>1</td></tr></table><br/></div></div>"
      ],
      "text/plain": [
       "<IPython.core.display.HTML object>"
      ]
     },
     "metadata": {},
     "output_type": "display_data"
    },
    {
     "data": {
      "text/html": [
       "Synced <strong style=\"color:#cdcd00\">rare-frog-1510</strong>: <a href=\"https://wandb.ai/climate_policy_optim/AYS_learning/runs/35daflao\" target=\"_blank\">https://wandb.ai/climate_policy_optim/AYS_learning/runs/35daflao</a><br/>Synced 5 W&B file(s), 0 media file(s), 0 artifact file(s) and 0 other file(s)"
      ],
      "text/plain": [
       "<IPython.core.display.HTML object>"
      ]
     },
     "metadata": {},
     "output_type": "display_data"
    },
    {
     "data": {
      "text/html": [
       "Find logs at: <code>.\\wandb\\run-20220823_095636-35daflao\\logs</code>"
      ],
      "text/plain": [
       "<IPython.core.display.HTML object>"
      ]
     },
     "metadata": {},
     "output_type": "display_data"
    },
    {
     "name": "stderr",
     "output_type": "stream",
     "text": [
      " 33%|██████████████████████████████████████████████                                                                                            | 1/3 [54:29<1:48:58, 3269.39s/it]"
     ]
    },
    {
     "data": {
      "text/html": [
       "wandb version 0.13.2 is available!  To upgrade, please run:\n",
       " $ pip install wandb --upgrade"
      ],
      "text/plain": [
       "<IPython.core.display.HTML object>"
      ]
     },
     "metadata": {},
     "output_type": "display_data"
    },
    {
     "data": {
      "text/html": [
       "Tracking run with wandb version 0.13.1"
      ],
      "text/plain": [
       "<IPython.core.display.HTML object>"
      ]
     },
     "metadata": {},
     "output_type": "display_data"
    },
    {
     "data": {
      "text/html": [
       "Run data is saved locally in <code>C:\\Users\\theod\\PycharmProjects\\climate_policy_thesis\\climate_policy_RL\\wandb\\run-20220823_105105-1vr4gp29</code>"
      ],
      "text/plain": [
       "<IPython.core.display.HTML object>"
      ]
     },
     "metadata": {},
     "output_type": "display_data"
    },
    {
     "data": {
      "text/html": [
       "Syncing run <strong><a href=\"https://wandb.ai/climate_policy_optim/AYS_learning/runs/1vr4gp29\" target=\"_blank\">pious-voice-1520</a></strong> to <a href=\"https://wandb.ai/climate_policy_optim/AYS_learning\" target=\"_blank\">Weights & Biases</a> (<a href=\"https://wandb.me/run\" target=\"_blank\">docs</a>)<br/>"
      ],
      "text/plain": [
       "<IPython.core.display.HTML object>"
      ]
     },
     "metadata": {},
     "output_type": "display_data"
    },
    {
     "name": "stdout",
     "output_type": "stream",
     "text": [
      "Success rate:  0.471\n"
     ]
    },
    {
     "data": {
      "text/html": [
       "Waiting for W&B process to finish... <strong style=\"color:green\">(success).</strong>"
      ],
      "text/plain": [
       "<IPython.core.display.HTML object>"
      ]
     },
     "metadata": {},
     "output_type": "display_data"
    },
    {
     "data": {
      "application/vnd.jupyter.widget-view+json": {
       "model_id": "",
       "version_major": 2,
       "version_minor": 0
      },
      "text/plain": [
       "VBox(children=(Label(value='0.001 MB of 0.001 MB uploaded (0.000 MB deduped)\\r'), FloatProgress(value=1.0, max…"
      ]
     },
     "metadata": {},
     "output_type": "display_data"
    },
    {
     "data": {
      "text/html": [
       "<style>\n",
       "    table.wandb td:nth-child(1) { padding: 0 10px; text-align: left ; width: auto;} td:nth-child(2) {text-align: left ; width: 100%}\n",
       "    .wandb-row { display: flex; flex-direction: row; flex-wrap: wrap; justify-content: flex-start; width: 100% }\n",
       "    .wandb-col { display: flex; flex-direction: column; flex-basis: 100%; flex: 1; padding: 10px; }\n",
       "    </style>\n",
       "<div class=\"wandb-row\"><div class=\"wandb-col\"><h3>Run history:</h3><br/><table class=\"wandb\"><tr><td>episode_reward</td><td>▁▁▅▁█▁▅▁▅▁▁█▁▅▁█▁▅▁▅█▁█▁█▁▁█▁███▁▁██▁███</td></tr><tr><td>loss</td><td>▇▁▁▂▂▁▁▁▁▄▅█▁▁▁▁▁▂▁▁▁▁▁▁▁▁▃▃▆▅▁▅▁▁▁▁▁▁▁▁</td></tr><tr><td>moving_average</td><td>▁▃▃▅▆▅▆▅▆▅▄▆▆▅▆▆▄▆▄▆▅▅▆▅▅▆▆▇▆▇▇▇▇█▇█▇▆▆▆</td></tr></table><br/></div><div class=\"wandb-col\"><h3>Run summary:</h3><br/><table class=\"wandb\"><tr><td>episode_reward</td><td>1</td></tr><tr><td>loss</td><td>0.00047</td></tr><tr><td>mean_reward</td><td>0.08756</td></tr><tr><td>moving_average</td><td>-0.08</td></tr><tr><td>success_rate</td><td>0.47051</td></tr><tr><td>top_reward</td><td>1</td></tr></table><br/></div></div>"
      ],
      "text/plain": [
       "<IPython.core.display.HTML object>"
      ]
     },
     "metadata": {},
     "output_type": "display_data"
    },
    {
     "data": {
      "text/html": [
       "Synced <strong style=\"color:#cdcd00\">pious-voice-1520</strong>: <a href=\"https://wandb.ai/climate_policy_optim/AYS_learning/runs/1vr4gp29\" target=\"_blank\">https://wandb.ai/climate_policy_optim/AYS_learning/runs/1vr4gp29</a><br/>Synced 5 W&B file(s), 0 media file(s), 0 artifact file(s) and 0 other file(s)"
      ],
      "text/plain": [
       "<IPython.core.display.HTML object>"
      ]
     },
     "metadata": {},
     "output_type": "display_data"
    },
    {
     "data": {
      "text/html": [
       "Find logs at: <code>.\\wandb\\run-20220823_105105-1vr4gp29\\logs</code>"
      ],
      "text/plain": [
       "<IPython.core.display.HTML object>"
      ]
     },
     "metadata": {},
     "output_type": "display_data"
    },
    {
     "name": "stderr",
     "output_type": "stream",
     "text": [
      " 67%|████████████████████████████████████████████████████████████████████████████████████████████                                              | 2/3 [1:51:00<55:41, 3341.27s/it]"
     ]
    },
    {
     "data": {
      "text/html": [
       "wandb version 0.13.2 is available!  To upgrade, please run:\n",
       " $ pip install wandb --upgrade"
      ],
      "text/plain": [
       "<IPython.core.display.HTML object>"
      ]
     },
     "metadata": {},
     "output_type": "display_data"
    },
    {
     "data": {
      "text/html": [
       "Tracking run with wandb version 0.13.1"
      ],
      "text/plain": [
       "<IPython.core.display.HTML object>"
      ]
     },
     "metadata": {},
     "output_type": "display_data"
    },
    {
     "data": {
      "text/html": [
       "Run data is saved locally in <code>C:\\Users\\theod\\PycharmProjects\\climate_policy_thesis\\climate_policy_RL\\wandb\\run-20220823_114737-29tm2qf2</code>"
      ],
      "text/plain": [
       "<IPython.core.display.HTML object>"
      ]
     },
     "metadata": {},
     "output_type": "display_data"
    },
    {
     "data": {
      "text/html": [
       "Syncing run <strong><a href=\"https://wandb.ai/climate_policy_optim/AYS_learning/runs/29tm2qf2\" target=\"_blank\">lively-voice-1527</a></strong> to <a href=\"https://wandb.ai/climate_policy_optim/AYS_learning\" target=\"_blank\">Weights & Biases</a> (<a href=\"https://wandb.me/run\" target=\"_blank\">docs</a>)<br/>"
      ],
      "text/plain": [
       "<IPython.core.display.HTML object>"
      ]
     },
     "metadata": {},
     "output_type": "display_data"
    },
    {
     "name": "stdout",
     "output_type": "stream",
     "text": [
      "Success rate:  0.405\n"
     ]
    },
    {
     "data": {
      "text/html": [
       "Waiting for W&B process to finish... <strong style=\"color:green\">(success).</strong>"
      ],
      "text/plain": [
       "<IPython.core.display.HTML object>"
      ]
     },
     "metadata": {},
     "output_type": "display_data"
    },
    {
     "data": {
      "application/vnd.jupyter.widget-view+json": {
       "model_id": "",
       "version_major": 2,
       "version_minor": 0
      },
      "text/plain": [
       "VBox(children=(Label(value='0.001 MB of 0.001 MB uploaded (0.000 MB deduped)\\r'), FloatProgress(value=1.0, max…"
      ]
     },
     "metadata": {},
     "output_type": "display_data"
    },
    {
     "data": {
      "text/html": [
       "<style>\n",
       "    table.wandb td:nth-child(1) { padding: 0 10px; text-align: left ; width: auto;} td:nth-child(2) {text-align: left ; width: 100%}\n",
       "    .wandb-row { display: flex; flex-direction: row; flex-wrap: wrap; justify-content: flex-start; width: 100% }\n",
       "    .wandb-col { display: flex; flex-direction: column; flex-basis: 100%; flex: 1; padding: 10px; }\n",
       "    </style>\n",
       "<div class=\"wandb-row\"><div class=\"wandb-col\"><h3>Run history:</h3><br/><table class=\"wandb\"><tr><td>episode_reward</td><td>▁▅▅▁▁▅▁▅▁▁█▁▁▁████▁▁▁▁▁▁█▁████▁▁█▁▁██▁██</td></tr><tr><td>loss</td><td>█▄▂▁▁▁▁▄▄▅▁▁▁▁▁▄▃▁▂▁▁▁▁▁▁▆▁▁▁▆▁▁▁▁▁▁▁▁▁▂</td></tr><tr><td>moving_average</td><td>▁▄▆▅▅▄▃▃▅▅▄▄▄▅▆▆▆▇▆▆▃▅█▄▇▄▇█▄▇▃▆▇▅▄█▆▆█▆</td></tr></table><br/></div><div class=\"wandb-col\"><h3>Run summary:</h3><br/><table class=\"wandb\"><tr><td>episode_reward</td><td>1</td></tr><tr><td>loss</td><td>0.00332</td></tr><tr><td>mean_reward</td><td>-0.06401</td></tr><tr><td>moving_average</td><td>0.08</td></tr><tr><td>success_rate</td><td>0.40475</td></tr><tr><td>top_reward</td><td>1</td></tr></table><br/></div></div>"
      ],
      "text/plain": [
       "<IPython.core.display.HTML object>"
      ]
     },
     "metadata": {},
     "output_type": "display_data"
    },
    {
     "data": {
      "text/html": [
       "Synced <strong style=\"color:#cdcd00\">lively-voice-1527</strong>: <a href=\"https://wandb.ai/climate_policy_optim/AYS_learning/runs/29tm2qf2\" target=\"_blank\">https://wandb.ai/climate_policy_optim/AYS_learning/runs/29tm2qf2</a><br/>Synced 5 W&B file(s), 0 media file(s), 0 artifact file(s) and 0 other file(s)"
      ],
      "text/plain": [
       "<IPython.core.display.HTML object>"
      ]
     },
     "metadata": {},
     "output_type": "display_data"
    },
    {
     "data": {
      "text/html": [
       "Find logs at: <code>.\\wandb\\run-20220823_114737-29tm2qf2\\logs</code>"
      ],
      "text/plain": [
       "<IPython.core.display.HTML object>"
      ]
     },
     "metadata": {},
     "output_type": "display_data"
    },
    {
     "name": "stderr",
     "output_type": "stream",
     "text": [
      "100%|██████████████████████████████████████████████████████████████████████████████████████████████████████████████████████████████████████████| 3/3 [2:45:25<00:00, 3308.34s/it]\n"
     ]
    }
   ],
   "source": [
    "dqn_data = []\n",
    "\n",
    "config = {\n",
    "    \"lr\": 0.002357, \n",
    "    \"batch_size\": 256,\n",
    "    \"buffer_size\": 32768,\n",
    "    \"reward_type\": 'PB',\n",
    "    \"seed\": 0,\n",
    "    \"rho\":0.7052,\n",
    "    \"tau\":0.0877,\n",
    "    \"discount\":0.99,\n",
    "    \"per_is\":False,\n",
    "    \"decay_number\": 3\n",
    "}\n",
    "for seed in tqdm(range(3)):\n",
    "    config[\"seed\"] = seed\n",
    "\n",
    "    # loop \n",
    "    dqn_exp = exp.Simple_Learn(max_frames=5e5, seed=seed, max_episodes=10000, wandb_save=True, decay_number=config[\"decay_number\"], cost=0)\n",
    "    dqn_exp.set_agent(\"DQN\", lr=config[\"lr\"], rho=config[\"rho\"], tau=config[\"tau\"])\n",
    "    dqn_exp.learning_loop_offline(batch_size=config[\"batch_size\"], buffer_size=config[\"buffer_size\"], per_is=config[\"per_is\"], config=config)\n",
    "\n",
    "    # save stuff\n",
    "    torch.save(dqn_exp.agent.target_net.state_dict(), path+\"\\\\simple_dqn_target_net_\"+str(seed)+\".pt\")  \n",
    "    dqn_data.append(dqn_exp.data) \n",
    "\n",
    "# save data\n",
    "with open(os.path.join(proj_dir, \"experiment_data\", \"simple_dqn_data.json\"), \"w\") as f:\n",
    "    json.dump(dqn_data, f)"
   ]
  },
  {
   "cell_type": "code",
   "execution_count": null,
   "id": "3b27533a-d812-4f1b-9ba7-f834b29a03b0",
   "metadata": {},
   "outputs": [],
   "source": []
  }
 ],
 "metadata": {
  "kernelspec": {
   "display_name": "Python 3 (ipykernel)",
   "language": "python",
   "name": "python3"
  },
  "language_info": {
   "codemirror_mode": {
    "name": "ipython",
    "version": 3
   },
   "file_extension": ".py",
   "mimetype": "text/x-python",
   "name": "python",
   "nbconvert_exporter": "python",
   "pygments_lexer": "ipython3",
   "version": "3.8.12"
  }
 },
 "nbformat": 4,
 "nbformat_minor": 5
}
