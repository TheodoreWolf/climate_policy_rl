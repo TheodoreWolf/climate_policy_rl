{
 "cells": [
  {
   "cell_type": "code",
   "execution_count": 1,
   "id": "b13722de-c34d-4a8f-8501-25d71aafaa69",
   "metadata": {},
   "outputs": [],
   "source": [
    "from  tqdm import tqdm\n",
    "import wandb\n",
    "import torch\n",
    "import classes.learn_class as lc\n",
    "from importlib import reload\n",
    "import os"
   ]
  },
  {
   "cell_type": "code",
   "execution_count": 2,
   "id": "fdf24031-cb72-4db3-b5b1-9d7f0a706f8a",
   "metadata": {},
   "outputs": [
    {
     "name": "stderr",
     "output_type": "stream",
     "text": [
      "\u001b[34m\u001b[1mwandb\u001b[0m: Currently logged in as: \u001b[33mtheowolf\u001b[0m (\u001b[33mclimate_policy_optim\u001b[0m). Use \u001b[1m`wandb login --relogin`\u001b[0m to force relogin\n"
     ]
    },
    {
     "data": {
      "text/plain": [
       "True"
      ]
     },
     "execution_count": 2,
     "metadata": {},
     "output_type": "execute_result"
    }
   ],
   "source": [
    "wandb.login()"
   ]
  },
  {
   "cell_type": "code",
   "execution_count": 3,
   "id": "b8c77c9b-2e81-4bf1-8073-91ee9e354cc4",
   "metadata": {},
   "outputs": [
    {
     "data": {
      "text/plain": [
       "<module 'classes.learn_class' from 'C:\\\\Users\\\\theod\\\\PycharmProjects\\\\climate_policy_thesis\\\\climate_policy_RL\\\\classes\\\\learn_class.py'>"
      ]
     },
     "execution_count": 3,
     "metadata": {},
     "output_type": "execute_result"
    }
   ],
   "source": [
    "reload(lc)"
   ]
  },
  {
   "cell_type": "code",
   "execution_count": 4,
   "id": "e6848a6d-07cd-46fe-b6c6-87c1484dd1cc",
   "metadata": {},
   "outputs": [],
   "source": [
    "code_dir = r'C:\\\\Users\\\\theod\\\\PycharmProjects\\\\climate_policy_thesis\\\\climate_policy_RL'\n",
    "proj_dir = r'C:\\\\Users\\\\theod\\\\Desktop\\\\UCL\\\\Machine Learning\\\\Project'"
   ]
  },
  {
   "cell_type": "code",
   "execution_count": 5,
   "id": "143a9863-4643-4d71-ad78-bfd033cd1fc8",
   "metadata": {},
   "outputs": [],
   "source": [
    "path = os.path.join(proj_dir, \"models\")"
   ]
  },
  {
   "cell_type": "code",
   "execution_count": 6,
   "id": "86d16880-0f4a-4774-8b0c-6ee21f758706",
   "metadata": {
    "collapsed": true,
    "jupyter": {
     "outputs_hidden": true,
     "source_hidden": true
    },
    "tags": []
   },
   "outputs": [
    {
     "name": "stderr",
     "output_type": "stream",
     "text": [
      "  0%|                                                                                                                                                      | 0/3 [00:00<?, ?it/s]"
     ]
    },
    {
     "data": {
      "text/html": [
       "Tracking run with wandb version 0.13.1"
      ],
      "text/plain": [
       "<IPython.core.display.HTML object>"
      ]
     },
     "metadata": {},
     "output_type": "display_data"
    },
    {
     "data": {
      "text/html": [
       "Run data is saved locally in <code>C:\\Users\\theod\\PycharmProjects\\climate_policy_thesis\\climate_policy_RL\\wandb\\run-20220811_110410-28vas5na</code>"
      ],
      "text/plain": [
       "<IPython.core.display.HTML object>"
      ]
     },
     "metadata": {},
     "output_type": "display_data"
    },
    {
     "data": {
      "text/html": [
       "Syncing run <strong><a href=\"https://wandb.ai/climate_policy_optim/AYS_learning/runs/28vas5na\" target=\"_blank\">ruby-glitter-909</a></strong> to <a href=\"https://wandb.ai/climate_policy_optim/AYS_learning\" target=\"_blank\">Weights & Biases</a> (<a href=\"https://wandb.me/run\" target=\"_blank\">docs</a>)<br/>"
      ],
      "text/plain": [
       "<IPython.core.display.HTML object>"
      ]
     },
     "metadata": {},
     "output_type": "display_data"
    },
    {
     "name": "stderr",
     "output_type": "stream",
     "text": [
      "Detected call of `lr_scheduler.step()` before `optimizer.step()`. In PyTorch 1.1.0 and later, you should call them in the opposite order: `optimizer.step()` before `lr_scheduler.step()`.  Failure to do this will result in PyTorch skipping the first value of the learning rate schedule. See more details at https://pytorch.org/docs/stable/optim.html#how-to-adjust-learning-rate\n"
     ]
    },
    {
     "data": {
      "text/html": [
       "Waiting for W&B process to finish... <strong style=\"color:green\">(success).</strong>"
      ],
      "text/plain": [
       "<IPython.core.display.HTML object>"
      ]
     },
     "metadata": {},
     "output_type": "display_data"
    },
    {
     "data": {
      "application/vnd.jupyter.widget-view+json": {
       "model_id": "",
       "version_major": 2,
       "version_minor": 0
      },
      "text/plain": [
       "VBox(children=(Label(value='0.001 MB of 0.001 MB uploaded (0.000 MB deduped)\\r'), FloatProgress(value=1.0, max…"
      ]
     },
     "metadata": {},
     "output_type": "display_data"
    },
    {
     "data": {
      "text/html": [
       "<style>\n",
       "    table.wandb td:nth-child(1) { padding: 0 10px; text-align: left ; width: auto;} td:nth-child(2) {text-align: left ; width: 100%}\n",
       "    .wandb-row { display: flex; flex-direction: row; flex-wrap: wrap; justify-content: flex-start; width: 100% }\n",
       "    .wandb-col { display: flex; flex-direction: column; flex-basis: 100%; flex: 1; padding: 10px; }\n",
       "    </style>\n",
       "<div class=\"wandb-row\"><div class=\"wandb-col\"><h3>Run history:</h3><br/><table class=\"wandb\"><tr><td>episode_reward</td><td>▁▁▇█▁▁███▁█▁▁███▁██████▁████▁█▁█████████</td></tr><tr><td>episodes</td><td>▁</td></tr><tr><td>frame_idx</td><td>▁</td></tr><tr><td>loss</td><td>▁▁▁▃▃▁▁▁▄▁▄▁▃▁▂▃▁▁▁▅▄▁▃▁█▂▃▃▂▁▇▇▁▃█▃▂▁▇▄</td></tr><tr><td>moving_average</td><td>▁▁▃▆▆▅▇██▆▅▆▅▇▇▆▇▆▆▇▇▇▆▅▆▅▆▆▅▆▆▆█▆▆▅▇▇▇▆</td></tr></table><br/></div><div class=\"wandb-col\"><h3>Run summary:</h3><br/><table class=\"wandb\"><tr><td>episode_reward</td><td>549.87019</td></tr><tr><td>episodes</td><td>1882</td></tr><tr><td>frame_idx</td><td>500271</td></tr><tr><td>loss</td><td>0.10328</td></tr><tr><td>mean_reward</td><td>307.84704</td></tr><tr><td>moving_average</td><td>310.53658</td></tr><tr><td>top_reward</td><td>565.35027</td></tr></table><br/></div></div>"
      ],
      "text/plain": [
       "<IPython.core.display.HTML object>"
      ]
     },
     "metadata": {},
     "output_type": "display_data"
    },
    {
     "data": {
      "text/html": [
       "Synced <strong style=\"color:#cdcd00\">ruby-glitter-909</strong>: <a href=\"https://wandb.ai/climate_policy_optim/AYS_learning/runs/28vas5na\" target=\"_blank\">https://wandb.ai/climate_policy_optim/AYS_learning/runs/28vas5na</a><br/>Synced 5 W&B file(s), 0 media file(s), 0 artifact file(s) and 0 other file(s)"
      ],
      "text/plain": [
       "<IPython.core.display.HTML object>"
      ]
     },
     "metadata": {},
     "output_type": "display_data"
    },
    {
     "data": {
      "text/html": [
       "Find logs at: <code>.\\wandb\\run-20220811_110410-28vas5na\\logs</code>"
      ],
      "text/plain": [
       "<IPython.core.display.HTML object>"
      ]
     },
     "metadata": {},
     "output_type": "display_data"
    },
    {
     "name": "stderr",
     "output_type": "stream",
     "text": [
      " 33%|██████████████████████████████████████████████▋                                                                                             | 1/3 [17:01<34:02, 1021.25s/it]"
     ]
    },
    {
     "data": {
      "text/html": [
       "Tracking run with wandb version 0.13.1"
      ],
      "text/plain": [
       "<IPython.core.display.HTML object>"
      ]
     },
     "metadata": {},
     "output_type": "display_data"
    },
    {
     "data": {
      "text/html": [
       "Run data is saved locally in <code>C:\\Users\\theod\\PycharmProjects\\climate_policy_thesis\\climate_policy_RL\\wandb\\run-20220811_112112-fbxiajxa</code>"
      ],
      "text/plain": [
       "<IPython.core.display.HTML object>"
      ]
     },
     "metadata": {},
     "output_type": "display_data"
    },
    {
     "data": {
      "text/html": [
       "Syncing run <strong><a href=\"https://wandb.ai/climate_policy_optim/AYS_learning/runs/fbxiajxa\" target=\"_blank\">rural-cloud-914</a></strong> to <a href=\"https://wandb.ai/climate_policy_optim/AYS_learning\" target=\"_blank\">Weights & Biases</a> (<a href=\"https://wandb.me/run\" target=\"_blank\">docs</a>)<br/>"
      ],
      "text/plain": [
       "<IPython.core.display.HTML object>"
      ]
     },
     "metadata": {},
     "output_type": "display_data"
    },
    {
     "data": {
      "text/html": [
       "Waiting for W&B process to finish... <strong style=\"color:green\">(success).</strong>"
      ],
      "text/plain": [
       "<IPython.core.display.HTML object>"
      ]
     },
     "metadata": {},
     "output_type": "display_data"
    },
    {
     "data": {
      "application/vnd.jupyter.widget-view+json": {
       "model_id": "",
       "version_major": 2,
       "version_minor": 0
      },
      "text/plain": [
       "VBox(children=(Label(value='0.001 MB of 0.001 MB uploaded (0.000 MB deduped)\\r'), FloatProgress(value=1.0, max…"
      ]
     },
     "metadata": {},
     "output_type": "display_data"
    },
    {
     "data": {
      "text/html": [
       "<style>\n",
       "    table.wandb td:nth-child(1) { padding: 0 10px; text-align: left ; width: auto;} td:nth-child(2) {text-align: left ; width: 100%}\n",
       "    .wandb-row { display: flex; flex-direction: row; flex-wrap: wrap; justify-content: flex-start; width: 100% }\n",
       "    .wandb-col { display: flex; flex-direction: column; flex-basis: 100%; flex: 1; padding: 10px; }\n",
       "    </style>\n",
       "<div class=\"wandb-row\"><div class=\"wandb-col\"><h3>Run history:</h3><br/><table class=\"wandb\"><tr><td>episode_reward</td><td>▂▅▇▁▅▇▅▆▁▁▂▆▄▅▇█▅▂▄▃▁▇▃▅▄▂▂▇▆▂▆▅▄▃▇▆▁▂▁▄</td></tr><tr><td>episodes</td><td>▁</td></tr><tr><td>frame_idx</td><td>▁</td></tr><tr><td>loss</td><td>▅▃▂▂▃▂▃█▃▁▇▆▃▃▃█▃▄▂▁▃█▂▄▃▄▂▃▄▅▄▃▄▃▁▄█▅▅█</td></tr><tr><td>moving_average</td><td>▁▄▅▇▆▆▆▆██▇▆█▆▆▆▆▅▇▆▇▇▆▇▅▅▆▆▅▇▆▅▆▆▆▆▆▆█▅</td></tr></table><br/></div><div class=\"wandb-col\"><h3>Run summary:</h3><br/><table class=\"wandb\"><tr><td>episode_reward</td><td>80.32563</td></tr><tr><td>episodes</td><td>3447</td></tr><tr><td>frame_idx</td><td>500137</td></tr><tr><td>loss</td><td>2.66201</td></tr><tr><td>mean_reward</td><td>65.48933</td></tr><tr><td>moving_average</td><td>68.18649</td></tr><tr><td>top_reward</td><td>389.6041</td></tr></table><br/></div></div>"
      ],
      "text/plain": [
       "<IPython.core.display.HTML object>"
      ]
     },
     "metadata": {},
     "output_type": "display_data"
    },
    {
     "data": {
      "text/html": [
       "Synced <strong style=\"color:#cdcd00\">rural-cloud-914</strong>: <a href=\"https://wandb.ai/climate_policy_optim/AYS_learning/runs/fbxiajxa\" target=\"_blank\">https://wandb.ai/climate_policy_optim/AYS_learning/runs/fbxiajxa</a><br/>Synced 4 W&B file(s), 0 media file(s), 0 artifact file(s) and 0 other file(s)"
      ],
      "text/plain": [
       "<IPython.core.display.HTML object>"
      ]
     },
     "metadata": {},
     "output_type": "display_data"
    },
    {
     "data": {
      "text/html": [
       "Find logs at: <code>.\\wandb\\run-20220811_112112-fbxiajxa\\logs</code>"
      ],
      "text/plain": [
       "<IPython.core.display.HTML object>"
      ]
     },
     "metadata": {},
     "output_type": "display_data"
    },
    {
     "name": "stderr",
     "output_type": "stream",
     "text": [
      " 67%|█████████████████████████████████████████████████████████████████████████████████████████████▎                                              | 2/3 [45:05<23:31, 1411.37s/it]"
     ]
    },
    {
     "data": {
      "text/html": [
       "Tracking run with wandb version 0.13.1"
      ],
      "text/plain": [
       "<IPython.core.display.HTML object>"
      ]
     },
     "metadata": {},
     "output_type": "display_data"
    },
    {
     "data": {
      "text/html": [
       "Run data is saved locally in <code>C:\\Users\\theod\\PycharmProjects\\climate_policy_thesis\\climate_policy_RL\\wandb\\run-20220811_114916-1q3pxcgx</code>"
      ],
      "text/plain": [
       "<IPython.core.display.HTML object>"
      ]
     },
     "metadata": {},
     "output_type": "display_data"
    },
    {
     "data": {
      "text/html": [
       "Syncing run <strong><a href=\"https://wandb.ai/climate_policy_optim/AYS_learning/runs/1q3pxcgx\" target=\"_blank\">smart-puddle-922</a></strong> to <a href=\"https://wandb.ai/climate_policy_optim/AYS_learning\" target=\"_blank\">Weights & Biases</a> (<a href=\"https://wandb.me/run\" target=\"_blank\">docs</a>)<br/>"
      ],
      "text/plain": [
       "<IPython.core.display.HTML object>"
      ]
     },
     "metadata": {},
     "output_type": "display_data"
    },
    {
     "data": {
      "text/html": [
       "Waiting for W&B process to finish... <strong style=\"color:green\">(success).</strong>"
      ],
      "text/plain": [
       "<IPython.core.display.HTML object>"
      ]
     },
     "metadata": {},
     "output_type": "display_data"
    },
    {
     "data": {
      "application/vnd.jupyter.widget-view+json": {
       "model_id": "",
       "version_major": 2,
       "version_minor": 0
      },
      "text/plain": [
       "VBox(children=(Label(value='0.001 MB of 0.001 MB uploaded (0.000 MB deduped)\\r'), FloatProgress(value=1.0, max…"
      ]
     },
     "metadata": {},
     "output_type": "display_data"
    },
    {
     "data": {
      "text/html": [
       "<style>\n",
       "    table.wandb td:nth-child(1) { padding: 0 10px; text-align: left ; width: auto;} td:nth-child(2) {text-align: left ; width: 100%}\n",
       "    .wandb-row { display: flex; flex-direction: row; flex-wrap: wrap; justify-content: flex-start; width: 100% }\n",
       "    .wandb-col { display: flex; flex-direction: column; flex-basis: 100%; flex: 1; padding: 10px; }\n",
       "    </style>\n",
       "<div class=\"wandb-row\"><div class=\"wandb-col\"><h3>Run history:</h3><br/><table class=\"wandb\"><tr><td>episode_reward</td><td>▁▂▁▁▁▁▂▁▃▄▆▁▁█▄▃██▁█████▃█▁█▁█▁█▁▄▂▃▁██▁</td></tr><tr><td>episodes</td><td>▁</td></tr><tr><td>frame_idx</td><td>▁</td></tr><tr><td>loss</td><td>▇▂▂▁▂▄▃▁▃▁▁▄▅▄▅▁▂▁▁▁▄▁▂▁▁▁▂▁▆▁▁▁▁▅▂█▁▅█▁</td></tr><tr><td>moving_average</td><td>▁▂▂▂▂▂▂▂▃▄▅▅▅▅▅▆▆▇▆▅▆█▅█▇▆▆▅▆▇▄▆▅▆▇▆▇▆▆▅</td></tr></table><br/></div><div class=\"wandb-col\"><h3>Run summary:</h3><br/><table class=\"wandb\"><tr><td>episode_reward</td><td>111.61128</td></tr><tr><td>episodes</td><td>1899</td></tr><tr><td>frame_idx</td><td>500260</td></tr><tr><td>loss</td><td>0.02278</td></tr><tr><td>mean_reward</td><td>133.20427</td></tr><tr><td>moving_average</td><td>159.97744</td></tr><tr><td>top_reward</td><td>352.32761</td></tr></table><br/></div></div>"
      ],
      "text/plain": [
       "<IPython.core.display.HTML object>"
      ]
     },
     "metadata": {},
     "output_type": "display_data"
    },
    {
     "data": {
      "text/html": [
       "Synced <strong style=\"color:#cdcd00\">smart-puddle-922</strong>: <a href=\"https://wandb.ai/climate_policy_optim/AYS_learning/runs/1q3pxcgx\" target=\"_blank\">https://wandb.ai/climate_policy_optim/AYS_learning/runs/1q3pxcgx</a><br/>Synced 4 W&B file(s), 0 media file(s), 0 artifact file(s) and 0 other file(s)"
      ],
      "text/plain": [
       "<IPython.core.display.HTML object>"
      ]
     },
     "metadata": {},
     "output_type": "display_data"
    },
    {
     "data": {
      "text/html": [
       "Find logs at: <code>.\\wandb\\run-20220811_114916-1q3pxcgx\\logs</code>"
      ],
      "text/plain": [
       "<IPython.core.display.HTML object>"
      ]
     },
     "metadata": {},
     "output_type": "display_data"
    },
    {
     "name": "stderr",
     "output_type": "stream",
     "text": [
      "100%|██████████████████████████████████████████████████████████████████████████████████████████████████████████████████████████████████████████| 3/3 [1:02:43<00:00, 1254.63s/it]\n"
     ]
    }
   ],
   "source": [
    "dqn_data = []\n",
    "config = {\"learning_rate\": 0.002629, \n",
    "    \"batch_size\": 512,\n",
    "    \"buffer_size\": 4096,\n",
    "    \"reward_type\": 'PB',\n",
    "    \"seed\": 0,\n",
    "    \"epsilon\": 0.2511,\n",
    "    \"rho\":0.6,\n",
    "    \"tau\":0.1,\n",
    "    \"discount\":0.99,\n",
    "    \"max_epochs\":50,\n",
    "    \"per_is\":False\n",
    "}\n",
    "for seed in tqdm(range(3)):\n",
    "    config[\"seed\"] = seed\n",
    "    dqn_exp = lc.Learning(max_frames=5e5, max_epochs=50, seed=seed, reward_type=\"PB\", gamma=0.99, max_episodes=10000, wandb_save=True)\n",
    "    dqn_exp.set_agent(\"DQN\", epsilon=0.2511, lr=0.002629, rho=0.6, tau=0.1)\n",
    "    dqn_exp.learning_loop_offline(512, 4096, per_is=False, config=config)\n",
    "    torch.save(dqn_exp.agent.target_net.state_dict(), path+\"\\\\dqn_target_net_2.\"+str(seed)+\".pt\")  \n",
    "    dqn_data.append(dqn_exp.data) "
   ]
  },
  {
   "cell_type": "code",
   "execution_count": 7,
   "id": "78d5d73f-1435-44ff-9c85-f9f787efc1e0",
   "metadata": {
    "collapsed": true,
    "jupyter": {
     "outputs_hidden": true,
     "source_hidden": true
    },
    "tags": []
   },
   "outputs": [
    {
     "name": "stderr",
     "output_type": "stream",
     "text": [
      "  0%|                                                                                                                                                      | 0/3 [00:00<?, ?it/s]"
     ]
    },
    {
     "data": {
      "text/html": [
       "Tracking run with wandb version 0.13.1"
      ],
      "text/plain": [
       "<IPython.core.display.HTML object>"
      ]
     },
     "metadata": {},
     "output_type": "display_data"
    },
    {
     "data": {
      "text/html": [
       "Run data is saved locally in <code>C:\\Users\\theod\\PycharmProjects\\climate_policy_thesis\\climate_policy_RL\\wandb\\run-20220811_120654-3ogzft8q</code>"
      ],
      "text/plain": [
       "<IPython.core.display.HTML object>"
      ]
     },
     "metadata": {},
     "output_type": "display_data"
    },
    {
     "data": {
      "text/html": [
       "Syncing run <strong><a href=\"https://wandb.ai/climate_policy_optim/AYS_learning/runs/3ogzft8q\" target=\"_blank\">gallant-lake-927</a></strong> to <a href=\"https://wandb.ai/climate_policy_optim/AYS_learning\" target=\"_blank\">Weights & Biases</a> (<a href=\"https://wandb.me/run\" target=\"_blank\">docs</a>)<br/>"
      ],
      "text/plain": [
       "<IPython.core.display.HTML object>"
      ]
     },
     "metadata": {},
     "output_type": "display_data"
    },
    {
     "data": {
      "text/html": [
       "Waiting for W&B process to finish... <strong style=\"color:green\">(success).</strong>"
      ],
      "text/plain": [
       "<IPython.core.display.HTML object>"
      ]
     },
     "metadata": {},
     "output_type": "display_data"
    },
    {
     "data": {
      "application/vnd.jupyter.widget-view+json": {
       "model_id": "",
       "version_major": 2,
       "version_minor": 0
      },
      "text/plain": [
       "VBox(children=(Label(value='0.001 MB of 0.001 MB uploaded (0.000 MB deduped)\\r'), FloatProgress(value=1.0, max…"
      ]
     },
     "metadata": {},
     "output_type": "display_data"
    },
    {
     "data": {
      "text/html": [
       "<style>\n",
       "    table.wandb td:nth-child(1) { padding: 0 10px; text-align: left ; width: auto;} td:nth-child(2) {text-align: left ; width: 100%}\n",
       "    .wandb-row { display: flex; flex-direction: row; flex-wrap: wrap; justify-content: flex-start; width: 100% }\n",
       "    .wandb-col { display: flex; flex-direction: column; flex-basis: 100%; flex: 1; padding: 10px; }\n",
       "    </style>\n",
       "<div class=\"wandb-row\"><div class=\"wandb-col\"><h3>Run history:</h3><br/><table class=\"wandb\"><tr><td>episode_reward</td><td>▁▂▁▇█▇▇▁▇██▇▇▇▇▁▁███████▁██▁████▁███████</td></tr><tr><td>episodes</td><td>▁</td></tr><tr><td>frame_idx</td><td>▁</td></tr><tr><td>loss</td><td>▂▅█▁▂▅▁▃▁▁▃▄▁▁▁▂▁▁▃▁▁▂▁▃▂▁▁▂▁▂▂▁▃▁▂▁▂▄▁▃</td></tr><tr><td>moving_average</td><td>▁▁▃▇█▆▅▇▆▅▆█▆▄█▆▆▇█▇▇█▇▇▇▇▇▆▇▇▇▇▇▇▇█▇▇█▇</td></tr></table><br/></div><div class=\"wandb-col\"><h3>Run summary:</h3><br/><table class=\"wandb\"><tr><td>episode_reward</td><td>502.93282</td></tr><tr><td>episodes</td><td>1814</td></tr><tr><td>frame_idx</td><td>500297</td></tr><tr><td>loss</td><td>0.10215</td></tr><tr><td>mean_reward</td><td>338.94785</td></tr><tr><td>moving_average</td><td>410.37089</td></tr><tr><td>top_reward</td><td>553.70862</td></tr></table><br/></div></div>"
      ],
      "text/plain": [
       "<IPython.core.display.HTML object>"
      ]
     },
     "metadata": {},
     "output_type": "display_data"
    },
    {
     "data": {
      "text/html": [
       "Synced <strong style=\"color:#cdcd00\">gallant-lake-927</strong>: <a href=\"https://wandb.ai/climate_policy_optim/AYS_learning/runs/3ogzft8q\" target=\"_blank\">https://wandb.ai/climate_policy_optim/AYS_learning/runs/3ogzft8q</a><br/>Synced 4 W&B file(s), 0 media file(s), 0 artifact file(s) and 0 other file(s)"
      ],
      "text/plain": [
       "<IPython.core.display.HTML object>"
      ]
     },
     "metadata": {},
     "output_type": "display_data"
    },
    {
     "data": {
      "text/html": [
       "Find logs at: <code>.\\wandb\\run-20220811_120654-3ogzft8q\\logs</code>"
      ],
      "text/plain": [
       "<IPython.core.display.HTML object>"
      ]
     },
     "metadata": {},
     "output_type": "display_data"
    },
    {
     "name": "stderr",
     "output_type": "stream",
     "text": [
      " 33%|██████████████████████████████████████████████▋                                                                                             | 1/3 [22:25<44:51, 1346.00s/it]"
     ]
    },
    {
     "data": {
      "text/html": [
       "Tracking run with wandb version 0.13.1"
      ],
      "text/plain": [
       "<IPython.core.display.HTML object>"
      ]
     },
     "metadata": {},
     "output_type": "display_data"
    },
    {
     "data": {
      "text/html": [
       "Run data is saved locally in <code>C:\\Users\\theod\\PycharmProjects\\climate_policy_thesis\\climate_policy_RL\\wandb\\run-20220811_122920-393nc9b8</code>"
      ],
      "text/plain": [
       "<IPython.core.display.HTML object>"
      ]
     },
     "metadata": {},
     "output_type": "display_data"
    },
    {
     "data": {
      "text/html": [
       "Syncing run <strong><a href=\"https://wandb.ai/climate_policy_optim/AYS_learning/runs/393nc9b8\" target=\"_blank\">royal-dust-933</a></strong> to <a href=\"https://wandb.ai/climate_policy_optim/AYS_learning\" target=\"_blank\">Weights & Biases</a> (<a href=\"https://wandb.me/run\" target=\"_blank\">docs</a>)<br/>"
      ],
      "text/plain": [
       "<IPython.core.display.HTML object>"
      ]
     },
     "metadata": {},
     "output_type": "display_data"
    },
    {
     "data": {
      "text/html": [
       "Waiting for W&B process to finish... <strong style=\"color:green\">(success).</strong>"
      ],
      "text/plain": [
       "<IPython.core.display.HTML object>"
      ]
     },
     "metadata": {},
     "output_type": "display_data"
    },
    {
     "data": {
      "application/vnd.jupyter.widget-view+json": {
       "model_id": "",
       "version_major": 2,
       "version_minor": 0
      },
      "text/plain": [
       "VBox(children=(Label(value='0.001 MB of 0.001 MB uploaded (0.000 MB deduped)\\r'), FloatProgress(value=1.0, max…"
      ]
     },
     "metadata": {},
     "output_type": "display_data"
    },
    {
     "data": {
      "text/html": [
       "<style>\n",
       "    table.wandb td:nth-child(1) { padding: 0 10px; text-align: left ; width: auto;} td:nth-child(2) {text-align: left ; width: 100%}\n",
       "    .wandb-row { display: flex; flex-direction: row; flex-wrap: wrap; justify-content: flex-start; width: 100% }\n",
       "    .wandb-col { display: flex; flex-direction: column; flex-basis: 100%; flex: 1; padding: 10px; }\n",
       "    </style>\n",
       "<div class=\"wandb-row\"><div class=\"wandb-col\"><h3>Run history:</h3><br/><table class=\"wandb\"><tr><td>episode_reward</td><td>▁▂█▂▂▁▂▂▂▂▃▁█▂▂▂▂▇▂▁▃▂▂▂▂▂▂▂▂▂▂▂▂▂▂▂▂▁▁▂</td></tr><tr><td>episodes</td><td>▁</td></tr><tr><td>frame_idx</td><td>▁</td></tr><tr><td>loss</td><td>█▂▁▂▁▃▁▅▂▂▁▁▁▁▁▃▁▁▁▁▁▂▂▁▁▁▂▁▁▁▁▁▂▂▁▁▁▂▁▂</td></tr><tr><td>moving_average</td><td>▁▂▆▆▇▅▅▆▆▅▄█▇▆▃▆▆█▇▆▆██▅▇▆▇▇▇▇▇▆▅▅▇▅▇▆▄▅</td></tr></table><br/></div><div class=\"wandb-col\"><h3>Run summary:</h3><br/><table class=\"wandb\"><tr><td>episode_reward</td><td>14.5778</td></tr><tr><td>episodes</td><td>2256</td></tr><tr><td>frame_idx</td><td>500009</td></tr><tr><td>loss</td><td>0.15969</td></tr><tr><td>mean_reward</td><td>110.89178</td></tr><tr><td>moving_average</td><td>116.99017</td></tr><tr><td>top_reward</td><td>575.06079</td></tr></table><br/></div></div>"
      ],
      "text/plain": [
       "<IPython.core.display.HTML object>"
      ]
     },
     "metadata": {},
     "output_type": "display_data"
    },
    {
     "data": {
      "text/html": [
       "Synced <strong style=\"color:#cdcd00\">royal-dust-933</strong>: <a href=\"https://wandb.ai/climate_policy_optim/AYS_learning/runs/393nc9b8\" target=\"_blank\">https://wandb.ai/climate_policy_optim/AYS_learning/runs/393nc9b8</a><br/>Synced 4 W&B file(s), 0 media file(s), 0 artifact file(s) and 0 other file(s)"
      ],
      "text/plain": [
       "<IPython.core.display.HTML object>"
      ]
     },
     "metadata": {},
     "output_type": "display_data"
    },
    {
     "data": {
      "text/html": [
       "Find logs at: <code>.\\wandb\\run-20220811_122920-393nc9b8\\logs</code>"
      ],
      "text/plain": [
       "<IPython.core.display.HTML object>"
      ]
     },
     "metadata": {},
     "output_type": "display_data"
    },
    {
     "name": "stderr",
     "output_type": "stream",
     "text": [
      " 67%|█████████████████████████████████████████████████████████████████████████████████████████████▎                                              | 2/3 [47:40<24:04, 1444.84s/it]"
     ]
    },
    {
     "data": {
      "text/html": [
       "Tracking run with wandb version 0.13.1"
      ],
      "text/plain": [
       "<IPython.core.display.HTML object>"
      ]
     },
     "metadata": {},
     "output_type": "display_data"
    },
    {
     "data": {
      "text/html": [
       "Run data is saved locally in <code>C:\\Users\\theod\\PycharmProjects\\climate_policy_thesis\\climate_policy_RL\\wandb\\run-20220811_125434-rqe5ip61</code>"
      ],
      "text/plain": [
       "<IPython.core.display.HTML object>"
      ]
     },
     "metadata": {},
     "output_type": "display_data"
    },
    {
     "data": {
      "text/html": [
       "Syncing run <strong><a href=\"https://wandb.ai/climate_policy_optim/AYS_learning/runs/rqe5ip61\" target=\"_blank\">absurd-oath-941</a></strong> to <a href=\"https://wandb.ai/climate_policy_optim/AYS_learning\" target=\"_blank\">Weights & Biases</a> (<a href=\"https://wandb.me/run\" target=\"_blank\">docs</a>)<br/>"
      ],
      "text/plain": [
       "<IPython.core.display.HTML object>"
      ]
     },
     "metadata": {},
     "output_type": "display_data"
    },
    {
     "data": {
      "text/html": [
       "Waiting for W&B process to finish... <strong style=\"color:green\">(success).</strong>"
      ],
      "text/plain": [
       "<IPython.core.display.HTML object>"
      ]
     },
     "metadata": {},
     "output_type": "display_data"
    },
    {
     "data": {
      "application/vnd.jupyter.widget-view+json": {
       "model_id": "",
       "version_major": 2,
       "version_minor": 0
      },
      "text/plain": [
       "VBox(children=(Label(value='0.001 MB of 0.001 MB uploaded (0.000 MB deduped)\\r'), FloatProgress(value=1.0, max…"
      ]
     },
     "metadata": {},
     "output_type": "display_data"
    },
    {
     "data": {
      "text/html": [
       "<style>\n",
       "    table.wandb td:nth-child(1) { padding: 0 10px; text-align: left ; width: auto;} td:nth-child(2) {text-align: left ; width: 100%}\n",
       "    .wandb-row { display: flex; flex-direction: row; flex-wrap: wrap; justify-content: flex-start; width: 100% }\n",
       "    .wandb-col { display: flex; flex-direction: column; flex-basis: 100%; flex: 1; padding: 10px; }\n",
       "    </style>\n",
       "<div class=\"wandb-row\"><div class=\"wandb-col\"><h3>Run history:</h3><br/><table class=\"wandb\"><tr><td>episode_reward</td><td>▁▁▁▁▁▇▁█▁█▁█▁███▁███▁██▁███▁██▁█████▁▁██</td></tr><tr><td>episodes</td><td>▁</td></tr><tr><td>frame_idx</td><td>▁</td></tr><tr><td>loss</td><td>▃▃▆▄█▄▆▂▁▁▂▁▂▂▁▂▁▁▁▃▁▁▁▃▂▂▁▁▁▂▆▂▃▁▂▃▂▃▂▄</td></tr><tr><td>moving_average</td><td>▁▁▂▆▅▅▇▆▆▇▆▇▆▆█▆▇█▆▆▆▇▇█▇▆▇▇▇▇▆▇▇▇▇▇▇▇▇▇</td></tr></table><br/></div><div class=\"wandb-col\"><h3>Run summary:</h3><br/><table class=\"wandb\"><tr><td>episode_reward</td><td>504.19506</td></tr><tr><td>episodes</td><td>1833</td></tr><tr><td>frame_idx</td><td>500068</td></tr><tr><td>loss</td><td>0.08977</td></tr><tr><td>mean_reward</td><td>348.2667</td></tr><tr><td>moving_average</td><td>429.66008</td></tr><tr><td>top_reward</td><td>537.38991</td></tr></table><br/></div></div>"
      ],
      "text/plain": [
       "<IPython.core.display.HTML object>"
      ]
     },
     "metadata": {},
     "output_type": "display_data"
    },
    {
     "data": {
      "text/html": [
       "Synced <strong style=\"color:#cdcd00\">absurd-oath-941</strong>: <a href=\"https://wandb.ai/climate_policy_optim/AYS_learning/runs/rqe5ip61\" target=\"_blank\">https://wandb.ai/climate_policy_optim/AYS_learning/runs/rqe5ip61</a><br/>Synced 4 W&B file(s), 0 media file(s), 0 artifact file(s) and 0 other file(s)"
      ],
      "text/plain": [
       "<IPython.core.display.HTML object>"
      ]
     },
     "metadata": {},
     "output_type": "display_data"
    },
    {
     "data": {
      "text/html": [
       "Find logs at: <code>.\\wandb\\run-20220811_125434-rqe5ip61\\logs</code>"
      ],
      "text/plain": [
       "<IPython.core.display.HTML object>"
      ]
     },
     "metadata": {},
     "output_type": "display_data"
    },
    {
     "name": "stderr",
     "output_type": "stream",
     "text": [
      "100%|██████████████████████████████████████████████████████████████████████████████████████████████████████████████████████████████████████████| 3/3 [1:09:02<00:00, 1380.80s/it]\n"
     ]
    }
   ],
   "source": [
    "duelddqn_data = []\n",
    "config = {\"learning_rate\": 0.0076, \n",
    "    \"batch_size\": 128,\n",
    "    \"buffer_size\": 8192,\n",
    "    \"reward_type\": 'PB',\n",
    "    \"seed\": 0,\n",
    "    \"epsilon\": 0.87,\n",
    "    \"rho\":0.76,\n",
    "    \"tau\":0.55,\n",
    "    \"discount\":0.99,\n",
    "    \"max_epochs\":50,\n",
    "    \"per_is\": True,\n",
    "    \"alpha\": 0.3448,\n",
    "    \"beta\":0.236,\n",
    "}\n",
    "for seed in tqdm(range(3)):\n",
    "    config[\"seed\"] = seed\n",
    "    duelddqn_exp = lc.Learning(max_frames=5e5, max_epochs=50, seed=seed, reward_type=\"PB\", gamma=0.99, max_episodes=10000, wandb_save=True)\n",
    "    duelddqn_exp.set_agent(\"DuelDDQN\", epsilon=0.87, lr=0.0076, rho=0.76, tau=0.55)\n",
    "    duelddqn_exp.learning_loop_offline(128, 8192, per_is=True, alpha=0.3448, beta=0.236, config=config)\n",
    "    torch.save(duelddqn_exp.agent.target_net.state_dict(), path+\"\\\\duelddqn_target_net_2.\"+str(seed)+\".pt\")  \n",
    "    duelddqn_data.append(duelddqn_exp.data) "
   ]
  },
  {
   "cell_type": "code",
   "execution_count": 8,
   "id": "d8ad173d-aee0-4497-b648-0436b45b298d",
   "metadata": {
    "collapsed": true,
    "jupyter": {
     "outputs_hidden": true,
     "source_hidden": true
    },
    "tags": []
   },
   "outputs": [
    {
     "name": "stderr",
     "output_type": "stream",
     "text": [
      "  0%|                                                                                                                                                      | 0/3 [00:00<?, ?it/s]"
     ]
    },
    {
     "data": {
      "text/html": [
       "Tracking run with wandb version 0.13.1"
      ],
      "text/plain": [
       "<IPython.core.display.HTML object>"
      ]
     },
     "metadata": {},
     "output_type": "display_data"
    },
    {
     "data": {
      "text/html": [
       "Run data is saved locally in <code>C:\\Users\\theod\\PycharmProjects\\climate_policy_thesis\\climate_policy_RL\\wandb\\run-20220811_132138-3d8uo6eq</code>"
      ],
      "text/plain": [
       "<IPython.core.display.HTML object>"
      ]
     },
     "metadata": {},
     "output_type": "display_data"
    },
    {
     "data": {
      "text/html": [
       "Syncing run <strong><a href=\"https://wandb.ai/climate_policy_optim/AYS_learning/runs/3d8uo6eq\" target=\"_blank\">efficient-sea-949</a></strong> to <a href=\"https://wandb.ai/climate_policy_optim/AYS_learning\" target=\"_blank\">Weights & Biases</a> (<a href=\"https://wandb.me/run\" target=\"_blank\">docs</a>)<br/>"
      ],
      "text/plain": [
       "<IPython.core.display.HTML object>"
      ]
     },
     "metadata": {},
     "output_type": "display_data"
    },
    {
     "data": {
      "text/html": [
       "Waiting for W&B process to finish... <strong style=\"color:green\">(success).</strong>"
      ],
      "text/plain": [
       "<IPython.core.display.HTML object>"
      ]
     },
     "metadata": {},
     "output_type": "display_data"
    },
    {
     "data": {
      "application/vnd.jupyter.widget-view+json": {
       "model_id": "",
       "version_major": 2,
       "version_minor": 0
      },
      "text/plain": [
       "VBox(children=(Label(value='0.001 MB of 0.001 MB uploaded (0.000 MB deduped)\\r'), FloatProgress(value=1.0, max…"
      ]
     },
     "metadata": {},
     "output_type": "display_data"
    },
    {
     "data": {
      "text/html": [
       "<style>\n",
       "    table.wandb td:nth-child(1) { padding: 0 10px; text-align: left ; width: auto;} td:nth-child(2) {text-align: left ; width: 100%}\n",
       "    .wandb-row { display: flex; flex-direction: row; flex-wrap: wrap; justify-content: flex-start; width: 100% }\n",
       "    .wandb-col { display: flex; flex-direction: column; flex-basis: 100%; flex: 1; padding: 10px; }\n",
       "    </style>\n",
       "<div class=\"wandb-row\"><div class=\"wandb-col\"><h3>Run history:</h3><br/><table class=\"wandb\"><tr><td>episode_reward</td><td>▁▁▁▁▂▁▁▁███▁██▁█▁█▁██▁███▁█▁▁██▁▁███████</td></tr><tr><td>episodes</td><td>▁</td></tr><tr><td>frame_idx</td><td>▁</td></tr><tr><td>loss</td><td>▁▁▁▁▁▁▁▁▁▁▃▁▁▁▁▄▁▁▁▁▁▁█▄▄▁█▂▅▁▁▁▁▁▁▁▁▁▁▁</td></tr><tr><td>moving_average</td><td>▁▁▁▁▁▂▂▂▅▇▆▇█▇▆▆▆▇▇▆▇▇█▇▇█▇▇█▇▇▇▇▇▇██▇▇▆</td></tr><tr><td>pol_loss</td><td>▄▄▁▅█▄▁▅▅▅▆▆▅▅▆▅▅▆▆▅▅▅▆▅▅▅▅▅▅▅▆▆▅▅▅▆▅▆▅▅</td></tr><tr><td>val_loss</td><td>▁▁▁▁▁▁▁▁▁▁▃▁▁▁▁▄▁▁▁▁▁▁█▄▄▁█▂▅▁▁▁▁▁▁▁▁▁▁▁</td></tr></table><br/></div><div class=\"wandb-col\"><h3>Run summary:</h3><br/><table class=\"wandb\"><tr><td>episode_reward</td><td>16.40989</td></tr><tr><td>episodes</td><td>1765</td></tr><tr><td>frame_idx</td><td>499712</td></tr><tr><td>loss</td><td>0.6067</td></tr><tr><td>mean_reward</td><td>330.97335</td></tr><tr><td>moving_average</td><td>342.35956</td></tr><tr><td>pol_loss</td><td>-0.00724</td></tr><tr><td>top_reward</td><td>548.37352</td></tr><tr><td>val_loss</td><td>0.61395</td></tr></table><br/></div></div>"
      ],
      "text/plain": [
       "<IPython.core.display.HTML object>"
      ]
     },
     "metadata": {},
     "output_type": "display_data"
    },
    {
     "data": {
      "text/html": [
       "Synced <strong style=\"color:#cdcd00\">efficient-sea-949</strong>: <a href=\"https://wandb.ai/climate_policy_optim/AYS_learning/runs/3d8uo6eq\" target=\"_blank\">https://wandb.ai/climate_policy_optim/AYS_learning/runs/3d8uo6eq</a><br/>Synced 4 W&B file(s), 0 media file(s), 0 artifact file(s) and 0 other file(s)"
      ],
      "text/plain": [
       "<IPython.core.display.HTML object>"
      ]
     },
     "metadata": {},
     "output_type": "display_data"
    },
    {
     "data": {
      "text/html": [
       "Find logs at: <code>.\\wandb\\run-20220811_132138-3d8uo6eq\\logs</code>"
      ],
      "text/plain": [
       "<IPython.core.display.HTML object>"
      ]
     },
     "metadata": {},
     "output_type": "display_data"
    },
    {
     "name": "stderr",
     "output_type": "stream",
     "text": [
      " 33%|█████████████████████████████████████████████▎                                                                                          | 1/3 [2:00:34<4:01:08, 7234.14s/it]"
     ]
    },
    {
     "data": {
      "text/html": [
       "Tracking run with wandb version 0.13.1"
      ],
      "text/plain": [
       "<IPython.core.display.HTML object>"
      ]
     },
     "metadata": {},
     "output_type": "display_data"
    },
    {
     "data": {
      "text/html": [
       "Run data is saved locally in <code>C:\\Users\\theod\\PycharmProjects\\climate_policy_thesis\\climate_policy_RL\\wandb\\run-20220811_152213-3a40igu0</code>"
      ],
      "text/plain": [
       "<IPython.core.display.HTML object>"
      ]
     },
     "metadata": {},
     "output_type": "display_data"
    },
    {
     "data": {
      "text/html": [
       "Syncing run <strong><a href=\"https://wandb.ai/climate_policy_optim/AYS_learning/runs/3a40igu0\" target=\"_blank\">cerulean-shape-975</a></strong> to <a href=\"https://wandb.ai/climate_policy_optim/AYS_learning\" target=\"_blank\">Weights & Biases</a> (<a href=\"https://wandb.me/run\" target=\"_blank\">docs</a>)<br/>"
      ],
      "text/plain": [
       "<IPython.core.display.HTML object>"
      ]
     },
     "metadata": {},
     "output_type": "display_data"
    },
    {
     "data": {
      "text/html": [
       "Waiting for W&B process to finish... <strong style=\"color:green\">(success).</strong>"
      ],
      "text/plain": [
       "<IPython.core.display.HTML object>"
      ]
     },
     "metadata": {},
     "output_type": "display_data"
    },
    {
     "data": {
      "application/vnd.jupyter.widget-view+json": {
       "model_id": "",
       "version_major": 2,
       "version_minor": 0
      },
      "text/plain": [
       "VBox(children=(Label(value='0.001 MB of 0.001 MB uploaded (0.000 MB deduped)\\r'), FloatProgress(value=1.0, max…"
      ]
     },
     "metadata": {},
     "output_type": "display_data"
    },
    {
     "data": {
      "text/html": [
       "<style>\n",
       "    table.wandb td:nth-child(1) { padding: 0 10px; text-align: left ; width: auto;} td:nth-child(2) {text-align: left ; width: 100%}\n",
       "    .wandb-row { display: flex; flex-direction: row; flex-wrap: wrap; justify-content: flex-start; width: 100% }\n",
       "    .wandb-col { display: flex; flex-direction: column; flex-basis: 100%; flex: 1; padding: 10px; }\n",
       "    </style>\n",
       "<div class=\"wandb-row\"><div class=\"wandb-col\"><h3>Run history:</h3><br/><table class=\"wandb\"><tr><td>episode_reward</td><td>▁▁▁▁▂▁▂▁██▁▁█▂▁██▃██▁▁▂█▁▃██████▁█▁▁████</td></tr><tr><td>episodes</td><td>▁</td></tr><tr><td>frame_idx</td><td>▁</td></tr><tr><td>loss</td><td>▁▁▁▃▁▁▅▁▅▁▁▁▁▁▃▁▁▁▁▁▁▁▁▁▁▁▁█▁▄▄▁▁▃▁▂▁▁▁▄</td></tr><tr><td>moving_average</td><td>▁▁▁▁▁▂▃▄▅▇▇▆▆▇▆▇▆▆▇█▇▅▆▆▇█▇▇▇▆▇█▆▇▆▆▆▇▇▆</td></tr><tr><td>pol_loss</td><td>▁▄▂▄█▆▅▆▆▆▅▅▆▅▃▆▅▅▅▆▅▅▆▆▆▆▆▅▆▆▅▅▆▆▆▅▆▅▆▆</td></tr><tr><td>val_loss</td><td>▁▁▁▃▁▁▅▁▅▁▁▁▁▁▃▁▁▁▁▁▁▁▁▁▁▁▁█▁▄▄▁▁▃▁▂▁▁▁▄</td></tr></table><br/></div><div class=\"wandb-col\"><h3>Run summary:</h3><br/><table class=\"wandb\"><tr><td>episode_reward</td><td>131.43777</td></tr><tr><td>episodes</td><td>1676</td></tr><tr><td>frame_idx</td><td>499712</td></tr><tr><td>loss</td><td>0.78578</td></tr><tr><td>mean_reward</td><td>306.88943</td></tr><tr><td>moving_average</td><td>348.85932</td></tr><tr><td>pol_loss</td><td>-0.01111</td></tr><tr><td>top_reward</td><td>599.46958</td></tr><tr><td>val_loss</td><td>0.79689</td></tr></table><br/></div></div>"
      ],
      "text/plain": [
       "<IPython.core.display.HTML object>"
      ]
     },
     "metadata": {},
     "output_type": "display_data"
    },
    {
     "data": {
      "text/html": [
       "Synced <strong style=\"color:#cdcd00\">cerulean-shape-975</strong>: <a href=\"https://wandb.ai/climate_policy_optim/AYS_learning/runs/3a40igu0\" target=\"_blank\">https://wandb.ai/climate_policy_optim/AYS_learning/runs/3a40igu0</a><br/>Synced 4 W&B file(s), 0 media file(s), 0 artifact file(s) and 0 other file(s)"
      ],
      "text/plain": [
       "<IPython.core.display.HTML object>"
      ]
     },
     "metadata": {},
     "output_type": "display_data"
    },
    {
     "data": {
      "text/html": [
       "Find logs at: <code>.\\wandb\\run-20220811_152213-3a40igu0\\logs</code>"
      ],
      "text/plain": [
       "<IPython.core.display.HTML object>"
      ]
     },
     "metadata": {},
     "output_type": "display_data"
    },
    {
     "name": "stderr",
     "output_type": "stream",
     "text": [
      " 67%|██████████████████████████████████████████████████████████████████████████████████████████▋                                             | 2/3 [4:00:37<2:00:16, 7216.26s/it]"
     ]
    },
    {
     "data": {
      "text/html": [
       "Tracking run with wandb version 0.13.1"
      ],
      "text/plain": [
       "<IPython.core.display.HTML object>"
      ]
     },
     "metadata": {},
     "output_type": "display_data"
    },
    {
     "data": {
      "text/html": [
       "Run data is saved locally in <code>C:\\Users\\theod\\PycharmProjects\\climate_policy_thesis\\climate_policy_RL\\wandb\\run-20220811_172216-3cn3rn3j</code>"
      ],
      "text/plain": [
       "<IPython.core.display.HTML object>"
      ]
     },
     "metadata": {},
     "output_type": "display_data"
    },
    {
     "data": {
      "text/html": [
       "Syncing run <strong><a href=\"https://wandb.ai/climate_policy_optim/AYS_learning/runs/3cn3rn3j\" target=\"_blank\">comic-dragon-1002</a></strong> to <a href=\"https://wandb.ai/climate_policy_optim/AYS_learning\" target=\"_blank\">Weights & Biases</a> (<a href=\"https://wandb.me/run\" target=\"_blank\">docs</a>)<br/>"
      ],
      "text/plain": [
       "<IPython.core.display.HTML object>"
      ]
     },
     "metadata": {},
     "output_type": "display_data"
    },
    {
     "data": {
      "text/html": [
       "Waiting for W&B process to finish... <strong style=\"color:green\">(success).</strong>"
      ],
      "text/plain": [
       "<IPython.core.display.HTML object>"
      ]
     },
     "metadata": {},
     "output_type": "display_data"
    },
    {
     "data": {
      "application/vnd.jupyter.widget-view+json": {
       "model_id": "",
       "version_major": 2,
       "version_minor": 0
      },
      "text/plain": [
       "VBox(children=(Label(value='0.001 MB of 0.001 MB uploaded (0.000 MB deduped)\\r'), FloatProgress(value=1.0, max…"
      ]
     },
     "metadata": {},
     "output_type": "display_data"
    },
    {
     "data": {
      "text/html": [
       "<style>\n",
       "    table.wandb td:nth-child(1) { padding: 0 10px; text-align: left ; width: auto;} td:nth-child(2) {text-align: left ; width: 100%}\n",
       "    .wandb-row { display: flex; flex-direction: row; flex-wrap: wrap; justify-content: flex-start; width: 100% }\n",
       "    .wandb-col { display: flex; flex-direction: column; flex-basis: 100%; flex: 1; padding: 10px; }\n",
       "    </style>\n",
       "<div class=\"wandb-row\"><div class=\"wandb-col\"><h3>Run history:</h3><br/><table class=\"wandb\"><tr><td>episode_reward</td><td>▁▁▁▁▁██▂█▂█▃████▃▁█████▃▃██▂▁▂█▁▁▁██▂▂▁█</td></tr><tr><td>episodes</td><td>▁</td></tr><tr><td>frame_idx</td><td>▁</td></tr><tr><td>loss</td><td>▁▁▁▁▁▄▁▁▁▁▁▁▃▁▁▁▁▁▁▂▁▁▁▁▁▁▁▁▁▁▃▁▁▂▁▂█▁▁▁</td></tr><tr><td>moving_average</td><td>▁▁▁▁▂▄▄▇▇▆▆▆▆▆▅▇▆▆▆▆▆▆▆▅▆▇▅▆▇▆▇▇▇▇█▇▅▇▆▆</td></tr><tr><td>pol_loss</td><td>▄▁▃█▆▇▄▇▇▇▇▇▇▇▆▆▇▇▆▆▇▇▇▇▇▇▇▇▇▆▆▇▇▇▇▆▇▇▇▇</td></tr><tr><td>val_loss</td><td>▁▁▁▁▁▄▁▁▁▁▁▁▃▁▁▁▁▁▁▂▁▁▁▁▁▁▁▁▁▁▃▁▁▂▁▂█▁▁▁</td></tr></table><br/></div><div class=\"wandb-col\"><h3>Run summary:</h3><br/><table class=\"wandb\"><tr><td>episode_reward</td><td>559.74732</td></tr><tr><td>episodes</td><td>1878</td></tr><tr><td>frame_idx</td><td>499712</td></tr><tr><td>loss</td><td>0.69727</td></tr><tr><td>mean_reward</td><td>232.35281</td></tr><tr><td>moving_average</td><td>265.00716</td></tr><tr><td>pol_loss</td><td>-0.00295</td></tr><tr><td>top_reward</td><td>678.83401</td></tr><tr><td>val_loss</td><td>0.70022</td></tr></table><br/></div></div>"
      ],
      "text/plain": [
       "<IPython.core.display.HTML object>"
      ]
     },
     "metadata": {},
     "output_type": "display_data"
    },
    {
     "data": {
      "text/html": [
       "Synced <strong style=\"color:#cdcd00\">comic-dragon-1002</strong>: <a href=\"https://wandb.ai/climate_policy_optim/AYS_learning/runs/3cn3rn3j\" target=\"_blank\">https://wandb.ai/climate_policy_optim/AYS_learning/runs/3cn3rn3j</a><br/>Synced 4 W&B file(s), 0 media file(s), 0 artifact file(s) and 0 other file(s)"
      ],
      "text/plain": [
       "<IPython.core.display.HTML object>"
      ]
     },
     "metadata": {},
     "output_type": "display_data"
    },
    {
     "data": {
      "text/html": [
       "Find logs at: <code>.\\wandb\\run-20220811_172216-3cn3rn3j\\logs</code>"
      ],
      "text/plain": [
       "<IPython.core.display.HTML object>"
      ]
     },
     "metadata": {},
     "output_type": "display_data"
    },
    {
     "name": "stderr",
     "output_type": "stream",
     "text": [
      "100%|██████████████████████████████████████████████████████████████████████████████████████████████████████████████████████████████████████████| 3/3 [5:56:27<00:00, 7129.01s/it]\n"
     ]
    }
   ],
   "source": [
    "ppo_data = []\n",
    "config = {\"lr_actor\": 0.0007, \n",
    "          \"lr_critic\":0.009,\n",
    "          \"batch_size\": 32,\n",
    "          \"buffer_size\": 1024,\n",
    "          \"reward_type\": 'PB',\n",
    "          \"seed\": 0,\n",
    "          \"epsilon\": 0.02,\n",
    "          \"lamda\":0.81,\n",
    "          \"max_grad_norm\":100,\n",
    "          \"discount\":0.99,\n",
    "          \"max_epochs\":50,\n",
    "          \"critic_decay\":0.9,\n",
    "          \"actor_decay\":0.9,\n",
    "          \"clip\":0.26\n",
    "}\n",
    "for seed in tqdm(range(3)):\n",
    "    config[\"seed\"] = seed\n",
    "    ppo_exp = lc.Learning(max_frames=5e5, max_epochs=50, seed=seed, reward_type=\"PB\", gamma=0.99, max_episodes=10000, wandb_save=True)\n",
    "    ppo_exp.set_agent(\"PPO\", clip=0.26, epsilon=0.02, lr_actor=0.0007,lr_critic=0.009, lamda=0.81, max_grad_norm=100,)\n",
    "    ppo_exp.learning_loop_rollout(32, 1024, config=config)\n",
    "    torch.save(ppo_exp.agent.actor.state_dict(), path+\"\\\\ppo_policy_net_3.\"+str(seed)+\".pt\")\n",
    "    torch.save(ppo_exp.agent.critic.state_dict(), path+\"\\\\ppo_critic_net_3.\"+str(seed)+\".pt\")\n",
    "    ppo_data.append(ppo_exp.data) "
   ]
  },
  {
   "cell_type": "code",
   "execution_count": 6,
   "id": "b051c50b-1024-4906-a431-27fa0fd55c27",
   "metadata": {},
   "outputs": [],
   "source": [
    "import json"
   ]
  },
  {
   "cell_type": "code",
   "execution_count": 7,
   "id": "d8f57669-e9c8-48c0-a9c8-ba1f0fb28004",
   "metadata": {
    "tags": []
   },
   "outputs": [
    {
     "name": "stderr",
     "output_type": "stream",
     "text": [
      "  0%|                                                                                                                                                     | 0/3 [00:00<?, ?it/s]"
     ]
    },
    {
     "data": {
      "text/html": [
       "Tracking run with wandb version 0.13.1"
      ],
      "text/plain": [
       "<IPython.core.display.HTML object>"
      ]
     },
     "metadata": {},
     "output_type": "display_data"
    },
    {
     "data": {
      "text/html": [
       "Run data is saved locally in <code>C:\\Users\\theod\\PycharmProjects\\climate_policy_thesis\\climate_policy_RL\\wandb\\run-20220815_095606-d1mu9yz9</code>"
      ],
      "text/plain": [
       "<IPython.core.display.HTML object>"
      ]
     },
     "metadata": {},
     "output_type": "display_data"
    },
    {
     "data": {
      "text/html": [
       "Syncing run <strong><a href=\"https://wandb.ai/climate_policy_optim/AYS_learning/runs/d1mu9yz9\" target=\"_blank\">giddy-snow-1119</a></strong> to <a href=\"https://wandb.ai/climate_policy_optim/AYS_learning\" target=\"_blank\">Weights & Biases</a> (<a href=\"https://wandb.me/run\" target=\"_blank\">docs</a>)<br/>"
      ],
      "text/plain": [
       "<IPython.core.display.HTML object>"
      ]
     },
     "metadata": {},
     "output_type": "display_data"
    },
    {
     "data": {
      "text/html": [
       "Waiting for W&B process to finish... <strong style=\"color:green\">(success).</strong>"
      ],
      "text/plain": [
       "<IPython.core.display.HTML object>"
      ]
     },
     "metadata": {},
     "output_type": "display_data"
    },
    {
     "data": {
      "application/vnd.jupyter.widget-view+json": {
       "model_id": "",
       "version_major": 2,
       "version_minor": 0
      },
      "text/plain": [
       "VBox(children=(Label(value='0.001 MB of 0.001 MB uploaded (0.000 MB deduped)\\r'), FloatProgress(value=1.0, max…"
      ]
     },
     "metadata": {},
     "output_type": "display_data"
    },
    {
     "data": {
      "text/html": [
       "<style>\n",
       "    table.wandb td:nth-child(1) { padding: 0 10px; text-align: left ; width: auto;} td:nth-child(2) {text-align: left ; width: 100%}\n",
       "    .wandb-row { display: flex; flex-direction: row; flex-wrap: wrap; justify-content: flex-start; width: 100% }\n",
       "    .wandb-col { display: flex; flex-direction: column; flex-basis: 100%; flex: 1; padding: 10px; }\n",
       "    </style>\n",
       "<div class=\"wandb-row\"><div class=\"wandb-col\"><h3>Run history:</h3><br/><table class=\"wandb\"><tr><td>episode_reward</td><td>▂▁▄▁▂▂▂▂▂▂▃▂▂▁▄▂▁█▁▁▆█▁▂▂▂▁▂▂▂▁▂▃▃▂▂▂▆▃▂</td></tr><tr><td>episodes</td><td>▁</td></tr><tr><td>frame_idx</td><td>▁</td></tr><tr><td>loss</td><td>█▆▅▄▄▆▃▄▅▆▁▆▆▆▆▆▄▆▆▁▄▅▅▃▁▁▆▁▃▅▁▄▁▁▅▃▅▅▄▂</td></tr><tr><td>moving_average</td><td>▁▂▂▁▂▃▂▃▃▂▃▄▇▆▅▅▆▅▅▇▅▅▅▅▅▆▄▅█▅▆▇▄▅▄█▆▄▆▆</td></tr><tr><td>pol_loss</td><td>▇▇▆▃▃▁▄▅▆▄▇▂▄▂▄▄▇▄▃▇▅▅▃▆█▇▄▇▆▅▇▄▇▇▅▅▄▄▆▆</td></tr><tr><td>val_loss</td><td>█▆▅▆▅█▄▄▅▇▁█▇▇▆▇▄▇▇▁▅▅▆▃▁▁▇▁▃▅▁▅▁▁▅▄▆▆▄▂</td></tr></table><br/></div><div class=\"wandb-col\"><h3>Run summary:</h3><br/><table class=\"wandb\"><tr><td>episode_reward</td><td>25.94609</td></tr><tr><td>episodes</td><td>9335</td></tr><tr><td>frame_idx</td><td>499968</td></tr><tr><td>loss</td><td>0.39222</td></tr><tr><td>mean_reward</td><td>23.31453</td></tr><tr><td>moving_average</td><td>24.52698</td></tr><tr><td>pol_loss</td><td>-0.12563</td></tr><tr><td>top_reward</td><td>115.91428</td></tr><tr><td>val_loss</td><td>0.51784</td></tr></table><br/></div></div>"
      ],
      "text/plain": [
       "<IPython.core.display.HTML object>"
      ]
     },
     "metadata": {},
     "output_type": "display_data"
    },
    {
     "data": {
      "text/html": [
       "Synced <strong style=\"color:#cdcd00\">giddy-snow-1119</strong>: <a href=\"https://wandb.ai/climate_policy_optim/AYS_learning/runs/d1mu9yz9\" target=\"_blank\">https://wandb.ai/climate_policy_optim/AYS_learning/runs/d1mu9yz9</a><br/>Synced 4 W&B file(s), 0 media file(s), 0 artifact file(s) and 0 other file(s)"
      ],
      "text/plain": [
       "<IPython.core.display.HTML object>"
      ]
     },
     "metadata": {},
     "output_type": "display_data"
    },
    {
     "data": {
      "text/html": [
       "Find logs at: <code>.\\wandb\\run-20220815_095606-d1mu9yz9\\logs</code>"
      ],
      "text/plain": [
       "<IPython.core.display.HTML object>"
      ]
     },
     "metadata": {},
     "output_type": "display_data"
    },
    {
     "name": "stderr",
     "output_type": "stream",
     "text": [
      " 33%|██████████████████████████████████████████████▎                                                                                            | 1/3 [17:43<35:26, 1063.40s/it]"
     ]
    },
    {
     "data": {
      "text/html": [
       "Tracking run with wandb version 0.13.1"
      ],
      "text/plain": [
       "<IPython.core.display.HTML object>"
      ]
     },
     "metadata": {},
     "output_type": "display_data"
    },
    {
     "data": {
      "text/html": [
       "Run data is saved locally in <code>C:\\Users\\theod\\PycharmProjects\\climate_policy_thesis\\climate_policy_RL\\wandb\\run-20220815_101349-337xy47o</code>"
      ],
      "text/plain": [
       "<IPython.core.display.HTML object>"
      ]
     },
     "metadata": {},
     "output_type": "display_data"
    },
    {
     "data": {
      "text/html": [
       "Syncing run <strong><a href=\"https://wandb.ai/climate_policy_optim/AYS_learning/runs/337xy47o\" target=\"_blank\">morning-moon-1120</a></strong> to <a href=\"https://wandb.ai/climate_policy_optim/AYS_learning\" target=\"_blank\">Weights & Biases</a> (<a href=\"https://wandb.me/run\" target=\"_blank\">docs</a>)<br/>"
      ],
      "text/plain": [
       "<IPython.core.display.HTML object>"
      ]
     },
     "metadata": {},
     "output_type": "display_data"
    },
    {
     "data": {
      "text/html": [
       "Waiting for W&B process to finish... <strong style=\"color:green\">(success).</strong>"
      ],
      "text/plain": [
       "<IPython.core.display.HTML object>"
      ]
     },
     "metadata": {},
     "output_type": "display_data"
    },
    {
     "data": {
      "application/vnd.jupyter.widget-view+json": {
       "model_id": "",
       "version_major": 2,
       "version_minor": 0
      },
      "text/plain": [
       "VBox(children=(Label(value='0.001 MB of 0.001 MB uploaded (0.000 MB deduped)\\r'), FloatProgress(value=1.0, max…"
      ]
     },
     "metadata": {},
     "output_type": "display_data"
    },
    {
     "data": {
      "text/html": [
       "<style>\n",
       "    table.wandb td:nth-child(1) { padding: 0 10px; text-align: left ; width: auto;} td:nth-child(2) {text-align: left ; width: 100%}\n",
       "    .wandb-row { display: flex; flex-direction: row; flex-wrap: wrap; justify-content: flex-start; width: 100% }\n",
       "    .wandb-col { display: flex; flex-direction: column; flex-basis: 100%; flex: 1; padding: 10px; }\n",
       "    </style>\n",
       "<div class=\"wandb-row\"><div class=\"wandb-col\"><h3>Run history:</h3><br/><table class=\"wandb\"><tr><td>episode_reward</td><td>▂▂▁▂▄▃▄▁▂▂▂▂▂▂▂▂▁▇▂█▃▃▄▃▁▂▃▂▃▃▃▂▄▃▂▃▂▂▁▂</td></tr><tr><td>episodes</td><td>▁</td></tr><tr><td>frame_idx</td><td>▁</td></tr><tr><td>loss</td><td>█▅▅▅▆▅▅▄▅▃▁▅▅▅▃▅▅▂▄▄▆▅▃▆▂▂▄▃▅▅▅▁▄▄▄▆▅▆▄▁</td></tr><tr><td>moving_average</td><td>▁▁▂▃▄▂▄▄▃▄▃▅█▂▅▆▄▆▆▄▅▅▆▆▄▄▄▆▄▆▄▆▄▇▇▅▅▅▆█</td></tr><tr><td>pol_loss</td><td>▇▄▂▃▃▆▁▇▂█▆▃▄▁▅▁▃█▆▆▁▄▃▂▆▇▅▄▂▄▄▇▄▂▅▂▃▂▄█</td></tr><tr><td>val_loss</td><td>█▅▆▆▇▅▇▃▇▂▁▆▆▇▄▇▇▁▄▄█▆▅▇▂▂▅▄▇▆▆▁▅▆▄▇▆▇▅▁</td></tr></table><br/></div><div class=\"wandb-col\"><h3>Run summary:</h3><br/><table class=\"wandb\"><tr><td>episode_reward</td><td>20.08672</td></tr><tr><td>episodes</td><td>10001</td></tr><tr><td>frame_idx</td><td>385408</td></tr><tr><td>loss</td><td>0.457</td></tr><tr><td>mean_reward</td><td>18.22573</td></tr><tr><td>moving_average</td><td>25.33019</td></tr><tr><td>pol_loss</td><td>-0.12091</td></tr><tr><td>top_reward</td><td>114.60077</td></tr><tr><td>val_loss</td><td>0.57791</td></tr></table><br/></div></div>"
      ],
      "text/plain": [
       "<IPython.core.display.HTML object>"
      ]
     },
     "metadata": {},
     "output_type": "display_data"
    },
    {
     "data": {
      "text/html": [
       "Synced <strong style=\"color:#cdcd00\">morning-moon-1120</strong>: <a href=\"https://wandb.ai/climate_policy_optim/AYS_learning/runs/337xy47o\" target=\"_blank\">https://wandb.ai/climate_policy_optim/AYS_learning/runs/337xy47o</a><br/>Synced 4 W&B file(s), 0 media file(s), 0 artifact file(s) and 0 other file(s)"
      ],
      "text/plain": [
       "<IPython.core.display.HTML object>"
      ]
     },
     "metadata": {},
     "output_type": "display_data"
    },
    {
     "data": {
      "text/html": [
       "Find logs at: <code>.\\wandb\\run-20220815_101349-337xy47o\\logs</code>"
      ],
      "text/plain": [
       "<IPython.core.display.HTML object>"
      ]
     },
     "metadata": {},
     "output_type": "display_data"
    },
    {
     "name": "stderr",
     "output_type": "stream",
     "text": [
      " 67%|█████████████████████████████████████████████████████████████████████████████████████████████▎                                              | 2/3 [31:13<15:14, 914.47s/it]"
     ]
    },
    {
     "data": {
      "text/html": [
       "Tracking run with wandb version 0.13.1"
      ],
      "text/plain": [
       "<IPython.core.display.HTML object>"
      ]
     },
     "metadata": {},
     "output_type": "display_data"
    },
    {
     "data": {
      "text/html": [
       "Run data is saved locally in <code>C:\\Users\\theod\\PycharmProjects\\climate_policy_thesis\\climate_policy_RL\\wandb\\run-20220815_102720-3c1c9pnj</code>"
      ],
      "text/plain": [
       "<IPython.core.display.HTML object>"
      ]
     },
     "metadata": {},
     "output_type": "display_data"
    },
    {
     "data": {
      "text/html": [
       "Syncing run <strong><a href=\"https://wandb.ai/climate_policy_optim/AYS_learning/runs/3c1c9pnj\" target=\"_blank\">sandy-rain-1121</a></strong> to <a href=\"https://wandb.ai/climate_policy_optim/AYS_learning\" target=\"_blank\">Weights & Biases</a> (<a href=\"https://wandb.me/run\" target=\"_blank\">docs</a>)<br/>"
      ],
      "text/plain": [
       "<IPython.core.display.HTML object>"
      ]
     },
     "metadata": {},
     "output_type": "display_data"
    },
    {
     "data": {
      "text/html": [
       "Waiting for W&B process to finish... <strong style=\"color:green\">(success).</strong>"
      ],
      "text/plain": [
       "<IPython.core.display.HTML object>"
      ]
     },
     "metadata": {},
     "output_type": "display_data"
    },
    {
     "data": {
      "application/vnd.jupyter.widget-view+json": {
       "model_id": "",
       "version_major": 2,
       "version_minor": 0
      },
      "text/plain": [
       "VBox(children=(Label(value='0.001 MB of 0.001 MB uploaded (0.000 MB deduped)\\r'), FloatProgress(value=1.0, max…"
      ]
     },
     "metadata": {},
     "output_type": "display_data"
    },
    {
     "data": {
      "text/html": [
       "<style>\n",
       "    table.wandb td:nth-child(1) { padding: 0 10px; text-align: left ; width: auto;} td:nth-child(2) {text-align: left ; width: 100%}\n",
       "    .wandb-row { display: flex; flex-direction: row; flex-wrap: wrap; justify-content: flex-start; width: 100% }\n",
       "    .wandb-col { display: flex; flex-direction: column; flex-basis: 100%; flex: 1; padding: 10px; }\n",
       "    </style>\n",
       "<div class=\"wandb-row\"><div class=\"wandb-col\"><h3>Run history:</h3><br/><table class=\"wandb\"><tr><td>episode_reward</td><td>▁▃▂▂▂▂▃▁▁▁▂▂▂▃▁▂▁▂▂▃▃▁▁▂▃▂▃▁▁█▂▂▃▂▁▁▂▂▂▂</td></tr><tr><td>episodes</td><td>▁</td></tr><tr><td>frame_idx</td><td>▁</td></tr><tr><td>loss</td><td>█▇▇▆▅▂▇▆▄▆▅▂▃▁▇▂▆▅▆█▅▂▆▇▆▄▆█▅▆▆▄▆▇▇▁▇█▄▆</td></tr><tr><td>moving_average</td><td>▃▁▁▁▂▃▂▁▂▃▃▅▄▃▃▃▅▃▇▄▆█▅▇▅▆▃▄▆▇▄▆▇▄▂▄▅▅▄▄</td></tr><tr><td>pol_loss</td><td>█▆▅▁▄▅▃▅█▃▅▇▄▇▃█▃▄▃▁▄▇▄▄▂▆▅▁▄▃▃▅▃▄▄▆▂▃▅▄</td></tr><tr><td>val_loss</td><td>▅▅▆▇▅▂▆▅▂▆▅▁▃▁▇▁▆▄▆█▅▁▅▆▆▃▅█▅▆▆▃▆▇▆▁▇▇▄▅</td></tr></table><br/></div><div class=\"wandb-col\"><h3>Run summary:</h3><br/><table class=\"wandb\"><tr><td>episode_reward</td><td>21.81994</td></tr><tr><td>episodes</td><td>10003</td></tr><tr><td>frame_idx</td><td>389888</td></tr><tr><td>loss</td><td>0.44955</td></tr><tr><td>mean_reward</td><td>17.9736</td></tr><tr><td>moving_average</td><td>20.97089</td></tr><tr><td>pol_loss</td><td>-0.12808</td></tr><tr><td>top_reward</td><td>96.20178</td></tr><tr><td>val_loss</td><td>0.57764</td></tr></table><br/></div></div>"
      ],
      "text/plain": [
       "<IPython.core.display.HTML object>"
      ]
     },
     "metadata": {},
     "output_type": "display_data"
    },
    {
     "data": {
      "text/html": [
       "Synced <strong style=\"color:#cdcd00\">sandy-rain-1121</strong>: <a href=\"https://wandb.ai/climate_policy_optim/AYS_learning/runs/3c1c9pnj\" target=\"_blank\">https://wandb.ai/climate_policy_optim/AYS_learning/runs/3c1c9pnj</a><br/>Synced 4 W&B file(s), 0 media file(s), 0 artifact file(s) and 0 other file(s)"
      ],
      "text/plain": [
       "<IPython.core.display.HTML object>"
      ]
     },
     "metadata": {},
     "output_type": "display_data"
    },
    {
     "data": {
      "text/html": [
       "Find logs at: <code>.\\wandb\\run-20220815_102720-3c1c9pnj\\logs</code>"
      ],
      "text/plain": [
       "<IPython.core.display.HTML object>"
      ]
     },
     "metadata": {},
     "output_type": "display_data"
    },
    {
     "name": "stderr",
     "output_type": "stream",
     "text": [
      "100%|████████████████████████████████████████████████████████████████████████████████████████████████████████████████████████████████████████████| 3/3 [45:02<00:00, 900.93s/it]\n"
     ]
    }
   ],
   "source": [
    "a2c_data = []\n",
    "config = {\"lr_actor\": 0.009889, \n",
    "          \"lr_critic\":0.005984,\n",
    "          \"batch_size\": 128,\n",
    "          \"reward_type\": 'PB',\n",
    "          \"seed\": 0,\n",
    "          \"epsilon\": 0.0241,\n",
    "          \"lamda\":0.161,\n",
    "          \"max_grad_norm\":1000,\n",
    "          \"discount\":0.99,\n",
    "          \"max_epochs\":1,\n",
    "          \"critic_decay\":0.9976,\n",
    "          \"actor_decay\":0.9964,\n",
    "}\n",
    "for seed in tqdm(range(3)):\n",
    "    config[\"seed\"] = seed\n",
    "    a2c_exp = lc.Learning(max_frames=5e5, max_epochs=1, seed=seed, reward_type=\"PB\", gamma=0.91, max_episodes=10000, wandb_save=True)\n",
    "    a2c_exp.set_agent(\"A2C\", epsilon=0.0241, lr_actor=0.009889,lr_critic=0.005984, lamda=0.161, max_grad_norm=1000,\n",
    "                     critic_decay=0.9976, actor_decay=0.9964)\n",
    "    a2c_exp.learning_loop_rollout(128, 128, config=config)\n",
    "    torch.save(a2c_exp.agent.actor.state_dict(), path+\"\\\\a2c_policy_net_\"+str(seed)+\".pt\")\n",
    "    torch.save(a2c_exp.agent.critic.state_dict(), path+\"\\\\a2c_critic_net_\"+str(seed)+\".pt\")\n",
    "    a2c_data.append(a2c_exp.data) "
   ]
  },
  {
   "cell_type": "code",
   "execution_count": 8,
   "id": "fb484900-3206-4ddf-ab17-0672ded13b70",
   "metadata": {},
   "outputs": [],
   "source": [
    "with open(\"a2c_data.json\", \"w\") as f:\n",
    "    json.dump(a2c_data, f)"
   ]
  },
  {
   "cell_type": "code",
   "execution_count": null,
   "id": "bb1c2fb4-a86c-4690-8149-8f09db988cfb",
   "metadata": {},
   "outputs": [],
   "source": []
  }
 ],
 "metadata": {
  "kernelspec": {
   "display_name": "Python 3 (ipykernel)",
   "language": "python",
   "name": "python3"
  },
  "language_info": {
   "codemirror_mode": {
    "name": "ipython",
    "version": 3
   },
   "file_extension": ".py",
   "mimetype": "text/x-python",
   "name": "python",
   "nbconvert_exporter": "python",
   "pygments_lexer": "ipython3",
   "version": "3.8.12"
  }
 },
 "nbformat": 4,
 "nbformat_minor": 5
}
