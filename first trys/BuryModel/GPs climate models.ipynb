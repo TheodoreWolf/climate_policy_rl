{
 "cells": [
  {
   "cell_type": "code",
   "execution_count": 166,
   "id": "690535a9",
   "metadata": {},
   "outputs": [],
   "source": [
    "# We want to make a GP that predicts temperature with social variables\n",
    "import numpy as np\n",
    "import os\n",
    "import requests\n",
    "import scipy.io\n",
    "from scipy.interpolate import interp1d\n",
    "from scipy.integrate import odeint\n",
    "import matplotlib.pyplot as plt\n",
    "\n",
    "mld = os.path.join(\"C:\\\\Users\\\\theod\\\\Desktop\\\\UCL\\\\Machine Learn\\\\Project\\\\socio_climate_model\\\\external_data\")\n"
   ]
  },
  {
   "cell_type": "code",
   "execution_count": 167,
   "id": "71db1749",
   "metadata": {},
   "outputs": [],
   "source": [
    "data = np.genfromtxt(os.path.join(mld, \"cdiac_fossilfuel.csv\"), delimiter=\",\")"
   ]
  },
  {
   "cell_type": "code",
   "execution_count": 229,
   "id": "1154752f",
   "metadata": {},
   "outputs": [
    {
     "name": "stdout",
     "output_type": "stream",
     "text": [
      "1800.0 2014.0\n"
     ]
    }
   ],
   "source": [
    "carbon_func = interp1d(data[2:, 0]-1800, data[2:, 1]*10**(-3), kind=\"cubic\")\n",
    "print(min(data[51:, 0]), max(data[51:, 0]))"
   ]
  },
  {
   "cell_type": "code",
   "execution_count": 242,
   "id": "fde264a3",
   "metadata": {
    "scrolled": true
   },
   "outputs": [
    {
     "name": "stdout",
     "output_type": "stream",
     "text": [
      "9.855\n"
     ]
    },
    {
     "data": {
      "image/png": "[encoded data removed]",
      "text/plain": [
       "<Figure size 432x288 with 1 Axes>"
      ]
     },
     "metadata": {
      "needs_background": "light"
     },
     "output_type": "display_data"
    }
   ],
   "source": [
    "t = np.linspace(0, 214, 1000)\n",
    "plt.plot(t, carbon_func(t))\n",
    "epsilon2014 = carbon_func(214)\n",
    "print(epsilon2014)"
   ]
  },
  {
   "cell_type": "code",
   "execution_count": 170,
   "id": "3b88e5b1",
   "metadata": {
    "scrolled": true
   },
   "outputs": [],
   "source": [
    "# # constants\n",
    "# Cat0 = (590, 569, 602)          # GtC initial CO2 in atmosphere\n",
    "# Cao0 = (1.4, 1.5, 1.6)          # GtC initial CO2 in ocean reservoir\n",
    "# Cveg0 = (540, 550, 560)         # GtC initial CO2 in vegetation reservoir\n",
    "# Cso0 = (1480, 1500, 1520)       # GtC initial CO2 in soil reservoir\n",
    "# T0 = (288, 288.15, 288.3)       # K initial average atmospheric temperature\n",
    "# kp = (0.175, 0.184, 0.193)      # yr-1 photosynthesis rate constant\n",
    "# kMM = 1.478                     # photosynthesis normalising constant\n",
    "# kc = (26, 29, 32) * 1e-6        # half-saturation point for photosynthesi\n",
    "# KM = (108, 120, 132) * 1e-6     # photosynthesis compensation point\n",
    "# ka = 1.773 * 1e-20              # mole volume of atmosphere \n",
    "# kr = (0.0828, 0.092, 0.1012)    # yr-1 plant respiration constant\n",
    "# kA = 8.7039 * 1e9               # plant respiration normalising constant \n",
    "# Ea = (54.63, 54.83, 55.03)      # J mol−1 plant respiration activation energy\n",
    "# ksr =  (0.0303, 0.034, 0.037)   # yr−1 soil respiration rate constant\n",
    "# kB = 157.072                    #soil respiration normalising constant  \n",
    "# kt = (0.0828, 0.092, 0.1012)    # yr−1 turnover rate constant  \n",
    "# c = (4.22, 4.69, 5.16) * 1e23   # JK−1 specific heat capacity of Earth’s surface\n",
    "# aE = 5.101 *1e14                #  m2 Earth’s surface area\n",
    "# sigma = 5.67 * 1e-8             # Wm−2 K−4 Stefan-Boltzman constant\n",
    "# L = 43655                       #  mol−1 latent heat per mole of water  \n",
    "# R = 8.314                       # J mol−1 K molar gas constant\n",
    "# H = 0.5915                      # relative humidity  \n",
    "# A = (0.203, 0.225, 0.248)       # yr−1 surface albedo\n",
    "# S = (1231, 1368, 1504)          # Wm−2 solar flux \n",
    "# tauCH4= (0.0208, 0.0231, 0.0254)# methane opacity \n",
    "# P0  = (1.26, 1.4, 1.54) * 1e11  # Pa water vapor saturation constant  \n",
    "# F0 = (2.25, 2.5, 2.75) * 1e-2   # yr−1  ocean flux rate constant  \n",
    "# chi = (0.2, 0.3, 0.4)           # characteristic CO2 solubility \n",
    "# zeta = (40, 50, 60)             # evasion factor\n",
    "# kappa = (0.02, 0.05, 0.2)       # yr−1 social learning rate \n",
    "# beta = (0.5, 1, 1.5)            # net cost of mitigation \n",
    "# delta = (0.5, 1, 1.5)           # strength of social norms\n",
    "# fmax  = (4,5,6)                 # maximum of warming cost function f(T) \n",
    "# omega = (1, 3, 5)               # K nonlinearity of warming cost function f(T)  \n",
    "# Tc = (2.4, 2.5, 2.6)            # K critical temperature of f(T)  \n",
    "# tp = 10                         # yr previous years used for temperature projection  \n",
    "# tf = (0, 25, 50)                # yr years ahead for temperature projection\n",
    "# s = (30, 50, 70)                # yr half-saturation time for epsilon(t) from 2014\n",
    "# epsilon_max = (4.2, 7, 9.8)     # GtC yr−1  maximum change in epsilon(t) from 2014\n",
    "# x0 = (0.01, 0.05, 0.1)          # initial proportion of mitigators "
   ]
  },
  {
   "cell_type": "code",
   "execution_count": 320,
   "id": "fafc32b8",
   "metadata": {},
   "outputs": [],
   "source": [
    "# constants\n",
    "Cat0 = (590, 569, 602)          # GtC initial CO2 in atmosphere\n",
    "Coc0 = (1.4e5, 1.5e5, 1.6e5)          # GtC initial CO2 in ocean reservoir\n",
    "Cveg0 = (540, 550, 560)         # GtC initial CO2 in vegetation reservoir\n",
    "Cso0 = (1480, 1500, 1520)       # GtC initial CO2 in soil reservoir\n",
    "T0 = (288, 288.15, 288.3)       # K initial average atmospheric temperature\n",
    "kp = (0.175, 0.184, 0.193)      # yr-1 photosynthesis rate constant\n",
    "kMM = 1.478                     # photosynthesis normalising constant\n",
    "kc = (26* 1e-6, 29* 1e-6, 32* 1e-6)         # half-saturation point for photosynthesi\n",
    "KM = (108* 1e-6, 120* 1e-6, 132* 1e-6)      # photosynthesis compensation point\n",
    "ka = 1.773 * 1e20              # mole volume of atmosphere \n",
    "kr = (0.0828, 0.092, 0.1012)    # yr-1 plant respiration constant\n",
    "kA = 8.7039 * 1e9               # plant respiration normalising constant \n",
    "Ea = (54.63e3, 54.83e3, 55.03e3)      # J mol−1 plant respiration activation energy\n",
    "ksr =  (0.0303, 0.0337, 0.0371)   # yr−1 soil respiration rate constant\n",
    "kB = 157.072                    #soil respiration normalising constant  \n",
    "kt = (0.0828, 0.092, 0.1012)    # yr−1 turnover rate constant  \n",
    "c = (4.22* 1e23, 4.69* 1e23, 5.16* 1e23)    # JK−1 specific heat capacity of Earth’s surface\n",
    "aE = 5.101 *1e14                #  m2 Earth’s surface area\n",
    "sigma = 5.67 * 1e-8             # Wm−2 K−4 Stefan-Boltzman constant\n",
    "L_ = 43655                      #  mol−1 latent heat per mole of water  \n",
    "R = 8.314                       # J mol−1 K molar gas constant\n",
    "H = 0.5915                      # relative humidity  \n",
    "A = (0.203, 0.225, 0.248)       # yr−1 surface albedo\n",
    "S = (1231, 1368, 1504)          # Wm−2 solar flux \n",
    "tauCH4= (0.0208, 0.0231, 0.0254)# methane opacity \n",
    "P0  = (1.26* 1e11, 1.4* 1e11, 1.54* 1e11)   # Pa water vapor saturation constant  \n",
    "F0 = (2.25* 1e-2, 2.5* 1e-2, 2.75* 1e-2)    # yr−1  ocean flux rate constant  \n",
    "chi = (0.2, 0.3, 0.4)           # characteristic CO2 solubility \n",
    "zeta = (40, 50, 60)             # evasion factor\n",
    "kappa = (0.02, 0.05, 0.2)       # yr−1 social learning rate \n",
    "beta = (0.5, 1, 1.5)            # net cost of mitigation \n",
    "delta = (0.5, 1, 1.5)           # strength of social norms\n",
    "fmax  = (4,5,6)                 # maximum of warming cost function f(T) \n",
    "omega = (1, 3, 5)               # K nonlinearity of warming cost function f(T)  \n",
    "Tc = (2.4, 2.5, 2.6)            # K critical temperature of f(T)  \n",
    "tp = 10                         # yr previous years used for temperature projection  \n",
    "tf = (0, 25, 50)                # yr years ahead for temperature projection\n",
    "s = (30, 50, 70)                # yr half-saturation time for epsilon(t) from 2014\n",
    "epsilon_max = (4.2, 7, 9.8)     # GtC yr−1  maximum change in epsilon(t) from 2014\n",
    "x0 = (0.01, 0.05, 0.1)          # initial proportion of mitigators \n",
    "sec_to_year = 365.25*24*3600"
   ]
  },
  {
   "cell_type": "code",
   "execution_count": 321,
   "id": "f2a74efe",
   "metadata": {},
   "outputs": [],
   "source": [
    "def carbon_conc(Cat):\n",
    "    pCO2a = 8.3259e13 * (Cat + Cat0[1])/ka\n",
    "    return pCO2a\n",
    "\n",
    "def carbon_uptake(T, pCO2a):\n",
    "    if pCO2a >= kc[1] and -15 <= T and T <= 25:\n",
    "        P = kp[1] * Cveg0[1] * kMM *(pCO2a - kc[1])/(KM[1]+pCO2a-kc[1])* (15+T)**2 *(25-T) / (5625)\n",
    "        return P\n",
    "    else:\n",
    "        return 0\n",
    "\n",
    "def respiration(T, Cveg, Cso):\n",
    "    Rveg = kr[1] * Cveg * kA * np.exp(-Ea[1]/(R*(T+T0[1])))\n",
    "    Rso = ksr[1] * Cso * kB * np.exp(-308.56/(T+T0[1]-227.13))\n",
    "\n",
    "    return Rveg, Rso\n",
    "\n",
    "def turnover(Cveg):\n",
    "    L = kt[1] * Cveg\n",
    "    return L\n",
    "\n",
    "def ocean_flux(Cat, Coc):\n",
    "    Foc = F0[1]*chi[1]*(Cat-zeta[1]*Cat0[1]*Coc/Coc0[1])\n",
    "    return Foc\n",
    "\n",
    "def atmosphere_dyna(pCO2a,T):\n",
    "    tauCO2 = 1.73 * (pCO2a)**0.263\n",
    "    tauH2O = 0.0126*(H*P0[1]*np.exp(-L_/(R*(T+T0[1]))))**0.503\n",
    "    \n",
    "    Fd = (1-A[1])*S[1]/4 *(1+0.75*(tauCO2+tauH2O+tauCH4[1]))\n",
    "    return Fd\n",
    "\n",
    "def f(T):\n",
    "    return fmax[1]/(1+np.exp(-omega[1]*(T-Tc[1])))\n",
    "\n",
    "def epsilon(t):\n",
    "    return epsilon2014 + (t)*epsilon_max[1]/(t+s[1])"
   ]
  },
  {
   "cell_type": "code",
   "execution_count": 322,
   "id": "4e0b77b3",
   "metadata": {},
   "outputs": [],
   "source": [
    "# calculate the variables with the equations\n",
    "def calculate_vars(T, Cat, Cveg, Cso, Coc, t):\n",
    "    \n",
    "    pCO2a = carbon_conc(Cat)\n",
    "    P = carbon_uptake(T, pCO2a)\n",
    "    Rveg, Rso = respiration(T, Cveg, Cso)\n",
    "    L = turnover(Cveg)\n",
    "    Foc = ocean_flux(Cat, Coc)\n",
    "    Fd = atmosphere_dyna(pCO2a, T)\n",
    "    \n",
    "    return P, Rveg, Rso, L, Foc, Fd\n",
    "\n",
    "# update equations\n",
    "def update(x, T, Rveg, Rso, Foc, L, P, Fd, t):\n",
    "    \n",
    "    dx = kappa[1] * x * (1-x) * (-beta[1] + f(T) + delta[1] * (2*x-1)) #assume Tf=T\n",
    "    dCat = epsilon(t) *(1-x) - P + Rveg + Rso - Foc\n",
    "    dCoc = Foc\n",
    "    dCveg = P - Rveg - L\n",
    "    dCso = L - Rso\n",
    "    dT = (Fd - sigma * (T+T0[1])**4) * aE/c[1]\n",
    "    dCoc = max(0, dCoc)\n",
    "    \n",
    "    return x+dx, Cat+dCat, Coc+dCoc, Cveg+dCveg, Cso+dCso, T+dT"
   ]
  },
  {
   "cell_type": "code",
   "execution_count": 108,
   "id": "0585ca92",
   "metadata": {},
   "outputs": [
    {
     "name": "stdout",
     "output_type": "stream",
     "text": [
      "4.0826052137905004e-11 1.103345799950303e-05\n"
     ]
    }
   ],
   "source": [
    "#initialisation of variables\n",
    "\n",
    "x = x0[1]\n",
    "T = 0\n",
    "Cat = Cat0[1]\n",
    "Cveg = Cveg0[1]\n",
    "Cso = Cso0[1]\n",
    "Coc = Coc0[1]\n",
    "rangee = np.linspace(0, 100, 200)\n",
    "for t in rangee:\n",
    "\n",
    "    P, Rveg, Rso, L, Foc, Fd = calculate_vars(T, Cat, Cveg, Cso, Coc, t)\n",
    "    x, Cat, Coc, Cveg, Cso, T = update(x, T, Rveg, Rso, Foc, L, P, Fd, t)\n",
    "print(x, T)\n"
   ]
  },
  {
   "cell_type": "markdown",
   "id": "82620ef1",
   "metadata": {},
   "source": [
    "# WITH ODES"
   ]
  },
  {
   "cell_type": "code",
   "execution_count": 350,
   "id": "a4a16e95",
   "metadata": {},
   "outputs": [],
   "source": [
    "def carbon_conc(Cat):\n",
    "    pCO2a = 8.3259e13 * (Cat + Cat0[1])/ka\n",
    "    return pCO2a\n",
    "\n",
    "def carbon_uptake(T, Cat):\n",
    "    pCO2a = carbon_conc(Cat)\n",
    "    if pCO2a >= kc[1] and -15 <= T and T <= 25:\n",
    "        P = kp[1] * Cveg0[1] * kMM *(pCO2a - kc[1])/(KM[1]+pCO2a-kc[1])* ((15+T)**2) *(25-T) / (5625)\n",
    "        return P\n",
    "    else:\n",
    "        return 0\n",
    "\n",
    "def rso(T, Cso):\n",
    "    Rso = ksr[1] * (Cso+Cso0[1]) * kB * np.exp(-308.56/(T+T0[1]-227.13))\n",
    "\n",
    "    return Rso\n",
    "\n",
    "def rveg(T, Cveg):\n",
    "    Rveg = kr[1] * (Cveg+Cveg0[1]) * kA * np.exp(-Ea[1]/(R*(T+T0[1])))\n",
    "\n",
    "    return Rveg\n",
    "\n",
    "def turnover(Cveg):\n",
    "    L = kt[1] * (Cveg+Cveg0[1])\n",
    "    return L\n",
    "\n",
    "\n",
    "def ocean_flux(Cat, Coc):\n",
    "    Foc = F0[1]*chi[1]*(Cat-zeta[1]*Cat0[1]*Coc/Coc0[1])\n",
    "    return Foc\n",
    "\n",
    "def atmosphere_dyna(T, Cat):\n",
    "    pCO2a = carbon_conc(Cat)\n",
    "    tauCO2 = 1.73 * (pCO2a)**0.263\n",
    "    tauH2O = 0.0126*(H*P0[1]*np.exp(-L_/(R*(T+T0[1]))))**0.503\n",
    "    \n",
    "    Fd = (1-A[1])*S[1]/4 *(1+0.75*(tauCO2+tauH2O+tauCH4[1]))\n",
    "    return Fd\n",
    "\n",
    "def fla(Cat, Cveg, Cso, T):\n",
    "    return carbon_uptake(T, Cat) - rveg(T, Cveg) - rso(T, Cso)\n",
    "\n",
    "def f(T, t):\n",
    "    Tlist.append(T)\n",
    "    if t>=214:\n",
    "        T += tf[1]/tp * (T - Tlist[int(t*10)-tp])  \n",
    "    return fmax[1]/(1+np.exp(-omega[1]*(T-Tc[1])))\n",
    "\n",
    "def epsilon(t):\n",
    "    if t>=214:\n",
    "        e = epsilon2014 + (t-214)*epsilon_max[1]/(t-214+s[1])\n",
    "    else:\n",
    "        e = carbon_func(t)\n",
    "    return e"
   ]
  },
  {
   "cell_type": "code",
   "execution_count": 351,
   "id": "ed9942b5",
   "metadata": {},
   "outputs": [],
   "source": [
    "# system of ODEs\n",
    "# function\n",
    "def odes(variables, t):\n",
    "    x, T, Cat, Coc, Cveg, Cso = variables\n",
    "    \n",
    "    dx = kappa[1] * x * (1-x) * (-beta[1] + f(T, t) + delta[1] * (2*x-1)) \n",
    "    dCat = epsilon(t) *(1-x) - carbon_uptake(T, Cat) +rveg(T, Cveg) +rso(T, Cso) - ocean_flux(Cat,Coc)\n",
    "    dCoc = ocean_flux(Cat,Coc)\n",
    "    dCveg = carbon_uptake(T, Cat) - rveg(T,Cveg) - turnover(Cveg)\n",
    "    dCso = turnover(Cveg) - rso(T, Cso)\n",
    "    dT = sec_to_year * (atmosphere_dyna(T,Cat)- sigma * (T+T0[1])**4) * aE/c[1]\n",
    "    \n",
    "    return np.array([dx, dT, dCat, dCoc, dCveg, dCso])"
   ]
  },
  {
   "cell_type": "code",
   "execution_count": 352,
   "id": "e98bbd64",
   "metadata": {
    "scrolled": true
   },
   "outputs": [],
   "source": [
    "#t00 = np.array([0,0,0], dtype='float64')\n",
    "#initials = np.array([x0, t00, Cat0, Coc0, Cveg0, Cso0])[:,1]\n",
    "t_sim = 300\n",
    "Tlist = []\n",
    "initials = np.array([x0[1], 0,0,0,0,0])\n",
    "t = np.linspace(0, 214+t_sim, (214+t_sim)*10)\n",
    "\n",
    "solutions = odeint(odes, initials, t, full_output=0)"
   ]
  },
  {
   "cell_type": "code",
   "execution_count": 353,
   "id": "c4db489f",
   "metadata": {},
   "outputs": [
    {
     "data": {
      "text/plain": [
       "array([[ 5.00000000e-02,  0.00000000e+00,  0.00000000e+00,\n",
       "         0.00000000e+00,  0.00000000e+00,  0.00000000e+00],\n",
       "       [ 4.95511307e-02, -1.64322416e-03,  2.12742631e-01,\n",
       "         7.99836597e-05, -1.71669984e-01, -4.03917008e-02],\n",
       "       [ 4.91058708e-02, -3.25732483e-03,  4.22408436e-01,\n",
       "         3.18375960e-04, -3.39685933e-01, -8.15192385e-02],\n",
       "       ...,\n",
       "       [ 1.00000000e+00,  3.06632254e+00,  6.59131199e+02,\n",
       "         1.63608418e+03,  1.99107642e+02,  8.32035238e+01],\n",
       "       [ 1.00000000e+00,  3.06530967e+00,  6.58880600e+02,\n",
       "         1.63634573e+03,  1.99061262e+02,  8.32389491e+01],\n",
       "       [ 1.00000000e+00,  3.06429768e+00,  6.58630257e+02,\n",
       "         1.63660706e+03,  1.99014910e+02,  8.32743161e+01]])"
      ]
     },
     "execution_count": 353,
     "metadata": {},
     "output_type": "execute_result"
    }
   ],
   "source": [
    "solutions"
   ]
  },
  {
   "cell_type": "code",
   "execution_count": 358,
   "id": "4a2b0570",
   "metadata": {},
   "outputs": [
    {
     "data": {
      "text/plain": [
       "[<matplotlib.lines.Line2D at 0x1ea47b21280>]"
      ]
     },
     "execution_count": 358,
     "metadata": {},
     "output_type": "execute_result"
    },
    {
     "data": {
      "image/png": "[encoded data removed]",
      "text/plain": [
       "<Figure size 432x288 with 1 Axes>"
      ]
     },
     "metadata": {
      "needs_background": "light"
     },
     "output_type": "display_data"
    }
   ],
   "source": [
    "plt.plot(t+1800 , solutions[:,1])"
   ]
  },
  {
   "cell_type": "code",
   "execution_count": 355,
   "id": "bdd95802",
   "metadata": {},
   "outputs": [
    {
     "data": {
      "text/plain": [
       "[<matplotlib.lines.Line2D at 0x1ea47666370>]"
      ]
     },
     "execution_count": 355,
     "metadata": {},
     "output_type": "execute_result"
    },
    {
     "data": {
      "image/png": "[encoded data removed]",
      "text/plain": [
       "<Figure size 432x288 with 1 Axes>"
      ]
     },
     "metadata": {
      "needs_background": "light"
     },
     "output_type": "display_data"
    }
   ],
   "source": [
    "x = t \n",
    "y = [epsilon(x[i]) for i in range(x.shape[0])]\n",
    "plt.plot(x, y)"
   ]
  },
  {
   "cell_type": "code",
   "execution_count": null,
   "id": "42649f57",
   "metadata": {},
   "outputs": [],
   "source": []
  }
 ],
 "metadata": {
  "kernelspec": {
   "display_name": "Python 3 (ipykernel)",
   "language": "python",
   "name": "python3"
  },
  "language_info": {
   "codemirror_mode": {
    "name": "ipython",
    "version": 3
   },
   "file_extension": ".py",
   "mimetype": "text/x-python",
   "name": "python",
   "nbconvert_exporter": "python",
   "pygments_lexer": "ipython3",
   "version": "3.8.12"
  }
 },
 "nbformat": 4,
 "nbformat_minor": 5
}
