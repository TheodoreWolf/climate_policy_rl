{
 "cells": [
  {
   "cell_type": "markdown",
   "metadata": {
    "id": "rNuohp44N00i"
   },
   "source": [
    "# The Assignment\n",
    "\n",
    "### Objectives\n",
    "\n",
    "You will be guided through the implementation of a full deep reinforcement learning agent."
   ]
  },
  {
   "cell_type": "markdown",
   "metadata": {
    "id": "nVBcO5mAV9Ow"
   },
   "source": [
    "## Setup\n",
    "\n",
    "Run all the cells in this section, but do not modify them."
   ]
  },
  {
   "cell_type": "markdown",
   "metadata": {
    "id": "Z1p0fpbxQLyn"
   },
   "source": [
    "## Imports"
   ]
  },
  {
   "cell_type": "code",
   "execution_count": 1,
   "metadata": {
    "id": "Ps5OnkPmDbMX"
   },
   "outputs": [],
   "source": [
    "import matplotlib.pyplot as plt\n",
    "import numpy as np\n",
    "\n",
    "np.set_printoptions(precision=3, suppress=1)\n",
    "plt.style.use('seaborn-notebook')"
   ]
  },
  {
   "cell_type": "markdown",
   "metadata": {
    "id": "3lpweIqAWBX3"
   },
   "source": [
    "## Helpers"
   ]
  },
  {
   "cell_type": "markdown",
   "metadata": {
    "id": "iIRC73HLq6VH"
   },
   "source": [
    "# A) Actor-critics\n",
    "\n",
    "You are going to implement an Actor-critic agent that updates a policy parametrised as a deep neural network.\n",
    "\n",
    "The agent learns online from a single stream of experience, updating the parametes of its policy after each transition in the environment."
   ]
  },
  {
   "cell_type": "markdown",
   "metadata": {
    "id": "KV03Q3MpveUM"
   },
   "source": [
    "### Install packages"
   ]
  },
  {
   "cell_type": "code",
   "execution_count": 4,
   "metadata": {
    "id": "wc-kqp3tveUT"
   },
   "outputs": [
    {
     "name": "stderr",
     "output_type": "stream",
     "text": [
      "ERROR: Could not find a version that satisfies the requirement jaxlib==0.1.37 (from versions: none)\n",
      "ERROR: No matching distribution found for jaxlib==0.1.37\n",
      "fatal: destination path 'bsuite' already exists and is not an empty directory.\n"
     ]
    },
    {
     "name": "stdout",
     "output_type": "stream",
     "text": [
      "Processing c:\\users\\theod\\pycharmprojects\\machine_learning\\project\\first trys\\bsuite\n",
      "Requirement already satisfied: absl-py in c:\\users\\theod\\anaconda3\\envs\\jax\\lib\\site-packages (from bsuite==0.3.5) (1.1.0)\n",
      "Requirement already satisfied: dm_env in c:\\users\\theod\\anaconda3\\envs\\jax\\lib\\site-packages (from bsuite==0.3.5) (1.5)\n",
      "Requirement already satisfied: immutabledict in c:\\users\\theod\\anaconda3\\envs\\jax\\lib\\site-packages (from bsuite==0.3.5) (2.2.1)\n",
      "Requirement already satisfied: matplotlib in c:\\users\\theod\\anaconda3\\envs\\jax\\lib\\site-packages (from bsuite==0.3.5) (3.5.2)\n",
      "Requirement already satisfied: numpy in c:\\users\\theod\\anaconda3\\envs\\jax\\lib\\site-packages (from bsuite==0.3.5) (1.22.4)\n",
      "Requirement already satisfied: pandas in c:\\users\\theod\\anaconda3\\envs\\jax\\lib\\site-packages (from bsuite==0.3.5) (1.4.2)\n",
      "Requirement already satisfied: plotnine in c:\\users\\theod\\anaconda3\\envs\\jax\\lib\\site-packages (from bsuite==0.3.5) (0.8.0)\n",
      "Requirement already satisfied: scipy in c:\\users\\theod\\anaconda3\\envs\\jax\\lib\\site-packages (from bsuite==0.3.5) (1.8.1)\n",
      "Requirement already satisfied: scikit-image in c:\\users\\theod\\anaconda3\\envs\\jax\\lib\\site-packages (from bsuite==0.3.5) (0.19.2)\n",
      "Requirement already satisfied: six in c:\\users\\theod\\anaconda3\\envs\\jax\\lib\\site-packages (from bsuite==0.3.5) (1.16.0)\n",
      "Requirement already satisfied: termcolor in c:\\users\\theod\\anaconda3\\envs\\jax\\lib\\site-packages (from bsuite==0.3.5) (1.1.0)\n",
      "Requirement already satisfied: dm-tree in c:\\users\\theod\\anaconda3\\envs\\jax\\lib\\site-packages (from dm_env->bsuite==0.3.5) (0.1.7)\n",
      "Requirement already satisfied: python-dateutil>=2.7 in c:\\users\\theod\\anaconda3\\envs\\jax\\lib\\site-packages (from matplotlib->bsuite==0.3.5) (2.8.2)\n",
      "Requirement already satisfied: pillow>=6.2.0 in c:\\users\\theod\\anaconda3\\envs\\jax\\lib\\site-packages (from matplotlib->bsuite==0.3.5) (9.0.1)\n",
      "Requirement already satisfied: packaging>=20.0 in c:\\users\\theod\\anaconda3\\envs\\jax\\lib\\site-packages (from matplotlib->bsuite==0.3.5) (21.3)\n",
      "Requirement already satisfied: pyparsing>=2.2.1 in c:\\users\\theod\\anaconda3\\envs\\jax\\lib\\site-packages (from matplotlib->bsuite==0.3.5) (3.0.4)\n",
      "Requirement already satisfied: fonttools>=4.22.0 in c:\\users\\theod\\anaconda3\\envs\\jax\\lib\\site-packages (from matplotlib->bsuite==0.3.5) (4.25.0)\n",
      "Requirement already satisfied: cycler>=0.10 in c:\\users\\theod\\anaconda3\\envs\\jax\\lib\\site-packages (from matplotlib->bsuite==0.3.5) (0.11.0)\n",
      "Requirement already satisfied: kiwisolver>=1.0.1 in c:\\users\\theod\\anaconda3\\envs\\jax\\lib\\site-packages (from matplotlib->bsuite==0.3.5) (1.4.2)\n",
      "Requirement already satisfied: pytz>=2020.1 in c:\\users\\theod\\anaconda3\\envs\\jax\\lib\\site-packages (from pandas->bsuite==0.3.5) (2022.1)"
     ]
    },
    {
     "name": "stderr",
     "output_type": "stream",
     "text": [
      "  DEPRECATION: A future pip version will change local packages to be built in-place without first copying to a temporary directory. We recommend you use --use-feature=in-tree-build to test your packages with this new behavior before it becomes the default.\n",
      "   pip 21.3 will remove support for this functionality. You can find discussion regarding this at https://github.com/pypa/pip/issues/7555.\n"
     ]
    },
    {
     "name": "stdout",
     "output_type": "stream",
     "text": [
      "\n",
      "Requirement already satisfied: mizani>=0.7.3 in c:\\users\\theod\\anaconda3\\envs\\jax\\lib\\site-packages (from plotnine->bsuite==0.3.5) (0.7.4)\n",
      "Requirement already satisfied: descartes>=1.1.0 in c:\\users\\theod\\anaconda3\\envs\\jax\\lib\\site-packages (from plotnine->bsuite==0.3.5) (1.1.0)\n",
      "Requirement already satisfied: patsy>=0.5.1 in c:\\users\\theod\\anaconda3\\envs\\jax\\lib\\site-packages (from plotnine->bsuite==0.3.5) (0.5.2)\n",
      "Requirement already satisfied: statsmodels>=0.12.1 in c:\\users\\theod\\anaconda3\\envs\\jax\\lib\\site-packages (from plotnine->bsuite==0.3.5) (0.13.2)\n",
      "Requirement already satisfied: palettable in c:\\users\\theod\\anaconda3\\envs\\jax\\lib\\site-packages (from mizani>=0.7.3->plotnine->bsuite==0.3.5) (3.3.0)\n",
      "Requirement already satisfied: imageio>=2.4.1 in c:\\users\\theod\\anaconda3\\envs\\jax\\lib\\site-packages (from scikit-image->bsuite==0.3.5) (2.19.3)\n",
      "Requirement already satisfied: tifffile>=2019.7.26 in c:\\users\\theod\\anaconda3\\envs\\jax\\lib\\site-packages (from scikit-image->bsuite==0.3.5) (2022.5.4)\n",
      "Requirement already satisfied: PyWavelets>=1.1.1 in c:\\users\\theod\\anaconda3\\envs\\jax\\lib\\site-packages (from scikit-image->bsuite==0.3.5) (1.3.0)\n",
      "Requirement already satisfied: networkx>=2.2 in c:\\users\\theod\\anaconda3\\envs\\jax\\lib\\site-packages (from scikit-image->bsuite==0.3.5) (2.8.3)\n",
      "Building wheels for collected packages: bsuite\n",
      "  Building wheel for bsuite (setup.py): started\n",
      "  Building wheel for bsuite (setup.py): finished with status 'done'\n",
      "  Created wheel for bsuite: filename=bsuite-0.3.5-py3-none-any.whl size=251114 sha256=f6dbde0b6d5d0e9c0779bdb415c2e3b9106af1126951879c747ed93121d5912f\n",
      "  Stored in directory: C:\\Users\\theod\\AppData\\Local\\Temp\\pip-ephem-wheel-cache-wog10j21\\wheels\\d1\\20\\6a\\2b9101e77b86024e4a1a3670773f234c20599b01ccb6370fa7\n",
      "Successfully built bsuite\n",
      "Installing collected packages: bsuite\n",
      "  Attempting uninstall: bsuite\n",
      "    Found existing installation: bsuite 0.3.5\n",
      "    Uninstalling bsuite-0.3.5:\n",
      "      Successfully uninstalled bsuite-0.3.5\n",
      "Successfully installed bsuite-0.3.5\n",
      "Requirement already satisfied: dm-haiku==0.0.6 in c:\\users\\theod\\anaconda3\\envs\\jax\\lib\\site-packages (0.0.6)\n",
      "Requirement already satisfied: absl-py>=0.7.1 in c:\\users\\theod\\anaconda3\\envs\\jax\\lib\\site-packages (from dm-haiku==0.0.6) (1.1.0)\n",
      "Requirement already satisfied: numpy>=1.18.0 in c:\\users\\theod\\anaconda3\\envs\\jax\\lib\\site-packages (from dm-haiku==0.0.6) (1.22.4)\n",
      "Requirement already satisfied: jmp>=0.0.2 in c:\\users\\theod\\anaconda3\\envs\\jax\\lib\\site-packages (from dm-haiku==0.0.6) (0.0.2)\n",
      "Requirement already satisfied: tabulate>=0.8.9 in c:\\users\\theod\\anaconda3\\envs\\jax\\lib\\site-packages (from dm-haiku==0.0.6) (0.8.9)\n"
     ]
    }
   ],
   "source": [
    "!pip install -U jaxlib==0.1.37\n",
    "!git clone https://github.com/deepmind/bsuite.git\n",
    "!pip install bsuite/\n",
    "!pip install dm-haiku==0.0.6"
   ]
  },
  {
   "cell_type": "code",
   "execution_count": 5,
   "metadata": {
    "id": "q442-kGUvTf4"
   },
   "outputs": [
    {
     "name": "stdout",
     "output_type": "stream",
     "text": [
      "Collecting optax\n",
      "  Using cached optax-0.1.2-py3-none-any.whl (140 kB)\n",
      "Requirement already satisfied: numpy>=1.18.0 in c:\\users\\theod\\anaconda3\\envs\\jax\\lib\\site-packages (from optax) (1.22.4)\n",
      "Requirement already satisfied: absl-py>=0.7.1 in c:\\users\\theod\\anaconda3\\envs\\jax\\lib\\site-packages (from optax) (1.1.0)\n",
      "Collecting jax>=0.1.55\n",
      "  Downloading jax-0.3.13.tar.gz (951 kB)\n",
      "Collecting chex>=0.0.4\n",
      "  Downloading chex-0.1.3-py3-none-any.whl (72 kB)\n",
      "Collecting optax\n",
      "  Using cached optax-0.1.1-py3-none-any.whl (136 kB)\n",
      "  Using cached optax-0.1.0-py3-none-any.whl (126 kB)\n",
      "  Using cached optax-0.0.91-py3-none-any.whl (126 kB)\n",
      "  Using cached optax-0.0.9-py3-none-any.whl (118 kB)\n",
      "  Using cached optax-0.0.8-py3-none-any.whl (113 kB)\n",
      "  Using cached optax-0.0.6-py3-none-any.whl (96 kB)\n",
      "  Using cached optax-0.0.5-py3-none-any.whl (89 kB)\n",
      "  Using cached optax-0.0.3-py3-none-any.whl (73 kB)\n",
      "  Using cached optax-0.0.2-py3-none-any.whl (54 kB)\n",
      "  Using cached optax-0.0.1-py3-none-any.whl (49 kB)\n",
      "\n",
      "The conflict is caused by:\n",
      "    optax 0.1.2 depends on jaxlib>=0.1.37\n",
      "    optax 0.1.1 depends on jaxlib>=0.1.37\n",
      "    optax 0.1.0 depends on jaxlib>=0.1.37\n",
      "    optax 0.0.91 depends on jaxlib>=0.1.37\n",
      "    optax 0.0.9 depends on jaxlib>=0.1.37\n",
      "    optax 0.0.8 depends on jaxlib>=0.1.37\n",
      "    optax 0.0.6 depends on jaxlib>=0.1.37\n",
      "    optax 0.0.5 depends on jaxlib>=0.1.37\n",
      "    optax 0.0.3 depends on jaxlib>=0.1.37\n",
      "    optax 0.0.2 depends on jaxlib>=0.1.37\n",
      "    optax 0.0.1 depends on jaxlib>=0.1.37\n",
      "\n",
      "To fix this you could try to:\n",
      "1. loosen the range of package versions you've specified\n",
      "2. remove package versions to allow pip attempt to solve the dependency conflict\n",
      "\n"
     ]
    },
    {
     "name": "stderr",
     "output_type": "stream",
     "text": [
      "ERROR: Cannot install optax==0.0.1, optax==0.0.2, optax==0.0.3, optax==0.0.5, optax==0.0.6, optax==0.0.8, optax==0.0.9, optax==0.0.91, optax==0.1.0, optax==0.1.1 and optax==0.1.2 because these package versions have conflicting dependencies.\n",
      "ERROR: ResolutionImpossible: for help visit https://pip.pypa.io/en/latest/user_guide/#fixing-conflicting-dependencies\n"
     ]
    },
    {
     "name": "stdout",
     "output_type": "stream",
     "text": [
      "Collecting rlax\n",
      "  Using cached rlax-0.1.2-py3-none-any.whl (117 kB)\n",
      "  Using cached rlax-0.1.1-py3-none-any.whl (112 kB)\n",
      "  Using cached rlax-0.0.5-py3-none-any.whl (112 kB)\n",
      "  Using cached rlax-0.0.4-py3-none-any.whl (112 kB)\n",
      "  Using cached rlax-0.0.3-py3-none-any.whl (110 kB)\n",
      "  Using cached rlax-0.0.2-py3-none-any.whl (99 kB)\n",
      "\n",
      "The conflict is caused by:\n",
      "    rlax 0.1.2 depends on jaxlib>=0.1.37\n",
      "    rlax 0.1.1 depends on jaxlib>=0.1.37\n",
      "    rlax 0.0.5 depends on jaxlib>=0.1.37\n",
      "    rlax 0.0.4 depends on jaxlib>=0.1.37\n",
      "    rlax 0.0.3 depends on jaxlib>=0.1.37\n",
      "    rlax 0.0.2 depends on jaxlib>=0.1.37\n",
      "\n",
      "To fix this you could try to:\n",
      "1. loosen the range of package versions you've specified\n",
      "2. remove package versions to allow pip attempt to solve the dependency conflict\n",
      "\n"
     ]
    },
    {
     "name": "stderr",
     "output_type": "stream",
     "text": [
      "ERROR: Cannot install rlax==0.0.2, rlax==0.0.3, rlax==0.0.4, rlax==0.0.5, rlax==0.1.1 and rlax==0.1.2 because these package versions have conflicting dependencies.\n",
      "ERROR: ResolutionImpossible: for help visit https://pip.pypa.io/en/latest/user_guide/#fixing-conflicting-dependencies\n"
     ]
    }
   ],
   "source": [
    "# solution\n",
    "!pip install optax\n",
    "!pip install rlax"
   ]
  },
  {
   "cell_type": "markdown",
   "metadata": {
    "id": "r_pTfi5dSFX5"
   },
   "source": [
    "### Imports"
   ]
  },
  {
   "cell_type": "code",
   "execution_count": 4,
   "metadata": {
    "id": "huyKrYpvSHSu"
   },
   "outputs": [
    {
     "ename": "ImportError",
     "evalue": "cannot import name 'sweep' from 'bsuite' (unknown location)",
     "output_type": "error",
     "traceback": [
      "\u001b[1;31m---------------------------------------------------------------------------\u001b[0m",
      "\u001b[1;31mImportError\u001b[0m                               Traceback (most recent call last)",
      "\u001b[1;32m~\\AppData\\Local\\Temp/ipykernel_12412/2515352322.py\u001b[0m in \u001b[0;36m<module>\u001b[1;34m\u001b[0m\n\u001b[1;32m----> 1\u001b[1;33m \u001b[1;32mimport\u001b[0m \u001b[0mbsuite\u001b[0m\u001b[1;33m.\u001b[0m\u001b[0mbsuite\u001b[0m \u001b[1;32mas\u001b[0m \u001b[0mbsuite\u001b[0m\u001b[1;33m\u001b[0m\u001b[1;33m\u001b[0m\u001b[0m\n\u001b[0m\u001b[0;32m      2\u001b[0m \u001b[1;32mfrom\u001b[0m \u001b[0mbsuite\u001b[0m\u001b[1;33m.\u001b[0m\u001b[0menvironments\u001b[0m \u001b[1;32mimport\u001b[0m \u001b[0mcatch\u001b[0m\u001b[1;33m\u001b[0m\u001b[1;33m\u001b[0m\u001b[0m\n\u001b[0;32m      3\u001b[0m \u001b[1;33m\u001b[0m\u001b[0m\n\u001b[0;32m      4\u001b[0m \u001b[1;32mimport\u001b[0m \u001b[0mjax\u001b[0m\u001b[1;33m\u001b[0m\u001b[1;33m\u001b[0m\u001b[0m\n\u001b[0;32m      5\u001b[0m \u001b[1;32mimport\u001b[0m \u001b[0mjax\u001b[0m\u001b[1;33m.\u001b[0m\u001b[0mnumpy\u001b[0m \u001b[1;32mas\u001b[0m \u001b[0mjnp\u001b[0m\u001b[1;33m\u001b[0m\u001b[1;33m\u001b[0m\u001b[0m\n",
      "\u001b[1;32m~\\PycharmProjects\\Machine_Learning\\Project\\first trys\\bsuite\\bsuite\\__init__.py\u001b[0m in \u001b[0;36m<module>\u001b[1;34m\u001b[0m\n\u001b[0;32m     16\u001b[0m \u001b[1;34m\"\"\"Behaviour Suite for Reinforcement Learn.\"\"\"\u001b[0m\u001b[1;33m\u001b[0m\u001b[1;33m\u001b[0m\u001b[0m\n\u001b[0;32m     17\u001b[0m \u001b[1;33m\u001b[0m\u001b[0m\n\u001b[1;32m---> 18\u001b[1;33m \u001b[1;32mfrom\u001b[0m \u001b[1;33m.\u001b[0m \u001b[1;32mimport\u001b[0m \u001b[0mbsuite\u001b[0m \u001b[1;32mas\u001b[0m \u001b[0m_bsuite\u001b[0m\u001b[1;33m\u001b[0m\u001b[1;33m\u001b[0m\u001b[0m\n\u001b[0m\u001b[0;32m     19\u001b[0m \u001b[1;32mfrom\u001b[0m \u001b[0mbsuite\u001b[0m\u001b[1;33m.\u001b[0m\u001b[0m_metadata\u001b[0m \u001b[1;32mimport\u001b[0m \u001b[0m__version__\u001b[0m\u001b[1;33m\u001b[0m\u001b[1;33m\u001b[0m\u001b[0m\n\u001b[0;32m     20\u001b[0m \u001b[1;33m\u001b[0m\u001b[0m\n",
      "\u001b[1;32m~\\PycharmProjects\\Machine_Learning\\Project\\first trys\\bsuite\\bsuite\\bsuite.py\u001b[0m in \u001b[0;36m<module>\u001b[1;34m\u001b[0m\n\u001b[0;32m     18\u001b[0m \u001b[1;32mfrom\u001b[0m \u001b[0mtyping\u001b[0m \u001b[1;32mimport\u001b[0m \u001b[0mAny\u001b[0m\u001b[1;33m,\u001b[0m \u001b[0mMapping\u001b[0m\u001b[1;33m,\u001b[0m \u001b[0mTuple\u001b[0m\u001b[1;33m\u001b[0m\u001b[1;33m\u001b[0m\u001b[0m\n\u001b[0;32m     19\u001b[0m \u001b[1;33m\u001b[0m\u001b[0m\n\u001b[1;32m---> 20\u001b[1;33m \u001b[1;32mfrom\u001b[0m \u001b[0mbsuite\u001b[0m \u001b[1;32mimport\u001b[0m \u001b[0msweep\u001b[0m\u001b[1;33m\u001b[0m\u001b[1;33m\u001b[0m\u001b[0m\n\u001b[0m\u001b[0;32m     21\u001b[0m \u001b[1;32mfrom\u001b[0m \u001b[0mbsuite\u001b[0m\u001b[1;33m.\u001b[0m\u001b[0menvironments\u001b[0m \u001b[1;32mimport\u001b[0m \u001b[0mbase\u001b[0m\u001b[1;33m\u001b[0m\u001b[1;33m\u001b[0m\u001b[0m\n\u001b[0;32m     22\u001b[0m \u001b[1;32mfrom\u001b[0m \u001b[0mbsuite\u001b[0m\u001b[1;33m.\u001b[0m\u001b[0mexperiments\u001b[0m\u001b[1;33m.\u001b[0m\u001b[0mbandit\u001b[0m \u001b[1;32mimport\u001b[0m \u001b[0mbandit\u001b[0m\u001b[1;33m\u001b[0m\u001b[1;33m\u001b[0m\u001b[0m\n",
      "\u001b[1;31mImportError\u001b[0m: cannot import name 'sweep' from 'bsuite' (unknown location)"
     ]
    }
   ],
   "source": [
    "import bsuite.bsuite as bsuite\n",
    "from bsuite.environments import catch\n",
    "\n",
    "import jax\n",
    "import jax.numpy as jnp\n",
    "import haiku as hk"
   ]
  },
  {
   "cell_type": "code",
   "execution_count": 7,
   "metadata": {
    "id": "QCWBfrXLjM4p"
   },
   "outputs": [
    {
     "ename": "ModuleNotFoundError",
     "evalue": "No module named 'optax'",
     "output_type": "error",
     "traceback": [
      "\u001b[1;31m---------------------------------------------------------------------------\u001b[0m",
      "\u001b[1;31mModuleNotFoundError\u001b[0m                       Traceback (most recent call last)",
      "\u001b[1;32m~\\AppData\\Local\\Temp/ipykernel_19964/2059188515.py\u001b[0m in \u001b[0;36m<module>\u001b[1;34m\u001b[0m\n\u001b[0;32m      1\u001b[0m \u001b[1;31m# solution\u001b[0m\u001b[1;33m\u001b[0m\u001b[1;33m\u001b[0m\u001b[1;33m\u001b[0m\u001b[0m\n\u001b[1;32m----> 2\u001b[1;33m \u001b[1;32mimport\u001b[0m \u001b[0moptax\u001b[0m\u001b[1;33m\u001b[0m\u001b[1;33m\u001b[0m\u001b[0m\n\u001b[0m\u001b[0;32m      3\u001b[0m \u001b[1;32mimport\u001b[0m \u001b[0mrlax\u001b[0m\u001b[1;33m\u001b[0m\u001b[1;33m\u001b[0m\u001b[0m\n",
      "\u001b[1;31mModuleNotFoundError\u001b[0m: No module named 'optax'"
     ]
    }
   ],
   "source": [
    "# solution\n",
    "import optax\n",
    "import rlax"
   ]
  },
  {
   "cell_type": "markdown",
   "metadata": {
    "id": "M6kEki4XHbPy"
   },
   "source": [
    "### Plotting"
   ]
  },
  {
   "cell_type": "code",
   "execution_count": null,
   "metadata": {
    "id": "EYdWwRrbHbcl"
   },
   "outputs": [],
   "source": [
    "def plot_learning_curve(list_of_episode_returns):\n",
    "  \"\"\"Plot the learning curve.\"\"\"\n",
    "  plt.figure(figsize=(7, 5))\n",
    "\n",
    "  def moving_average(x, w):\n",
    "    return np.convolve(x, np.ones(w), 'valid') / w\n",
    "\n",
    "  smoothed_returns = moving_average(list_of_episode_returns, 30)\n",
    "  plt.plot(smoothed_returns)\n",
    "\n",
    "  plt.xlabel('Average episode returns')\n",
    "  plt.xlabel('Number of episodes')\n",
    "\n",
    "  ax = plt.gca()\n",
    "  ax.spines['left'].set_visible(True)\n",
    "  ax.spines['bottom'].set_visible(True)\n",
    "  ax.spines['right'].set_visible(False)\n",
    "  ax.spines['top'].set_visible(False)\n",
    "  ax.xaxis.set_ticks_position('bottom')\n",
    "  ax.yaxis.set_ticks_position('left')"
   ]
  },
  {
   "cell_type": "markdown",
   "metadata": {
    "id": "Xtlrr5d2p7cS"
   },
   "source": [
    "### Neural networks\n",
    "\n",
    "You will use JAX to define a network parametrising:\n",
    "\n",
    "* The values of each state $v(s)$.\n",
    "* The action preferences in each state $\\{p_i(s)\\}_{i\\in\\{1, ..., |A|\\}}$ (you can think of and implement the preferences $\\mathbf{p}(s)$ as a vector output with $|A|$ elements).\n",
    "\n",
    "You will use `Haiku` (https://github.com/deepmind/dm-haiku) to define the network. You will need to:\n",
    "* define the forward pass of the network as some function `fn`\n",
    "* Use `hk.transform(fn)` to convert this in a pair of functions `init_net` and `apply_net`):\n",
    "\n",
    "\n",
    "        init_net, apply_net = hk.transform(fn)\n",
    "\n",
    "The `init` function has signature `parameters = init_net(key, obs)`, where\n",
    "  * `key` is a Jax random-number-generator key that we will generate with `jax.random.PRNGKey`,\n",
    "  * `observation` is the observation of the agent, which will be flattened into a vector by the network, as described below.\n",
    "\n",
    "The `init_net` returns randomly sampled weights for the neural network:\n",
    "\n",
    "        parameters = init_net(jax.random.PRNGKey(1234), observation)\n",
    "\n",
    "The `apply_net` will have signature `v, p = apply_net(parameters, current_key, obs)` \n",
    "  * `parameters`: the (current) parameters of the ageent,\n",
    "  * `key`: a Jax random keym, e.g., generated with `current_key, key = jax.random.split(key)` (we then keep `key`, which is also a new key, around to split again the next time we need a random key),\n",
    "  * `observation`: the observation of the agent.\n",
    "\n",
    "The `apply_net` function then returns a **scalar** value `v` and a **vector** of preferences `p`, which will define the policy of the agent.\n",
    "\n",
    "A lot of the boilerplate code has been written for you.  You just have to implement some functions as indicated in the questions below."
   ]
  },
  {
   "cell_type": "markdown",
   "metadata": {
    "id": "Gj1nsUYuOoe1"
   },
   "source": [
    "### Q1 [2 marks]\n",
    "\n",
    "Define the forward pass of the neural network. The network must:\n",
    "\n",
    "* take an `observation` as input\n",
    "* reshape the observation into a flat vector `flat_obs`\n",
    "* compute a hidden representation `h = relu(W.dot(flat_obs) + b)`, where `relu(x)` is a 'rectifier linear unit', which computes $\\max(x, 0)$ elementwise (you can just use `jax.nn.relu(x)` to implement this),\n",
    "* compute a vector of action preferences as a linear function of `h`\n",
    "* compute a scalar state value as a linear function of `h`\n",
    "* return the scalar value and vector preferences.\n",
    "\n",
    "Note:\n",
    "* The hidden representation should be a vector of 50 elements.\n",
    "* The action preferences should be a vector of 3 elements (one per each available action).\n",
    "* The value should be a scalar (not a vector with one element).\n"
   ]
  },
  {
   "cell_type": "code",
   "execution_count": null,
   "metadata": {
    "id": "vRBP0xjtQvTi"
   },
   "outputs": [],
   "source": [
    "def forward_pass(observation):\n",
    "  # Implement forward pass here\n",
    "  ...\n",
    "  return v, p\n",
    "\n",
    "# Our forward pass will be deterministic, so we apply `hk.without_apply_rng`.\n",
    "init_net, apply_net = hk.without_apply_rng(hk.transform(forward_pass))"
   ]
  },
  {
   "cell_type": "markdown",
   "metadata": {
    "id": "9ImJUgzFosvD"
   },
   "source": [
    "### Choosing actions\n",
    "\n",
    "A critical component of an actor-critic agent is a (stochastic) policy, mapping `observations` to `actions`. \n",
    "\n",
    "In deep RL, this mapping is conventionally parametrised by a deep neural network."
   ]
  },
  {
   "cell_type": "markdown",
   "metadata": {
    "id": "1MVXNWwlYW24"
   },
   "source": [
    "### Q2 [2 marks]\n",
    "\n",
    "Implement a softmax policy parametrised by the neural network above (i.e., using the `apply_net` function).\n",
    "\n",
    "The function has signature `action = softmax_policy(parameters, key, obs)`, taking the current network parameters `parameters`, a JAX random `key` and the current `observation`. It should return an `action` sampled from a softmax distribution, so that the probability of selecting action $a$ with preference $p(s, a)$ is proportional to $\\exp(p(s, a))$.\n",
    "\n",
    "Functions to perform random sampling in JAX (e.g. those in `jax.random`) take a random key as input, and they are deterministic function of such a key. In general, in a JAX program you need to use the `jax.random.split` function to generate new random keys before every new sampling. The run loop that runs the experiment later on splits the key between consecutive calls to the `policy`. Thus you can assume that a new random `key` is provided to you on each call to the `policy`. If, however, you find that you need a random key in multiple places within the `policy`, do remember to split the key before each use, using `key1, key2 = jax.random.split(key)`.\n",
    "\n",
    "Note that we 'jit' the function.  This means the function will be compiled, which will make it run faster. This does also suppress print statements, so if you are debugging and want to print please comment out the `@jax.jit` line, but don't forget to put it back before running the experiment below, and especially before submitting your assignment."
   ]
  },
  {
   "cell_type": "code",
   "execution_count": null,
   "metadata": {
    "id": "x-FSOYNOYnUx"
   },
   "outputs": [],
   "source": [
    "@jax.jit\n",
    "def softmax_policy(parameters, key, obs):\n",
    "  \"\"\"Sample action from a softmax policy.\"\"\"\n",
    "  ...\n",
    "  return action"
   ]
  },
  {
   "cell_type": "markdown",
   "metadata": {
    "id": "iMYcb7Y9krnT"
   },
   "source": [
    "### Learn values and policies\n",
    "\n",
    "An actor-critic agent requires to update the parameters of the network so as to simultaneously improve the value predictions and the policy.\n",
    "\n",
    "In the next section you will define the gradient updates for each of these two components."
   ]
  },
  {
   "cell_type": "markdown",
   "metadata": {
    "id": "GsIlpmNEk5fv"
   },
   "source": [
    "### Q3 [4 marks]\n",
    "\n",
    "Implement a function to compute a stochastic estimate of the policy gradient from a 1 step transition in the environment.\n",
    "\n",
    "* You will use $R_{t+1} + \\gamma v(S_{t+1})$ as an estimate of $q_{\\pi}(S_t, A_t)$\n",
    "* You will use $v(S_{t})$ as a baseline to reduce the variance of the updates.\n",
    "\n",
    "In the code we actually use names `obs_tm1`, `a_tm1` (where `tm1` stands for '$t$ minus one') for the observation and action at time $t-1$, and `r_t`, `discount_t`, `obs_t` for the reward, discount, and observation at time $t$. So the code is offset a single time step in terms of naming as compared to the typical mathematical formulations.  This is just a naming convention, and should not impact the algorithm.\n",
    "\n",
    "The function below must therefore have signature `grads = policy_gradient(parameters, obs_tm1, a_tm1, r_t, discount_t, obs_t)`.\n",
    "* Where the inputs are:\n",
    "  * `parameters`: the parameters of the network,\n",
    "  * an observation `obs_tm1`\n",
    "  * the action `a_tm1` selected after observing `obs_tm1`,\n",
    "  * the resulting reward `r_t` and discount `discount_t` and observation `obs_t`, as obsesrved after taking action `a_tm1`.\n",
    "\n",
    "This function should return a stochastic estimate of the policy gradient, where `grads` has the same structure as `parameters` and contains an estimate of the gradient of the expected episodic return wrt to each parameter.\n",
    "\n",
    "The policy-gradient estimate should use bootstrapping, using the value estimates that can be gotten using the saame `parameters` as used for the policy.  So the output of this function can be used in a one-step actor-critic update."
   ]
  },
  {
   "cell_type": "markdown",
   "metadata": {
    "id": "02RJAKiX85Wx"
   },
   "source": [
    "\n",
    "### Jax hint:\n",
    "Note that you can use `jax.grad(f)` to get the gradient of any (pure) jax function with a scalar output.  For instance, consider:\n",
    "\n",
    "        def f(w, x, y):\n",
    "          # w, x, and y are all vectors\n",
    "          return jnp.sum(w*x + y)\n",
    "\n",
    "        df = jax.grad(f)\n",
    "    \n",
    "then calling `df(w, x, y)` will give the gradient of the output of `f(w, x, y)` with respect to the first input argument --- here called `w`. You can use this new function `df` as just a normal function. For instance, it can be called from other functions, as usual.\n",
    "\n",
    "Run the cell below to see a concrete example in action.  Note that `df(w, x, y)` in the example below evaluates to the same values as `x`.  This is correct, because the gradient of `f` with respect to `w` is indeed `x`."
   ]
  },
  {
   "cell_type": "code",
   "execution_count": null,
   "metadata": {
    "id": "t1TjveqqGnNA"
   },
   "outputs": [],
   "source": [
    "def f(w, x, y):\n",
    "  return jnp.sum(w*x + y)\n",
    "\n",
    "df = jax.grad(f)\n",
    "\n",
    "w = jnp.array([1., 2.])\n",
    "x = jnp.array([3., 5.])\n",
    "y = jnp.array([7., 11.])\n",
    "\n",
    "print(f'f(w, x, y):  {f(w, x, y)}')\n",
    "print(f'df(w, x, y): {df(w, x, y)}')"
   ]
  },
  {
   "cell_type": "markdown",
   "metadata": {
    "id": "wngNEiwrQeF0"
   },
   "source": [
    "### Jax hint:\n",
    "if you have a Haiku network with parameters `w`, then these parameters will typically be a structured dictionary containing the actual weight vectors and matrices that make up the network's parameters.  Suppose you have a function that computes the output of a network, and then uses this to do some stuff, and you want the gradient of that function:\n",
    "\n",
    "        # Define network\n",
    "        def some_haiku_net(...):\n",
    "          ...\n",
    "\n",
    "        # Transform to get init and apply\n",
    "        init, apply = hk.without_apply_rng(hk.transform(some_haiku_net))\n",
    "\n",
    "        # Define a new function\n",
    "        def some_function(w, x, y):\n",
    "           ...some stuff...\n",
    "           # compute output of the network:\n",
    "           output = apply(w, x)\n",
    "           ...some more stuff that uses output...\n",
    "           return ...some_scalar...\n",
    "        \n",
    "        grad_function = jax.grad(some_function)\n",
    "\n",
    "As before, `grads = grad_function(w, x, y)` should now give the gradients of `some_function` with respect to the first input argument, `w`.  These gradients `grads` will have exactly the same shape as the input argment `w`.  But we cannot do things like `w + grads`, because `w` and `grads` are both dictionaries, not just `jnp.array`s.  Instead, we can use Jax' inbuilt tree utils.  For instance, to add the gradients to the weights, we can use:\n",
    "`new_weights = jax.tree_map(lambda w_i, g_i: w_i + 0.1 * g_i, w, grads)`\n"
   ]
  },
  {
   "cell_type": "code",
   "execution_count": null,
   "metadata": {
    "id": "AHLGjy8he6vh"
   },
   "outputs": [],
   "source": [
    "def policy_gradient(parameters, obs_tm1, a_tm1, r_t, discount_t, obs_t):\n",
    "  ...\n",
    "  return grads"
   ]
  },
  {
   "cell_type": "markdown",
   "metadata": {
    "id": "5XgjefrBlIGN"
   },
   "source": [
    "### Q4 [4 marks]\n",
    "\n",
    "Implement a function to compute a TD(0) update for the parameters of the value function.\n",
    "\n",
    "It must have signature `td_update = value_update(parameters, obs_tm1, a_tm1, r_t, discount_t, obs_t)`.\n",
    "* Where the inputs are:\n",
    "  * the current parameters `parameters` of the network,\n",
    "  * an observation `obs_tm1`\n",
    "  * the action `a_tm1` selected after observing `obs_tm1`,\n",
    "  * the resulting reward `r_t` and environment discount `discount_t` \n",
    "  * and the following observation `obs_t`\n",
    "* Returns a stochastic TD(0) semi-gradient update: `td_update` has the same structure as `parameters`. This contains a stochastic estimate of the negative semi-gradient of the expected value prediction loss: a TD(0) update."
   ]
  },
  {
   "cell_type": "code",
   "execution_count": null,
   "metadata": {
    "id": "CAONu72iTpzx"
   },
   "outputs": [],
   "source": [
    "def value_update(parameters, obs_tm1, a_tm1, r_t, discount_t, obs_t):\n",
    "  ...\n",
    "  return td_update"
   ]
  },
  {
   "cell_type": "markdown",
   "metadata": {
    "id": "jAXgLZg8mfMd"
   },
   "source": [
    "### Updating shared parameters\n",
    "\n",
    "The policy gradient identifies the direction of change in the parameters that most steeply improve the policy.\n",
    "The value update identifies the direction of change in the parameters that improves the value predictions (according to TD).\n",
    "\n",
    "However, the value and policy share some of the parameters of the network.  How do we combine the two gradient updates?\n",
    "\n",
    "In this assignment, we simply sum the policy and value components.\n",
    "The function that combines the two gradients is implemented for you in the cell below.  Note the use of `jax.tree_multimap` to facilitate adding the structured parameters."
   ]
  },
  {
   "cell_type": "code",
   "execution_count": null,
   "metadata": {
    "id": "uhKCLe8jjkdZ"
   },
   "outputs": [],
   "source": [
    "@jax.jit\n",
    "def compute_gradient(parameters, obs_tm1, a_tm1, r_t, discount_t, obs_t):\n",
    "  pgrads = policy_gradient(parameters, obs_tm1, a_tm1, r_t, discount_t, obs_t)\n",
    "  td_update = value_update(parameters, obs_tm1, a_tm1, r_t, discount_t, obs_t)\n",
    "  return jax.tree_multimap(lambda pg, td: pg + td, pgrads, td_update)"
   ]
  },
  {
   "cell_type": "markdown",
   "metadata": {
    "id": "tYaVb6GcpCRe"
   },
   "source": [
    "### Optimisation\n",
    "\n",
    "In deep learning, gradient updates are typically rescaled and modifed to avoid taking too large a step on a single update (e.g., due to large variance), and to facilitate the optimisation process (it turns out raw stochatic gradients are often not the most effective for updating neural networks).\n",
    "\n",
    "For instance given a candidate gradient update $\\nabla$ we may update our parameters $\\theta$ by;\n",
    "$$\\Delta \\theta = \\theta + \\alpha * \\nabla\\,,$$\n",
    "where $\\alpha$ is a small number between 0 and 1 (e.g., $\\alpha=0.01$ or $\\alpha=0.001$), referred to as `step_size` or `learning_rate`\n",
    "\n",
    "The gradients with respect to each weight of a neural network may however have very different magnitudes. This can make it hard to set a suitable learning rate $\\alpha$.\n",
    "\n",
    "In deep learning, and deep RL, we typically use adaptive learning rates, for instance by rescaling each component of the gradient using statistics tracking the typical size of the updates to that weight. Then the entire update is rescaled using a global `learning_rate` $\\alpha$.\n"
   ]
  },
  {
   "cell_type": "markdown",
   "metadata": {
    "id": "hbFePWfApaMU"
   },
   "source": [
    "### Q5 [2 marks]\n",
    "\n",
    "A popular approach to adaptive gradient rescaling was introduced by the `Adam` algorithm.\n",
    "This algorithm implements the following procedure before applying each update:\n",
    "* Increase an update counter $k \\gets k+1$ (starting at k=0 before any updates),\n",
    "* Update the first moment of each gradient component $\\mu \\gets (1 - \\beta_1) g + \\beta_1 \\mu$ where $g$ is the latest stochastic gradient, where $\\beta_1$ is a parameter for the moving average.\n",
    "* Update the second moment of each gradient component $\\nu_i = (1 - \\beta_2) g_i ^ 2 + \\beta_2 \\nu_i $ where $g$ is the latest gradient update, where $\\beta_2$ is a parameter for the moving average.\n",
    "* Use the following update to update the weights:\n",
    "$$\\Delta w = \\alpha \\frac{\\mu / (1 - \\beta_1 ^ {k})}{\\epsilon + \\sqrt{\\nu / (1 - \\beta_1 ^ {k})}}$$\n",
    "* $\\alpha$ is a global `learning rate`\n",
    "* $\\beta_1$ and $\\beta_2$ define a soft horizon for the per-weight statistics.\n",
    "* $\\epsilon$ makes the rescaling more robust to numerical issues.\n",
    "\n",
    "(See [Kingma et al, 2014](https://arxiv.org/abs/1412.6980) for details, if you are interested.)\n",
    "\n",
    "In the next cell define a pair of functions (`opt_init`, and `opt_update` --- in each case `opt` is short for 'optimiser'), where:\n",
    "\n",
    "The `opt_init` function has signature `opt_state = opt_init(parameters)`.\n",
    "* Takes the network parameters as inputs\n",
    "* Initialises an `optimiser state` holding the per weight statistics.\n",
    "\n",
    "The `opt_update` function has signature `updates, opt_state = opt_update(grads, opt_state)`.\n",
    "* Takes a `gradient` and an `optimisers state`,\n",
    "* and returns the transformed gradient and the updated `optimiser state`.\n",
    "\n",
    "The optimiser state `opt_state` should contain:\n",
    "* The first-order momentum $\\mu$, as updated with a moving-average-parameter $\\beta_1$ which we call `b1` in the code.\n",
    "* The first-order momentum $\\nu$, as updated with a moving-average-parameter $\\beta_2$ which we call `b2` in the code.\n",
    "\n",
    "We will ignore the initial correction Adam typically uses, and will instead use the simpler transformation:\n",
    "$$\\Delta w = \\alpha \\frac{\\mu}{\\epsilon + \\sqrt{\\nu}}$$\n",
    "\n",
    "Set the algorithm's hyper-parameters to $\\alpha=0.003$, $\\beta_1=.9$ and $\\beta_2=.999$, $\\epsilon=10^{-4}$.  You are allowed to hard-code these in, or make them configurable (e.g., pass them as additional arguments to `opt_update`, which is better if you want to play around, of course).  Set the initial moving averages to zero for $\\mu$ and one for $\\nu$.  E.g.,\n",
    "\n",
    "        mu = jax.tree_multimap(jnp.zeros_like, parameters)"
   ]
  },
  {
   "cell_type": "code",
   "execution_count": null,
   "metadata": {
    "id": "017XRA_BpbZx"
   },
   "outputs": [],
   "source": [
    "def opt_init(parameters):\n",
    "  ...\n",
    "  return opt_state\n",
    "\n",
    "def opt_update(grads, opt_state):\n",
    "  ...\n",
    "  return updates, opt_state"
   ]
  },
  {
   "cell_type": "markdown",
   "metadata": {
    "id": "DczWvZfNSnTj"
   },
   "source": [
    "### Run experiments\n",
    "\n",
    "Run the cell below to show the performance of the resulting agent.\n",
    "\n",
    "You may also use this section for debugging your implementations.\n",
    "\n",
    "Note however, that most functions are `jitted` for performance,\n",
    "* either using the `@jax.jit` decorator in the function definition\n",
    "* or calling explicitely `fn = jax.jit(fn)`\n",
    "\n",
    "When jitting, the code is compiled on the first time the function is executed\n",
    "* and execution is much faster on subsequent calls.\n",
    "* a notable side effect is that print statements in a jitted function will only execute on the first execution of the function.\n",
    "* to drop into a debugger or print on each function execution you will have to disable the `@jax.jit` annotations and jax.jit calls."
   ]
  },
  {
   "cell_type": "code",
   "execution_count": null,
   "metadata": {
    "id": "Fz837XTkLxE8"
   },
   "outputs": [],
   "source": [
    "# DO NOT CHANGE THIS CELL\n",
    "\n",
    "# Experiment configs.\n",
    "train_episodes = 1500\n",
    "discount_factor = .99\n",
    "\n",
    "# Create environment.\n",
    "env = catch.Catch(seed=42)\n",
    "\n",
    "# Build and initialize network.\n",
    "rng = jax.random.PRNGKey(44)\n",
    "rng, init_rng = jax.random.split(rng)\n",
    "sample_input = env.observation_spec().generate_value()\n",
    "parameters = init_net(init_rng, sample_input)\n",
    "\n",
    "# Initialize optimizer state.\n",
    "opt_state = opt_init(parameters)\n",
    "\n",
    "# Apply updates\n",
    "def apply_updates(params, updates):\n",
    "  return jax.tree_multimap(lambda p, u: p + u, params, updates)\n",
    "\n",
    "# Jit.\n",
    "opt_update = jax.jit(opt_update)\n",
    "apply_updates = jax.jit(apply_updates)\n",
    "\n",
    "print(f\"Training agent for {train_episodes} episodes...\")\n",
    "all_episode_returns = []\n",
    "\n",
    "for _ in range(train_episodes):\n",
    "  episode_return = 0.\n",
    "  timestep = env.reset()\n",
    "  obs_tm1 = timestep.observation\n",
    "\n",
    "  # Sample initial action.\n",
    "  rng, policy_rng = jax.random.split(rng)\n",
    "  a_tm1 = softmax_policy(parameters, policy_rng, obs_tm1)\n",
    "\n",
    "  while not timestep.last():\n",
    "    # Step environment.\n",
    "    new_timestep = env.step(int(a_tm1))\n",
    "\n",
    "    # Sample action from agent policy.\n",
    "    rng, policy_rng = jax.random.split(rng)\n",
    "    a_t = softmax_policy(parameters, policy_rng, new_timestep.observation)\n",
    "\n",
    "    # Update params.\n",
    "    r_t = new_timestep.reward\n",
    "    discount_t = discount_factor * new_timestep.discount\n",
    "    dJ_dtheta = compute_gradient(\n",
    "        parameters, obs_tm1, a_tm1, r_t, discount_t,\n",
    "        new_timestep.observation)\n",
    "    updates, opt_state = opt_update(dJ_dtheta, opt_state)\n",
    "    parameters = apply_updates(parameters, updates)\n",
    "\n",
    "    # Within episode book-keeping.\n",
    "    episode_return += new_timestep.reward\n",
    "    timestep = new_timestep\n",
    "    obs_tm1 = new_timestep.observation\n",
    "    a_tm1 = a_t\n",
    "\n",
    "  # Experiment results tracking.\n",
    "  all_episode_returns.append(episode_return)\n",
    "\n",
    "# Plot learning curve.\n",
    "plot_learning_curve(all_episode_returns)"
   ]
  },
  {
   "cell_type": "markdown",
   "metadata": {
    "id": "9dowFJ_l-32A"
   },
   "source": [
    "# B) An alternative update\n",
    "\n",
    "You are going to implement a different kind of agent.\n",
    "\n",
    "Like an actor-critic, it learns online from a single stream of experience, updating the parametes after each transition in the environment."
   ]
  },
  {
   "cell_type": "markdown",
   "metadata": {
    "id": "aQD0Qw8-_QJy"
   },
   "source": [
    "### Neural networks\n",
    "\n",
    "\n",
    "The agent will reuse the same neural network we defined for the actor-critic:\n",
    "* the scalar output will be trained via TD to estimate state values\n",
    "* the vector preferences `p` will be updated according to a different rule."
   ]
  },
  {
   "cell_type": "markdown",
   "metadata": {
    "id": "I6j0AIF8GhdR"
   },
   "source": [
    "### Choosing actions\n",
    "\n",
    "As in actor-critics, the (stochastic) mapping from `observations` to `actions` depends on the vector of preferences `p` from the network."
   ]
  },
  {
   "cell_type": "markdown",
   "metadata": {
    "id": "jE00LhDL_nbC"
   },
   "source": [
    "### Q6 [2 marks]\n",
    "\n",
    "The new agent's policy will have the signature `action = epsilon_greedy_policy(parameters, key, observation)`,\n",
    "* Take as inputs the current network parameters `parameters`, a JAX random `key` and the current `observation`\n",
    "* Return with probability `0.9` the greedy `action` with respect to the preferences `p`, ties must be broken at random.\n",
    "* Return an action uniformly at random with probability `0.1`"
   ]
  },
  {
   "cell_type": "code",
   "execution_count": null,
   "metadata": {
    "id": "8IwTDROL_Lx5"
   },
   "outputs": [],
   "source": [
    "@jax.jit\n",
    "def epsilon_greedy_policy(parameters, key, observation):\n",
    "  \"\"\"Sample action from an epsilon-greedy policy.\"\"\"\n",
    "  ...\n",
    "  return action"
   ]
  },
  {
   "cell_type": "markdown",
   "metadata": {
    "id": "l1zQiRX5BfeA"
   },
   "source": [
    "### Q7 [3 marks]\n",
    "\n",
    "The parameters $w_p$ of the preferences $p_{w_p}(s, a)$ will be update according to the following gradient-based update:\n",
    "\n",
    "$$\\Delta w_p = \\alpha (R_{t+1} + \\gamma v(S_{t+1}) - p(S_{t}, A_t)) \\nabla p(S_t, A_t))$$\n",
    "\n",
    "where `v` is the state value trained by TD as in the actor critic.\n",
    "\n",
    "You musy implement this in the function `preference_gradient`, with the same signature as `policy_gradient`"
   ]
  },
  {
   "cell_type": "code",
   "execution_count": null,
   "metadata": {
    "id": "6fQhAWXqLNt-"
   },
   "outputs": [],
   "source": [
    "def preference_gradient(parameters, obs_tm1, a_tm1, r_t, discount_t, obs_t):\n",
    "  ...\n",
    "  return grads"
   ]
  },
  {
   "cell_type": "markdown",
   "metadata": {
    "id": "hz4RFKnVF8E8"
   },
   "source": [
    "### Updating shared parameters\n",
    "\n",
    "Just like in the actor critic the overall update to the parameters is a combination of two quantities:\n",
    "* the new update we defined for the vector of preferences\n",
    "* the same TD update to the scalar output that we used in the actor critic"
   ]
  },
  {
   "cell_type": "code",
   "execution_count": null,
   "metadata": {
    "id": "QnghCzKhF-gI"
   },
   "outputs": [],
   "source": [
    "@jax.jit\n",
    "def compute_gradient(parameters, obs_tm1, a_tm1, r_t, discount_t, obs_t):\n",
    "  pgrads = preference_gradient(parameters, obs_tm1, a_tm1, r_t, discount_t, obs_t)\n",
    "  vgrads = value_update(parameters, obs_tm1, a_tm1, r_t, discount_t, obs_t)\n",
    "  return jax.tree_multimap(lambda pg, td: pg + td, pgrads, vgrads)"
   ]
  },
  {
   "cell_type": "markdown",
   "metadata": {
    "id": "44QBKEF4HFK8"
   },
   "source": [
    "### Optimisation\n",
    "\n",
    "The gradient updates are rescaled using the same optimiser used for the actor-critic."
   ]
  },
  {
   "cell_type": "markdown",
   "metadata": {
    "id": "dbdHQo23FJit"
   },
   "source": [
    "### Run experiments\n",
    "\n",
    "Run the cell below to show the performance of the new agent."
   ]
  },
  {
   "cell_type": "code",
   "execution_count": null,
   "metadata": {
    "id": "ept5NG1oFLnu"
   },
   "outputs": [],
   "source": [
    "# DO NOT CHANGE THIS CELL\n",
    "\n",
    "# Experiment configs.\n",
    "train_episodes = 15000\n",
    "discount_factor = .99\n",
    "\n",
    "# Create environment.\n",
    "env = catch.Catch(seed=42)\n",
    "\n",
    "# Build and initialize network.\n",
    "rng = jax.random.PRNGKey(44)\n",
    "rng, init_rng = jax.random.split(rng)\n",
    "sample_input = env.observation_spec().generate_value()\n",
    "parameters = init_net(init_rng, sample_input)\n",
    "\n",
    "# Initialize optimizer state.\n",
    "opt_state = opt_init(parameters)\n",
    "\n",
    "# Apply updates\n",
    "def apply_updates(params, updates):\n",
    "  return jax.tree_multimap(lambda p, u: p + u, params, updates)\n",
    "\n",
    "# Jit.\n",
    "opt_update = jax.jit(opt_update)\n",
    "apply_updates = jax.jit(apply_updates)\n",
    "\n",
    "print(f\"Training agent for {train_episodes} episodes...\")\n",
    "all_episode_returns = []\n",
    "\n",
    "for _ in range(train_episodes):\n",
    "  episode_return = 0.\n",
    "  timestep = env.reset()\n",
    "  obs_tm1 = timestep.observation\n",
    "\n",
    "  # Sample initial action.\n",
    "  rng, policy_rng = jax.random.split(rng)\n",
    "  a_tm1 = epsilon_greedy_policy(parameters, policy_rng, obs_tm1)\n",
    "\n",
    "  while not timestep.last():\n",
    "    # Step environment.\n",
    "    new_timestep = env.step(int(a_tm1))\n",
    "\n",
    "    # Sample action from agent policy.\n",
    "    rng, policy_rng = jax.random.split(rng)\n",
    "    a_t = epsilon_greedy_policy(parameters, policy_rng, new_timestep.observation)\n",
    "\n",
    "    # Update params.\n",
    "    r_t = new_timestep.reward\n",
    "    discount_t = discount_factor * new_timestep.discount\n",
    "\n",
    "    dJ_dtheta = compute_gradient(\n",
    "        parameters, obs_tm1, a_tm1, r_t, discount_t,\n",
    "        new_timestep.observation)\n",
    "    updates, opt_state = opt_update(dJ_dtheta, opt_state)\n",
    "    parameters = apply_updates(parameters, updates)\n",
    "\n",
    "    # Within episode book-keeping.\n",
    "    episode_return += new_timestep.reward\n",
    "    timestep = new_timestep\n",
    "    obs_tm1 = new_timestep.observation\n",
    "    a_tm1 = a_t\n",
    "\n",
    "  # Experiment results tracking.\n",
    "  all_episode_returns.append(episode_return)\n",
    "\n",
    "# Plot learning curve.\n",
    "plot_learning_curve(all_episode_returns)"
   ]
  },
  {
   "cell_type": "markdown",
   "metadata": {
    "id": "g80tBzfsBgya"
   },
   "source": [
    "### Q8 [6 marks]\n",
    "\n",
    "[2pts]: What is the best asymptotic average return that can be achieved by the actor-critic agent described in `Part 2A)`? Can this be futher improved, and if so: how? Explain your answer.\n",
    "\n",
    "> *answer here*\n",
    "\n",
    "[2pts] What is the best asymptotic average return that can be achieved by the second agent described in `Part 2B)`? Can this be futher improved, and if so: how? Explain your answer.\n",
    "\n",
    "> *answer here*\n",
    "\n",
    "[2pts] What quantity do the preferences `p` estimate in the second agent described in Part B?\n",
    "\n",
    "> *answer here*"
   ]
  },
  {
   "cell_type": "code",
   "execution_count": null,
   "metadata": {
    "id": "0BJrDzXJxTl7"
   },
   "outputs": [],
   "source": []
  }
 ],
 "metadata": {
  "colab": {
   "collapsed_sections": [],
   "last_runtime": {
    "build_target": "//learning/deepmind/dm_python:dm_notebook3",
    "kind": "private"
   },
   "name": "UCL RL assignment 2022, part III",
   "private_outputs": true,
   "provenance": [
    {
     "file_id": "1FmDlMclrG5eY-YjKtD8aGk0VacDzO4fm",
     "timestamp": 1645466985736
    }
   ],
   "toc_visible": true
  },
  "kernelspec": {
   "display_name": "Python 3 (ipykernel)",
   "language": "python",
   "name": "python3"
  },
  "language_info": {
   "codemirror_mode": {
    "name": "ipython",
    "version": 3
   },
   "file_extension": ".py",
   "mimetype": "text/x-python",
   "name": "python",
   "nbconvert_exporter": "python",
   "pygments_lexer": "ipython3",
   "version": "3.8.12"
  }
 },
 "nbformat": 4,
 "nbformat_minor": 1
}
