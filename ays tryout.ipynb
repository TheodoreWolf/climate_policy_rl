{
 "cells": [
  {
   "cell_type": "code",
   "execution_count": 1,
   "id": "e46aab3f",
   "metadata": {},
   "outputs": [
    {
     "name": "stdout",
     "output_type": "stream",
     "text": [
      "C:\\Users\\theod\\PycharmProjects\\climate_policy_thesis\\climate_policy_RL\\pyDRLinWESM\n"
     ]
    },
    {
     "data": {
      "text/plain": [
       "'C:\\\\Users\\\\theod\\\\PycharmProjects\\\\climate_policy_thesis\\\\climate_policy_RL\\\\pyDRLinWESM'"
      ]
     },
     "execution_count": 1,
     "metadata": {},
     "output_type": "execute_result"
    }
   ],
   "source": [
    "%cd pyDRLinWESM\n",
    "import os\n",
    "os.getcwd()"
   ]
  },
  {
   "cell_type": "code",
   "execution_count": 2,
   "id": "541d68f4",
   "metadata": {},
   "outputs": [],
   "source": [
    "import AYS.AYS_Environment as ays"
   ]
  },
  {
   "cell_type": "code",
   "execution_count": 3,
   "id": "d3c7acee",
   "metadata": {},
   "outputs": [
    {
     "name": "stdout",
     "output_type": "stream",
     "text": [
      "Init AYS Environment! \n",
      "Reward Type: PB \n",
      "Sustainability Boundaries [A_PB, Y_SF, S_ren]:  [3.45e+02 4.00e+13 0.00e+00]\n"
     ]
    }
   ],
   "source": [
    "env=ays.AYS_Environment(dt=1, reward_type='PB')"
   ]
  },
  {
   "cell_type": "code",
   "execution_count": 4,
   "id": "3f8019d3",
   "metadata": {},
   "outputs": [],
   "source": [
    "from classes.Learn.utils import ReplayBuffer, plot\n",
    "import gym\n",
    "from tqdm.notebook import tqdm\n",
    "import numpy as np\n",
    "from IPython.display import clear_output\n",
    "import matplotlib.pyplot as plt\n",
    "import classes.Learn.agents as ag\n",
    "from importlib import reload"
   ]
  },
  {
   "cell_type": "code",
   "execution_count": 9,
   "id": "aa1cd7ad",
   "metadata": {
    "scrolled": true
   },
   "outputs": [],
   "source": [
    "reload(ag)\n",
    "action_dim = 4\n",
    "state_dim = 3\n",
    "# env = gym.make(\"MountainCar-v0\")\n",
    "# action_dim = 3\n",
    "# state_dim = 2\n",
    "agent = ag.DuellingDQN(state_dim, action_dim, gamma=0.99, alpha = 3e-4)\n",
    "\n",
    "ONLINE_UPDATE = False\n",
    "memory = ReplayBuffer(10000)\n",
    "BATCH_SIZE = 64\n",
    "MAX_EPISODES = 5000\n",
    "RANDOM_EXPERIENCE = 100"
   ]
  },
  {
   "cell_type": "code",
   "execution_count": 10,
   "id": "b7af4a6b",
   "metadata": {},
   "outputs": [
    {
     "data": {
      "image/png": "[encoded data removed]",
      "text/plain": [
       "<Figure size 1440x360 with 1 Axes>"
      ]
     },
     "metadata": {
      "needs_background": "light"
     },
     "output_type": "display_data"
    }
   ],
   "source": [
    "rewards = []\n",
    "mean_rewards = []\n",
    "frame_idx = 0\n",
    "ep_len = []\n",
    "actions = np.zeros(action_dim)\n",
    "\n",
    "for episodes in range(MAX_EPISODES):\n",
    "    state = env.reset()\n",
    "    episode_reward = 0\n",
    "    trajectory = []\n",
    "    done = False\n",
    "    \n",
    "    while not done:\n",
    "        if episodes>RANDOM_EXPERIENCE:\n",
    "            action = agent.get_action(state)\n",
    "        else:\n",
    "            action = np.random.choice(action_dim)\n",
    "            \n",
    "        next_state, reward, done,= env.step(action)\n",
    "        \n",
    "        episode_reward += reward\n",
    "        if ONLINE_UPDATE:\n",
    "            agent.online_update((state, action, reward, next_state, done))\n",
    "        else:\n",
    "            memory.push(state, action, reward, next_state, done)\n",
    "            if memory.__len__() > BATCH_SIZE:\n",
    "                sample = memory.sample(BATCH_SIZE)\n",
    "                loss = agent.update(sample)\n",
    "                \n",
    "        state = next_state\n",
    "        \n",
    "        frame_idx += 1 \n",
    "        actions[action] += 1\n",
    "        trajectory.append(int(action))\n",
    "        \n",
    "        \n",
    "\n",
    "    # ep_len.append(steps)       \n",
    "    rewards.append(episode_reward)\n",
    "    mean_rewards.append(np.mean(rewards[-50:]))\n",
    "#     if episodes % TARGET_UPDATE == 0:\n",
    "#         dqn.target_net.load_state_dict(dqn.policy_net.state_dict()) \n",
    "        \n",
    "    if episodes % 50:\n",
    "        plot(frame_idx, mean_rewards)\n",
    "        # if frame_idx%1000:\n",
    "        #     print('\\n ep_length: ',np.mean(ep_len[-50:]))\n",
    "            # print('\\n actions: ', trajectory)"
   ]
  },
  {
   "cell_type": "code",
   "execution_count": null,
   "id": "1fc1d11b-39bf-4640-980b-9798ca725ee7",
   "metadata": {},
   "outputs": [],
   "source": []
  }
 ],
 "metadata": {
  "kernelspec": {
   "display_name": "Python 3 (ipykernel)",
   "language": "python",
   "name": "python3"
  },
  "language_info": {
   "codemirror_mode": {
    "name": "ipython",
    "version": 3
   },
   "file_extension": ".py",
   "mimetype": "text/x-python",
   "name": "python",
   "nbconvert_exporter": "python",
   "pygments_lexer": "ipython3",
   "version": "3.8.12"
  }
 },
 "nbformat": 4,
 "nbformat_minor": 5
}
