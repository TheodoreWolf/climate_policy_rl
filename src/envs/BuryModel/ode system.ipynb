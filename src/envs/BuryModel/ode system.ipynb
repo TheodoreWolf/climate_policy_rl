{
 "cells": [
  {
   "cell_type": "code",
   "execution_count": 14,
   "id": "f0b3e858",
   "metadata": {},
   "outputs": [],
   "source": [
    "# We want to make a GP that predicts temperature with social variables\n",
    "import numpy as np\n",
    "import os\n",
    "import requests\n",
    "import scipy.io\n",
    "from scipy.interpolate import interp1d\n",
    "from scipy.integrate import odeint\n",
    "import matplotlib.pyplot as plt\n",
    "\n",
    "mld = os.path.join(\"C:\\\\Users\\\\theod\\\\Desktop\\\\UCL\\\\Machine Learn\\\\Project\\\\socio_climate_model\\\\external_data\")"
   ]
  },
  {
   "cell_type": "code",
   "execution_count": 15,
   "id": "f9fdb249",
   "metadata": {},
   "outputs": [
    {
     "name": "stdout",
     "output_type": "stream",
     "text": [
      "1800.0 2014.0\n",
      "9.855\n"
     ]
    },
    {
     "data": {
      "image/png": "[encoded data removed]",
      "text/plain": [
       "<Figure size 432x288 with 1 Axes>"
      ]
     },
     "metadata": {
      "needs_background": "light"
     },
     "output_type": "display_data"
    }
   ],
   "source": [
    "data = np.genfromtxt(os.path.join(mld, \"cdiac_fossilfuel.csv\"), delimiter=\",\")\n",
    "carbon_func = interp1d(data[2:, 0]-1800, data[2:, 1]*10**(-3), kind=\"cubic\")\n",
    "print(min(data[51:, 0]), max(data[51:, 0]))\n",
    "\n",
    "t = np.linspace(0, 214, 1000)\n",
    "plt.plot(t, carbon_func(t))\n",
    "epsilon2014 = carbon_func(214)\n",
    "print(epsilon2014)"
   ]
  },
  {
   "cell_type": "code",
   "execution_count": 84,
   "id": "c4aafae2",
   "metadata": {},
   "outputs": [],
   "source": [
    "# constants\n",
    "Cat0 = (590, 569, 602)          # GtC initial CO2 in atmosphere\n",
    "Coc0 = (1.4e5, 1.5e5, 1.6e5)          # GtC initial CO2 in ocean reservoir\n",
    "Cveg0 = (540, 550, 560)         # GtC initial CO2 in vegetation reservoir\n",
    "Cso0 = (1480, 1500, 1520)       # GtC initial CO2 in soil reservoir\n",
    "T0 = (288, 288.15, 288.3)       # K initial average atmospheric temperature\n",
    "kp = (0.175, 0.184, 0.193)      # yr-1 photosynthesis rate constant\n",
    "kMM = 1.478                     # photosynthesis normalising constant\n",
    "kc = (26* 1e-6, 29* 1e-6, 32* 1e-6)         # half-saturation point for photosynthesi\n",
    "KM = (108* 1e-6, 120* 1e-6, 132* 1e-6)      # photosynthesis compensation point\n",
    "ka = 1.773 * 1e20              # mole volume of atmosphere \n",
    "kr = (0.0828, 0.092, 0.1012)    # yr-1 plant respiration constant\n",
    "kA = 8.7039 * 1e9               # plant respiration normalising constant \n",
    "Ea = (54.63e3, 54.83e3, 55.03e3)      # J mol−1 plant respiration activation energy\n",
    "ksr =  (0.0303, 0.0337, 0.0371)   # yr−1 soil respiration rate constant\n",
    "kB = 157.072                    #soil respiration normalising constant  \n",
    "kt = (0.0828, 0.092, 0.1012)    # yr−1 turnover rate constant  \n",
    "c = (4.22* 1e23, 4.69* 1e23, 5.16* 1e23)    # JK−1 specific heat capacity of Earth’s surface\n",
    "aE = 5.101 *1e14                #  m2 Earth’s surface area\n",
    "sigma = 5.67 * 1e-8             # Wm−2 K−4 Stefan-Boltzman constant\n",
    "L_ = 43655                      #  mol−1 latent heat per mole of water  \n",
    "R = 8.314                       # J mol−1 K molar gas constant\n",
    "H = 0.5915                      # relative humidity  \n",
    "A = (0.203, 0.225, 0.248)       # yr−1 surface albedo\n",
    "S = (1231, 1368, 1504)          # Wm−2 solar flux \n",
    "tauCH4= (0.0208, 0.0231, 0.0254)# methane opacity \n",
    "P0  = (1.26* 1e11, 1.4* 1e11, 1.54* 1e11)   # Pa water vapor saturation constant  \n",
    "F0 = (2.25* 1e-2, 2.5* 1e-2, 2.75* 1e-2)    # yr−1  ocean flux rate constant  \n",
    "chi = (0.2, 0.3, 0.4)           # characteristic CO2 solubility \n",
    "zeta = (40, 50, 60)             # evasion factor\n",
    "kappa = (0.02, 0.05, 0.2)       # yr−1 social learning rate \n",
    "beta = (0.5, 1, 1.5)            # net cost of mitigation \n",
    "delta = (0.5, 1, 1.5)           # strength of social norms\n",
    "fmax  = (4,5,6)                 # maximum of warming cost function f(T) \n",
    "omega = (1, 3, 5)               # K nonlinearity of warming cost function f(T)  \n",
    "Tc = (2.4, 2.5, 2.6)            # K critical temperature of f(T)  \n",
    "tp = 10                         # yr previous years used for temperature projection  \n",
    "tf = (0, 25, 50)                # yr years ahead for temperature projection\n",
    "s = (30, 50, 70)                # yr half-saturation time for epsilon(t) from 2014\n",
    "epsilon_max = (4.2, 7, 9.8)     # GtC yr−1  maximum change in epsilon(t) from 2014\n",
    "x0 = (0.01, 0.05, 0.1)          # initial proportion of mitigators \n",
    "sec_to_year = 365.25*24*3600"
   ]
  },
  {
   "cell_type": "code",
   "execution_count": 125,
   "id": "517db1ab",
   "metadata": {},
   "outputs": [],
   "source": [
    "def carbon_conc(Cat):\n",
    "    pCO2a = 8.3259e13 * (Cat + Cat0[1])/ka\n",
    "    return pCO2a\n",
    "\n",
    "def carbon_uptake(T, Cat):\n",
    "    pCO2a = carbon_conc(Cat)\n",
    "    if pCO2a >= kc[1] and -15 <= T and T <= 25:\n",
    "        P = kp[1] * Cveg0[1] * kMM *(pCO2a - kc[1])/(KM[1]+pCO2a-kc[1])* ((15+T)**2) *(25-T) / (5625)\n",
    "        return P\n",
    "    else:\n",
    "        return 0\n",
    "\n",
    "def rso(T, Cso):\n",
    "    Rso = ksr[1] * (Cso+Cso0[1]) * kB * np.exp(-308.56/(T+T0[1]-227.13))\n",
    "\n",
    "    return Rso\n",
    "\n",
    "def rveg(T, Cveg):\n",
    "    Rveg = kr[1] * (Cveg+Cveg0[1]) * kA * np.exp(-Ea[1]/(R*(T+T0[1])))\n",
    "\n",
    "    return Rveg\n",
    "\n",
    "def turnover(Cveg):\n",
    "    L = kt[1] * (Cveg+Cveg0[1])\n",
    "    return L\n",
    "\n",
    "\n",
    "def ocean_flux(Cat, Coc):\n",
    "    Foc = F0[1]*chi[1]*(Cat-zeta[1]*Cat0[1]*Coc/Coc0[1])\n",
    "    return Foc\n",
    "\n",
    "def atmosphere_dyna(T, Cat):\n",
    "    pCO2a = carbon_conc(Cat)\n",
    "    tauCO2 = 1.73 * (pCO2a)**0.263\n",
    "    tauH2O = 0.0126*(H*P0[1]*np.exp(-L_/(R*(T+T0[1]))))**0.503\n",
    "    \n",
    "    Fd = (1-A[1])*S[1]/4 *(1+0.75*(tauCO2+tauH2O+tauCH4[1]))\n",
    "    return Fd\n",
    "\n",
    "def fla(Cat, Cveg, Cso, T):\n",
    "    return carbon_uptake(T, Cat) - rveg(T, Cveg) - rso(T, Cso)\n",
    "\n",
    "def f(T, t):\n",
    "    Tlist.append(T)\n",
    "    if t>=214:\n",
    "        T += tf[1]/tp * (T - Tlist[int(t*10)-tp])  \n",
    "    return fmax[1]/(1+np.exp(-omega[1]*(T-Tc[1])))\n",
    "\n",
    "def epsilon(t):\n",
    "    if t>=214:\n",
    "        e = epsilon2014 + (t-214)*epsilon_max[1]/(t-214+s[1])\n",
    "    else:\n",
    "        e = carbon_func(t)\n",
    "    return e"
   ]
  },
  {
   "cell_type": "code",
   "execution_count": 154,
   "id": "534079b0",
   "metadata": {},
   "outputs": [
    {
     "data": {
      "image/png": "[encoded data removed]",
      "text/plain": [
       "<Figure size 432x288 with 1 Axes>"
      ]
     },
     "metadata": {
      "needs_background": "light"
     },
     "output_type": "display_data"
    }
   ],
   "source": [
    "# historical emissions from cdiac\n",
    "x = np.linspace(0, 400, 400)\n",
    "y = [epsilon(x[i]) for i in range(x.shape[0])]\n",
    "plt.plot(x+1800, y, \".\");"
   ]
  },
  {
   "cell_type": "code",
   "execution_count": 156,
   "id": "dc34d459",
   "metadata": {},
   "outputs": [],
   "source": [
    "# system of ODEs\n",
    "def odes(variables, t):\n",
    "    x, T, Cat, Coc, Cveg, Cso = variables\n",
    "    _ = f(T,t)\n",
    "    \n",
    "    dx = (kappa[1] * x * (1-x) * (-beta[1] + f(T, t) + delta[1] * (2*x-1)) if t>=214 else 0)\n",
    "    dCat = epsilon(t) *(1-x) - carbon_uptake(T, Cat) + rveg(T, Cveg) +rso(T, Cso) - ocean_flux(Cat,Coc)\n",
    "    dCoc = ocean_flux(Cat,Coc)\n",
    "    dCveg = carbon_uptake(T, Cat) - rveg(T,Cveg) - turnover(Cveg)\n",
    "    dCso = turnover(Cveg) - rso(T, Cso)\n",
    "    dT = sec_to_year * (atmosphere_dyna(T,Cat)- sigma * (T+T0[1])**4) * aE/c[1]\n",
    "    \n",
    "    return np.array([dx, dT, dCat, dCoc, dCveg, dCso])"
   ]
  },
  {
   "cell_type": "code",
   "execution_count": 157,
   "id": "5a857ddd",
   "metadata": {},
   "outputs": [],
   "source": [
    "# running the simulation\n",
    "t_sim = 200\n",
    "Tlist = []\n",
    "initials = np.array([0.01, 0,0,0,0,0])\n",
    "t = np.linspace(0, 214+t_sim, (214+t_sim)*10)\n",
    "\n",
    "solutions = odeint(odes, initials, t, full_output=0)"
   ]
  },
  {
   "cell_type": "code",
   "execution_count": 158,
   "id": "34e2b715",
   "metadata": {},
   "outputs": [
    {
     "data": {
      "text/plain": [
       "(4140, 6)"
      ]
     },
     "execution_count": 158,
     "metadata": {},
     "output_type": "execute_result"
    }
   ],
   "source": [
    "solutions.shape"
   ]
  },
  {
   "cell_type": "code",
   "execution_count": 159,
   "id": "a8800dd9",
   "metadata": {
    "scrolled": true
   },
   "outputs": [
    {
     "data": {
      "image/png": "[encoded data removed]",
      "text/plain": [
       "<Figure size 432x288 with 1 Axes>"
      ]
     },
     "metadata": {
      "needs_background": "light"
     },
     "output_type": "display_data"
    }
   ],
   "source": [
    "# plot of solutions\n",
    "plt.plot(t+1800 , solutions[:,0]);"
   ]
  },
  {
   "cell_type": "code",
   "execution_count": 163,
   "id": "002b2d1c",
   "metadata": {
    "scrolled": true
   },
   "outputs": [
    {
     "data": {
      "image/png": "[encoded data removed]",
      "text/plain": [
       "<Figure size 432x288 with 1 Axes>"
      ]
     },
     "metadata": {
      "needs_background": "light"
     },
     "output_type": "display_data"
    }
   ],
   "source": [
    "# historical emissions from cdiac\n",
    "t = np.linspace(0, 214+t_sim, (214+t_sim)*10)\n",
    "y = [epsilon(t[i])*(1-solutions[i,0]) for i in range(t.shape[0])]\n",
    "plt.plot(t+1800, y);"
   ]
  },
  {
   "cell_type": "code",
   "execution_count": null,
   "id": "59943153",
   "metadata": {},
   "outputs": [],
   "source": []
  }
 ],
 "metadata": {
  "kernelspec": {
   "display_name": "Python 3.9.6 64-bit",
   "language": "python",
   "name": "python3"
  },
  "language_info": {
   "codemirror_mode": {
    "name": "ipython",
    "version": 3
   },
   "file_extension": ".py",
   "mimetype": "text/x-python",
   "name": "python",
   "nbconvert_exporter": "python",
   "pygments_lexer": "ipython3",
   "version": "3.9.6"
  },
  "vscode": {
   "interpreter": {
    "hash": "31f2aee4e71d21fbe5cf8b01ff0e069b9275f58929596ceb00d14d90e3e16cd6"
   }
  }
 },
 "nbformat": 4,
 "nbformat_minor": 5
}
